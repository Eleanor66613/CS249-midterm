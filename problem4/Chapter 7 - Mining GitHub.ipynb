{
 "metadata": {
  "name": "",
  "signature": "sha256:f0d8bc404e9f34be12642bdb7f1bbf632cebba762fbc71a1176b8a6a2a15d2fa"
 },
 "nbformat": 3,
 "nbformat_minor": 0,
 "worksheets": [
  {
   "cells": [
    {
     "cell_type": "markdown",
     "metadata": {},
     "source": [
      "#Mining the Social Web, 2nd Edition\n",
      "\n",
      "##Chapter 7: Mining GitHub: Inspecting Software Collaboration Habits, Building Interest Graphs, and More\n",
      "\n",
      "This IPython Notebook provides an interactive way to follow along with and explore the numbered examples from [_Mining the Social Web (2nd Edition)_](http://bit.ly/135dHfs). The intent behind this notebook is to reinforce the concepts from the sample code in a fun, convenient, and effective way. This notebook assumes that you are reading along with the book and have the context of the discussion as you work through these exercises.\n",
      "\n",
      "In the somewhat unlikely event that you've somehow stumbled across this notebook outside of its context on GitHub, [you can find the full source code repository here](http://bit.ly/16kGNyb).\n",
      "\n",
      "## Copyright and Licensing\n",
      "\n",
      "You are free to use or adapt this notebook for any purpose you'd like. However, please respect the [Simplified BSD License](https://github.com/ptwobrussell/Mining-the-Social-Web-2nd-Edition/blob/master/LICENSE.txt) that governs its use."
     ]
    },
    {
     "cell_type": "heading",
     "level": 2,
     "metadata": {},
     "source": [
      "Example 1. Programmatically obtaining a personal API access token for accessing GitHub's API"
     ]
    },
    {
     "cell_type": "code",
     "collapsed": false,
     "input": [
      "from github import Github\n",
      "import requests\n",
      "from getpass import getpass\n",
      "import json\n",
      "\n",
      "username = 'Eleanor66613' # Your GitHub username\n",
      "password = 'shiwencs1987' # Your GitHub password\n",
      "\n",
      "# Note that credentials will be transmitted over a secure SSL connection\n",
      "url = 'https://api.github.com/authorizations'\n",
      "note = 'Mining the Social Web, 2nd Ed.'\n",
      "post_data = {'scopes':['repo'],'note': note }\n",
      "\n",
      "response = requests.post(\n",
      "    url,\n",
      "    auth = (username, password),\n",
      "    data = json.dumps(post_data),\n",
      "    )   \n",
      "# Go to https://github.com/settings/applications to revoke this token\n",
      "print \"API response:\", response.text\n",
      "print\n",
      "print \"Your OAuth token is\", response.json()['token']\n",
      "\n"
     ],
     "language": "python",
     "metadata": {},
     "outputs": [
      {
       "output_type": "stream",
       "stream": "stdout",
       "text": [
        " API response: {\"message\":\"Validation Failed\",\"documentation_url\":\"https://developer.github.com/v3/oauth_authorizations/#create-a-new-authorization\",\"errors\":[{\"resource\":\"OauthAccess\",\"code\":\"already_exists\",\"field\":\"description\"}]}\n",
        "\n",
        "Your OAuth token is"
       ]
      },
      {
       "ename": "KeyError",
       "evalue": "'token'",
       "output_type": "pyerr",
       "traceback": [
        "\u001b[1;31m---------------------------------------------------------------------------\u001b[0m\n\u001b[1;31mKeyError\u001b[0m                                  Traceback (most recent call last)",
        "\u001b[1;32m<ipython-input-2-b452dcfd65ef>\u001b[0m in \u001b[0;36m<module>\u001b[1;34m()\u001b[0m\n\u001b[0;32m     20\u001b[0m \u001b[1;32mprint\u001b[0m \u001b[1;34m\"API response:\"\u001b[0m\u001b[1;33m,\u001b[0m \u001b[0mresponse\u001b[0m\u001b[1;33m.\u001b[0m\u001b[0mtext\u001b[0m\u001b[1;33m\u001b[0m\u001b[0m\n\u001b[0;32m     21\u001b[0m \u001b[1;32mprint\u001b[0m\u001b[1;33m\u001b[0m\u001b[0m\n\u001b[1;32m---> 22\u001b[1;33m \u001b[1;32mprint\u001b[0m \u001b[1;34m\"Your OAuth token is\"\u001b[0m\u001b[1;33m,\u001b[0m \u001b[0mresponse\u001b[0m\u001b[1;33m.\u001b[0m\u001b[0mjson\u001b[0m\u001b[1;33m(\u001b[0m\u001b[1;33m)\u001b[0m\u001b[1;33m[\u001b[0m\u001b[1;34m'token'\u001b[0m\u001b[1;33m]\u001b[0m\u001b[1;33m\u001b[0m\u001b[0m\n\u001b[0m\u001b[0;32m     23\u001b[0m \u001b[1;33m\u001b[0m\u001b[0m\n",
        "\u001b[1;31mKeyError\u001b[0m: 'token'"
       ]
      }
     ],
     "prompt_number": 2
    },
    {
     "cell_type": "heading",
     "level": 2,
     "metadata": {},
     "source": [
      "Example 2. Making direct HTTP requests to GitHub's API"
     ]
    },
    {
     "cell_type": "code",
     "collapsed": false,
     "input": [
      "import json\n",
      "import requests\n",
      "\n",
      "# An unauthenticated request that doesn't contain an ?access_token=xxx query string\n",
      "url = \"https://api.github.com/repos/ptwobrussell/Mining-the-Social-Web/stargazers\"\n",
      "response = requests.get(url)\n",
      "\n",
      "# Display one stargazer\n",
      "\n",
      "print json.dumps(response.json()[0], indent=1)\n",
      "print\n",
      "\n",
      "# Display headers\n",
      "for (k,v) in response.headers.items():\n",
      "    print k, \"=>\", v"
     ],
     "language": "python",
     "metadata": {},
     "outputs": [
      {
       "output_type": "stream",
       "stream": "stdout",
       "text": [
        " {\n",
        " \"following_url\": \"https://api.github.com/users/rdempsey/following{/other_user}\", \n",
        " \"events_url\": \"https://api.github.com/users/rdempsey/events{/privacy}\", \n",
        " \"organizations_url\": \"https://api.github.com/users/rdempsey/orgs\", \n",
        " \"url\": \"https://api.github.com/users/rdempsey\", \n",
        " \"gists_url\": \"https://api.github.com/users/rdempsey/gists{/gist_id}\", \n",
        " \"html_url\": \"https://github.com/rdempsey\", \n",
        " \"subscriptions_url\": \"https://api.github.com/users/rdempsey/subscriptions\", \n",
        " \"avatar_url\": \"https://avatars.githubusercontent.com/u/224?\", \n",
        " \"repos_url\": \"https://api.github.com/users/rdempsey/repos\", \n",
        " \"received_events_url\": \"https://api.github.com/users/rdempsey/received_events\", \n",
        " \"gravatar_id\": \"8234a5ea3e56fca09c5549ee5e23e3e1\", \n",
        " \"starred_url\": \"https://api.github.com/users/rdempsey/starred{/owner}{/repo}\", \n",
        " \"site_admin\": false, \n",
        " \"login\": \"rdempsey\", \n",
        " \"type\": \"User\", \n",
        " \"id\": 224, \n",
        " \"followers_url\": \"https://api.github.com/users/rdempsey/followers\"\n",
        "}\n",
        "\n",
        "vary => Accept, Accept-Encoding\n",
        "x-served-by => 03d91026ad8428f4d9966d7434f9d82e\n",
        "x-xss-protection => 1; mode=block\n",
        "x-content-type-options => nosniff\n",
        "etag => \"eacd1878c169666cd12ff425e348b20e\"\n",
        "access-control-allow-credentials => true\n",
        "status => 200 OK\n",
        "x-ratelimit-remaining => 59\n",
        "x-github-media-type => github.v3\n",
        "access-control-expose-headers => ETag, Link, X-GitHub-OTP, X-RateLimit-Limit, X-RateLimit-Remaining, X-RateLimit-Reset, X-OAuth-Scopes, X-Accepted-OAuth-Scopes, X-Poll-Interval\n",
        "transfer-encoding => chunked\n",
        "x-github-request-id => A9E8D4A4:6B89:B5207DE:536B0D47\n",
        "cache-control => public, max-age=60, s-maxage=60\n",
        "link => <https://api.github.com/repositories/1040700/stargazers?page=2>; rel=\"next\", <https://api.github.com/repositories/1040700/stargazers?page=32>; rel=\"last\"\n",
        "date => Thu, 08 May 2014 04:51:20 GMT\n",
        "access-control-allow-origin => *\n",
        "content-security-policy => default-src 'none'\n",
        "content-encoding => gzip\n",
        "strict-transport-security => max-age=31536000\n",
        "server => GitHub.com\n",
        "x-ratelimit-limit => 60\n",
        "x-frame-options => deny\n",
        "content-type => application/json; charset=utf-8\n",
        "x-ratelimit-reset => 1399528280\n"
       ]
      }
     ],
     "prompt_number": 3
    },
    {
     "cell_type": "heading",
     "level": 2,
     "metadata": {},
     "source": [
      "Example 3. Using PyGithub to query for stargazers of a particular repository"
     ]
    },
    {
     "cell_type": "code",
     "collapsed": false,
     "input": [
      "from github import Github\n",
      "\n",
      "# XXX: Specify your own access token here\n",
      "\n",
      "ACCESS_TOKEN = 'e7a9714e915750a7b2d0cf8153a92d6949df99cd'\n",
      "\n",
      "# Specify a username and repository of interest for that user.\n",
      "\n",
      "USER = 'ptwobrussell'\n",
      "REPO = 'Mining-the-Social-Web'\n",
      "\n",
      "client = Github(ACCESS_TOKEN, per_page=100)\n",
      "user = client.get_user(USER)\n",
      "repo = user.get_repo(REPO)\n",
      "\n",
      "# Get a list of people who have bookmarked the repo.\n",
      "# Since you'll get a lazy iterator back, you have to traverse\n",
      "# it if you want to get the total number of stargazers.\n",
      "\n",
      "stargazers = [ s for s in repo.get_stargazers() ]\n",
      "print \"Number of stargazers\", len(stargazers)"
     ],
     "language": "python",
     "metadata": {},
     "outputs": [
      {
       "output_type": "stream",
       "stream": "stdout",
       "text": [
        "Number of stargazers 946\n"
       ]
      }
     ],
     "prompt_number": 4
    },
    {
     "cell_type": "heading",
     "level": 2,
     "metadata": {},
     "source": [
      "Example 4. Constructing a trivial property graph"
     ]
    },
    {
     "cell_type": "code",
     "collapsed": false,
     "input": [
      "import networkx as nx\n",
      "\n",
      "# Create a directed graph\n",
      "\n",
      "g = nx.DiGraph()\n",
      "\n",
      "# Add an edge to the directed graph from X to Y\n",
      "\n",
      "g.add_edge('X', 'Y')\n",
      "\n",
      "# Print some statistics about the graph\n",
      "\n",
      "print nx.info(g)\n",
      "print\n",
      "\n",
      "# Get the nodes and edges from the graph\n",
      "\n",
      "print \"Nodes:\", g.nodes()\n",
      "print \"Edges:\", g.edges()\n",
      "print\n",
      "\n",
      "# Get node properties\n",
      "\n",
      "print \"X props:\", g.node['X']\n",
      "print \"Y props:\", g.node['Y']\n",
      "\n",
      "# Get edge properties\n",
      "\n",
      "print \"X=>Y props:\", g['X']['Y']\n",
      "print\n",
      "\n",
      "# Update a node property\n",
      "\n",
      "g.node['X'].update({'prop1' : 'value1'})\n",
      "print \"X props:\", g.node['X']\n",
      "print\n",
      "\n",
      "# Update an edge property\n",
      "\n",
      "g['X']['Y'].update({'label' : 'label1'})\n",
      "print \"X=>Y props:\", g['X']['Y']"
     ],
     "language": "python",
     "metadata": {},
     "outputs": [
      {
       "output_type": "stream",
       "stream": "stdout",
       "text": [
        "Name: \n",
        "Type: DiGraph\n",
        "Number of nodes: 2\n",
        "Number of edges: 1\n",
        "Average in degree:   0.5000\n",
        "Average out degree:   0.5000\n",
        "\n",
        "Nodes: ['Y', 'X']\n",
        "Edges: [('X', 'Y')]\n",
        "\n",
        "X props: {}\n",
        "Y props: {}\n",
        "X=>Y props: {}\n",
        "\n",
        "X props: {'prop1': 'value1'}\n",
        "\n",
        "X=>Y props: {'label': 'label1'}\n"
       ]
      }
     ],
     "prompt_number": 6
    },
    {
     "cell_type": "heading",
     "level": 2,
     "metadata": {},
     "source": [
      "Example 5. Constructing an ego graph of a repository and its stargazers"
     ]
    },
    {
     "cell_type": "code",
     "collapsed": false,
     "input": [
      "# Expand the initial graph with (interest) edges pointing each direction for \n",
      "# additional people interested. Take care to ensure that user and repo nodes \n",
      "# do not collide by appending their type.\n",
      "\n",
      "import networkx as nx\n",
      "\n",
      "g = nx.DiGraph()\n",
      "g.add_node(repo.name + '(repo)', type='repo', lang=repo.language, owner=user.login)\n",
      "\n",
      "for sg in stargazers:\n",
      "    g.add_node(sg.login + '(user)', type='user')\n",
      "    g.add_edge(sg.login + '(user)', repo.name + '(repo)', type='gazes')"
     ],
     "language": "python",
     "metadata": {},
     "outputs": [],
     "prompt_number": 9
    },
    {
     "cell_type": "heading",
     "level": 2,
     "metadata": {},
     "source": [
      "Example 6. Introducing some handy graph operations"
     ]
    },
    {
     "cell_type": "code",
     "collapsed": false,
     "input": [
      "# Poke around in the current graph to get a better feel for how NetworkX works\n",
      "\n",
      "print nx.info(g)\n",
      "print\n",
      "print g.node['Mining-the-Social-Web(repo)']\n",
      "print g.node['ptwobrussell(user)']\n",
      "print\n",
      "print g['ptwobrussell(user)']['Mining-the-Social-Web(repo)']\n",
      "# The next line would throw a KeyError since no such edge exists:\n",
      "# print g['Mining-the-Social-Web(repo)']['ptwobrussell(user)']\n",
      "\n",
      "print g['ptwobrussell(user)']\n",
      "print g['Mining-the-Social-Web(repo)']\n",
      "\n",
      "print g.in_edges(['ptwobrussell(user)'])\n",
      "print g.out_edges(['ptwobrussell(user)'])\n",
      "\n",
      "print g.in_edges(['Mining-the-Social-Web(repo)'])\n",
      "print g.out_edges(['Mining-the-Social-Web(repo)'])"
     ],
     "language": "python",
     "metadata": {},
     "outputs": [
      {
       "output_type": "stream",
       "stream": "stdout",
       "text": [
        "Name: \n",
        "Type: DiGraph\n",
        "Number of nodes: 947\n",
        "Number of edges: 946\n",
        "Average in degree:   0.9989\n",
        "Average out degree:   0.9989\n",
        "\n",
        "{'lang': u'JavaScript', 'owner': u'ptwobrussell', 'type': 'repo'}\n",
        "{'type': 'user'}\n",
        "\n",
        "{'type': 'gazes'}\n",
        "{u'Mining-the-Social-Web(repo)': {'type': 'gazes'}}\n",
        "{}\n",
        "[]\n",
        "[('ptwobrussell(user)', u'Mining-the-Social-Web(repo)')]\n",
        "[(u'gregmoreno(user)', 'Mining-the-Social-Web(repo)'), (u'SathishRaju(user)', 'Mining-the-Social-Web(repo)'), (u'beinvest(user)', 'Mining-the-Social-Web(repo)'), (u'gawry(user)', 'Mining-the-Social-Web(repo)'), (u'darkfall(user)', 'Mining-the-Social-Web(repo)'), (u'daimajia(user)', 'Mining-the-Social-Web(repo)'), (u'heptal(user)', 'Mining-the-Social-Web(repo)'), (u'chihuanqi(user)', 'Mining-the-Social-Web(repo)'), (u'program247365(user)', 'Mining-the-Social-Web(repo)'), (u'zhgwen(user)', 'Mining-the-Social-Web(repo)'), (u'dylanthomas(user)', 'Mining-the-Social-Web(repo)'), (u'EugeneLiang(user)', 'Mining-the-Social-Web(repo)'), (u'longislandicetea(user)', 'Mining-the-Social-Web(repo)'), (u'jagguli(user)', 'Mining-the-Social-Web(repo)'), (u'ConceptKreator(user)', 'Mining-the-Social-Web(repo)'), (u'daseme(user)', 'Mining-the-Social-Web(repo)'), (u'keokilee(user)', 'Mining-the-Social-Web(repo)'), (u'azuranop(user)', 'Mining-the-Social-Web(repo)'), (u'enriquesanchezb(user)', 'Mining-the-Social-Web(repo)'), (u'jfca(user)', 'Mining-the-Social-Web(repo)'), (u'yy(user)', 'Mining-the-Social-Web(repo)'), (u'batasrki(user)', 'Mining-the-Social-Web(repo)'), (u'yhj8341(user)', 'Mining-the-Social-Web(repo)'), (u'zerojarvis(user)', 'Mining-the-Social-Web(repo)'), (u'royburns(user)', 'Mining-the-Social-Web(repo)'), (u'coodoing(user)', 'Mining-the-Social-Web(repo)'), (u'alexdiao(user)', 'Mining-the-Social-Web(repo)'), (u'ZoomQuiet(user)', 'Mining-the-Social-Web(repo)'), (u'bryantchan(user)', 'Mining-the-Social-Web(repo)'), (u'metllord(user)', 'Mining-the-Social-Web(repo)'), (u'flashus(user)', 'Mining-the-Social-Web(repo)'), (u'TomiToivio(user)', 'Mining-the-Social-Web(repo)'), (u'hammer(user)', 'Mining-the-Social-Web(repo)'), (u'paulbersch(user)', 'Mining-the-Social-Web(repo)'), (u'tranminhan(user)', 'Mining-the-Social-Web(repo)'), (u'amckenna(user)', 'Mining-the-Social-Web(repo)'), (u'zihaolucky(user)', 'Mining-the-Social-Web(repo)'), (u'Amandianeze(user)', 'Mining-the-Social-Web(repo)'), (u'khaing211(user)', 'Mining-the-Social-Web(repo)'), (u'thulio(user)', 'Mining-the-Social-Web(repo)'), (u'virajkulkarni14(user)', 'Mining-the-Social-Web(repo)'), (u'acadopia(user)', 'Mining-the-Social-Web(repo)'), (u'lesbleus2007(user)', 'Mining-the-Social-Web(repo)'), (u'madsurgeon(user)', 'Mining-the-Social-Web(repo)'), (u'lemonad(user)', 'Mining-the-Social-Web(repo)'), (u'yiseul(user)', 'Mining-the-Social-Web(repo)'), (u'gcavn(user)', 'Mining-the-Social-Web(repo)'), (u'tertsch(user)', 'Mining-the-Social-Web(repo)'), (u'shuhei(user)', 'Mining-the-Social-Web(repo)'), (u'mattharrison(user)', 'Mining-the-Social-Web(repo)'), (u'eduardocereto(user)', 'Mining-the-Social-Web(repo)'), (u'holys(user)', 'Mining-the-Social-Web(repo)'), (u'matiskay(user)', 'Mining-the-Social-Web(repo)'), (u'shanlalit(user)', 'Mining-the-Social-Web(repo)'), (u'andrewdanks(user)', 'Mining-the-Social-Web(repo)'), (u'liulinyang(user)', 'Mining-the-Social-Web(repo)'), (u'rossant(user)', 'Mining-the-Social-Web(repo)'), (u'tayashigenori(user)', 'Mining-the-Social-Web(repo)'), (u'Btibert3(user)', 'Mining-the-Social-Web(repo)'), (u'leonyaa(user)', 'Mining-the-Social-Web(repo)'), (u'funkygao(user)', 'Mining-the-Social-Web(repo)'), (u'fakber(user)', 'Mining-the-Social-Web(repo)'), (u'nine9s(user)', 'Mining-the-Social-Web(repo)'), (u'frac(user)', 'Mining-the-Social-Web(repo)'), (u'FranklinChen(user)', 'Mining-the-Social-Web(repo)'), (u'manesiotise(user)', 'Mining-the-Social-Web(repo)'), (u'abhi92(user)', 'Mining-the-Social-Web(repo)'), (u'riivo(user)', 'Mining-the-Social-Web(repo)'), (u'edfine(user)', 'Mining-the-Social-Web(repo)'), (u'shaobin0604(user)', 'Mining-the-Social-Web(repo)'), (u'paulgoggin(user)', 'Mining-the-Social-Web(repo)'), (u'douglas(user)', 'Mining-the-Social-Web(repo)'), (u'frankk00(user)', 'Mining-the-Social-Web(repo)'), (u'parama(user)', 'Mining-the-Social-Web(repo)'), (u'wbzyl(user)', 'Mining-the-Social-Web(repo)'), (u'joliva(user)', 'Mining-the-Social-Web(repo)'), (u'bpeirce(user)', 'Mining-the-Social-Web(repo)'), (u'seijiro(user)', 'Mining-the-Social-Web(repo)'), (u'openp2pdesign(user)', 'Mining-the-Social-Web(repo)'), (u'iwanbk(user)', 'Mining-the-Social-Web(repo)'), (u'bgriffen(user)', 'Mining-the-Social-Web(repo)'), (u'hupili(user)', 'Mining-the-Social-Web(repo)'), (u'eyadsibai(user)', 'Mining-the-Social-Web(repo)'), (u'hankwang(user)', 'Mining-the-Social-Web(repo)'), (u'fanggai(user)', 'Mining-the-Social-Web(repo)'), (u'lsinger(user)', 'Mining-the-Social-Web(repo)'), (u'menorki(user)', 'Mining-the-Social-Web(repo)'), (u'jonathansick(user)', 'Mining-the-Social-Web(repo)'), (u'shurik(user)', 'Mining-the-Social-Web(repo)'), (u'allengaller(user)', 'Mining-the-Social-Web(repo)'), (u'napo(user)', 'Mining-the-Social-Web(repo)'), (u'ironico(user)', 'Mining-the-Social-Web(repo)'), (u'cnunciato(user)', 'Mining-the-Social-Web(repo)'), (u'IWhisper(user)', 'Mining-the-Social-Web(repo)'), (u'stefaneyr(user)', 'Mining-the-Social-Web(repo)'), (u'pengyutang125(user)', 'Mining-the-Social-Web(repo)'), (u'coronin(user)', 'Mining-the-Social-Web(repo)'), (u'zhaocong89(user)', 'Mining-the-Social-Web(repo)'), (u'akondylis(user)', 'Mining-the-Social-Web(repo)'), (u'dworznik(user)', 'Mining-the-Social-Web(repo)'), (u'ricardoalmeida(user)', 'Mining-the-Social-Web(repo)'), (u'BENGMN(user)', 'Mining-the-Social-Web(repo)'), (u'pdailey(user)', 'Mining-the-Social-Web(repo)'), (u'yicaoyimu(user)', 'Mining-the-Social-Web(repo)'), (u'ValerieNC(user)', 'Mining-the-Social-Web(repo)'), (u'elg0nz(user)', 'Mining-the-Social-Web(repo)'), (u'todrobbins(user)', 'Mining-the-Social-Web(repo)'), (u'darron(user)', 'Mining-the-Social-Web(repo)'), (u'ya790206(user)', 'Mining-the-Social-Web(repo)'), (u'h2rd(user)', 'Mining-the-Social-Web(repo)'), (u'eughenes(user)', 'Mining-the-Social-Web(repo)'), (u'zeutrap(user)', 'Mining-the-Social-Web(repo)'), (u'omoto(user)', 'Mining-the-Social-Web(repo)'), (u'MichaelMartinez(user)', 'Mining-the-Social-Web(repo)'), (u'bcambel(user)', 'Mining-the-Social-Web(repo)'), (u'kwaibun(user)', 'Mining-the-Social-Web(repo)'), (u'ewinchell07(user)', 'Mining-the-Social-Web(repo)'), (u'booyildirim(user)', 'Mining-the-Social-Web(repo)'), (u'macdiva(user)', 'Mining-the-Social-Web(repo)'), (u'miku(user)', 'Mining-the-Social-Web(repo)'), (u'yogeshc(user)', 'Mining-the-Social-Web(repo)'), (u'timelyportfolio(user)', 'Mining-the-Social-Web(repo)'), (u'ChrisMcKee(user)', 'Mining-the-Social-Web(repo)'), (u'enulex(user)', 'Mining-the-Social-Web(repo)'), (u'jannson(user)', 'Mining-the-Social-Web(repo)'), (u'amejiarosario(user)', 'Mining-the-Social-Web(repo)'), (u'msonsona(user)', 'Mining-the-Social-Web(repo)'), (u'zhuwenger(user)', 'Mining-the-Social-Web(repo)'), (u'chengdujin(user)', 'Mining-the-Social-Web(repo)'), (u'BrianPin(user)', 'Mining-the-Social-Web(repo)'), (u'gr33ndata(user)', 'Mining-the-Social-Web(repo)'), (u'kuntoaji(user)', 'Mining-the-Social-Web(repo)'), (u'furukama(user)', 'Mining-the-Social-Web(repo)'), (u'vigo(user)', 'Mining-the-Social-Web(repo)'), (u'denkyemx(user)', 'Mining-the-Social-Web(repo)'), (u'Erict19(user)', 'Mining-the-Social-Web(repo)'), (u'CaptSolo(user)', 'Mining-the-Social-Web(repo)'), (u'tianhaocto(user)', 'Mining-the-Social-Web(repo)'), (u'rohithadassanayake(user)', 'Mining-the-Social-Web(repo)'), (u'olovholm(user)', 'Mining-the-Social-Web(repo)'), (u'arianpasquali(user)', 'Mining-the-Social-Web(repo)'), (u'dazhaoniel(user)', 'Mining-the-Social-Web(repo)'), (u'ggtr1138(user)', 'Mining-the-Social-Web(repo)'), (u'mootPoint(user)', 'Mining-the-Social-Web(repo)'), (u'hoffmann(user)', 'Mining-the-Social-Web(repo)'), (u'masdude(user)', 'Mining-the-Social-Web(repo)'), (u'oliverc(user)', 'Mining-the-Social-Web(repo)'), (u'tomasaftalion(user)', 'Mining-the-Social-Web(repo)'), (u'paulhoule(user)', 'Mining-the-Social-Web(repo)'), (u'robstrange(user)', 'Mining-the-Social-Web(repo)'), (u'ykhroki(user)', 'Mining-the-Social-Web(repo)'), (u'mapio(user)', 'Mining-the-Social-Web(repo)'), (u'futurespective(user)', 'Mining-the-Social-Web(repo)'), (u'sleyzerzon(user)', 'Mining-the-Social-Web(repo)'), (u'willddy(user)', 'Mining-the-Social-Web(repo)'), (u'joshz(user)', 'Mining-the-Social-Web(repo)'), (u'iaind(user)', 'Mining-the-Social-Web(repo)'), (u'predmach(user)', 'Mining-the-Social-Web(repo)'), (u'seralf(user)', 'Mining-the-Social-Web(repo)'), (u'seanschang(user)', 'Mining-the-Social-Web(repo)'), (u'nada(user)', 'Mining-the-Social-Web(repo)'), (u'kamzilla(user)', 'Mining-the-Social-Web(repo)'), (u'qianyanseu(user)', 'Mining-the-Social-Web(repo)'), (u'Brhett(user)', 'Mining-the-Social-Web(repo)'), (u'kelvincobanaj(user)', 'Mining-the-Social-Web(repo)'), (u'stepmr(user)', 'Mining-the-Social-Web(repo)'), (u'adawsonfullsail(user)', 'Mining-the-Social-Web(repo)'), (u'fcojperez(user)', 'Mining-the-Social-Web(repo)'), (u'bugrax(user)', 'Mining-the-Social-Web(repo)'), (u'michalbcz(user)', 'Mining-the-Social-Web(repo)'), (u'majahn(user)', 'Mining-the-Social-Web(repo)'), (u'surecc(user)', 'Mining-the-Social-Web(repo)'), (u'allen3921(user)', 'Mining-the-Social-Web(repo)'), (u'NikhilKodilkar(user)', 'Mining-the-Social-Web(repo)'), (u'bossiernesto(user)', 'Mining-the-Social-Web(repo)'), (u'Sdmattpotter(user)', 'Mining-the-Social-Web(repo)'), (u'teenst(user)', 'Mining-the-Social-Web(repo)'), (u'kiogo(user)', 'Mining-the-Social-Web(repo)'), (u'miukal(user)', 'Mining-the-Social-Web(repo)'), (u'mike-grayhat(user)', 'Mining-the-Social-Web(repo)'), (u'andypiper(user)', 'Mining-the-Social-Web(repo)'), (u'UniIsland(user)', 'Mining-the-Social-Web(repo)'), (u'mengD(user)', 'Mining-the-Social-Web(repo)'), (u'Sundae(user)', 'Mining-the-Social-Web(repo)'), (u'kshimo69(user)', 'Mining-the-Social-Web(repo)'), (u'liang456(user)', 'Mining-the-Social-Web(repo)'), (u'brianly(user)', 'Mining-the-Social-Web(repo)'), (u'sfrench(user)', 'Mining-the-Social-Web(repo)'), (u'downrightmike(user)', 'Mining-the-Social-Web(repo)'), (u'johnthebrave(user)', 'Mining-the-Social-Web(repo)'), (u'rukku(user)', 'Mining-the-Social-Web(repo)'), (u'Faddel(user)', 'Mining-the-Social-Web(repo)'), (u'eddyzhou(user)', 'Mining-the-Social-Web(repo)'), (u'zakobyte(user)', 'Mining-the-Social-Web(repo)'), (u'cjf4(user)', 'Mining-the-Social-Web(repo)'), (u'tigerjh(user)', 'Mining-the-Social-Web(repo)'), (u'rasper121(user)', 'Mining-the-Social-Web(repo)'), (u'zolizoli(user)', 'Mining-the-Social-Web(repo)'), (u'1rick(user)', 'Mining-the-Social-Web(repo)'), (u'nikolay(user)', 'Mining-the-Social-Web(repo)'), (u'acdha(user)', 'Mining-the-Social-Web(repo)'), (u'ngpestelos(user)', 'Mining-the-Social-Web(repo)'), (u'callard(user)', 'Mining-the-Social-Web(repo)'), (u'ymirpl(user)', 'Mining-the-Social-Web(repo)'), (u'ukituki(user)', 'Mining-the-Social-Web(repo)'), (u'tayf(user)', 'Mining-the-Social-Web(repo)'), (u'bpcal(user)', 'Mining-the-Social-Web(repo)'), (u'zerd(user)', 'Mining-the-Social-Web(repo)'), (u'dhiemazt(user)', 'Mining-the-Social-Web(repo)'), (u'ethanhu(user)', 'Mining-the-Social-Web(repo)'), (u'milmazz(user)', 'Mining-the-Social-Web(repo)'), (u'willi(user)', 'Mining-the-Social-Web(repo)'), (u'lizbew(user)', 'Mining-the-Social-Web(repo)'), (u'digvan(user)', 'Mining-the-Social-Web(repo)'), (u'JacekAmbroziak(user)', 'Mining-the-Social-Web(repo)'), (u'dasfaha(user)', 'Mining-the-Social-Web(repo)'), (u'deusnet(user)', 'Mining-the-Social-Web(repo)'), (u'brunojm(user)', 'Mining-the-Social-Web(repo)'), (u'themiurgo(user)', 'Mining-the-Social-Web(repo)'), (u'sirithink(user)', 'Mining-the-Social-Web(repo)'), (u'maxtheman(user)', 'Mining-the-Social-Web(repo)'), (u'davyfeng(user)', 'Mining-the-Social-Web(repo)'), (u'subrays(user)', 'Mining-the-Social-Web(repo)'), (u'qsoomro(user)', 'Mining-the-Social-Web(repo)'), (u'charlesgavin(user)', 'Mining-the-Social-Web(repo)'), (u'kennethreitz(user)', 'Mining-the-Social-Web(repo)'), (u'tonez(user)', 'Mining-the-Social-Web(repo)'), (u'studiomaestro(user)', 'Mining-the-Social-Web(repo)'), (u'vanderwal(user)', 'Mining-the-Social-Web(repo)'), (u'extremecasey(user)', 'Mining-the-Social-Web(repo)'), (u'jakobzhao(user)', 'Mining-the-Social-Web(repo)'), (u'carlditzler(user)', 'Mining-the-Social-Web(repo)'), (u'lvwangbeta(user)', 'Mining-the-Social-Web(repo)'), (u'NanoXD(user)', 'Mining-the-Social-Web(repo)'), (u'raoulwissink(user)', 'Mining-the-Social-Web(repo)'), (u'edglazer(user)', 'Mining-the-Social-Web(repo)'), (u'sffafa(user)', 'Mining-the-Social-Web(repo)'), (u'rdempsey(user)', 'Mining-the-Social-Web(repo)'), (u'gcornejo(user)', 'Mining-the-Social-Web(repo)'), (u'redswallow(user)', 'Mining-the-Social-Web(repo)'), (u'gcmt(user)', 'Mining-the-Social-Web(repo)'), (u'BrentAuble(user)', 'Mining-the-Social-Web(repo)'), (u'janetyc(user)', 'Mining-the-Social-Web(repo)'), (u'blackerby(user)', 'Mining-the-Social-Web(repo)'), (u'daemianmack(user)', 'Mining-the-Social-Web(repo)'), (u'shivinkapur(user)', 'Mining-the-Social-Web(repo)'), (u'ikari-pl(user)', 'Mining-the-Social-Web(repo)'), (u'Tuxified(user)', 'Mining-the-Social-Web(repo)'), (u'tisihara(user)', 'Mining-the-Social-Web(repo)'), (u'mountcrow(user)', 'Mining-the-Social-Web(repo)'), (u'Prufrock1(user)', 'Mining-the-Social-Web(repo)'), (u'mrmvergeer(user)', 'Mining-the-Social-Web(repo)'), (u'folkengine(user)', 'Mining-the-Social-Web(repo)'), (u'ramkrsna(user)', 'Mining-the-Social-Web(repo)'), (u'likaiguo(user)', 'Mining-the-Social-Web(repo)'), (u'cyrusin(user)', 'Mining-the-Social-Web(repo)'), (u'bryantology(user)', 'Mining-the-Social-Web(repo)'), (u'slojo404(user)', 'Mining-the-Social-Web(repo)'), (u'negrond(user)', 'Mining-the-Social-Web(repo)'), (u'myditto(user)', 'Mining-the-Social-Web(repo)'), (u'anirudhjoshi(user)', 'Mining-the-Social-Web(repo)'), (u'Doppp(user)', 'Mining-the-Social-Web(repo)'), (u'jbreger(user)', 'Mining-the-Social-Web(repo)'), (u'bcattle(user)', 'Mining-the-Social-Web(repo)'), (u'sumnous(user)', 'Mining-the-Social-Web(repo)'), (u'sp0rus(user)', 'Mining-the-Social-Web(repo)'), (u'johnymontana(user)', 'Mining-the-Social-Web(repo)'), (u'manboubird(user)', 'Mining-the-Social-Web(repo)'), (u'jumping(user)', 'Mining-the-Social-Web(repo)'), (u'girish(user)', 'Mining-the-Social-Web(repo)'), (u'caseysoftware(user)', 'Mining-the-Social-Web(repo)'), (u'edtechdev(user)', 'Mining-the-Social-Web(repo)'), (u'jwsy(user)', 'Mining-the-Social-Web(repo)'), (u'jhaus(user)', 'Mining-the-Social-Web(repo)'), (u'ysfseu(user)', 'Mining-the-Social-Web(repo)'), (u'jtmhom88(user)', 'Mining-the-Social-Web(repo)'), (u'Thawab(user)', 'Mining-the-Social-Web(repo)'), (u'jah2488(user)', 'Mining-the-Social-Web(repo)'), (u'tswicegood(user)', 'Mining-the-Social-Web(repo)'), (u'sfahad46(user)', 'Mining-the-Social-Web(repo)'), (u'adivik2000(user)', 'Mining-the-Social-Web(repo)'), (u'daveturnbull(user)', 'Mining-the-Social-Web(repo)'), (u'quakerpunk(user)', 'Mining-the-Social-Web(repo)'), (u'Jojas(user)', 'Mining-the-Social-Web(repo)'), (u'guillermogrande(user)', 'Mining-the-Social-Web(repo)'), (u'hejibo(user)', 'Mining-the-Social-Web(repo)'), (u'disappearedgod(user)', 'Mining-the-Social-Web(repo)'), (u'jpendry(user)', 'Mining-the-Social-Web(repo)'), (u'michaelwills(user)', 'Mining-the-Social-Web(repo)'), (u'ehmo(user)', 'Mining-the-Social-Web(repo)'), (u'cobblest(user)', 'Mining-the-Social-Web(repo)'), (u'nacht(user)', 'Mining-the-Social-Web(repo)'), (u'espeed(user)', 'Mining-the-Social-Web(repo)'), (u'magloire(user)', 'Mining-the-Social-Web(repo)'), (u'dotpot(user)', 'Mining-the-Social-Web(repo)'), (u'roppen(user)', 'Mining-the-Social-Web(repo)'), (u'torazuka(user)', 'Mining-the-Social-Web(repo)'), (u'sabanana(user)', 'Mining-the-Social-Web(repo)'), (u'paxan(user)', 'Mining-the-Social-Web(repo)'), (u'cb372(user)', 'Mining-the-Social-Web(repo)'), (u'ocowchun(user)', 'Mining-the-Social-Web(repo)'), (u'dayu321(user)', 'Mining-the-Social-Web(repo)'), (u'Almad(user)', 'Mining-the-Social-Web(repo)'), (u'ndarville(user)', 'Mining-the-Social-Web(repo)'), (u'magnum(user)', 'Mining-the-Social-Web(repo)'), (u'jean(user)', 'Mining-the-Social-Web(repo)'), (u'gkhnlts(user)', 'Mining-the-Social-Web(repo)'), (u'barbietunnie(user)', 'Mining-the-Social-Web(repo)'), (u'mceiba(user)', 'Mining-the-Social-Web(repo)'), (u'hanula(user)', 'Mining-the-Social-Web(repo)'), (u'kkovacs(user)', 'Mining-the-Social-Web(repo)'), (u'phauly(user)', 'Mining-the-Social-Web(repo)'), (u'jeffmiller(user)', 'Mining-the-Social-Web(repo)'), (u'masami-git(user)', 'Mining-the-Social-Web(repo)'), (u'bpgllc(user)', 'Mining-the-Social-Web(repo)'), (u'rickixie(user)', 'Mining-the-Social-Web(repo)'), (u'guoylyy(user)', 'Mining-the-Social-Web(repo)'), (u'elidupuis(user)', 'Mining-the-Social-Web(repo)'), (u'cameronpriest(user)', 'Mining-the-Social-Web(repo)'), (u'treper(user)', 'Mining-the-Social-Web(repo)'), (u'ahmads(user)', 'Mining-the-Social-Web(repo)'), (u'flyabroad(user)', 'Mining-the-Social-Web(repo)'), (u'csuper(user)', 'Mining-the-Social-Web(repo)'), (u'Jarlskov(user)', 'Mining-the-Social-Web(repo)'), (u'ykakihara(user)', 'Mining-the-Social-Web(repo)'), (u'cmcgovern(user)', 'Mining-the-Social-Web(repo)'), (u'jmshoffs0812(user)', 'Mining-the-Social-Web(repo)'), (u'dgryski(user)', 'Mining-the-Social-Web(repo)'), (u'samuel(user)', 'Mining-the-Social-Web(repo)'), (u'abecciu(user)', 'Mining-the-Social-Web(repo)'), (u'joohnnie(user)', 'Mining-the-Social-Web(repo)'), (u'technoskald(user)', 'Mining-the-Social-Web(repo)'), (u'gavinmh(user)', 'Mining-the-Social-Web(repo)'), (u'lg2046(user)', 'Mining-the-Social-Web(repo)'), (u'mmccaff(user)', 'Mining-the-Social-Web(repo)'), (u'isnowfy(user)', 'Mining-the-Social-Web(repo)'), (u'bzak(user)', 'Mining-the-Social-Web(repo)'), (u'bjzu(user)', 'Mining-the-Social-Web(repo)'), (u'miyucy(user)', 'Mining-the-Social-Web(repo)'), (u'FGRibreau(user)', 'Mining-the-Social-Web(repo)'), (u'zonovo(user)', 'Mining-the-Social-Web(repo)'), (u'mgrouchy(user)', 'Mining-the-Social-Web(repo)'), (u'matagus(user)', 'Mining-the-Social-Web(repo)'), (u'georgebellos(user)', 'Mining-the-Social-Web(repo)'), (u'tokestermw(user)', 'Mining-the-Social-Web(repo)'), (u'lincolinnyan(user)', 'Mining-the-Social-Web(repo)'), (u'DKMonroe(user)', 'Mining-the-Social-Web(repo)'), (u'mkdotam(user)', 'Mining-the-Social-Web(repo)'), (u'tttxxx(user)', 'Mining-the-Social-Web(repo)'), (u'redy(user)', 'Mining-the-Social-Web(repo)'), (u'shenli(user)', 'Mining-the-Social-Web(repo)'), (u'temberature(user)', 'Mining-the-Social-Web(repo)'), (u'funwalla(user)', 'Mining-the-Social-Web(repo)'), (u'xlogik(user)', 'Mining-the-Social-Web(repo)'), (u'PowChow(user)', 'Mining-the-Social-Web(repo)'), (u'pkrishnaprasad(user)', 'Mining-the-Social-Web(repo)'), (u'csuzhangxc(user)', 'Mining-the-Social-Web(repo)'), (u'InFog(user)', 'Mining-the-Social-Web(repo)'), (u'natorro(user)', 'Mining-the-Social-Web(repo)'), (u'morpheme(user)', 'Mining-the-Social-Web(repo)'), (u'rabbit-run(user)', 'Mining-the-Social-Web(repo)'), (u'chishaku(user)', 'Mining-the-Social-Web(repo)'), (u'daevid(user)', 'Mining-the-Social-Web(repo)'), (u'lyl7225(user)', 'Mining-the-Social-Web(repo)'), (u'makeliferock(user)', 'Mining-the-Social-Web(repo)'), (u'macorama(user)', 'Mining-the-Social-Web(repo)'), (u'zarzecks(user)', 'Mining-the-Social-Web(repo)'), (u'javouhey(user)', 'Mining-the-Social-Web(repo)'), (u'dvy(user)', 'Mining-the-Social-Web(repo)'), (u'pparo(user)', 'Mining-the-Social-Web(repo)'), (u'gvillalta99(user)', 'Mining-the-Social-Web(repo)'), (u'opexxx(user)', 'Mining-the-Social-Web(repo)'), (u'jengdal(user)', 'Mining-the-Social-Web(repo)'), (u'chlalanne(user)', 'Mining-the-Social-Web(repo)'), (u'jcprandini(user)', 'Mining-the-Social-Web(repo)'), (u'joepestro(user)', 'Mining-the-Social-Web(repo)'), (u'theresia(user)', 'Mining-the-Social-Web(repo)'), (u'hcilab(user)', 'Mining-the-Social-Web(repo)'), (u'twidi(user)', 'Mining-the-Social-Web(repo)'), (u'marcbelmont(user)', 'Mining-the-Social-Web(repo)'), (u'gabstehr(user)', 'Mining-the-Social-Web(repo)'), (u'zhouzhuojie(user)', 'Mining-the-Social-Web(repo)'), (u'eujinkim(user)', 'Mining-the-Social-Web(repo)'), (u'eddygreen(user)', 'Mining-the-Social-Web(repo)'), (u'aburan28(user)', 'Mining-the-Social-Web(repo)'), (u'slimsymphony(user)', 'Mining-the-Social-Web(repo)'), (u'oweidner(user)', 'Mining-the-Social-Web(repo)'), (u'polonia(user)', 'Mining-the-Social-Web(repo)'), (u'benjikraft(user)', 'Mining-the-Social-Web(repo)'), (u'anentropic(user)', 'Mining-the-Social-Web(repo)'), (u'omg(user)', 'Mining-the-Social-Web(repo)'), (u'JonWeinberg(user)', 'Mining-the-Social-Web(repo)'), (u'ticean(user)', 'Mining-the-Social-Web(repo)'), (u'rgaidot(user)', 'Mining-the-Social-Web(repo)'), (u'mtchang(user)', 'Mining-the-Social-Web(repo)'), (u'dcloud(user)', 'Mining-the-Social-Web(repo)'), (u'danieljjh(user)', 'Mining-the-Social-Web(repo)'), (u'lifeforaiur(user)', 'Mining-the-Social-Web(repo)'), (u'lilylabo(user)', 'Mining-the-Social-Web(repo)'), (u'toori67(user)', 'Mining-the-Social-Web(repo)'), (u'waleking(user)', 'Mining-the-Social-Web(repo)'), (u'pedromenezes(user)', 'Mining-the-Social-Web(repo)'), (u'SocialQ(user)', 'Mining-the-Social-Web(repo)'), (u'aminert(user)', 'Mining-the-Social-Web(repo)'), (u'pedrokoblitz(user)', 'Mining-the-Social-Web(repo)'), (u'waterfox0323(user)', 'Mining-the-Social-Web(repo)'), (u'brianjolly(user)', 'Mining-the-Social-Web(repo)'), (u'jlmvale(user)', 'Mining-the-Social-Web(repo)'), (u'j0t4(user)', 'Mining-the-Social-Web(repo)'), (u'jineshpaloor(user)', 'Mining-the-Social-Web(repo)'), (u'nick-turner(user)', 'Mining-the-Social-Web(repo)'), (u'bobdia(user)', 'Mining-the-Social-Web(repo)'), (u'PittyXu(user)', 'Mining-the-Social-Web(repo)'), (u'nrfm(user)', 'Mining-the-Social-Web(repo)'), (u'vfulco(user)', 'Mining-the-Social-Web(repo)'), (u'jackxu(user)', 'Mining-the-Social-Web(repo)'), (u'fsouto(user)', 'Mining-the-Social-Web(repo)'), (u'webmaven(user)', 'Mining-the-Social-Web(repo)'), (u'changqing(user)', 'Mining-the-Social-Web(repo)'), (u'gracaninja(user)', 'Mining-the-Social-Web(repo)'), (u'capricasix(user)', 'Mining-the-Social-Web(repo)'), (u'softpurkelly(user)', 'Mining-the-Social-Web(repo)'), (u'NikGero(user)', 'Mining-the-Social-Web(repo)'), (u'Zirafkend(user)', 'Mining-the-Social-Web(repo)'), (u'rickschmoo(user)', 'Mining-the-Social-Web(repo)'), (u'shotaatago(user)', 'Mining-the-Social-Web(repo)'), (u'csjones(user)', 'Mining-the-Social-Web(repo)'), (u'hisuley(user)', 'Mining-the-Social-Web(repo)'), (u'ndunnage(user)', 'Mining-the-Social-Web(repo)'), (u'davni(user)', 'Mining-the-Social-Web(repo)'), (u'pqnga(user)', 'Mining-the-Social-Web(repo)'), (u'mistahBen(user)', 'Mining-the-Social-Web(repo)'), (u'kibernick(user)', 'Mining-the-Social-Web(repo)'), (u'fozbaca(user)', 'Mining-the-Social-Web(repo)'), (u'nycterent(user)', 'Mining-the-Social-Web(repo)'), (u'lucassbgomes(user)', 'Mining-the-Social-Web(repo)'), (u'nisc(user)', 'Mining-the-Social-Web(repo)'), (u'purplecow(user)', 'Mining-the-Social-Web(repo)'), (u'mpac(user)', 'Mining-the-Social-Web(repo)'), (u'openweb(user)', 'Mining-the-Social-Web(repo)'), (u'Doomking(user)', 'Mining-the-Social-Web(repo)'), (u'taoyu(user)', 'Mining-the-Social-Web(repo)'), (u'mt3(user)', 'Mining-the-Social-Web(repo)'), (u'briatte(user)', 'Mining-the-Social-Web(repo)'), (u'empjustine(user)', 'Mining-the-Social-Web(repo)'), (u'twneale(user)', 'Mining-the-Social-Web(repo)'), (u'chu052(user)', 'Mining-the-Social-Web(repo)'), (u'zambrose(user)', 'Mining-the-Social-Web(repo)'), (u'shockley(user)', 'Mining-the-Social-Web(repo)'), (u'billday(user)', 'Mining-the-Social-Web(repo)'), (u'collardb(user)', 'Mining-the-Social-Web(repo)'), (u'professorsparkles(user)', 'Mining-the-Social-Web(repo)'), (u'lhanalytics(user)', 'Mining-the-Social-Web(repo)'), (u'deepblue-phoenix(user)', 'Mining-the-Social-Web(repo)'), (u'pantelis(user)', 'Mining-the-Social-Web(repo)'), (u'ssingh10(user)', 'Mining-the-Social-Web(repo)'), (u'cacciaresi(user)', 'Mining-the-Social-Web(repo)'), (u'iPAS(user)', 'Mining-the-Social-Web(repo)'), (u'Basphil(user)', 'Mining-the-Social-Web(repo)'), (u'peicheng(user)', 'Mining-the-Social-Web(repo)'), (u'rosco5(user)', 'Mining-the-Social-Web(repo)'), (u'hectoregm(user)', 'Mining-the-Social-Web(repo)'), (u'akton(user)', 'Mining-the-Social-Web(repo)'), (u'ardalahmet(user)', 'Mining-the-Social-Web(repo)'), (u'bisko(user)', 'Mining-the-Social-Web(repo)'), (u'davidrd123(user)', 'Mining-the-Social-Web(repo)'), (u'w1mvy(user)', 'Mining-the-Social-Web(repo)'), (u'stumm(user)', 'Mining-the-Social-Web(repo)'), (u'arthur-e(user)', 'Mining-the-Social-Web(repo)'), (u'liule(user)', 'Mining-the-Social-Web(repo)'), (u'slaporte(user)', 'Mining-the-Social-Web(repo)'), (u'vmharrel(user)', 'Mining-the-Social-Web(repo)'), (u'xinnan(user)', 'Mining-the-Social-Web(repo)'), (u'aboutaaron(user)', 'Mining-the-Social-Web(repo)'), (u'dougapd(user)', 'Mining-the-Social-Web(repo)'), (u'eklypse(user)', 'Mining-the-Social-Web(repo)'), (u'bendaizer(user)', 'Mining-the-Social-Web(repo)'), (u'valentinzberea(user)', 'Mining-the-Social-Web(repo)'), (u'xiaxianzhi(user)', 'Mining-the-Social-Web(repo)'), (u'phillpafford(user)', 'Mining-the-Social-Web(repo)'), (u'onozka(user)', 'Mining-the-Social-Web(repo)'), (u'samuelleach(user)', 'Mining-the-Social-Web(repo)'), (u'campeterson(user)', 'Mining-the-Social-Web(repo)'), (u'gar(user)', 'Mining-the-Social-Web(repo)'), (u'chrisapril(user)', 'Mining-the-Social-Web(repo)'), (u'AshBT(user)', 'Mining-the-Social-Web(repo)'), (u'brooklynrob(user)', 'Mining-the-Social-Web(repo)'), (u'albertsun(user)', 'Mining-the-Social-Web(repo)'), (u'gravitymonkey(user)', 'Mining-the-Social-Web(repo)'), (u'pygloo(user)', 'Mining-the-Social-Web(repo)'), (u'brennannovak(user)', 'Mining-the-Social-Web(repo)'), (u'equus12(user)', 'Mining-the-Social-Web(repo)'), (u'seancron(user)', 'Mining-the-Social-Web(repo)'), (u'velthuis(user)', 'Mining-the-Social-Web(repo)'), (u'jgrosche(user)', 'Mining-the-Social-Web(repo)'), (u'fone4u(user)', 'Mining-the-Social-Web(repo)'), (u'KRostyslav(user)', 'Mining-the-Social-Web(repo)'), (u'judywawira(user)', 'Mining-the-Social-Web(repo)'), (u'ngopal(user)', 'Mining-the-Social-Web(repo)'), (u'norri(user)', 'Mining-the-Social-Web(repo)'), (u'DanielleSucher(user)', 'Mining-the-Social-Web(repo)'), (u'amitagrawal(user)', 'Mining-the-Social-Web(repo)'), (u'iroid(user)', 'Mining-the-Social-Web(repo)'), (u'Zolomon(user)', 'Mining-the-Social-Web(repo)'), (u'rsmoz(user)', 'Mining-the-Social-Web(repo)'), (u'bngoogle(user)', 'Mining-the-Social-Web(repo)'), (u'mfalcon(user)', 'Mining-the-Social-Web(repo)'), (u'panckreous(user)', 'Mining-the-Social-Web(repo)'), (u'nipengadmaster(user)', 'Mining-the-Social-Web(repo)'), (u'albhardy(user)', 'Mining-the-Social-Web(repo)'), (u'michaeldhealy(user)', 'Mining-the-Social-Web(repo)'), (u'rabit(user)', 'Mining-the-Social-Web(repo)'), (u'macdet(user)', 'Mining-the-Social-Web(repo)'), (u'analyticsPierce(user)', 'Mining-the-Social-Web(repo)'), (u'liuyix(user)', 'Mining-the-Social-Web(repo)'), (u'mikedorseyjr(user)', 'Mining-the-Social-Web(repo)'), (u'grahn(user)', 'Mining-the-Social-Web(repo)'), (u'hellysmile(user)', 'Mining-the-Social-Web(repo)'), (u'jingle(user)', 'Mining-the-Social-Web(repo)'), (u'Gonzillaaa(user)', 'Mining-the-Social-Web(repo)'), (u'lrvick(user)', 'Mining-the-Social-Web(repo)'), (u'umaar(user)', 'Mining-the-Social-Web(repo)'), (u'donigian(user)', 'Mining-the-Social-Web(repo)'), (u'japerk(user)', 'Mining-the-Social-Web(repo)'), (u'danielmavi(user)', 'Mining-the-Social-Web(repo)'), (u'andrzejbe(user)', 'Mining-the-Social-Web(repo)'), (u'elimisteve(user)', 'Mining-the-Social-Web(repo)'), (u'doeslater(user)', 'Mining-the-Social-Web(repo)'), (u'ismaild(user)', 'Mining-the-Social-Web(repo)'), (u'feedmecookies(user)', 'Mining-the-Social-Web(repo)'), (u'cicuz(user)', 'Mining-the-Social-Web(repo)'), (u'gerad(user)', 'Mining-the-Social-Web(repo)'), (u'valdergallo(user)', 'Mining-the-Social-Web(repo)'), (u'rnagle(user)', 'Mining-the-Social-Web(repo)'), (u'subasish(user)', 'Mining-the-Social-Web(repo)'), (u'semerda(user)', 'Mining-the-Social-Web(repo)'), (u'steverife(user)', 'Mining-the-Social-Web(repo)'), (u'nabeelmukhtar(user)', 'Mining-the-Social-Web(repo)'), (u'haruna-nishiwaki(user)', 'Mining-the-Social-Web(repo)'), (u'mtfelix(user)', 'Mining-the-Social-Web(repo)'), (u'chc170(user)', 'Mining-the-Social-Web(repo)'), (u'hisakato(user)', 'Mining-the-Social-Web(repo)'), (u'klous(user)', 'Mining-the-Social-Web(repo)'), (u'hertzel(user)', 'Mining-the-Social-Web(repo)'), (u'kharakawa(user)', 'Mining-the-Social-Web(repo)'), (u'kencochrane(user)', 'Mining-the-Social-Web(repo)'), (u'GuosongChen(user)', 'Mining-the-Social-Web(repo)'), (u'carhartl(user)', 'Mining-the-Social-Web(repo)'), (u'mkhDev(user)', 'Mining-the-Social-Web(repo)'), (u'buffpojken(user)', 'Mining-the-Social-Web(repo)'), (u'jakubroztocil(user)', 'Mining-the-Social-Web(repo)'), (u'ardendertat(user)', 'Mining-the-Social-Web(repo)'), (u'sudheervazrapu(user)', 'Mining-the-Social-Web(repo)'), (u'aljosa(user)', 'Mining-the-Social-Web(repo)'), (u'CodingBob(user)', 'Mining-the-Social-Web(repo)'), (u'lizheming(user)', 'Mining-the-Social-Web(repo)'), (u'jasonyaowu(user)', 'Mining-the-Social-Web(repo)'), (u'kevinbluer(user)', 'Mining-the-Social-Web(repo)'), (u'wojtha(user)', 'Mining-the-Social-Web(repo)'), (u'echoapp(user)', 'Mining-the-Social-Web(repo)'), (u'tankle(user)', 'Mining-the-Social-Web(repo)'), (u'blooberr(user)', 'Mining-the-Social-Web(repo)'), (u'eiriks(user)', 'Mining-the-Social-Web(repo)'), (u'oyomei(user)', 'Mining-the-Social-Web(repo)'), (u'Chunkplus(user)', 'Mining-the-Social-Web(repo)'), (u'netjack(user)', 'Mining-the-Social-Web(repo)'), (u'Tommassissimo(user)', 'Mining-the-Social-Web(repo)'), (u'nicib83(user)', 'Mining-the-Social-Web(repo)'), (u'amygdala(user)', 'Mining-the-Social-Web(repo)'), (u'nfx(user)', 'Mining-the-Social-Web(repo)'), (u'Phate303(user)', 'Mining-the-Social-Web(repo)'), (u'mahmoudimus(user)', 'Mining-the-Social-Web(repo)'), (u'lixiaojun(user)', 'Mining-the-Social-Web(repo)'), (u'rduong(user)', 'Mining-the-Social-Web(repo)'), (u'gavelez(user)', 'Mining-the-Social-Web(repo)'), (u'th0ma5w(user)', 'Mining-the-Social-Web(repo)'), (u'jquattrocchi(user)', 'Mining-the-Social-Web(repo)'), (u'jonhurlock(user)', 'Mining-the-Social-Web(repo)'), (u'nbartels(user)', 'Mining-the-Social-Web(repo)'), (u'beibeiyang(user)', 'Mining-the-Social-Web(repo)'), (u'whitefoxx(user)', 'Mining-the-Social-Web(repo)'), (u'FrankRouter(user)', 'Mining-the-Social-Web(repo)'), (u'jensenrf(user)', 'Mining-the-Social-Web(repo)'), (u'Smerity(user)', 'Mining-the-Social-Web(repo)'), (u'shamiksharma(user)', 'Mining-the-Social-Web(repo)'), (u'butterwick(user)', 'Mining-the-Social-Web(repo)'), (u'huhupao(user)', 'Mining-the-Social-Web(repo)'), (u'ahmdrefat(user)', 'Mining-the-Social-Web(repo)'), (u'nelliemckesson(user)', 'Mining-the-Social-Web(repo)'), (u'okumin(user)', 'Mining-the-Social-Web(repo)'), (u'superfine(user)', 'Mining-the-Social-Web(repo)'), (u'Nooby(user)', 'Mining-the-Social-Web(repo)'), (u'lovej(user)', 'Mining-the-Social-Web(repo)'), (u'Decave(user)', 'Mining-the-Social-Web(repo)'), (u'zen4ever(user)', 'Mining-the-Social-Web(repo)'), (u'orlandoferrer(user)', 'Mining-the-Social-Web(repo)'), (u'pxue(user)', 'Mining-the-Social-Web(repo)'), (u'jessesingh(user)', 'Mining-the-Social-Web(repo)'), (u'harit-sunrun(user)', 'Mining-the-Social-Web(repo)'), (u'Vheissu(user)', 'Mining-the-Social-Web(repo)'), (u'blackte(user)', 'Mining-the-Social-Web(repo)'), (u'skpatidar(user)', 'Mining-the-Social-Web(repo)'), (u'sukottokun(user)', 'Mining-the-Social-Web(repo)'), (u'mrcrabby(user)', 'Mining-the-Social-Web(repo)'), (u'ozgur(user)', 'Mining-the-Social-Web(repo)'), (u'ikegami-yukino(user)', 'Mining-the-Social-Web(repo)'), (u'WeiYoung(user)', 'Mining-the-Social-Web(repo)'), (u'sabman(user)', 'Mining-the-Social-Web(repo)'), (u'mkmackay-git(user)', 'Mining-the-Social-Web(repo)'), (u'van5150(user)', 'Mining-the-Social-Web(repo)'), (u'hite(user)', 'Mining-the-Social-Web(repo)'), (u'MaggiePlusPlus(user)', 'Mining-the-Social-Web(repo)'), (u'ahill1(user)', 'Mining-the-Social-Web(repo)'), (u'danielpreotiuc(user)', 'Mining-the-Social-Web(repo)'), (u'bryantly(user)', 'Mining-the-Social-Web(repo)'), (u'amuise(user)', 'Mining-the-Social-Web(repo)'), (u'sungis(user)', 'Mining-the-Social-Web(repo)'), (u'srikanth-npcompete(user)', 'Mining-the-Social-Web(repo)'), (u'tishon(user)', 'Mining-the-Social-Web(repo)'), (u'lingling2012(user)', 'Mining-the-Social-Web(repo)'), (u'wernerramaekers(user)', 'Mining-the-Social-Web(repo)'), (u'bububa(user)', 'Mining-the-Social-Web(repo)'), (u'jexchan(user)', 'Mining-the-Social-Web(repo)'), (u'colfire(user)', 'Mining-the-Social-Web(repo)'), (u'amanahuja(user)', 'Mining-the-Social-Web(repo)'), (u'dcj(user)', 'Mining-the-Social-Web(repo)'), (u'liuzz1983(user)', 'Mining-the-Social-Web(repo)'), (u'clarecorthell(user)', 'Mining-the-Social-Web(repo)'), (u'lmmsoft(user)', 'Mining-the-Social-Web(repo)'), (u'mlaprise(user)', 'Mining-the-Social-Web(repo)'), (u'sp00(user)', 'Mining-the-Social-Web(repo)'), (u'burakerdem(user)', 'Mining-the-Social-Web(repo)'), (u'lucianosb(user)', 'Mining-the-Social-Web(repo)'), (u'sebasmagri(user)', 'Mining-the-Social-Web(repo)'), (u'janedallaway(user)', 'Mining-the-Social-Web(repo)'), (u'evandrix(user)', 'Mining-the-Social-Web(repo)'), (u'Kilian(user)', 'Mining-the-Social-Web(repo)'), (u'tikums(user)', 'Mining-the-Social-Web(repo)'), (u'jdmiranda(user)', 'Mining-the-Social-Web(repo)'), (u'kyrcha(user)', 'Mining-the-Social-Web(repo)'), (u'mikedory(user)', 'Mining-the-Social-Web(repo)'), (u'Xeoncross(user)', 'Mining-the-Social-Web(repo)'), (u'erainey(user)', 'Mining-the-Social-Web(repo)'), (u'chilijung(user)', 'Mining-the-Social-Web(repo)'), (u'chharish(user)', 'Mining-the-Social-Web(repo)'), (u'dj1989(user)', 'Mining-the-Social-Web(repo)'), (u'ryanoneill(user)', 'Mining-the-Social-Web(repo)'), (u'sammyrulez(user)', 'Mining-the-Social-Web(repo)'), (u'yishino22(user)', 'Mining-the-Social-Web(repo)'), (u'pentesticles(user)', 'Mining-the-Social-Web(repo)'), (u'ichim-david(user)', 'Mining-the-Social-Web(repo)'), (u'emerge(user)', 'Mining-the-Social-Web(repo)'), (u'souri(user)', 'Mining-the-Social-Web(repo)'), (u'matsu911(user)', 'Mining-the-Social-Web(repo)'), (u'alecnascimento(user)', 'Mining-the-Social-Web(repo)'), (u'cmlh(user)', 'Mining-the-Social-Web(repo)'), (u'inkless(user)', 'Mining-the-Social-Web(repo)'), (u'dgleebits(user)', 'Mining-the-Social-Web(repo)'), (u'mduering(user)', 'Mining-the-Social-Web(repo)'), (u'adriaant(user)', 'Mining-the-Social-Web(repo)'), (u'denisarnaud(user)', 'Mining-the-Social-Web(repo)'), (u'dan0(user)', 'Mining-the-Social-Web(repo)'), (u'sunan(user)', 'Mining-the-Social-Web(repo)'), (u'gabrielluong(user)', 'Mining-the-Social-Web(repo)'), (u'yxlwfds(user)', 'Mining-the-Social-Web(repo)'), (u'gitmmeanwell(user)', 'Mining-the-Social-Web(repo)'), (u'forrest001(user)', 'Mining-the-Social-Web(repo)'), (u'patrickclancy(user)', 'Mining-the-Social-Web(repo)'), (u'microamp(user)', 'Mining-the-Social-Web(repo)'), (u'brianlee(user)', 'Mining-the-Social-Web(repo)'), (u'IAbuElRuzz(user)', 'Mining-the-Social-Web(repo)'), (u'kod3r(user)', 'Mining-the-Social-Web(repo)'), (u'satybald(user)', 'Mining-the-Social-Web(repo)'), (u'arnim(user)', 'Mining-the-Social-Web(repo)'), (u'invinciblejha(user)', 'Mining-the-Social-Web(repo)'), (u'ch0psticks(user)', 'Mining-the-Social-Web(repo)'), (u'lasareva(user)', 'Mining-the-Social-Web(repo)'), (u'dozean(user)', 'Mining-the-Social-Web(repo)'), (u'phildow(user)', 'Mining-the-Social-Web(repo)'), (u'jonathanyee(user)', 'Mining-the-Social-Web(repo)'), (u'putorti(user)', 'Mining-the-Social-Web(repo)'), (u'odewahn(user)', 'Mining-the-Social-Web(repo)'), (u'degiere(user)', 'Mining-the-Social-Web(repo)'), (u'prashanthmcr(user)', 'Mining-the-Social-Web(repo)'), (u'nvoa2358(user)', 'Mining-the-Social-Web(repo)'), (u'jcamacaro(user)', 'Mining-the-Social-Web(repo)'), (u'memsql-mark(user)', 'Mining-the-Social-Web(repo)'), (u'spartakan(user)', 'Mining-the-Social-Web(repo)'), (u'jackylee(user)', 'Mining-the-Social-Web(repo)'), (u'liujiantong(user)', 'Mining-the-Social-Web(repo)'), (u'vshulyak(user)', 'Mining-the-Social-Web(repo)'), (u'dextercasey(user)', 'Mining-the-Social-Web(repo)'), (u'darkseed(user)', 'Mining-the-Social-Web(repo)'), (u'Kudo(user)', 'Mining-the-Social-Web(repo)'), (u'jasonbogovich(user)', 'Mining-the-Social-Web(repo)'), (u'supaket(user)', 'Mining-the-Social-Web(repo)'), (u'miclovich(user)', 'Mining-the-Social-Web(repo)'), (u'firesofmay(user)', 'Mining-the-Social-Web(repo)'), (u'cchamma(user)', 'Mining-the-Social-Web(repo)'), (u'levigross(user)', 'Mining-the-Social-Web(repo)'), (u'blynch(user)', 'Mining-the-Social-Web(repo)'), (u'octoberman(user)', 'Mining-the-Social-Web(repo)'), (u'mdyang(user)', 'Mining-the-Social-Web(repo)'), (u'vkurchatkin(user)', 'Mining-the-Social-Web(repo)'), (u'msbanik(user)', 'Mining-the-Social-Web(repo)'), (u'carlplant(user)', 'Mining-the-Social-Web(repo)'), (u'infantiablue(user)', 'Mining-the-Social-Web(repo)'), (u'lulstrup(user)', 'Mining-the-Social-Web(repo)'), (u'johnthedebs(user)', 'Mining-the-Social-Web(repo)'), (u'jcesarblues(user)', 'Mining-the-Social-Web(repo)'), (u'kimispencer(user)', 'Mining-the-Social-Web(repo)'), (u'mgalushka(user)', 'Mining-the-Social-Web(repo)'), (u'takuan-osho(user)', 'Mining-the-Social-Web(repo)'), (u'Geek4IT(user)', 'Mining-the-Social-Web(repo)'), (u'arnab-chakrabarti(user)', 'Mining-the-Social-Web(repo)'), (u'ywdong(user)', 'Mining-the-Social-Web(repo)'), (u'galvez(user)', 'Mining-the-Social-Web(repo)'), (u'klgraham(user)', 'Mining-the-Social-Web(repo)'), (u'slavik777(user)', 'Mining-the-Social-Web(repo)'), (u'qxde01(user)', 'Mining-the-Social-Web(repo)'), (u'bertomartin(user)', 'Mining-the-Social-Web(repo)'), (u'doolin(user)', 'Mining-the-Social-Web(repo)'), (u'JosephLaurino(user)', 'Mining-the-Social-Web(repo)'), (u'brycepj(user)', 'Mining-the-Social-Web(repo)'), (u'tschloss(user)', 'Mining-the-Social-Web(repo)'), (u'ypxu(user)', 'Mining-the-Social-Web(repo)'), (u'aaronlifton(user)', 'Mining-the-Social-Web(repo)'), (u'marco-s(user)', 'Mining-the-Social-Web(repo)'), (u'zebpalmer(user)', 'Mining-the-Social-Web(repo)'), (u'skibblenybbles(user)', 'Mining-the-Social-Web(repo)'), (u'neko1990(user)', 'Mining-the-Social-Web(repo)'), (u'mvid(user)', 'Mining-the-Social-Web(repo)'), (u'rays(user)', 'Mining-the-Social-Web(repo)'), (u'jboelio(user)', 'Mining-the-Social-Web(repo)'), (u'laranea(user)', 'Mining-the-Social-Web(repo)'), (u'mikeloukides(user)', 'Mining-the-Social-Web(repo)'), (u'realoptimal(user)', 'Mining-the-Social-Web(repo)'), (u'jmorenoamor(user)', 'Mining-the-Social-Web(repo)'), (u'prb(user)', 'Mining-the-Social-Web(repo)'), (u'twistdroach(user)', 'Mining-the-Social-Web(repo)'), (u'bowenli37(user)', 'Mining-the-Social-Web(repo)'), (u'vvoody(user)', 'Mining-the-Social-Web(repo)'), (u'nokuno(user)', 'Mining-the-Social-Web(repo)'), (u'zgw21cn(user)', 'Mining-the-Social-Web(repo)'), (u'jph98(user)', 'Mining-the-Social-Web(repo)'), (u'lkrids(user)', 'Mining-the-Social-Web(repo)'), (u'dudarev(user)', 'Mining-the-Social-Web(repo)'), (u'gradetwo(user)', 'Mining-the-Social-Web(repo)'), (u'rbarraud(user)', 'Mining-the-Social-Web(repo)'), (u'miron(user)', 'Mining-the-Social-Web(repo)'), (u'calvdee(user)', 'Mining-the-Social-Web(repo)'), (u'phernandez(user)', 'Mining-the-Social-Web(repo)'), (u'deathcape(user)', 'Mining-the-Social-Web(repo)'), (u'anylzer(user)', 'Mining-the-Social-Web(repo)'), (u'theantisofa(user)', 'Mining-the-Social-Web(repo)'), (u'zdogma(user)', 'Mining-the-Social-Web(repo)'), (u'alessandroleite(user)', 'Mining-the-Social-Web(repo)'), (u'annoit(user)', 'Mining-the-Social-Web(repo)'), (u'conditionalogic(user)', 'Mining-the-Social-Web(repo)'), (u'udooz(user)', 'Mining-the-Social-Web(repo)'), (u'ssx(user)', 'Mining-the-Social-Web(repo)'), (u'getnpk(user)', 'Mining-the-Social-Web(repo)'), (u'JK-SUN(user)', 'Mining-the-Social-Web(repo)'), (u'twleung(user)', 'Mining-the-Social-Web(repo)'), (u'darwin31(user)', 'Mining-the-Social-Web(repo)'), (u'retrobabel(user)', 'Mining-the-Social-Web(repo)'), (u'indiejoseph(user)', 'Mining-the-Social-Web(repo)'), (u'shahkushan1(user)', 'Mining-the-Social-Web(repo)'), (u'joskid(user)', 'Mining-the-Social-Web(repo)'), (u'omarberg(user)', 'Mining-the-Social-Web(repo)'), (u'iPetrucho(user)', 'Mining-the-Social-Web(repo)'), (u'kcnickerson(user)', 'Mining-the-Social-Web(repo)'), (u'eraldcoil(user)', 'Mining-the-Social-Web(repo)'), (u'ygbr(user)', 'Mining-the-Social-Web(repo)'), (u'HandyAndyShortStack(user)', 'Mining-the-Social-Web(repo)'), (u'mki(user)', 'Mining-the-Social-Web(repo)'), (u'osiloke(user)', 'Mining-the-Social-Web(repo)'), (u'amitkumar01(user)', 'Mining-the-Social-Web(repo)'), (u'robbfitzsimmons(user)', 'Mining-the-Social-Web(repo)'), (u'cegme(user)', 'Mining-the-Social-Web(repo)'), (u'lslab(user)', 'Mining-the-Social-Web(repo)'), (u'KWMalik(user)', 'Mining-the-Social-Web(repo)'), (u'pinoystartup(user)', 'Mining-the-Social-Web(repo)'), (u'solutionsmith(user)', 'Mining-the-Social-Web(repo)'), (u'mikhailxu(user)', 'Mining-the-Social-Web(repo)'), (u'mjankiewicz(user)', 'Mining-the-Social-Web(repo)'), (u'vgoklani(user)', 'Mining-the-Social-Web(repo)'), (u'motord(user)', 'Mining-the-Social-Web(repo)'), (u'lmazzon(user)', 'Mining-the-Social-Web(repo)'), (u'katajuta(user)', 'Mining-the-Social-Web(repo)'), (u'gawbul(user)', 'Mining-the-Social-Web(repo)'), (u'bcho(user)', 'Mining-the-Social-Web(repo)'), (u'nellaivijay(user)', 'Mining-the-Social-Web(repo)'), (u'jacktang(user)', 'Mining-the-Social-Web(repo)'), (u'soarer(user)', 'Mining-the-Social-Web(repo)'), (u'zeristor(user)', 'Mining-the-Social-Web(repo)'), (u'ptwobrussell(user)', 'Mining-the-Social-Web(repo)'), (u'mtayseer(user)', 'Mining-the-Social-Web(repo)'), (u'mcroydon(user)', 'Mining-the-Social-Web(repo)'), (u'numb3r3(user)', 'Mining-the-Social-Web(repo)'), (u'edwelker(user)', 'Mining-the-Social-Web(repo)'), (u'wenLiangcan(user)', 'Mining-the-Social-Web(repo)'), (u'soumyasd(user)', 'Mining-the-Social-Web(repo)'), (u'aviot(user)', 'Mining-the-Social-Web(repo)'), (u'gaohao(user)', 'Mining-the-Social-Web(repo)'), (u'mohamadhussien(user)', 'Mining-the-Social-Web(repo)'), (u'bin3(user)', 'Mining-the-Social-Web(repo)'), (u'ivanfioravanti(user)', 'Mining-the-Social-Web(repo)'), (u'alixaxel(user)', 'Mining-the-Social-Web(repo)'), (u'mcgrady164(user)', 'Mining-the-Social-Web(repo)'), (u'blu-elephant(user)', 'Mining-the-Social-Web(repo)'), (u'benregn(user)', 'Mining-the-Social-Web(repo)'), (u'Gal3riel(user)', 'Mining-the-Social-Web(repo)'), (u'stonegao(user)', 'Mining-the-Social-Web(repo)'), (u'cdesch(user)', 'Mining-the-Social-Web(repo)'), (u'nborwankar(user)', 'Mining-the-Social-Web(repo)'), (u'vinay631(user)', 'Mining-the-Social-Web(repo)'), (u'Hardisty(user)', 'Mining-the-Social-Web(repo)'), (u'LuRsT(user)', 'Mining-the-Social-Web(repo)'), (u'bearzx(user)', 'Mining-the-Social-Web(repo)'), (u'trevorhales(user)', 'Mining-the-Social-Web(repo)'), (u'rytis(user)', 'Mining-the-Social-Web(repo)'), (u'boskaiolo(user)', 'Mining-the-Social-Web(repo)'), (u'kemaltaskin(user)', 'Mining-the-Social-Web(repo)'), (u'rfinkers(user)', 'Mining-the-Social-Web(repo)'), (u'tzuryby(user)', 'Mining-the-Social-Web(repo)'), (u'jasonyaw(user)', 'Mining-the-Social-Web(repo)'), (u'swinton(user)', 'Mining-the-Social-Web(repo)'), (u'drelu(user)', 'Mining-the-Social-Web(repo)'), (u'LebronKodan(user)', 'Mining-the-Social-Web(repo)'), (u'yasu00000(user)', 'Mining-the-Social-Web(repo)'), (u'samesense(user)', 'Mining-the-Social-Web(repo)'), (u'brimbrom(user)', 'Mining-the-Social-Web(repo)'), (u'yoghi(user)', 'Mining-the-Social-Web(repo)'), (u'klaut(user)', 'Mining-the-Social-Web(repo)'), (u'sleeptillseven(user)', 'Mining-the-Social-Web(repo)'), (u'lzell(user)', 'Mining-the-Social-Web(repo)'), (u'jdzeil(user)', 'Mining-the-Social-Web(repo)'), (u'torsday(user)', 'Mining-the-Social-Web(repo)'), (u'kevinchiu(user)', 'Mining-the-Social-Web(repo)'), (u'babumathew(user)', 'Mining-the-Social-Web(repo)'), (u'masroor(user)', 'Mining-the-Social-Web(repo)'), (u'laironald(user)', 'Mining-the-Social-Web(repo)'), (u'itsBegun(user)', 'Mining-the-Social-Web(repo)'), (u'pors(user)', 'Mining-the-Social-Web(repo)'), (u'cheekybastard(user)', 'Mining-the-Social-Web(repo)'), (u'ekgren(user)', 'Mining-the-Social-Web(repo)'), (u'SamLebarbare(user)', 'Mining-the-Social-Web(repo)'), (u'zhaodylan(user)', 'Mining-the-Social-Web(repo)'), (u'guiambros(user)', 'Mining-the-Social-Web(repo)'), (u'sunchengjie(user)', 'Mining-the-Social-Web(repo)'), (u'dr00(user)', 'Mining-the-Social-Web(repo)'), (u'alessioalex(user)', 'Mining-the-Social-Web(repo)'), (u'ido(user)', 'Mining-the-Social-Web(repo)'), (u'caryhague(user)', 'Mining-the-Social-Web(repo)'), (u'manav(user)', 'Mining-the-Social-Web(repo)'), (u'katychuang(user)', 'Mining-the-Social-Web(repo)'), (u'Stecki(user)', 'Mining-the-Social-Web(repo)'), (u'wangqi(user)', 'Mining-the-Social-Web(repo)'), (u'shijinkui(user)', 'Mining-the-Social-Web(repo)'), (u'apitts(user)', 'Mining-the-Social-Web(repo)'), (u'wangrn(user)', 'Mining-the-Social-Web(repo)'), (u'visualisierte(user)', 'Mining-the-Social-Web(repo)'), (u'docete(user)', 'Mining-the-Social-Web(repo)'), (u'ustramooner(user)', 'Mining-the-Social-Web(repo)'), (u'lvspais(user)', 'Mining-the-Social-Web(repo)'), (u'sou(user)', 'Mining-the-Social-Web(repo)'), (u'Bllee(user)', 'Mining-the-Social-Web(repo)'), (u'm4ngust(user)', 'Mining-the-Social-Web(repo)'), (u'omarayad1(user)', 'Mining-the-Social-Web(repo)'), (u'sofianhadiwijaya(user)', 'Mining-the-Social-Web(repo)'), (u'pcdinh(user)', 'Mining-the-Social-Web(repo)'), (u'jasonzzz(user)', 'Mining-the-Social-Web(repo)'), (u'icyphoenix(user)', 'Mining-the-Social-Web(repo)'), (u'shyamsingh(user)', 'Mining-the-Social-Web(repo)'), (u'semantium(user)', 'Mining-the-Social-Web(repo)'), (u'jonathanjo(user)', 'Mining-the-Social-Web(repo)'), (u'knapsack(user)', 'Mining-the-Social-Web(repo)'), (u'gdberrio(user)', 'Mining-the-Social-Web(repo)'), (u'nava45(user)', 'Mining-the-Social-Web(repo)'), (u'srinatar(user)', 'Mining-the-Social-Web(repo)'), (u'skotwani(user)', 'Mining-the-Social-Web(repo)'), (u'antiface(user)', 'Mining-the-Social-Web(repo)'), (u'marksands(user)', 'Mining-the-Social-Web(repo)'), (u'abousha(user)', 'Mining-the-Social-Web(repo)'), (u'cpyo(user)', 'Mining-the-Social-Web(repo)'), (u'TaulantRamabaja(user)', 'Mining-the-Social-Web(repo)'), (u'sudar(user)', 'Mining-the-Social-Web(repo)'), (u'cpatni(user)', 'Mining-the-Social-Web(repo)'), (u'clyfe(user)', 'Mining-the-Social-Web(repo)'), (u'gaohailang(user)', 'Mining-the-Social-Web(repo)'), (u'chuckchen(user)', 'Mining-the-Social-Web(repo)'), (u'moutai(user)', 'Mining-the-Social-Web(repo)'), (u'Tvli(user)', 'Mining-the-Social-Web(repo)'), (u'tejasc(user)', 'Mining-the-Social-Web(repo)'), (u'shaunc(user)', 'Mining-the-Social-Web(repo)'), (u'haraball(user)', 'Mining-the-Social-Web(repo)'), (u'hackerway(user)', 'Mining-the-Social-Web(repo)'), (u'bjpcjp(user)', 'Mining-the-Social-Web(repo)'), (u'Jason-Chan(user)', 'Mining-the-Social-Web(repo)'), (u'tomconte(user)', 'Mining-the-Social-Web(repo)'), (u'swix(user)', 'Mining-the-Social-Web(repo)'), (u'Eagles2F(user)', 'Mining-the-Social-Web(repo)'), (u'ayaniimi213(user)', 'Mining-the-Social-Web(repo)'), (u'JT5D(user)', 'Mining-the-Social-Web(repo)'), (u'yeeyou(user)', 'Mining-the-Social-Web(repo)'), (u'clwen(user)', 'Mining-the-Social-Web(repo)'), (u'Arthraim(user)', 'Mining-the-Social-Web(repo)'), (u'srbjwe(user)', 'Mining-the-Social-Web(repo)'), (u'gui11aume(user)', 'Mining-the-Social-Web(repo)'), (u'immersinn(user)', 'Mining-the-Social-Web(repo)'), (u'suzuki(user)', 'Mining-the-Social-Web(repo)'), (u'sjwilliams(user)', 'Mining-the-Social-Web(repo)'), (u'dream4j(user)', 'Mining-the-Social-Web(repo)'), (u'zmughal(user)', 'Mining-the-Social-Web(repo)'), (u'antiviruser(user)', 'Mining-the-Social-Web(repo)'), (u'abuiles(user)', 'Mining-the-Social-Web(repo)'), (u'utitled(user)', 'Mining-the-Social-Web(repo)'), (u'aronlindberg(user)', 'Mining-the-Social-Web(repo)'), (u'zavg(user)', 'Mining-the-Social-Web(repo)'), (u'divyakkm(user)', 'Mining-the-Social-Web(repo)'), (u'slacy(user)', 'Mining-the-Social-Web(repo)'), (u'richallensf(user)', 'Mining-the-Social-Web(repo)'), (u'ayakix(user)', 'Mining-the-Social-Web(repo)'), (u'rayleyva(user)', 'Mining-the-Social-Web(repo)'), (u'barce(user)', 'Mining-the-Social-Web(repo)'), (u'azarbakht(user)', 'Mining-the-Social-Web(repo)'), (u'bigsnarfdude(user)', 'Mining-the-Social-Web(repo)'), (u'lyddonb(user)', 'Mining-the-Social-Web(repo)'), (u'c0der007(user)', 'Mining-the-Social-Web(repo)'), (u'cmarat(user)', 'Mining-the-Social-Web(repo)'), (u'joshbhamilton(user)', 'Mining-the-Social-Web(repo)'), (u'tomze(user)', 'Mining-the-Social-Web(repo)'), (u'frfeni(user)', 'Mining-the-Social-Web(repo)'), (u'maurorodrigues(user)', 'Mining-the-Social-Web(repo)'), (u'yangdahui(user)', 'Mining-the-Social-Web(repo)'), (u'megansquire(user)', 'Mining-the-Social-Web(repo)'), (u'sraghav(user)', 'Mining-the-Social-Web(repo)'), (u'tracyliang18(user)', 'Mining-the-Social-Web(repo)'), (u'srspear(user)', 'Mining-the-Social-Web(repo)'), (u'phildionne(user)', 'Mining-the-Social-Web(repo)'), (u'oskar-j(user)', 'Mining-the-Social-Web(repo)'), (u'yankay(user)', 'Mining-the-Social-Web(repo)'), (u'nbyloff(user)', 'Mining-the-Social-Web(repo)'), (u'jrstanley(user)', 'Mining-the-Social-Web(repo)'), (u'claudeck(user)', 'Mining-the-Social-Web(repo)')]\n",
        "[]\n"
       ]
      }
     ],
     "prompt_number": 13
    },
    {
     "cell_type": "heading",
     "level": 2,
     "metadata": {},
     "source": [
      "Example 7. Calculating degree, betweenness, and closeness centrality measures on the Krackhardt kite graph"
     ]
    },
    {
     "cell_type": "code",
     "collapsed": false,
     "input": [
      "from operator import itemgetter\n",
      "from IPython.display import HTML\n",
      "from IPython.core.display import display\n",
      "\n",
      "display(HTML('<img src=\"files/resources/ch07-github/kite-graph.png\" width=\"400px\">'))\n",
      "\n",
      "# The classic Krackhardt kite graph\n",
      "kkg = nx.generators.small.krackhardt_kite_graph()\n",
      "\n",
      "print \"Degree Centrality\"\n",
      "print sorted(nx.degree_centrality(kkg).items(), \n",
      "             key=itemgetter(1), reverse=True)\n",
      "print\n",
      "\n",
      "print \"Betweenness Centrality\"\n",
      "print sorted(nx.betweenness_centrality(kkg).items(), \n",
      "             key=itemgetter(1), reverse=True)\n",
      "print\n",
      "\n",
      "print \"Closeness Centrality\"\n",
      "print sorted(nx.closeness_centrality(kkg).items(), \n",
      "             key=itemgetter(1), reverse=True)"
     ],
     "language": "python",
     "metadata": {},
     "outputs": [
      {
       "html": [
        "<img src=\"files/resources/ch07-github/kite-graph.png\" width=\"400px\">"
       ],
       "metadata": {},
       "output_type": "display_data",
       "text": [
        "<IPython.core.display.HTML at 0xa32bd0c>"
       ]
      },
      {
       "output_type": "stream",
       "stream": "stdout",
       "text": [
        "Degree Centrality\n",
        "[(3, 0.6666666666666666), (5, 0.5555555555555556), (6, 0.5555555555555556), (0, 0.4444444444444444), (1, 0.4444444444444444), (2, 0.3333333333333333), (4, 0.3333333333333333), (7, 0.3333333333333333), (8, 0.2222222222222222), (9, 0.1111111111111111)]\n",
        "\n",
        "Betweenness Centrality\n",
        "[(7, 0.38888888888888884), (5, 0.23148148148148148), (6, 0.23148148148148148), (8, 0.2222222222222222), (3, 0.10185185185185183), (0, 0.023148148148148143), (1, 0.023148148148148143), (2, 0.0), (4, 0.0), (9, 0.0)]\n",
        "\n",
        "Closeness Centrality\n",
        "[(5, 0.6428571428571429), (6, 0.6428571428571429), (3, 0.6), (7, 0.6), (0, 0.5294117647058824), (1, 0.5294117647058824), (2, 0.5), (4, 0.5), (8, 0.42857142857142855), (9, 0.3103448275862069)]\n"
       ]
      }
     ],
     "prompt_number": 16
    },
    {
     "cell_type": "heading",
     "level": 2,
     "metadata": {},
     "source": [
      "Example 8. Adding additional interest edges to the graph through the inclusion of \"follows\" edges"
     ]
    },
    {
     "cell_type": "code",
     "collapsed": false,
     "input": [
      "# Add (social) edges from the stargazers' followers. This can take a while \n",
      "# because of all of the potential API calls to GitHub. The approximate number\n",
      "# of requests for followers for each iteration of this loop can be calculated as\n",
      "# math.ceil(sg.get_followers() / 100.0) per the API returning up to 100 items\n",
      "# at a time.\n",
      "\n",
      "import sys\n",
      "\n",
      "for i, sg in enumerate(stargazers):\n",
      "    \n",
      "    # Add \"follows\" edges between stargazers in the graph if any relationships exist\n",
      "    try:\n",
      "        for follower in sg.get_followers():\n",
      "            if follower.login + '(user)' in g:\n",
      "                g.add_edge(follower.login + '(user)', sg.login + '(user)', \n",
      "                           type='follows')\n",
      "    except Exception, e: #ssl.SSLError\n",
      "        print >> sys.stderr, \"Encountered an error fetching followers for\", \\\n",
      "                             sg.login, \"Skipping.\"\n",
      "        print >> sys.stderr, e\n",
      "\n",
      "    print \"Processed\", i+1, \" stargazers. Num nodes/edges in graph\", \\\n",
      "          g.number_of_nodes(), \"/\", g.number_of_edges()\n",
      "    print \"Rate limit remaining\", client.rate_limiting"
     ],
     "language": "python",
     "metadata": {},
     "outputs": [
      {
       "output_type": "stream",
       "stream": "stdout",
       "text": [
        "Processed 1  stargazers. Num nodes/edges in graph 947 / 946\n",
        "Rate limit remaining (4980, 5000)\n",
        "Processed"
       ]
      },
      {
       "output_type": "stream",
       "stream": "stdout",
       "text": [
        " 2  stargazers. Num nodes/edges in graph 947 / 948\n",
        "Rate limit remaining (4979, 5000)\n",
        "Processed"
       ]
      },
      {
       "output_type": "stream",
       "stream": "stdout",
       "text": [
        " 3  stargazers. Num nodes/edges in graph 947 / 948\n",
        "Rate limit remaining (4978, 5000)\n",
        "Processed"
       ]
      },
      {
       "output_type": "stream",
       "stream": "stdout",
       "text": [
        " 4  stargazers. Num nodes/edges in graph 947 / 953\n",
        "Rate limit remaining (4976, 5000)\n",
        "Processed"
       ]
      },
      {
       "output_type": "stream",
       "stream": "stdout",
       "text": [
        " 5  stargazers. Num nodes/edges in graph 947 / 954\n",
        "Rate limit remaining (4975, 5000)\n",
        "Processed"
       ]
      },
      {
       "output_type": "stream",
       "stream": "stdout",
       "text": [
        " 6  stargazers. Num nodes/edges in graph 947 / 956\n",
        "Rate limit remaining (4974, 5000)\n",
        "Processed"
       ]
      },
      {
       "output_type": "stream",
       "stream": "stdout",
       "text": [
        " 7  stargazers. Num nodes/edges in graph 947 / 956\n",
        "Rate limit remaining (4973, 5000)\n",
        "Processed"
       ]
      },
      {
       "output_type": "stream",
       "stream": "stdout",
       "text": [
        " 8  stargazers. Num nodes/edges in graph 947 / 958\n",
        "Rate limit remaining (4972, 5000)\n",
        "Processed"
       ]
      },
      {
       "output_type": "stream",
       "stream": "stdout",
       "text": [
        " 9  stargazers. Num nodes/edges in graph 947 / 964\n",
        "Rate limit remaining (4969, 5000)\n",
        "Processed"
       ]
      },
      {
       "output_type": "stream",
       "stream": "stdout",
       "text": [
        " 10  stargazers. Num nodes/edges in graph 947 / 964\n",
        "Rate limit remaining (4968, 5000)\n",
        "Processed"
       ]
      },
      {
       "output_type": "stream",
       "stream": "stdout",
       "text": [
        " 11  stargazers. Num nodes/edges in graph 947 / 964\n",
        "Rate limit remaining (4967, 5000)\n",
        "Processed"
       ]
      },
      {
       "output_type": "stream",
       "stream": "stdout",
       "text": [
        " 12  stargazers. Num nodes/edges in graph 947 / 965\n",
        "Rate limit remaining (4966, 5000)\n",
        "Processed"
       ]
      },
      {
       "output_type": "stream",
       "stream": "stdout",
       "text": [
        " 13  stargazers. Num nodes/edges in graph 947 / 967\n",
        "Rate limit remaining (4965, 5000)\n",
        "Processed"
       ]
      },
      {
       "output_type": "stream",
       "stream": "stdout",
       "text": [
        " 14  stargazers. Num nodes/edges in graph 947 / 967\n",
        "Rate limit remaining (4964, 5000)\n",
        "Processed"
       ]
      },
      {
       "output_type": "stream",
       "stream": "stdout",
       "text": [
        " 15  stargazers. Num nodes/edges in graph 947 / 968\n",
        "Rate limit remaining (4963, 5000)\n",
        "Processed"
       ]
      },
      {
       "output_type": "stream",
       "stream": "stdout",
       "text": [
        " 16  stargazers. Num nodes/edges in graph 947 / 973\n",
        "Rate limit remaining (4962, 5000)\n",
        "Processed"
       ]
      },
      {
       "output_type": "stream",
       "stream": "stdout",
       "text": [
        " 17  stargazers. Num nodes/edges in graph 947 / 973\n",
        "Rate limit remaining (4961, 5000)\n",
        "Processed"
       ]
      },
      {
       "output_type": "stream",
       "stream": "stdout",
       "text": [
        " 18  stargazers. Num nodes/edges in graph 947 / 975\n",
        "Rate limit remaining (4960, 5000)\n",
        "Processed"
       ]
      },
      {
       "output_type": "stream",
       "stream": "stdout",
       "text": [
        " 19  stargazers. Num nodes/edges in graph 947 / 977\n",
        "Rate limit remaining (4959, 5000)\n",
        "Processed"
       ]
      },
      {
       "output_type": "stream",
       "stream": "stdout",
       "text": [
        " 20  stargazers. Num nodes/edges in graph 947 / 979\n",
        "Rate limit remaining (4958, 5000)\n",
        "Processed"
       ]
      },
      {
       "output_type": "stream",
       "stream": "stdout",
       "text": [
        " 21  stargazers. Num nodes/edges in graph 947 / 980\n",
        "Rate limit remaining (4956, 5000)\n",
        "Processed"
       ]
      },
      {
       "output_type": "stream",
       "stream": "stdout",
       "text": [
        " 22  stargazers. Num nodes/edges in graph 947 / 980\n",
        "Rate limit remaining (4955, 5000)\n",
        "Processed"
       ]
      },
      {
       "output_type": "stream",
       "stream": "stdout",
       "text": [
        " 23  stargazers. Num nodes/edges in graph 947 / 980\n",
        "Rate limit remaining (4954, 5000)\n",
        "Processed"
       ]
      },
      {
       "output_type": "stream",
       "stream": "stdout",
       "text": [
        " 24  stargazers. Num nodes/edges in graph 947 / 982\n",
        "Rate limit remaining (4953, 5000)\n",
        "Processed"
       ]
      },
      {
       "output_type": "stream",
       "stream": "stdout",
       "text": [
        " 25  stargazers. Num nodes/edges in graph 947 / 982\n",
        "Rate limit remaining (4952, 5000)\n",
        "Processed"
       ]
      },
      {
       "output_type": "stream",
       "stream": "stdout",
       "text": [
        " 26  stargazers. Num nodes/edges in graph 947 / 983\n",
        "Rate limit remaining (4951, 5000)\n",
        "Processed"
       ]
      },
      {
       "output_type": "stream",
       "stream": "stdout",
       "text": [
        " 27  stargazers. Num nodes/edges in graph 947 / 985\n",
        "Rate limit remaining (4950, 5000)\n",
        "Processed"
       ]
      },
      {
       "output_type": "stream",
       "stream": "stdout",
       "text": [
        " 28  stargazers. Num nodes/edges in graph 947 / 988\n",
        "Rate limit remaining (4949, 5000)\n",
        "Processed"
       ]
      },
      {
       "output_type": "stream",
       "stream": "stdout",
       "text": [
        " 29  stargazers. Num nodes/edges in graph 947 / 988\n",
        "Rate limit remaining (4948, 5000)\n",
        "Processed"
       ]
      },
      {
       "output_type": "stream",
       "stream": "stdout",
       "text": [
        " 30  stargazers. Num nodes/edges in graph 947 / 989\n",
        "Rate limit remaining (4947, 5000)\n",
        "Processed"
       ]
      },
      {
       "output_type": "stream",
       "stream": "stdout",
       "text": [
        " 31  stargazers. Num nodes/edges in graph 947 / 989\n",
        "Rate limit remaining (4946, 5000)\n",
        "Processed"
       ]
      },
      {
       "output_type": "stream",
       "stream": "stdout",
       "text": [
        " 32  stargazers. Num nodes/edges in graph 947 / 989\n",
        "Rate limit remaining (4945, 5000)\n",
        "Processed"
       ]
      },
      {
       "output_type": "stream",
       "stream": "stdout",
       "text": [
        " 33  stargazers. Num nodes/edges in graph 947 / 989\n",
        "Rate limit remaining (4944, 5000)\n",
        "Processed"
       ]
      },
      {
       "output_type": "stream",
       "stream": "stdout",
       "text": [
        " 34  stargazers. Num nodes/edges in graph 947 / 990\n",
        "Rate limit remaining (4943, 5000)\n",
        "Processed"
       ]
      },
      {
       "output_type": "stream",
       "stream": "stdout",
       "text": [
        " 35  stargazers. Num nodes/edges in graph 947 / 1004\n",
        "Rate limit remaining (4940, 5000)\n",
        "Processed"
       ]
      },
      {
       "output_type": "stream",
       "stream": "stdout",
       "text": [
        " 36  stargazers. Num nodes/edges in graph 947 / 1004\n",
        "Rate limit remaining (4939, 5000)\n",
        "Processed"
       ]
      },
      {
       "output_type": "stream",
       "stream": "stdout",
       "text": [
        " 37  stargazers. Num nodes/edges in graph 947 / 1005\n",
        "Rate limit remaining (4938, 5000)\n",
        "Processed"
       ]
      },
      {
       "output_type": "stream",
       "stream": "stdout",
       "text": [
        " 38  stargazers. Num nodes/edges in graph 947 / 1005\n",
        "Rate limit remaining (4937, 5000)\n",
        "Processed"
       ]
      },
      {
       "output_type": "stream",
       "stream": "stdout",
       "text": [
        " 39  stargazers. Num nodes/edges in graph 947 / 1009\n",
        "Rate limit remaining (4935, 5000)\n",
        "Processed"
       ]
      },
      {
       "output_type": "stream",
       "stream": "stdout",
       "text": [
        " 40  stargazers. Num nodes/edges in graph 947 / "
       ]
      },
      {
       "output_type": "stream",
       "stream": "stdout",
       "text": [
        "1011\n",
        "Rate limit remaining (4934, 5000)\n",
        "Processed"
       ]
      },
      {
       "output_type": "stream",
       "stream": "stdout",
       "text": [
        " 41  stargazers. Num nodes/edges in graph 947 / 1011\n",
        "Rate limit remaining (4933, 5000)\n",
        "Processed"
       ]
      },
      {
       "output_type": "stream",
       "stream": "stdout",
       "text": [
        " 42  stargazers. Num nodes/edges in graph 947 / 1012\n",
        "Rate limit remaining (4932, 5000)\n",
        "Processed"
       ]
      },
      {
       "output_type": "stream",
       "stream": "stdout",
       "text": [
        " 43  stargazers. Num nodes/edges in graph 947 / 1015\n",
        "Rate limit remaining (4931, 5000)\n",
        "Processed"
       ]
      },
      {
       "output_type": "stream",
       "stream": "stdout",
       "text": [
        " 44  stargazers. Num nodes/edges in graph 947 / 1015\n",
        "Rate limit remaining (4930, 5000)\n",
        "Processed"
       ]
      },
      {
       "output_type": "stream",
       "stream": "stdout",
       "text": [
        " 45  stargazers. Num nodes/edges in graph 947 / 1016\n",
        "Rate limit remaining (4929, 5000)\n",
        "Processed"
       ]
      },
      {
       "output_type": "stream",
       "stream": "stdout",
       "text": [
        " 46  stargazers. Num nodes/edges in graph 947 / 1017\n",
        "Rate limit remaining (4928, 5000)\n",
        "Processed"
       ]
      },
      {
       "output_type": "stream",
       "stream": "stdout",
       "text": [
        " 47  stargazers. Num nodes/edges in graph 947 / 1020\n",
        "Rate limit remaining (4926, 5000)\n",
        "Processed"
       ]
      },
      {
       "output_type": "stream",
       "stream": "stdout",
       "text": [
        " 48  stargazers. Num nodes/edges in graph 947 / 1020\n",
        "Rate limit remaining (4925, 5000)\n",
        "Processed"
       ]
      },
      {
       "output_type": "stream",
       "stream": "stdout",
       "text": [
        " 49  stargazers. Num nodes/edges in graph 947 / 1020\n",
        "Rate limit remaining (4924, 5000)\n",
        "Processed"
       ]
      },
      {
       "output_type": "stream",
       "stream": "stdout",
       "text": [
        " 50  stargazers. Num nodes/edges in graph 947 / 1020\n",
        "Rate limit remaining (4923, 5000)\n",
        "Processed"
       ]
      },
      {
       "output_type": "stream",
       "stream": "stdout",
       "text": [
        " 51  stargazers. Num nodes/edges in graph 947 / 1021\n",
        "Rate limit remaining (4922, 5000)\n",
        "Processed"
       ]
      },
      {
       "output_type": "stream",
       "stream": "stdout",
       "text": [
        " 52  stargazers. Num nodes/edges in graph 947 / 1021\n",
        "Rate limit remaining (4921, 5000)\n",
        "Processed"
       ]
      },
      {
       "output_type": "stream",
       "stream": "stdout",
       "text": [
        " 53  stargazers. Num nodes/edges in graph 947 / 1021\n",
        "Rate limit remaining (4920, 5000)\n",
        "Processed"
       ]
      },
      {
       "output_type": "stream",
       "stream": "stdout",
       "text": [
        " 54  stargazers. Num nodes/edges in graph 947 / 1022\n",
        "Rate limit remaining (4919, 5000)\n",
        "Processed"
       ]
      },
      {
       "output_type": "stream",
       "stream": "stdout",
       "text": [
        " 55  stargazers. Num nodes/edges in graph 947 / 1022\n",
        "Rate limit remaining (4918, 5000)\n",
        "Processed"
       ]
      },
      {
       "output_type": "stream",
       "stream": "stdout",
       "text": [
        " 56  stargazers. Num nodes/edges in graph 947 / 1022\n",
        "Rate limit remaining (4917, 5000)\n",
        "Processed"
       ]
      },
      {
       "output_type": "stream",
       "stream": "stdout",
       "text": [
        " 57  stargazers. Num nodes/edges in graph 947 / 1022\n",
        "Rate limit remaining (4916, 5000)\n",
        "Processed"
       ]
      },
      {
       "output_type": "stream",
       "stream": "stdout",
       "text": [
        " 58  stargazers. Num nodes/edges in graph 947 / 1022\n",
        "Rate limit remaining (4915, 5000)\n",
        "Processed"
       ]
      },
      {
       "output_type": "stream",
       "stream": "stdout",
       "text": [
        " 59  stargazers. Num nodes/edges in graph 947 / 1023\n",
        "Rate limit remaining (4914, 5000)\n",
        "Processed"
       ]
      },
      {
       "output_type": "stream",
       "stream": "stdout",
       "text": [
        " 60  stargazers. Num nodes/edges in graph 947 / 1025\n",
        "Rate limit remaining (4913, 5000)\n",
        "Processed"
       ]
      },
      {
       "output_type": "stream",
       "stream": "stdout",
       "text": [
        " 61  stargazers. Num nodes/edges in graph 947 / 1025\n",
        "Rate limit remaining (4912, 5000)\n",
        "Processed"
       ]
      },
      {
       "output_type": "stream",
       "stream": "stdout",
       "text": [
        " 62  stargazers. Num nodes/edges in graph 947 / 1025\n",
        "Rate limit remaining (4911, 5000)\n",
        "Processed"
       ]
      },
      {
       "output_type": "stream",
       "stream": "stdout",
       "text": [
        " 63  stargazers. Num nodes/edges in graph 947 / 1025\n",
        "Rate limit remaining (4910, 5000)\n",
        "Processed"
       ]
      },
      {
       "output_type": "stream",
       "stream": "stdout",
       "text": [
        " 64  stargazers. Num nodes/edges in graph 947 / 1026\n",
        "Rate limit remaining (4909, 5000)\n",
        "Processed"
       ]
      },
      {
       "output_type": "stream",
       "stream": "stdout",
       "text": [
        " 65  stargazers. Num nodes/edges in graph 947 / 1026\n",
        "Rate limit remaining (4908, 5000)\n",
        "Processed"
       ]
      },
      {
       "output_type": "stream",
       "stream": "stdout",
       "text": [
        " 66  stargazers. Num nodes/edges in graph 947 / 1026\n",
        "Rate limit remaining (4907, 5000)\n",
        "Processed"
       ]
      },
      {
       "output_type": "stream",
       "stream": "stdout",
       "text": [
        " 67  stargazers. Num nodes/edges in graph 947 / 1026\n",
        "Rate limit remaining (4906, 5000)\n",
        "Processed"
       ]
      },
      {
       "output_type": "stream",
       "stream": "stdout",
       "text": [
        " 68  stargazers. Num nodes/edges in graph 947 / 1026\n",
        "Rate limit remaining (4905, 5000)\n",
        "Processed"
       ]
      },
      {
       "output_type": "stream",
       "stream": "stdout",
       "text": [
        " 69  stargazers. Num nodes/edges in graph 947 / 1027\n",
        "Rate limit remaining (4904, 5000)\n",
        "Processed"
       ]
      },
      {
       "output_type": "stream",
       "stream": "stdout",
       "text": [
        " 70  stargazers. Num nodes/edges in graph 947 / 1027\n",
        "Rate limit remaining (4903, 5000)\n",
        "Processed"
       ]
      },
      {
       "output_type": "stream",
       "stream": "stdout",
       "text": [
        " 71  stargazers. Num nodes/edges in graph 947 / 1029\n",
        "Rate limit remaining (4902, 5000)\n",
        "Processed"
       ]
      },
      {
       "output_type": "stream",
       "stream": "stdout",
       "text": [
        " 72  stargazers. Num nodes/edges in graph 947 / 1032\n",
        "Rate limit remaining (4901, 5000)\n",
        "Processed"
       ]
      },
      {
       "output_type": "stream",
       "stream": "stdout",
       "text": [
        " 73  stargazers. Num nodes/edges in graph 947 / 1032\n",
        "Rate limit remaining (4900, 5000)\n",
        "Processed"
       ]
      },
      {
       "output_type": "stream",
       "stream": "stdout",
       "text": [
        " 74  stargazers. Num nodes/edges in graph 947 / 1034\n",
        "Rate limit remaining (4899, 5000)\n",
        "Processed"
       ]
      },
      {
       "output_type": "stream",
       "stream": "stdout",
       "text": [
        " 75  stargazers. Num nodes/edges in graph 947 / 1035\n",
        "Rate limit remaining (4898, 5000)\n",
        "Processed"
       ]
      },
      {
       "output_type": "stream",
       "stream": "stdout",
       "text": [
        " 76  stargazers. Num nodes/edges in graph 947 / 1036\n",
        "Rate limit remaining (4897, 5000)\n",
        "Processed"
       ]
      },
      {
       "output_type": "stream",
       "stream": "stdout",
       "text": [
        " 77  stargazers. Num nodes/edges in graph 947 / 1041\n",
        "Rate limit remaining (4895, 5000)\n",
        "Processed"
       ]
      },
      {
       "output_type": "stream",
       "stream": "stdout",
       "text": [
        " 78  stargazers. Num nodes/edges in graph 947 / 1044\n",
        "Rate limit remaining (4893, 5000)\n",
        "Processed"
       ]
      },
      {
       "output_type": "stream",
       "stream": "stdout",
       "text": [
        " 79  stargazers. Num nodes/edges in graph 947 / 1044\n",
        "Rate limit remaining (4892, 5000)\n",
        "Processed"
       ]
      },
      {
       "output_type": "stream",
       "stream": "stdout",
       "text": [
        " 80  stargazers. Num nodes/edges in graph 947 / 1044\n",
        "Rate limit remaining (4891, 5000)\n",
        "Processed"
       ]
      },
      {
       "output_type": "stream",
       "stream": "stdout",
       "text": [
        " 81  stargazers. Num nodes/edges in graph 947 / 1046\n",
        "Rate limit remaining (4890, 5000)\n",
        "Processed"
       ]
      },
      {
       "output_type": "stream",
       "stream": "stdout",
       "text": [
        " 82  stargazers. Num nodes/edges in graph 947 / 1046\n",
        "Rate limit remaining (4889, 5000)\n",
        "Processed"
       ]
      },
      {
       "output_type": "stream",
       "stream": "stdout",
       "text": [
        " 83  stargazers. Num nodes/edges in graph 947 / 1047\n",
        "Rate limit remaining (4888, 5000)\n",
        "Processed"
       ]
      },
      {
       "output_type": "stream",
       "stream": "stdout",
       "text": [
        " 84  stargazers. Num nodes/edges in graph 947 / 1048\n",
        "Rate limit remaining (4887, 5000)\n",
        "Processed"
       ]
      },
      {
       "output_type": "stream",
       "stream": "stdout",
       "text": [
        " 85  stargazers. Num nodes/edges in graph 947 / 1054\n",
        "Rate limit remaining (4885, 5000)\n",
        "Processed"
       ]
      },
      {
       "output_type": "stream",
       "stream": "stdout",
       "text": [
        " 86  stargazers. Num nodes/edges in graph 947 / 1055\n",
        "Rate limit remaining (4884, 5000)\n",
        "Processed"
       ]
      },
      {
       "output_type": "stream",
       "stream": "stdout",
       "text": [
        " 87  stargazers. Num nodes/edges in graph 947 / 1055\n",
        "Rate limit remaining (4883, 5000)\n",
        "Processed"
       ]
      },
      {
       "output_type": "stream",
       "stream": "stdout",
       "text": [
        " 88  stargazers. Num nodes/edges in graph 947 / 1056\n",
        "Rate limit remaining (4882, 5000)\n",
        "Processed"
       ]
      },
      {
       "output_type": "stream",
       "stream": "stdout",
       "text": [
        " 89  stargazers. Num nodes/edges in graph 947 / 1059\n",
        "Rate limit remaining (4881, 5000)\n",
        "Processed"
       ]
      },
      {
       "output_type": "stream",
       "stream": "stdout",
       "text": [
        " 90  stargazers. Num nodes/edges in graph 947 / 1062\n",
        "Rate limit remaining (4880, 5000)\n",
        "Processed"
       ]
      },
      {
       "output_type": "stream",
       "stream": "stdout",
       "text": [
        " 91  stargazers. Num nodes/edges in graph 947 / 1062\n",
        "Rate limit remaining (4879, 5000)\n",
        "Processed"
       ]
      },
      {
       "output_type": "stream",
       "stream": "stdout",
       "text": [
        " 92  stargazers. Num nodes/edges in graph 947 / 1064\n",
        "Rate limit remaining (4878, 5000)\n",
        "Processed"
       ]
      },
      {
       "output_type": "stream",
       "stream": "stdout",
       "text": [
        " 93  stargazers. Num nodes/edges in graph 947 / 1064\n",
        "Rate limit remaining (4877, 5000)\n",
        "Processed"
       ]
      },
      {
       "output_type": "stream",
       "stream": "stdout",
       "text": [
        " 94  stargazers. Num nodes/edges in graph 947 / 1065\n",
        "Rate limit remaining (4876, 5000)\n",
        "Processed"
       ]
      },
      {
       "output_type": "stream",
       "stream": "stdout",
       "text": [
        " 95  stargazers. Num nodes/edges in graph 947 / 1065\n",
        "Rate limit remaining (4875, 5000)\n",
        "Processed"
       ]
      },
      {
       "output_type": "stream",
       "stream": "stdout",
       "text": [
        " 96  stargazers. Num nodes/edges in graph 947 / 1066\n",
        "Rate limit remaining (4874, 5000)\n",
        "Processed"
       ]
      },
      {
       "output_type": "stream",
       "stream": "stdout",
       "text": [
        " 97  stargazers. Num nodes/edges in graph 947 / 1066\n",
        "Rate limit remaining (4873, 5000)\n",
        "Processed"
       ]
      },
      {
       "output_type": "stream",
       "stream": "stdout",
       "text": [
        " 98  stargazers. Num nodes/edges in graph 947 / 1066\n",
        "Rate limit remaining (4872, 5000)\n",
        "Processed"
       ]
      },
      {
       "output_type": "stream",
       "stream": "stdout",
       "text": [
        " 99  stargazers. Num nodes/edges in graph 947 / 1066\n",
        "Rate limit remaining (4871, 5000)\n",
        "Processed"
       ]
      },
      {
       "output_type": "stream",
       "stream": "stdout",
       "text": [
        " 100  stargazers. Num nodes/edges in graph 947 / 1070\n",
        "Rate limit remaining (4868, 5000)\n",
        "Processed"
       ]
      },
      {
       "output_type": "stream",
       "stream": "stdout",
       "text": [
        " 101  stargazers. Num nodes/edges in graph 947 / 1071\n",
        "Rate limit remaining (4867, 5000)\n",
        "Processed"
       ]
      },
      {
       "output_type": "stream",
       "stream": "stdout",
       "text": [
        " 102  stargazers. Num nodes/edges in graph 947 / 1071\n",
        "Rate limit remaining (4866, 5000)\n",
        "Processed"
       ]
      },
      {
       "output_type": "stream",
       "stream": "stdout",
       "text": [
        " 103  stargazers. Num nodes/edges in graph 947 / 1074\n",
        "Rate limit remaining (4864, 5000)\n",
        "Processed"
       ]
      },
      {
       "output_type": "stream",
       "stream": "stdout",
       "text": [
        " 104  stargazers. Num nodes/edges in graph 947 / 1074\n",
        "Rate limit remaining (4863, 5000)\n",
        "Processed"
       ]
      },
      {
       "output_type": "stream",
       "stream": "stdout",
       "text": [
        " 105  stargazers. Num nodes/edges in graph 947 / 1074\n",
        "Rate limit remaining (4862, 5000)\n",
        "Processed"
       ]
      },
      {
       "output_type": "stream",
       "stream": "stdout",
       "text": [
        " 106  stargazers. Num nodes/edges in graph 947 / 1074\n",
        "Rate limit remaining (4861, 5000)\n",
        "Processed"
       ]
      },
      {
       "output_type": "stream",
       "stream": "stdout",
       "text": [
        " 107  stargazers. Num nodes/edges in graph 947 / 1075\n",
        "Rate limit remaining (4860, 5000)\n",
        "Processed"
       ]
      },
      {
       "output_type": "stream",
       "stream": "stdout",
       "text": [
        " 108  stargazers. Num nodes/edges in graph 947 / 1075\n",
        "Rate limit remaining (4859, 5000)\n",
        "Processed"
       ]
      },
      {
       "output_type": "stream",
       "stream": "stdout",
       "text": [
        " 109  stargazers. Num nodes/edges in graph 947 / 1075\n",
        "Rate limit remaining (4858, 5000)\n",
        "Processed"
       ]
      },
      {
       "output_type": "stream",
       "stream": "stdout",
       "text": [
        " 110  stargazers. Num nodes/edges in graph 947 / 1075\n",
        "Rate limit remaining (4857, 5000)\n",
        "Processed"
       ]
      },
      {
       "output_type": "stream",
       "stream": "stdout",
       "text": [
        " 111  stargazers. Num nodes/edges in graph 947 / 1075\n",
        "Rate limit remaining (4856, 5000)\n",
        "Processed"
       ]
      },
      {
       "output_type": "stream",
       "stream": "stdout",
       "text": [
        " 112  stargazers. Num nodes/edges in graph 947 / 1075\n",
        "Rate limit remaining (4855, 5000)\n",
        "Processed"
       ]
      },
      {
       "output_type": "stream",
       "stream": "stdout",
       "text": [
        " 113  stargazers. Num nodes/edges in graph 947 / 1075\n",
        "Rate limit remaining (4854, 5000)\n",
        "Processed"
       ]
      },
      {
       "output_type": "stream",
       "stream": "stdout",
       "text": [
        " 114  stargazers. Num nodes/edges in graph 947 / 1078\n",
        "Rate limit remaining (4853, 5000)\n",
        "Processed"
       ]
      },
      {
       "output_type": "stream",
       "stream": "stdout",
       "text": [
        " 115  stargazers. Num nodes/edges in graph 947 / 1078\n",
        "Rate limit remaining (4852, 5000)\n",
        "Processed"
       ]
      },
      {
       "output_type": "stream",
       "stream": "stdout",
       "text": [
        " 116  stargazers. Num nodes/edges in graph 947 / 1081\n",
        "Rate limit remaining (4851, 5000)\n",
        "Processed"
       ]
      },
      {
       "output_type": "stream",
       "stream": "stdout",
       "text": [
        " 117  stargazers. Num nodes/edges in graph 947 / 1081\n",
        "Rate limit remaining (4850, 5000)\n",
        "Processed"
       ]
      },
      {
       "output_type": "stream",
       "stream": "stdout",
       "text": [
        " 118  stargazers. Num nodes/edges in graph 947 / 1085\n",
        "Rate limit remaining (4849, 5000)\n",
        "Processed"
       ]
      },
      {
       "output_type": "stream",
       "stream": "stdout",
       "text": [
        " 119  stargazers. Num nodes/edges in graph 947 / 1085\n",
        "Rate limit remaining (4848, 5000)\n",
        "Processed"
       ]
      },
      {
       "output_type": "stream",
       "stream": "stdout",
       "text": [
        " 120  stargazers. Num nodes/edges in graph 947 / 1085\n",
        "Rate limit remaining (4847, 5000)\n",
        "Processed"
       ]
      },
      {
       "output_type": "stream",
       "stream": "stdout",
       "text": [
        " 121  stargazers. Num nodes/edges in graph 947 / 1085\n",
        "Rate limit remaining (4846, 5000)\n",
        "Processed"
       ]
      },
      {
       "output_type": "stream",
       "stream": "stdout",
       "text": [
        " 122  stargazers. Num nodes/edges in graph 947 / 1089\n",
        "Rate limit remaining (4845, 5000)\n",
        "Processed"
       ]
      },
      {
       "output_type": "stream",
       "stream": "stdout",
       "text": [
        " 123  stargazers. Num nodes/edges in graph 947 / 1090\n",
        "Rate limit remaining (4843, 5000)\n",
        "Processed"
       ]
      },
      {
       "output_type": "stream",
       "stream": "stdout",
       "text": [
        " 124  stargazers. Num nodes/edges in graph 947 / 1092\n",
        "Rate limit remaining (4842, 5000)\n",
        "Processed"
       ]
      },
      {
       "output_type": "stream",
       "stream": "stdout",
       "text": [
        " 125  stargazers. Num nodes/edges in graph 947 / 1092\n",
        "Rate limit remaining (4841, 5000)\n",
        "Processed"
       ]
      },
      {
       "output_type": "stream",
       "stream": "stdout",
       "text": [
        " 126  stargazers. Num nodes/edges in graph 947 / 1092\n",
        "Rate limit remaining (4840, 5000)\n",
        "Processed"
       ]
      },
      {
       "output_type": "stream",
       "stream": "stdout",
       "text": [
        " 127  stargazers. Num nodes/edges in graph 947 / 1092\n",
        "Rate limit remaining (4839, 5000)\n",
        "Processed"
       ]
      },
      {
       "output_type": "stream",
       "stream": "stdout",
       "text": [
        " 128  stargazers. Num nodes/edges in graph 947 / 1092\n",
        "Rate limit remaining (4838, 5000)\n",
        "Processed"
       ]
      },
      {
       "output_type": "stream",
       "stream": "stdout",
       "text": [
        " 129  stargazers. Num nodes/edges in graph 947 / 1092\n",
        "Rate limit remaining (4837, 5000)\n",
        "Processed"
       ]
      },
      {
       "output_type": "stream",
       "stream": "stdout",
       "text": [
        " 130  stargazers. Num nodes/edges in graph 947 / 1092\n",
        "Rate limit remaining (4836, 5000)\n",
        "Processed"
       ]
      },
      {
       "output_type": "stream",
       "stream": "stdout",
       "text": [
        " 131  stargazers. Num nodes/edges in graph 947 / 1094\n",
        "Rate limit remaining (4835, 5000)\n",
        "Processed"
       ]
      },
      {
       "output_type": "stream",
       "stream": "stdout",
       "text": [
        " 132  stargazers. Num nodes/edges in graph 947 / 1094\n",
        "Rate limit remaining (4834, 5000)\n",
        "Processed"
       ]
      },
      {
       "output_type": "stream",
       "stream": "stdout",
       "text": [
        " 133  stargazers. Num nodes/edges in graph 947 / 1094\n",
        "Rate limit remaining (4833, 5000)\n",
        "Processed"
       ]
      },
      {
       "output_type": "stream",
       "stream": "stdout",
       "text": [
        " 134  stargazers. Num nodes/edges in graph 947 / 1094\n",
        "Rate limit remaining (4832, 5000)\n",
        "Processed"
       ]
      },
      {
       "output_type": "stream",
       "stream": "stdout",
       "text": [
        " 135  stargazers. Num nodes/edges in graph 947 / 1094\n",
        "Rate limit remaining (4831, 5000)\n",
        "Processed"
       ]
      },
      {
       "output_type": "stream",
       "stream": "stdout",
       "text": [
        " 136  stargazers. Num nodes/edges in graph 947 / 1094\n",
        "Rate limit remaining (4830, 5000)\n",
        "Processed"
       ]
      },
      {
       "output_type": "stream",
       "stream": "stdout",
       "text": [
        " 137  stargazers. Num nodes/edges in graph 947 / 1095\n",
        "Rate limit remaining (4829, 5000)\n",
        "Processed"
       ]
      },
      {
       "output_type": "stream",
       "stream": "stdout",
       "text": [
        " 138  stargazers. Num nodes/edges in graph 947 / 1095\n",
        "Rate limit remaining (4828, 5000)\n",
        "Processed"
       ]
      },
      {
       "output_type": "stream",
       "stream": "stdout",
       "text": [
        " 139  stargazers. Num nodes/edges in graph 947 / 1095\n",
        "Rate limit remaining (4827, 5000)\n",
        "Processed"
       ]
      },
      {
       "output_type": "stream",
       "stream": "stdout",
       "text": [
        " 140  stargazers. Num nodes/edges in graph 947 / 1095\n",
        "Rate limit remaining (4825, 5000)\n",
        "Processed"
       ]
      },
      {
       "output_type": "stream",
       "stream": "stdout",
       "text": [
        " 141  stargazers. Num nodes/edges in graph 947 / 1096\n",
        "Rate limit remaining (4824, 5000)\n",
        "Processed"
       ]
      },
      {
       "output_type": "stream",
       "stream": "stdout",
       "text": [
        " 142  stargazers. Num nodes/edges in graph 947 / 1096\n",
        "Rate limit remaining (4823, 5000)\n",
        "Processed"
       ]
      },
      {
       "output_type": "stream",
       "stream": "stdout",
       "text": [
        " 143  stargazers. Num nodes/edges in graph 947 / 1096\n",
        "Rate limit remaining (4822, 5000)\n",
        "Processed"
       ]
      },
      {
       "output_type": "stream",
       "stream": "stdout",
       "text": [
        " 144  stargazers. Num nodes/edges in graph 947 / 1098\n",
        "Rate limit remaining (4821, 5000)\n",
        "Processed"
       ]
      },
      {
       "output_type": "stream",
       "stream": "stdout",
       "text": [
        " 145  stargazers. Num nodes/edges in graph 947 / 1098\n",
        "Rate limit remaining (4820, 5000)\n",
        "Processed"
       ]
      },
      {
       "output_type": "stream",
       "stream": "stdout",
       "text": [
        " 146  stargazers. Num nodes/edges in graph 947 / 1099\n",
        "Rate limit remaining (4819, 5000)\n",
        "Processed"
       ]
      },
      {
       "output_type": "stream",
       "stream": "stdout",
       "text": [
        " 147  stargazers. Num nodes/edges in graph 947 / 1101\n",
        "Rate limit remaining (4818, 5000)\n",
        "Processed"
       ]
      },
      {
       "output_type": "stream",
       "stream": "stdout",
       "text": [
        " 148  stargazers. Num nodes/edges in graph 947 / 1101\n",
        "Rate limit remaining (4817, 5000)\n",
        "Processed"
       ]
      },
      {
       "output_type": "stream",
       "stream": "stdout",
       "text": [
        " 149  stargazers. Num nodes/edges in graph 947 / 1101\n",
        "Rate limit remaining (4816, 5000)\n",
        "Processed"
       ]
      },
      {
       "output_type": "stream",
       "stream": "stdout",
       "text": [
        " 150  stargazers. Num nodes/edges in graph 947 / 1101\n",
        "Rate limit remaining (4815, 5000)\n",
        "Processed"
       ]
      },
      {
       "output_type": "stream",
       "stream": "stdout",
       "text": [
        " 151  stargazers. Num nodes/edges in graph 947 / 1101\n",
        "Rate limit remaining (4814, 5000)\n",
        "Processed"
       ]
      },
      {
       "output_type": "stream",
       "stream": "stdout",
       "text": [
        " 152  stargazers. Num nodes/edges in graph 947 / 1102\n",
        "Rate limit remaining (4813, 5000)\n",
        "Processed"
       ]
      },
      {
       "output_type": "stream",
       "stream": "stdout",
       "text": [
        " 153  stargazers. Num nodes/edges in graph 947 / 1102\n",
        "Rate limit remaining (4812, 5000)\n",
        "Processed"
       ]
      },
      {
       "output_type": "stream",
       "stream": "stdout",
       "text": [
        " 154  stargazers. Num nodes/edges in graph 947 / 1105\n",
        "Rate limit remaining (4811, 5000)\n",
        "Processed"
       ]
      },
      {
       "output_type": "stream",
       "stream": "stdout",
       "text": [
        " 155  stargazers. Num nodes/edges in graph 947 / 1209\n",
        "Rate limit remaining (4807, 5000)\n",
        "Processed"
       ]
      },
      {
       "output_type": "stream",
       "stream": "stdout",
       "text": [
        " 156  stargazers. Num nodes/edges in graph 947 / 1212\n",
        "Rate limit remaining (4806, 5000)\n",
        "Processed"
       ]
      },
      {
       "output_type": "stream",
       "stream": "stdout",
       "text": [
        " 157  stargazers. Num nodes/edges in graph 947 / 1212\n",
        "Rate limit remaining (4805, 5000)\n",
        "Processed"
       ]
      },
      {
       "output_type": "stream",
       "stream": "stdout",
       "text": [
        " 158  stargazers. Num nodes/edges in graph 947 / 1212\n",
        "Rate limit remaining (4804, 5000)\n",
        "Processed"
       ]
      },
      {
       "output_type": "stream",
       "stream": "stdout",
       "text": [
        " 159  stargazers. Num nodes/edges in graph 947 / 1216\n",
        "Rate limit remaining (4802, 5000)\n",
        "Processed"
       ]
      },
      {
       "output_type": "stream",
       "stream": "stdout",
       "text": [
        " 160  stargazers. Num nodes/edges in graph 947 / 1217\n",
        "Rate limit remaining (4801, 5000)\n",
        "Processed"
       ]
      },
      {
       "output_type": "stream",
       "stream": "stdout",
       "text": [
        " 161  stargazers. Num nodes/edges in graph 947 / 1217\n",
        "Rate limit remaining (4800, 5000)\n",
        "Processed"
       ]
      },
      {
       "output_type": "stream",
       "stream": "stdout",
       "text": [
        " 162  stargazers. Num nodes/edges in graph 947 / 1217\n",
        "Rate limit remaining (4799, 5000)\n",
        "Processed"
       ]
      },
      {
       "output_type": "stream",
       "stream": "stdout",
       "text": [
        " 163  stargazers. Num nodes/edges in graph 947 / 1218\n",
        "Rate limit remaining (4798, 5000)\n",
        "Processed"
       ]
      },
      {
       "output_type": "stream",
       "stream": "stdout",
       "text": [
        " 164  stargazers. Num nodes/edges in graph 947 / 1218\n",
        "Rate limit remaining (4797, 5000)\n",
        "Processed"
       ]
      },
      {
       "output_type": "stream",
       "stream": "stdout",
       "text": [
        " 165  stargazers. Num nodes/edges in graph 947 / 1218\n",
        "Rate limit remaining (4796, 5000)\n",
        "Processed"
       ]
      },
      {
       "output_type": "stream",
       "stream": "stdout",
       "text": [
        " 166  stargazers. Num nodes/edges in graph 947 / 1218\n",
        "Rate limit remaining (4795, 5000)\n",
        "Processed"
       ]
      },
      {
       "output_type": "stream",
       "stream": "stdout",
       "text": [
        " 167  stargazers. Num nodes/edges in graph 947 / 1218\n",
        "Rate limit remaining (4794, 5000)\n",
        "Processed"
       ]
      },
      {
       "output_type": "stream",
       "stream": "stdout",
       "text": [
        " 168  stargazers. Num nodes/edges in graph 947 / 1218\n",
        "Rate limit remaining (4793, 5000)\n",
        "Processed"
       ]
      },
      {
       "output_type": "stream",
       "stream": "stdout",
       "text": [
        " 169  stargazers. Num nodes/edges in graph 947 / 1220\n",
        "Rate limit remaining (4792, 5000)\n",
        "Processed"
       ]
      },
      {
       "output_type": "stream",
       "stream": "stdout",
       "text": [
        " 170  stargazers. Num nodes/edges in graph 947 / 1220\n",
        "Rate limit remaining (4791, 5000)\n",
        "Processed"
       ]
      },
      {
       "output_type": "stream",
       "stream": "stdout",
       "text": [
        " 171  stargazers. Num nodes/edges in graph 947 / 1220\n",
        "Rate limit remaining (4790, 5000)\n",
        "Processed"
       ]
      },
      {
       "output_type": "stream",
       "stream": "stdout",
       "text": [
        " 172  stargazers. Num nodes/edges in graph 947 / 1220\n",
        "Rate limit remaining (4789, 5000)\n",
        "Processed"
       ]
      },
      {
       "output_type": "stream",
       "stream": "stdout",
       "text": [
        " 173  stargazers. Num nodes/edges in graph 947 / 1222\n",
        "Rate limit remaining (4788, 5000)\n",
        "Processed"
       ]
      },
      {
       "output_type": "stream",
       "stream": "stdout",
       "text": [
        " 174  stargazers. Num nodes/edges in graph 947 / 1329\n",
        "Rate limit remaining (4739, 5000)\n",
        "Processed"
       ]
      },
      {
       "output_type": "stream",
       "stream": "stdout",
       "text": [
        " 175  stargazers. Num nodes/edges in graph 947 / 1329\n",
        "Rate limit remaining (4738, 5000)\n",
        "Processed"
       ]
      },
      {
       "output_type": "stream",
       "stream": "stdout",
       "text": [
        " 176  stargazers. Num nodes/edges in graph 947 / 1329\n",
        "Rate limit remaining (4737, 5000)\n",
        "Processed"
       ]
      },
      {
       "output_type": "stream",
       "stream": "stdout",
       "text": [
        " 177  stargazers. Num nodes/edges in graph 947 / 1329\n",
        "Rate limit remaining (4736, 5000)\n",
        "Processed"
       ]
      },
      {
       "output_type": "stream",
       "stream": "stdout",
       "text": [
        " 178  stargazers. Num nodes/edges in graph 947 / 1330\n",
        "Rate limit remaining (4735, 5000)\n",
        "Processed"
       ]
      },
      {
       "output_type": "stream",
       "stream": "stdout",
       "text": [
        " 179  stargazers. Num nodes/edges in graph 947 / 1330\n",
        "Rate limit remaining (4734, 5000)\n",
        "Processed"
       ]
      },
      {
       "output_type": "stream",
       "stream": "stdout",
       "text": [
        " 180  stargazers. Num nodes/edges in graph 947 / 1330\n",
        "Rate limit remaining (4733, 5000)\n",
        "Processed"
       ]
      },
      {
       "output_type": "stream",
       "stream": "stdout",
       "text": [
        " 181  stargazers. Num nodes/edges in graph 947 / 1330\n",
        "Rate limit remaining (4732, 5000)\n",
        "Processed"
       ]
      },
      {
       "output_type": "stream",
       "stream": "stdout",
       "text": [
        " 182  stargazers. Num nodes/edges in graph 947 / 1331\n",
        "Rate limit remaining (4731, 5000)\n",
        "Processed"
       ]
      },
      {
       "output_type": "stream",
       "stream": "stdout",
       "text": [
        " 183  stargazers. Num nodes/edges in graph 947 / 1331\n",
        "Rate limit remaining (4730, 5000)\n",
        "Processed"
       ]
      },
      {
       "output_type": "stream",
       "stream": "stdout",
       "text": [
        " 184  stargazers. Num nodes/edges in graph 947 / 1335\n",
        "Rate limit remaining (4728, 5000)\n",
        "Processed"
       ]
      },
      {
       "output_type": "stream",
       "stream": "stdout",
       "text": [
        " 185  stargazers. Num nodes/edges in graph 947 / 1335\n",
        "Rate limit remaining (4727, 5000)\n",
        "Processed"
       ]
      },
      {
       "output_type": "stream",
       "stream": "stdout",
       "text": [
        " 186  stargazers. Num nodes/edges in graph 947 / 1339\n",
        "Rate limit remaining (4726, 5000)\n",
        "Processed"
       ]
      },
      {
       "output_type": "stream",
       "stream": "stdout",
       "text": [
        " 187  stargazers. Num nodes/edges in graph 947 / 1342\n",
        "Rate limit remaining (4725, 5000)\n",
        "Processed"
       ]
      },
      {
       "output_type": "stream",
       "stream": "stdout",
       "text": [
        " 188  stargazers. Num nodes/edges in graph 947 / 1342\n",
        "Rate limit remaining (4724, 5000)\n",
        "Processed"
       ]
      },
      {
       "output_type": "stream",
       "stream": "stdout",
       "text": [
        " 189  stargazers. Num nodes/edges in graph 947 / 1342\n",
        "Rate limit remaining (4723, 5000)\n",
        "Processed"
       ]
      },
      {
       "output_type": "stream",
       "stream": "stdout",
       "text": [
        " 190  stargazers. Num nodes/edges in graph 947 / 1342\n",
        "Rate limit remaining (4722, 5000)\n",
        "Processed"
       ]
      },
      {
       "output_type": "stream",
       "stream": "stdout",
       "text": [
        " 191  stargazers. Num nodes/edges in graph 947 / 1345\n",
        "Rate limit remaining (4721, 5000)\n",
        "Processed"
       ]
      },
      {
       "output_type": "stream",
       "stream": "stdout",
       "text": [
        " 192  stargazers. Num nodes/edges in graph 947 / 1345\n",
        "Rate limit remaining (4720, 5000)\n",
        "Processed"
       ]
      },
      {
       "output_type": "stream",
       "stream": "stdout",
       "text": [
        " 193  stargazers. Num nodes/edges in graph 947 / 1345\n",
        "Rate limit remaining (4719, 5000)\n",
        "Processed"
       ]
      },
      {
       "output_type": "stream",
       "stream": "stdout",
       "text": [
        " 194  stargazers. Num nodes/edges in graph 947 / 1345\n",
        "Rate limit remaining (4718, 5000)\n",
        "Processed"
       ]
      },
      {
       "output_type": "stream",
       "stream": "stdout",
       "text": [
        " 195  stargazers. Num nodes/edges in graph 947 / 1345\n",
        "Rate limit remaining (4717, 5000)\n",
        "Processed"
       ]
      },
      {
       "output_type": "stream",
       "stream": "stdout",
       "text": [
        " 196  stargazers. Num nodes/edges in graph 947 / 1346\n",
        "Rate limit remaining (4716, 5000)\n",
        "Processed"
       ]
      },
      {
       "output_type": "stream",
       "stream": "stdout",
       "text": [
        " 197  stargazers. Num nodes/edges in graph 947 / 1346\n",
        "Rate limit remaining (4715, 5000)\n",
        "Processed"
       ]
      },
      {
       "output_type": "stream",
       "stream": "stdout",
       "text": [
        " 198  stargazers. Num nodes/edges in graph 947 / 1346\n",
        "Rate limit remaining (4714, 5000)\n",
        "Processed"
       ]
      },
      {
       "output_type": "stream",
       "stream": "stdout",
       "text": [
        " 199  stargazers. Num nodes/edges in graph 947 / 1346\n",
        "Rate limit remaining (4713, 5000)\n",
        "Processed"
       ]
      },
      {
       "output_type": "stream",
       "stream": "stdout",
       "text": [
        " 200  stargazers. Num nodes/edges in graph 947 / 1346\n",
        "Rate limit remaining (4712, 5000)\n",
        "Processed"
       ]
      },
      {
       "output_type": "stream",
       "stream": "stdout",
       "text": [
        " 201  stargazers. Num nodes/edges in graph 947 / 1347\n",
        "Rate limit remaining (4711, 5000)\n",
        "Processed"
       ]
      },
      {
       "output_type": "stream",
       "stream": "stdout",
       "text": [
        " 202  stargazers. Num nodes/edges in graph 947 / 1348\n",
        "Rate limit remaining (4710, 5000)\n",
        "Processed"
       ]
      },
      {
       "output_type": "stream",
       "stream": "stdout",
       "text": [
        " 203  stargazers. Num nodes/edges in graph 947 / 1348\n",
        "Rate limit remaining (4709, 5000)\n",
        "Processed"
       ]
      },
      {
       "output_type": "stream",
       "stream": "stdout",
       "text": [
        " 204  stargazers. Num nodes/edges in graph 947 / 1348\n",
        "Rate limit remaining (4708, 5000)\n",
        "Processed"
       ]
      },
      {
       "output_type": "stream",
       "stream": "stdout",
       "text": [
        " 205  stargazers. Num nodes/edges in graph 947 / 1348\n",
        "Rate limit remaining (4707, 5000)\n",
        "Processed"
       ]
      },
      {
       "output_type": "stream",
       "stream": "stdout",
       "text": [
        " 206  stargazers. Num nodes/edges in graph 947 / 1348\n",
        "Rate limit remaining (4706, 5000)\n",
        "Processed"
       ]
      },
      {
       "output_type": "stream",
       "stream": "stdout",
       "text": [
        " 207  stargazers. Num nodes/edges in graph 947 / 1348\n",
        "Rate limit remaining (4705, 5000)\n",
        "Processed"
       ]
      },
      {
       "output_type": "stream",
       "stream": "stdout",
       "text": [
        " 208  stargazers. Num nodes/edges in graph 947 / 1348\n",
        "Rate limit remaining (4704, 5000)\n",
        "Processed"
       ]
      },
      {
       "output_type": "stream",
       "stream": "stdout",
       "text": [
        " 209  stargazers. Num nodes/edges in graph 947 / 1352\n",
        "Rate limit remaining (4703, 5000)\n",
        "Processed"
       ]
      },
      {
       "output_type": "stream",
       "stream": "stdout",
       "text": [
        " 210  stargazers. Num nodes/edges in graph 947 / 1352\n",
        "Rate limit remaining (4702, 5000)\n",
        "Processed"
       ]
      },
      {
       "output_type": "stream",
       "stream": "stdout",
       "text": [
        " 211  stargazers. Num nodes/edges in graph 947 / 1353\n",
        "Rate limit remaining (4701, 5000)\n",
        "Processed"
       ]
      },
      {
       "output_type": "stream",
       "stream": "stdout",
       "text": [
        " 212  stargazers. Num nodes/edges in graph 947 / 1354\n",
        "Rate limit remaining (4700, 5000)\n",
        "Processed"
       ]
      },
      {
       "output_type": "stream",
       "stream": "stdout",
       "text": [
        " 213  stargazers. Num nodes/edges in graph 947 / 1354\n",
        "Rate limit remaining (4699, 5000)\n",
        "Processed"
       ]
      },
      {
       "output_type": "stream",
       "stream": "stdout",
       "text": [
        " 214  stargazers. Num nodes/edges in graph 947 / 1356\n",
        "Rate limit remaining (4698, 5000)\n",
        "Processed"
       ]
      },
      {
       "output_type": "stream",
       "stream": "stdout",
       "text": [
        " 215  stargazers. Num nodes/edges in graph 947 / 1357\n",
        "Rate limit remaining (4697, 5000)\n",
        "Processed"
       ]
      },
      {
       "output_type": "stream",
       "stream": "stdout",
       "text": [
        " 216  stargazers. Num nodes/edges in graph 947 / 1357\n",
        "Rate limit remaining (4696, 5000)\n",
        "Processed"
       ]
      },
      {
       "output_type": "stream",
       "stream": "stdout",
       "text": [
        " 217  stargazers. Num nodes/edges in graph 947 / 1357\n",
        "Rate limit remaining (4695, 5000)\n",
        "Processed"
       ]
      },
      {
       "output_type": "stream",
       "stream": "stdout",
       "text": [
        " 218  stargazers. Num nodes/edges in graph 947 / 1357\n",
        "Rate limit remaining (4694, 5000)\n",
        "Processed"
       ]
      },
      {
       "output_type": "stream",
       "stream": "stdout",
       "text": [
        " 219  stargazers. Num nodes/edges in graph 947 / 1357\n",
        "Rate limit remaining (4693, 5000)\n",
        "Processed"
       ]
      },
      {
       "output_type": "stream",
       "stream": "stdout",
       "text": [
        " 220  stargazers. Num nodes/edges in graph 947 / 1357\n",
        "Rate limit remaining (4692, 5000)\n",
        "Processed"
       ]
      },
      {
       "output_type": "stream",
       "stream": "stdout",
       "text": [
        " 221  stargazers. Num nodes/edges in graph 947 / 1360\n",
        "Rate limit remaining (4691, 5000)\n",
        "Processed"
       ]
      },
      {
       "output_type": "stream",
       "stream": "stdout",
       "text": [
        " 222  stargazers. Num nodes/edges in graph 947 / 1360\n",
        "Rate limit remaining (4690, 5000)\n",
        "Processed"
       ]
      },
      {
       "output_type": "stream",
       "stream": "stdout",
       "text": [
        " 223  stargazers. Num nodes/edges in graph 947 / 1360\n",
        "Rate limit remaining (4689, 5000)\n",
        "Processed"
       ]
      },
      {
       "output_type": "stream",
       "stream": "stdout",
       "text": [
        " 224  stargazers. Num nodes/edges in graph 947 / 1361\n",
        "Rate limit remaining (4688, 5000)\n",
        "Processed"
       ]
      },
      {
       "output_type": "stream",
       "stream": "stdout",
       "text": [
        " 225  stargazers. Num nodes/edges in graph 947 / 1361\n",
        "Rate limit remaining (4687, 5000)\n",
        "Processed"
       ]
      },
      {
       "output_type": "stream",
       "stream": "stdout",
       "text": [
        " 226  stargazers. Num nodes/edges in graph 947 / 1361\n",
        "Rate limit remaining (4686, 5000)\n",
        "Processed"
       ]
      },
      {
       "output_type": "stream",
       "stream": "stdout",
       "text": [
        " 227  stargazers. Num nodes/edges in graph 947 / 1361\n",
        "Rate limit remaining (4685, 5000)\n",
        "Processed"
       ]
      },
      {
       "output_type": "stream",
       "stream": "stdout",
       "text": [
        " 228  stargazers. Num nodes/edges in graph 947 / 1361\n",
        "Rate limit remaining (4684, 5000)\n",
        "Processed"
       ]
      },
      {
       "output_type": "stream",
       "stream": "stdout",
       "text": [
        " 229  stargazers. Num nodes/edges in graph 947 / 1361\n",
        "Rate limit remaining (4683, 5000)\n",
        "Processed"
       ]
      },
      {
       "output_type": "stream",
       "stream": "stdout",
       "text": [
        " 230  stargazers. Num nodes/edges in graph 947 / 1361\n",
        "Rate limit remaining (4682, 5000)\n",
        "Processed"
       ]
      },
      {
       "output_type": "stream",
       "stream": "stdout",
       "text": [
        " 231  stargazers. Num nodes/edges in graph 947 / 1362\n",
        "Rate limit remaining (4681, 5000)\n",
        "Processed"
       ]
      },
      {
       "output_type": "stream",
       "stream": "stdout",
       "text": [
        " 232  stargazers. Num nodes/edges in graph 947 / 1364\n",
        "Rate limit remaining (4680, 5000)\n",
        "Processed"
       ]
      },
      {
       "output_type": "stream",
       "stream": "stdout",
       "text": [
        " 233  stargazers. Num nodes/edges in graph 947 / 1364\n",
        "Rate limit remaining (4679, 5000)\n",
        "Processed"
       ]
      },
      {
       "output_type": "stream",
       "stream": "stdout",
       "text": [
        " 234  stargazers. Num nodes/edges in graph 947 / 1364\n",
        "Rate limit remaining (4678, 5000)\n",
        "Processed"
       ]
      },
      {
       "output_type": "stream",
       "stream": "stdout",
       "text": [
        " 235  stargazers. Num nodes/edges in graph 947 / 1364\n",
        "Rate limit remaining (4677, 5000)\n",
        "Processed"
       ]
      },
      {
       "output_type": "stream",
       "stream": "stdout",
       "text": [
        " 236  stargazers. Num nodes/edges in graph 947 / 1364\n",
        "Rate limit remaining (4676, 5000)\n",
        "Processed"
       ]
      },
      {
       "output_type": "stream",
       "stream": "stdout",
       "text": [
        " 237  stargazers. Num nodes/edges in graph 947 / 1364\n",
        "Rate limit remaining (4675, 5000)\n",
        "Processed"
       ]
      },
      {
       "output_type": "stream",
       "stream": "stdout",
       "text": [
        " 238  stargazers. Num nodes/edges in graph 947 / 1364\n",
        "Rate limit remaining (4674, 5000)\n",
        "Processed"
       ]
      },
      {
       "output_type": "stream",
       "stream": "stdout",
       "text": [
        " 239  stargazers. Num nodes/edges in graph 947 / 1364\n",
        "Rate limit remaining (4673, 5000)\n",
        "Processed"
       ]
      },
      {
       "output_type": "stream",
       "stream": "stdout",
       "text": [
        " 240  stargazers. Num nodes/edges in graph 947 / 1364\n",
        "Rate limit remaining (4672, 5000)\n",
        "Processed"
       ]
      },
      {
       "output_type": "stream",
       "stream": "stdout",
       "text": [
        " 241  stargazers. Num nodes/edges in graph 947 / 1364\n",
        "Rate limit remaining (4671, 5000)\n",
        "Processed"
       ]
      },
      {
       "output_type": "stream",
       "stream": "stdout",
       "text": [
        " 242  stargazers. Num nodes/edges in graph 947 / 1367\n",
        "Rate limit remaining (4670, 5000)\n",
        "Processed"
       ]
      },
      {
       "output_type": "stream",
       "stream": "stdout",
       "text": [
        " 243  stargazers. Num nodes/edges in graph 947 / 1367\n",
        "Rate limit remaining (4669, 5000)\n",
        "Processed"
       ]
      },
      {
       "output_type": "stream",
       "stream": "stdout",
       "text": [
        " 244  stargazers. Num nodes/edges in graph 947 / 1367\n",
        "Rate limit remaining (4668, 5000)\n",
        "Processed"
       ]
      },
      {
       "output_type": "stream",
       "stream": "stdout",
       "text": [
        " 245  stargazers. Num nodes/edges in graph 947 / 1367\n",
        "Rate limit remaining (4667, 5000)\n",
        "Processed"
       ]
      },
      {
       "output_type": "stream",
       "stream": "stdout",
       "text": [
        " 246  stargazers. Num nodes/edges in graph 947 / 1367\n",
        "Rate limit remaining (4666, 5000)\n",
        "Processed"
       ]
      },
      {
       "output_type": "stream",
       "stream": "stdout",
       "text": [
        " 247  stargazers. Num nodes/edges in graph 947 / 1367\n",
        "Rate limit remaining (4665, 5000)\n",
        "Processed"
       ]
      },
      {
       "output_type": "stream",
       "stream": "stdout",
       "text": [
        " 248  stargazers. Num nodes/edges in graph 947 / 1367\n",
        "Rate limit remaining (4664, 5000)\n",
        "Processed"
       ]
      },
      {
       "output_type": "stream",
       "stream": "stdout",
       "text": [
        " 249  stargazers. Num nodes/edges in graph 947 / 1368\n",
        "Rate limit remaining (4663, 5000)\n",
        "Processed"
       ]
      },
      {
       "output_type": "stream",
       "stream": "stdout",
       "text": [
        " 250  stargazers. Num nodes/edges in graph 947 / 1368\n",
        "Rate limit remaining (4662, 5000)\n",
        "Processed"
       ]
      },
      {
       "output_type": "stream",
       "stream": "stdout",
       "text": [
        " 251  stargazers. Num nodes/edges in graph 947 / 1369\n",
        "Rate limit remaining (4661, 5000)\n",
        "Processed"
       ]
      },
      {
       "output_type": "stream",
       "stream": "stdout",
       "text": [
        " 252  stargazers. Num nodes/edges in graph 947 / 1369\n",
        "Rate limit remaining (4660, 5000)\n",
        "Processed"
       ]
      },
      {
       "output_type": "stream",
       "stream": "stdout",
       "text": [
        " 253  stargazers. Num nodes/edges in graph 947 / 1369\n",
        "Rate limit remaining (4659, 5000)\n",
        "Processed"
       ]
      },
      {
       "output_type": "stream",
       "stream": "stdout",
       "text": [
        " 254  stargazers. Num nodes/edges in graph 947 / 1369\n",
        "Rate limit remaining (4658, 5000)\n",
        "Processed"
       ]
      },
      {
       "output_type": "stream",
       "stream": "stdout",
       "text": [
        " 255  stargazers. Num nodes/edges in graph 947 / 1369\n",
        "Rate limit remaining (4657, 5000)\n",
        "Processed"
       ]
      },
      {
       "output_type": "stream",
       "stream": "stdout",
       "text": [
        " 256  stargazers. Num nodes/edges in graph 947 / 1369\n",
        "Rate limit remaining (4656, 5000)\n",
        "Processed"
       ]
      },
      {
       "output_type": "stream",
       "stream": "stdout",
       "text": [
        " 257  stargazers. Num nodes/edges in graph 947 / 1370\n",
        "Rate limit remaining (4655, 5000)\n",
        "Processed"
       ]
      },
      {
       "output_type": "stream",
       "stream": "stdout",
       "text": [
        " 258  stargazers. Num nodes/edges in graph 947 / 1370\n",
        "Rate limit remaining (4654, 5000)\n",
        "Processed"
       ]
      },
      {
       "output_type": "stream",
       "stream": "stdout",
       "text": [
        " 259  stargazers. Num nodes/edges in graph 947 / 1370\n",
        "Rate limit remaining (4653, 5000)\n",
        "Processed"
       ]
      },
      {
       "output_type": "stream",
       "stream": "stdout",
       "text": [
        " 260  stargazers. Num nodes/edges in graph 947 / 1370\n",
        "Rate limit remaining (4652, 5000)\n",
        "Processed"
       ]
      },
      {
       "output_type": "stream",
       "stream": "stdout",
       "text": [
        " 261  stargazers. Num nodes/edges in graph 947 / 1385\n",
        "Rate limit remaining (4651, 5000)\n",
        "Processed"
       ]
      },
      {
       "output_type": "stream",
       "stream": "stdout",
       "text": [
        " 262  stargazers. Num nodes/edges in graph 947 / 1386\n",
        "Rate limit remaining (4650, 5000)\n",
        "Processed"
       ]
      },
      {
       "output_type": "stream",
       "stream": "stdout",
       "text": [
        " 263  stargazers. Num nodes/edges in graph 947 / 1387\n",
        "Rate limit remaining (4649, 5000)\n",
        "Processed"
       ]
      },
      {
       "output_type": "stream",
       "stream": "stdout",
       "text": [
        " 264  stargazers. Num nodes/edges in graph 947 / 1387\n",
        "Rate limit remaining (4648, 5000)\n",
        "Processed"
       ]
      },
      {
       "output_type": "stream",
       "stream": "stdout",
       "text": [
        " 265  stargazers. Num nodes/edges in graph 947 / 1389\n",
        "Rate limit remaining (4647, 5000)\n",
        "Processed"
       ]
      },
      {
       "output_type": "stream",
       "stream": "stdout",
       "text": [
        " 266  stargazers. Num nodes/edges in graph 947 / 1389\n",
        "Rate limit remaining (4646, 5000)\n",
        "Processed"
       ]
      },
      {
       "output_type": "stream",
       "stream": "stdout",
       "text": [
        " 267  stargazers. Num nodes/edges in graph 947 / 1391\n",
        "Rate limit remaining (4645, 5000)\n",
        "Processed"
       ]
      },
      {
       "output_type": "stream",
       "stream": "stdout",
       "text": [
        " 268  stargazers. Num nodes/edges in graph 947 / 1392\n",
        "Rate limit remaining (4644, 5000)\n",
        "Processed"
       ]
      },
      {
       "output_type": "stream",
       "stream": "stdout",
       "text": [
        " 269  stargazers. Num nodes/edges in graph 947 / 1392\n",
        "Rate limit remaining (4643, 5000)\n",
        "Processed"
       ]
      },
      {
       "output_type": "stream",
       "stream": "stdout",
       "text": [
        " 270  stargazers. Num nodes/edges in graph 947 / 1392\n",
        "Rate limit remaining (4642, 5000)\n",
        "Processed"
       ]
      },
      {
       "output_type": "stream",
       "stream": "stdout",
       "text": [
        " 271  stargazers. Num nodes/edges in graph 947 / 1392\n",
        "Rate limit remaining (4641, 5000)\n",
        "Processed"
       ]
      },
      {
       "output_type": "stream",
       "stream": "stdout",
       "text": [
        " 272  stargazers. Num nodes/edges in graph 947 / 1394\n",
        "Rate limit remaining (4640, 5000)\n",
        "Processed"
       ]
      },
      {
       "output_type": "stream",
       "stream": "stdout",
       "text": [
        " 273  stargazers. Num nodes/edges in graph 947 / 1394\n",
        "Rate limit remaining (4639, 5000)\n",
        "Processed"
       ]
      },
      {
       "output_type": "stream",
       "stream": "stdout",
       "text": [
        " 274  stargazers. Num nodes/edges in graph 947 / 1396\n",
        "Rate limit remaining (4638, 5000)\n",
        "Processed"
       ]
      },
      {
       "output_type": "stream",
       "stream": "stdout",
       "text": [
        " 275  stargazers. Num nodes/edges in graph 947 / 1396\n",
        "Rate limit remaining (4637, 5000)\n",
        "Processed"
       ]
      },
      {
       "output_type": "stream",
       "stream": "stdout",
       "text": [
        " 276  stargazers. Num nodes/edges in graph 947 / 1396\n",
        "Rate limit remaining (4636, 5000)\n",
        "Processed"
       ]
      },
      {
       "output_type": "stream",
       "stream": "stdout",
       "text": [
        " 277  stargazers. Num nodes/edges in graph 947 / 1396\n",
        "Rate limit remaining (4635, 5000)\n",
        "Processed"
       ]
      },
      {
       "output_type": "stream",
       "stream": "stdout",
       "text": [
        " 278  stargazers. Num nodes/edges in graph 947 / 1396\n",
        "Rate limit remaining (4634, 5000)\n",
        "Processed"
       ]
      },
      {
       "output_type": "stream",
       "stream": "stdout",
       "text": [
        " 279  stargazers. Num nodes/edges in graph 947 / 1397\n",
        "Rate limit remaining (4633, 5000)\n",
        "Processed"
       ]
      },
      {
       "output_type": "stream",
       "stream": "stdout",
       "text": [
        " 280  stargazers. Num nodes/edges in graph 947 / 1397\n",
        "Rate limit remaining (4632, 5000)\n",
        "Processed"
       ]
      },
      {
       "output_type": "stream",
       "stream": "stdout",
       "text": [
        " 281  stargazers. Num nodes/edges in graph 947 / 1397\n",
        "Rate limit remaining (4631, 5000)\n",
        "Processed"
       ]
      },
      {
       "output_type": "stream",
       "stream": "stdout",
       "text": [
        " 282  stargazers. Num nodes/edges in graph 947 / 1397\n",
        "Rate limit remaining (4630, 5000)\n",
        "Processed"
       ]
      },
      {
       "output_type": "stream",
       "stream": "stdout",
       "text": [
        " 283  stargazers. Num nodes/edges in graph 947 / 1398\n",
        "Rate limit remaining (4629, 5000)\n",
        "Processed"
       ]
      },
      {
       "output_type": "stream",
       "stream": "stdout",
       "text": [
        " 284  stargazers. Num nodes/edges in graph 947 / 1398\n",
        "Rate limit remaining (4628, 5000)\n",
        "Processed"
       ]
      },
      {
       "output_type": "stream",
       "stream": "stdout",
       "text": [
        " 285  stargazers. Num nodes/edges in graph 947 / 1398\n",
        "Rate limit remaining (4627, 5000)\n",
        "Processed"
       ]
      },
      {
       "output_type": "stream",
       "stream": "stdout",
       "text": [
        " 286  stargazers. Num nodes/edges in graph 947 / 1401\n",
        "Rate limit remaining (4626, 5000)\n",
        "Processed"
       ]
      },
      {
       "output_type": "stream",
       "stream": "stdout",
       "text": [
        " 287  stargazers. Num nodes/edges in graph 947 / 1402\n",
        "Rate limit remaining (4625, 5000)\n",
        "Processed"
       ]
      },
      {
       "output_type": "stream",
       "stream": "stdout",
       "text": [
        " 288  stargazers. Num nodes/edges in graph 947 / 1402\n",
        "Rate limit remaining (4624, 5000)\n",
        "Processed"
       ]
      },
      {
       "output_type": "stream",
       "stream": "stdout",
       "text": [
        " 289  stargazers. Num nodes/edges in graph 947 / 1402\n",
        "Rate limit remaining (4623, 5000)\n",
        "Processed"
       ]
      },
      {
       "output_type": "stream",
       "stream": "stdout",
       "text": [
        " 290  stargazers. Num nodes/edges in graph 947 / 1402\n",
        "Rate limit remaining (4622, 5000)\n",
        "Processed"
       ]
      },
      {
       "output_type": "stream",
       "stream": "stdout",
       "text": [
        " 291  stargazers. Num nodes/edges in graph 947 / 1404\n",
        "Rate limit remaining (4621, 5000)\n",
        "Processed"
       ]
      },
      {
       "output_type": "stream",
       "stream": "stdout",
       "text": [
        " 292  stargazers. Num nodes/edges in graph 947 / 1404\n",
        "Rate limit remaining (4620, 5000)\n",
        "Processed"
       ]
      },
      {
       "output_type": "stream",
       "stream": "stdout",
       "text": [
        " 293  stargazers. Num nodes/edges in graph 947 / 1404\n",
        "Rate limit remaining (4619, 5000)\n",
        "Processed"
       ]
      },
      {
       "output_type": "stream",
       "stream": "stdout",
       "text": [
        " 294  stargazers. Num nodes/edges in graph 947 / 1407\n",
        "Rate limit remaining (4618, 5000)\n",
        "Processed"
       ]
      },
      {
       "output_type": "stream",
       "stream": "stdout",
       "text": [
        " 295  stargazers. Num nodes/edges in graph 947 / 1408\n",
        "Rate limit remaining (4617, 5000)\n",
        "Processed"
       ]
      },
      {
       "output_type": "stream",
       "stream": "stdout",
       "text": [
        " 296  stargazers. Num nodes/edges in graph 947 / 1408\n",
        "Rate limit remaining (4616, 5000)\n",
        "Processed"
       ]
      },
      {
       "output_type": "stream",
       "stream": "stdout",
       "text": [
        " 297  stargazers. Num nodes/edges in graph 947 / 1408\n",
        "Rate limit remaining (4615, 5000)\n",
        "Processed"
       ]
      },
      {
       "output_type": "stream",
       "stream": "stdout",
       "text": [
        " 298  stargazers. Num nodes/edges in graph 947 / 1408\n",
        "Rate limit remaining (4614, 5000)\n",
        "Processed"
       ]
      },
      {
       "output_type": "stream",
       "stream": "stdout",
       "text": [
        " 299  stargazers. Num nodes/edges in graph 947 / 1408\n",
        "Rate limit remaining (4613, 5000)\n",
        "Processed"
       ]
      },
      {
       "output_type": "stream",
       "stream": "stdout",
       "text": [
        " 300  stargazers. Num nodes/edges in graph 947 / 1408\n",
        "Rate limit remaining (4612, 5000)\n",
        "Processed"
       ]
      },
      {
       "output_type": "stream",
       "stream": "stdout",
       "text": [
        " 301  stargazers. Num nodes/edges in graph 947 / 1408\n",
        "Rate limit remaining (4611, 5000)\n",
        "Processed"
       ]
      },
      {
       "output_type": "stream",
       "stream": "stdout",
       "text": [
        " 302  stargazers. Num nodes/edges in graph 947 / 1409\n",
        "Rate limit remaining (4610, 5000)\n",
        "Processed"
       ]
      },
      {
       "output_type": "stream",
       "stream": "stdout",
       "text": [
        " 303  stargazers. Num nodes/edges in graph 947 / 1410\n",
        "Rate limit remaining (4609, 5000)\n",
        "Processed"
       ]
      },
      {
       "output_type": "stream",
       "stream": "stdout",
       "text": [
        " 304  stargazers. Num nodes/edges in graph 947 / 1410\n",
        "Rate limit remaining (4608, 5000)\n",
        "Processed"
       ]
      },
      {
       "output_type": "stream",
       "stream": "stdout",
       "text": [
        " 305  stargazers. Num nodes/edges in graph 947 / 1411\n",
        "Rate limit remaining (4607, 5000)\n",
        "Processed"
       ]
      },
      {
       "output_type": "stream",
       "stream": "stdout",
       "text": [
        " 306  stargazers. Num nodes/edges in graph 947 / 1411\n",
        "Rate limit remaining (4606, 5000)\n",
        "Processed"
       ]
      },
      {
       "output_type": "stream",
       "stream": "stdout",
       "text": [
        " 307  stargazers. Num nodes/edges in graph 947 / 1411\n",
        "Rate limit remaining (4605, 5000)\n",
        "Processed"
       ]
      },
      {
       "output_type": "stream",
       "stream": "stdout",
       "text": [
        " 308  stargazers. Num nodes/edges in graph 947 / 1411\n",
        "Rate limit remaining (4604, 5000)\n",
        "Processed"
       ]
      },
      {
       "output_type": "stream",
       "stream": "stdout",
       "text": [
        " 309  stargazers. Num nodes/edges in graph 947 / 1413\n",
        "Rate limit remaining (4603, 5000)\n",
        "Processed"
       ]
      },
      {
       "output_type": "stream",
       "stream": "stdout",
       "text": [
        " 310  stargazers. Num nodes/edges in graph 947 / 1414\n",
        "Rate limit remaining (4602, 5000)\n",
        "Processed"
       ]
      },
      {
       "output_type": "stream",
       "stream": "stdout",
       "text": [
        " 311  stargazers. Num nodes/edges in graph 947 / 1414\n",
        "Rate limit remaining (4601, 5000)\n",
        "Processed"
       ]
      },
      {
       "output_type": "stream",
       "stream": "stdout",
       "text": [
        " 312  stargazers. Num nodes/edges in graph 947 / 1414\n",
        "Rate limit remaining (4600, 5000)\n",
        "Processed"
       ]
      },
      {
       "output_type": "stream",
       "stream": "stdout",
       "text": [
        " 313  stargazers. Num nodes/edges in graph 947 / 1414\n",
        "Rate limit remaining (4599, 5000)\n",
        "Processed"
       ]
      },
      {
       "output_type": "stream",
       "stream": "stdout",
       "text": [
        " 314  stargazers. Num nodes/edges in graph 947 / 1414\n",
        "Rate limit remaining (4598, 5000)\n",
        "Processed"
       ]
      },
      {
       "output_type": "stream",
       "stream": "stdout",
       "text": [
        " 315  stargazers. Num nodes/edges in graph 947 / 1418\n",
        "Rate limit remaining (4597, 5000)\n",
        "Processed"
       ]
      },
      {
       "output_type": "stream",
       "stream": "stdout",
       "text": [
        " 316  stargazers. Num nodes/edges in graph 947 / 1418\n",
        "Rate limit remaining (4596, 5000)\n",
        "Processed"
       ]
      },
      {
       "output_type": "stream",
       "stream": "stdout",
       "text": [
        " 317  stargazers. Num nodes/edges in graph 947 / 1418\n",
        "Rate limit remaining (4595, 5000)\n",
        "Processed"
       ]
      },
      {
       "output_type": "stream",
       "stream": "stdout",
       "text": [
        " 318  stargazers. Num nodes/edges in graph 947 / 1418\n",
        "Rate limit remaining (4594, 5000)\n",
        "Processed"
       ]
      },
      {
       "output_type": "stream",
       "stream": "stdout",
       "text": [
        " 319  stargazers. Num nodes/edges in graph 947 / 1420\n",
        "Rate limit remaining (4593, 5000)\n",
        "Processed"
       ]
      },
      {
       "output_type": "stream",
       "stream": "stdout",
       "text": [
        " 320  stargazers. Num nodes/edges in graph 947 / 1420\n",
        "Rate limit remaining (4592, 5000)\n",
        "Processed"
       ]
      },
      {
       "output_type": "stream",
       "stream": "stdout",
       "text": [
        " 321  stargazers. Num nodes/edges in graph 947 / 1420\n",
        "Rate limit remaining (4591, 5000)\n",
        "Processed"
       ]
      },
      {
       "output_type": "stream",
       "stream": "stdout",
       "text": [
        " 322  stargazers. Num nodes/edges in graph 947 / 1420\n",
        "Rate limit remaining (4590, 5000)\n",
        "Processed"
       ]
      },
      {
       "output_type": "stream",
       "stream": "stdout",
       "text": [
        " 323  stargazers. Num nodes/edges in graph 947 / 1420\n",
        "Rate limit remaining (4589, 5000)\n",
        "Processed"
       ]
      },
      {
       "output_type": "stream",
       "stream": "stdout",
       "text": [
        " 324  stargazers. Num nodes/edges in graph 947 / 1421\n",
        "Rate limit remaining (4588, 5000)\n",
        "Processed"
       ]
      },
      {
       "output_type": "stream",
       "stream": "stdout",
       "text": [
        " 325  stargazers. Num nodes/edges in graph 947 / 1421\n",
        "Rate limit remaining (4587, 5000)\n",
        "Processed"
       ]
      },
      {
       "output_type": "stream",
       "stream": "stdout",
       "text": [
        " 326  stargazers. Num nodes/edges in graph 947 / 1421\n",
        "Rate limit remaining (4586, 5000)\n",
        "Processed"
       ]
      },
      {
       "output_type": "stream",
       "stream": "stdout",
       "text": [
        " 327  stargazers. Num nodes/edges in graph 947 / 1422\n",
        "Rate limit remaining (4585, 5000)\n",
        "Processed"
       ]
      },
      {
       "output_type": "stream",
       "stream": "stdout",
       "text": [
        " 328  stargazers. Num nodes/edges in graph 947 / 1423\n",
        "Rate limit remaining (4584, 5000)\n",
        "Processed"
       ]
      },
      {
       "output_type": "stream",
       "stream": "stdout",
       "text": [
        " 329  stargazers. Num nodes/edges in graph 947 / 1424\n",
        "Rate limit remaining (4583, 5000)\n",
        "Processed"
       ]
      },
      {
       "output_type": "stream",
       "stream": "stdout",
       "text": [
        " 330  stargazers. Num nodes/edges in graph 947 / 1427\n",
        "Rate limit remaining (4581, 5000)\n",
        "Processed"
       ]
      },
      {
       "output_type": "stream",
       "stream": "stdout",
       "text": [
        " 331  stargazers. Num nodes/edges in graph 947 / 1428\n",
        "Rate limit remaining (4580, 5000)\n",
        "Processed"
       ]
      },
      {
       "output_type": "stream",
       "stream": "stdout",
       "text": [
        " 332  stargazers. Num nodes/edges in graph 947 / 1428\n",
        "Rate limit remaining (4579, 5000)\n",
        "Processed"
       ]
      },
      {
       "output_type": "stream",
       "stream": "stdout",
       "text": [
        " 333  stargazers. Num nodes/edges in graph 947 / 1428\n",
        "Rate limit remaining (4578, 5000)\n",
        "Processed"
       ]
      },
      {
       "output_type": "stream",
       "stream": "stdout",
       "text": [
        " 334  stargazers. Num nodes/edges in graph 947 / 1428\n",
        "Rate limit remaining (4577, 5000)\n",
        "Processed"
       ]
      },
      {
       "output_type": "stream",
       "stream": "stdout",
       "text": [
        " 335  stargazers. Num nodes/edges in graph 947 / 1431\n",
        "Rate limit remaining (4576, 5000)\n",
        "Processed"
       ]
      },
      {
       "output_type": "stream",
       "stream": "stdout",
       "text": [
        " 336  stargazers. Num nodes/edges in graph 947 / 1431\n",
        "Rate limit remaining (4575, 5000)\n",
        "Processed"
       ]
      },
      {
       "output_type": "stream",
       "stream": "stdout",
       "text": [
        " 337  stargazers. Num nodes/edges in graph 947 / 1431\n",
        "Rate limit remaining (4574, 5000)\n",
        "Processed"
       ]
      },
      {
       "output_type": "stream",
       "stream": "stdout",
       "text": [
        " 338  stargazers. Num nodes/edges in graph 947 / 1431\n",
        "Rate limit remaining (4573, 5000)\n",
        "Processed"
       ]
      },
      {
       "output_type": "stream",
       "stream": "stdout",
       "text": [
        " 339  stargazers. Num nodes/edges in graph 947 / 1431\n",
        "Rate limit remaining (4572, 5000)\n",
        "Processed"
       ]
      },
      {
       "output_type": "stream",
       "stream": "stdout",
       "text": [
        " 340  stargazers. Num nodes/edges in graph 947 / 1431\n",
        "Rate limit remaining (4571, 5000)\n",
        "Processed"
       ]
      },
      {
       "output_type": "stream",
       "stream": "stdout",
       "text": [
        " 341  stargazers. Num nodes/edges in graph 947 / 1432\n",
        "Rate limit remaining (4570, 5000)\n",
        "Processed"
       ]
      },
      {
       "output_type": "stream",
       "stream": "stdout",
       "text": [
        " 342  stargazers. Num nodes/edges in graph 947 / 1432\n",
        "Rate limit remaining (4569, 5000)\n",
        "Processed"
       ]
      },
      {
       "output_type": "stream",
       "stream": "stdout",
       "text": [
        " 343  stargazers. Num nodes/edges in graph 947 / 1432\n",
        "Rate limit remaining (4568, 5000)\n",
        "Processed"
       ]
      },
      {
       "output_type": "stream",
       "stream": "stdout",
       "text": [
        " 344  stargazers. Num nodes/edges in graph 947 / 1432\n",
        "Rate limit remaining (4567, 5000)\n",
        "Processed"
       ]
      },
      {
       "output_type": "stream",
       "stream": "stdout",
       "text": [
        " 345  stargazers. Num nodes/edges in graph 947 / 1433\n",
        "Rate limit remaining (4566, 5000)\n",
        "Processed"
       ]
      },
      {
       "output_type": "stream",
       "stream": "stdout",
       "text": [
        " 346  stargazers. Num nodes/edges in graph 947 / 1433\n",
        "Rate limit remaining (4565, 5000)\n",
        "Processed"
       ]
      },
      {
       "output_type": "stream",
       "stream": "stdout",
       "text": [
        " 347  stargazers. Num nodes/edges in graph 947 / 1433\n",
        "Rate limit remaining (4564, 5000)\n",
        "Processed"
       ]
      },
      {
       "output_type": "stream",
       "stream": "stdout",
       "text": [
        " 348  stargazers. Num nodes/edges in graph 947 / 1433\n",
        "Rate limit remaining (4563, 5000)\n",
        "Processed"
       ]
      },
      {
       "output_type": "stream",
       "stream": "stdout",
       "text": [
        " 349  stargazers. Num nodes/edges in graph 947 / 1433\n",
        "Rate limit remaining (4562, 5000)\n",
        "Processed"
       ]
      },
      {
       "output_type": "stream",
       "stream": "stdout",
       "text": [
        " 350  stargazers. Num nodes/edges in graph 947 / 1433\n",
        "Rate limit remaining (4561, 5000)\n",
        "Processed"
       ]
      },
      {
       "output_type": "stream",
       "stream": "stdout",
       "text": [
        " 351  stargazers. Num nodes/edges in graph 947 / 1433\n",
        "Rate limit remaining (4560, 5000)\n",
        "Processed"
       ]
      },
      {
       "output_type": "stream",
       "stream": "stdout",
       "text": [
        " 352  stargazers. Num nodes/edges in graph 947 / 1433\n",
        "Rate limit remaining (4559, 5000)\n",
        "Processed"
       ]
      },
      {
       "output_type": "stream",
       "stream": "stdout",
       "text": [
        " 353  stargazers. Num nodes/edges in graph 947 / 1438\n",
        "Rate limit remaining (4558, 5000)\n",
        "Processed"
       ]
      },
      {
       "output_type": "stream",
       "stream": "stdout",
       "text": [
        " 354  stargazers. Num nodes/edges in graph 947 / 1438\n",
        "Rate limit remaining (4557, 5000)\n",
        "Processed"
       ]
      },
      {
       "output_type": "stream",
       "stream": "stdout",
       "text": [
        " 355  stargazers. Num nodes/edges in graph 947 / 1439\n",
        "Rate limit remaining (4556, 5000)\n",
        "Processed"
       ]
      },
      {
       "output_type": "stream",
       "stream": "stdout",
       "text": [
        " 356  stargazers. Num nodes/edges in graph 947 / 1439\n",
        "Rate limit remaining (4555, 5000)\n",
        "Processed"
       ]
      },
      {
       "output_type": "stream",
       "stream": "stdout",
       "text": [
        " 357  stargazers. Num nodes/edges in graph 947 / 1439\n",
        "Rate limit remaining (4554, 5000)\n",
        "Processed"
       ]
      },
      {
       "output_type": "stream",
       "stream": "stdout",
       "text": [
        " 358  stargazers. Num nodes/edges in graph 947 / 1439\n",
        "Rate limit remaining (4553, 5000)\n",
        "Processed"
       ]
      },
      {
       "output_type": "stream",
       "stream": "stdout",
       "text": [
        " 359  stargazers. Num nodes/edges in graph 947 / 1439\n",
        "Rate limit remaining (4552, 5000)\n",
        "Processed"
       ]
      },
      {
       "output_type": "stream",
       "stream": "stdout",
       "text": [
        " 360  stargazers. Num nodes/edges in graph 947 / 1439\n",
        "Rate limit remaining (4551, 5000)\n",
        "Processed"
       ]
      },
      {
       "output_type": "stream",
       "stream": "stdout",
       "text": [
        " 361  stargazers. Num nodes/edges in graph 947 / 1441\n",
        "Rate limit remaining (4550, 5000)\n",
        "Processed"
       ]
      },
      {
       "output_type": "stream",
       "stream": "stdout",
       "text": [
        " 362  stargazers. Num nodes/edges in graph 947 / 1441\n",
        "Rate limit remaining (4549, 5000)\n",
        "Processed"
       ]
      },
      {
       "output_type": "stream",
       "stream": "stdout",
       "text": [
        " 363  stargazers. Num nodes/edges in graph 947 / 1441\n",
        "Rate limit remaining (4548, 5000)\n",
        "Processed"
       ]
      },
      {
       "output_type": "stream",
       "stream": "stdout",
       "text": [
        " 364  stargazers. Num nodes/edges in graph 947 / 1441\n",
        "Rate limit remaining (4547, 5000)\n",
        "Processed"
       ]
      },
      {
       "output_type": "stream",
       "stream": "stdout",
       "text": [
        " 365  stargazers. Num nodes/edges in graph 947 / 1441\n",
        "Rate limit remaining (4546, 5000)\n",
        "Processed"
       ]
      },
      {
       "output_type": "stream",
       "stream": "stdout",
       "text": [
        " 366  stargazers. Num nodes/edges in graph 947 / 1441\n",
        "Rate limit remaining (4545, 5000)\n",
        "Processed"
       ]
      },
      {
       "output_type": "stream",
       "stream": "stdout",
       "text": [
        " 367  stargazers. Num nodes/edges in graph 947 / 1446\n",
        "Rate limit remaining (4544, 5000)\n",
        "Processed"
       ]
      },
      {
       "output_type": "stream",
       "stream": "stdout",
       "text": [
        " 368  stargazers. Num nodes/edges in graph 947 / 1447\n",
        "Rate limit remaining (4543, 5000)\n",
        "Processed"
       ]
      },
      {
       "output_type": "stream",
       "stream": "stdout",
       "text": [
        " 369  stargazers. Num nodes/edges in graph 947 / 1447\n",
        "Rate limit remaining (4542, 5000)\n",
        "Processed"
       ]
      },
      {
       "output_type": "stream",
       "stream": "stdout",
       "text": [
        " 370  stargazers. Num nodes/edges in graph 947 / 1447\n",
        "Rate limit remaining (4541, 5000)\n",
        "Processed"
       ]
      },
      {
       "output_type": "stream",
       "stream": "stdout",
       "text": [
        " 371  stargazers. Num nodes/edges in graph 947 / 1447\n",
        "Rate limit remaining (4540, 5000)\n",
        "Processed"
       ]
      },
      {
       "output_type": "stream",
       "stream": "stdout",
       "text": [
        " 372  stargazers. Num nodes/edges in graph 947 / 1449\n",
        "Rate limit remaining (4539, 5000)\n",
        "Processed"
       ]
      },
      {
       "output_type": "stream",
       "stream": "stdout",
       "text": [
        " 373  stargazers. Num nodes/edges in graph 947 / 1449\n",
        "Rate limit remaining (4538, 5000)\n",
        "Processed"
       ]
      },
      {
       "output_type": "stream",
       "stream": "stdout",
       "text": [
        " 374  stargazers. Num nodes/edges in graph 947 / 1450\n",
        "Rate limit remaining (4537, 5000)\n",
        "Processed"
       ]
      },
      {
       "output_type": "stream",
       "stream": "stdout",
       "text": [
        " 375  stargazers. Num nodes/edges in graph 947 / 1450\n",
        "Rate limit remaining (4536, 5000)\n",
        "Processed"
       ]
      },
      {
       "output_type": "stream",
       "stream": "stdout",
       "text": [
        " 376  stargazers. Num nodes/edges in graph 947 / 1450\n",
        "Rate limit remaining (4535, 5000)\n",
        "Processed"
       ]
      },
      {
       "output_type": "stream",
       "stream": "stdout",
       "text": [
        " 377  stargazers. Num nodes/edges in graph 947 / 1452\n",
        "Rate limit remaining (4534, 5000)\n",
        "Processed"
       ]
      },
      {
       "output_type": "stream",
       "stream": "stdout",
       "text": [
        " 378  stargazers. Num nodes/edges in graph 947 / 1453\n",
        "Rate limit remaining (4533, 5000)\n",
        "Processed"
       ]
      },
      {
       "output_type": "stream",
       "stream": "stdout",
       "text": [
        " 379  stargazers. Num nodes/edges in graph 947 / 1459\n",
        "Rate limit remaining (4531, 5000)\n",
        "Processed"
       ]
      },
      {
       "output_type": "stream",
       "stream": "stdout",
       "text": [
        " 380  stargazers. Num nodes/edges in graph 947 / 1459\n",
        "Rate limit remaining (4530, 5000)\n",
        "Processed"
       ]
      },
      {
       "output_type": "stream",
       "stream": "stdout",
       "text": [
        " 381  stargazers. Num nodes/edges in graph 947 / 1459\n",
        "Rate limit remaining (4529, 5000)\n",
        "Processed"
       ]
      },
      {
       "output_type": "stream",
       "stream": "stdout",
       "text": [
        " 382  stargazers. Num nodes/edges in graph 947 / 1459\n",
        "Rate limit remaining (4528, 5000)\n",
        "Processed"
       ]
      },
      {
       "output_type": "stream",
       "stream": "stdout",
       "text": [
        " 383  stargazers. Num nodes/edges in graph 947 / 1459\n",
        "Rate limit remaining (4527, 5000)\n",
        "Processed"
       ]
      },
      {
       "output_type": "stream",
       "stream": "stdout",
       "text": [
        " 384  stargazers. Num nodes/edges in graph 947 / 1459\n",
        "Rate limit remaining (4526, 5000)\n",
        "Processed"
       ]
      },
      {
       "output_type": "stream",
       "stream": "stdout",
       "text": [
        " 385  stargazers. Num nodes/edges in graph 947 / 1460\n",
        "Rate limit remaining (4525, 5000)\n",
        "Processed"
       ]
      },
      {
       "output_type": "stream",
       "stream": "stdout",
       "text": [
        " 386  stargazers. Num nodes/edges in graph 947 / 1460\n",
        "Rate limit remaining (4524, 5000)\n",
        "Processed"
       ]
      },
      {
       "output_type": "stream",
       "stream": "stdout",
       "text": [
        " 387  stargazers. Num nodes/edges in graph 947 / 1463\n",
        "Rate limit remaining (4523, 5000)\n",
        "Processed"
       ]
      },
      {
       "output_type": "stream",
       "stream": "stdout",
       "text": [
        " 388  stargazers. Num nodes/edges in graph 947 / 1463\n",
        "Rate limit remaining (4522, 5000)\n",
        "Processed"
       ]
      },
      {
       "output_type": "stream",
       "stream": "stdout",
       "text": [
        " 389  stargazers. Num nodes/edges in graph 947 / 1465\n",
        "Rate limit remaining (4521, 5000)\n",
        "Processed"
       ]
      },
      {
       "output_type": "stream",
       "stream": "stdout",
       "text": [
        " 390  stargazers. Num nodes/edges in graph 947 / 1465\n",
        "Rate limit remaining (4520, 5000)\n",
        "Processed"
       ]
      },
      {
       "output_type": "stream",
       "stream": "stdout",
       "text": [
        " 391  stargazers. Num nodes/edges in graph 947 / 1465\n",
        "Rate limit remaining (4519, 5000)\n",
        "Processed"
       ]
      },
      {
       "output_type": "stream",
       "stream": "stdout",
       "text": [
        " 392  stargazers. Num nodes/edges in graph 947 / 1465\n",
        "Rate limit remaining (4518, 5000)\n",
        "Processed"
       ]
      },
      {
       "output_type": "stream",
       "stream": "stdout",
       "text": [
        " 393  stargazers. Num nodes/edges in graph 947 / 1465\n",
        "Rate limit remaining (4517, 5000)\n",
        "Processed"
       ]
      },
      {
       "output_type": "stream",
       "stream": "stdout",
       "text": [
        " 394  stargazers. Num nodes/edges in graph 947 / 1465\n",
        "Rate limit remaining (4516, 5000)\n",
        "Processed"
       ]
      },
      {
       "output_type": "stream",
       "stream": "stdout",
       "text": [
        " 395  stargazers. Num nodes/edges in graph 947 / 1466\n",
        "Rate limit remaining (4515, 5000)\n",
        "Processed"
       ]
      },
      {
       "output_type": "stream",
       "stream": "stdout",
       "text": [
        " 396  stargazers. Num nodes/edges in graph 947 / 1467\n",
        "Rate limit remaining (4514, 5000)\n",
        "Processed"
       ]
      },
      {
       "output_type": "stream",
       "stream": "stdout",
       "text": [
        " 397  stargazers. Num nodes/edges in graph 947 / 1467\n",
        "Rate limit remaining (4513, 5000)\n",
        "Processed"
       ]
      },
      {
       "output_type": "stream",
       "stream": "stdout",
       "text": [
        " 398  stargazers. Num nodes/edges in graph 947 / 1467\n",
        "Rate limit remaining (4512, 5000)\n",
        "Processed"
       ]
      },
      {
       "output_type": "stream",
       "stream": "stdout",
       "text": [
        " 399  stargazers. Num nodes/edges in graph 947 / 1467\n",
        "Rate limit remaining (4511, 5000)\n",
        "Processed"
       ]
      },
      {
       "output_type": "stream",
       "stream": "stdout",
       "text": [
        " 400  stargazers. Num nodes/edges in graph 947 / 1467\n",
        "Rate limit remaining (4510, 5000)\n",
        "Processed"
       ]
      },
      {
       "output_type": "stream",
       "stream": "stdout",
       "text": [
        " 401  stargazers. Num nodes/edges in graph 947 / 1471\n",
        "Rate limit remaining (4509, 5000)\n",
        "Processed"
       ]
      },
      {
       "output_type": "stream",
       "stream": "stdout",
       "text": [
        " 402  stargazers. Num nodes/edges in graph 947 / 1473\n",
        "Rate limit remaining (4508, 5000)\n",
        "Processed"
       ]
      },
      {
       "output_type": "stream",
       "stream": "stdout",
       "text": [
        " 403  stargazers. Num nodes/edges in graph 947 / 1473\n",
        "Rate limit remaining (4507, 5000)\n",
        "Processed"
       ]
      },
      {
       "output_type": "stream",
       "stream": "stdout",
       "text": [
        " 404  stargazers. Num nodes/edges in graph 947 / 1473\n",
        "Rate limit remaining (4506, 5000)\n",
        "Processed"
       ]
      },
      {
       "output_type": "stream",
       "stream": "stdout",
       "text": [
        " 405  stargazers. Num nodes/edges in graph 947 / 1474\n",
        "Rate limit remaining (4505, 5000)\n",
        "Processed"
       ]
      },
      {
       "output_type": "stream",
       "stream": "stdout",
       "text": [
        " 406  stargazers. Num nodes/edges in graph 947 / 1474\n",
        "Rate limit remaining (4504, 5000)\n",
        "Processed"
       ]
      },
      {
       "output_type": "stream",
       "stream": "stdout",
       "text": [
        " 407  stargazers. Num nodes/edges in graph 947 / 1474\n",
        "Rate limit remaining (4503, 5000)\n",
        "Processed"
       ]
      },
      {
       "output_type": "stream",
       "stream": "stdout",
       "text": [
        " 408  stargazers. Num nodes/edges in graph 947 / 1474\n",
        "Rate limit remaining (4502, 5000)\n",
        "Processed"
       ]
      },
      {
       "output_type": "stream",
       "stream": "stdout",
       "text": [
        " 409  stargazers. Num nodes/edges in graph 947 / 1475\n",
        "Rate limit remaining (4501, 5000)\n",
        "Processed"
       ]
      },
      {
       "output_type": "stream",
       "stream": "stdout",
       "text": [
        " 410  stargazers. Num nodes/edges in graph 947 / 1476\n",
        "Rate limit remaining (4500, 5000)\n",
        "Processed"
       ]
      },
      {
       "output_type": "stream",
       "stream": "stdout",
       "text": [
        " 411  stargazers. Num nodes/edges in graph 947 / 1476\n",
        "Rate limit remaining (4499, 5000)\n",
        "Processed"
       ]
      },
      {
       "output_type": "stream",
       "stream": "stdout",
       "text": [
        " 412  stargazers. Num nodes/edges in graph 947 / 1476\n",
        "Rate limit remaining (4498, 5000)\n",
        "Processed"
       ]
      },
      {
       "output_type": "stream",
       "stream": "stdout",
       "text": [
        " 413  stargazers. Num nodes/edges in graph 947 / 1477\n",
        "Rate limit remaining (4497, 5000)\n",
        "Processed"
       ]
      },
      {
       "output_type": "stream",
       "stream": "stdout",
       "text": [
        " 414  stargazers. Num nodes/edges in graph 947 / 1477\n",
        "Rate limit remaining (4496, 5000)\n",
        "Processed"
       ]
      },
      {
       "output_type": "stream",
       "stream": "stdout",
       "text": [
        " 415  stargazers. Num nodes/edges in graph 947 / 1477\n",
        "Rate limit remaining (4495, 5000)\n",
        "Processed"
       ]
      },
      {
       "output_type": "stream",
       "stream": "stdout",
       "text": [
        " 416  stargazers. Num nodes/edges in graph 947 / 1477\n",
        "Rate limit remaining (4494, 5000)\n",
        "Processed"
       ]
      },
      {
       "output_type": "stream",
       "stream": "stdout",
       "text": [
        " 417  stargazers. Num nodes/edges in graph 947 / 1477\n",
        "Rate limit remaining (4493, 5000)\n",
        "Processed"
       ]
      },
      {
       "output_type": "stream",
       "stream": "stdout",
       "text": [
        " 418  stargazers. Num nodes/edges in graph 947 / 1481\n",
        "Rate limit remaining (4491, 5000)\n",
        "Processed"
       ]
      },
      {
       "output_type": "stream",
       "stream": "stdout",
       "text": [
        " 419  stargazers. Num nodes/edges in graph 947 / 1481\n",
        "Rate limit remaining (4490, 5000)\n",
        "Processed"
       ]
      },
      {
       "output_type": "stream",
       "stream": "stdout",
       "text": [
        " 420  stargazers. Num nodes/edges in graph 947 / 1481\n",
        "Rate limit remaining (4489, 5000)\n",
        "Processed"
       ]
      },
      {
       "output_type": "stream",
       "stream": "stdout",
       "text": [
        " 421  stargazers. Num nodes/edges in graph 947 / 1483\n",
        "Rate limit remaining (4488, 5000)\n",
        "Processed"
       ]
      },
      {
       "output_type": "stream",
       "stream": "stdout",
       "text": [
        " 422  stargazers. Num nodes/edges in graph 947 / 1483\n",
        "Rate limit remaining (4487, 5000)\n",
        "Processed"
       ]
      },
      {
       "output_type": "stream",
       "stream": "stdout",
       "text": [
        " 423  stargazers. Num nodes/edges in graph 947 / 1483\n",
        "Rate limit remaining (4486, 5000)\n",
        "Processed"
       ]
      },
      {
       "output_type": "stream",
       "stream": "stdout",
       "text": [
        " 424  stargazers. Num nodes/edges in graph 947 / 1483\n",
        "Rate limit remaining (4485, 5000)\n",
        "Processed"
       ]
      },
      {
       "output_type": "stream",
       "stream": "stdout",
       "text": [
        " 425  stargazers. Num nodes/edges in graph 947 / 1483\n",
        "Rate limit remaining (4484, 5000)\n",
        "Processed"
       ]
      },
      {
       "output_type": "stream",
       "stream": "stdout",
       "text": [
        " 426  stargazers. Num nodes/edges in graph 947 / 1483\n",
        "Rate limit remaining (4483, 5000)\n",
        "Processed"
       ]
      },
      {
       "output_type": "stream",
       "stream": "stdout",
       "text": [
        " 427  stargazers. Num nodes/edges in graph 947 / 1483\n",
        "Rate limit remaining (4482, 5000)\n",
        "Processed"
       ]
      },
      {
       "output_type": "stream",
       "stream": "stdout",
       "text": [
        " 428  stargazers. Num nodes/edges in graph 947 / 1483\n",
        "Rate limit remaining (4481, 5000)\n",
        "Processed"
       ]
      },
      {
       "output_type": "stream",
       "stream": "stdout",
       "text": [
        " 429  stargazers. Num nodes/edges in graph 947 / 1483\n",
        "Rate limit remaining (4480, 5000)\n",
        "Processed"
       ]
      },
      {
       "output_type": "stream",
       "stream": "stdout",
       "text": [
        " 430  stargazers. Num nodes/edges in graph 947 / 1483\n",
        "Rate limit remaining (4479, 5000)\n",
        "Processed"
       ]
      },
      {
       "output_type": "stream",
       "stream": "stdout",
       "text": [
        " 431  stargazers. Num nodes/edges in graph 947 / 1483\n",
        "Rate limit remaining (4478, 5000)\n",
        "Processed"
       ]
      },
      {
       "output_type": "stream",
       "stream": "stdout",
       "text": [
        " 432  stargazers. Num nodes/edges in graph 947 / 1483\n",
        "Rate limit remaining (4477, 5000)\n",
        "Processed"
       ]
      },
      {
       "output_type": "stream",
       "stream": "stdout",
       "text": [
        " 433  stargazers. Num nodes/edges in graph 947 / 1483\n",
        "Rate limit remaining (4476, 5000)\n",
        "Processed"
       ]
      },
      {
       "output_type": "stream",
       "stream": "stdout",
       "text": [
        " 434  stargazers. Num nodes/edges in graph 947 / 1483\n",
        "Rate limit remaining (4475, 5000)\n",
        "Processed"
       ]
      },
      {
       "output_type": "stream",
       "stream": "stdout",
       "text": [
        " 435  stargazers. Num nodes/edges in graph 947 / 1483\n",
        "Rate limit remaining (4474, 5000)\n",
        "Processed"
       ]
      },
      {
       "output_type": "stream",
       "stream": "stdout",
       "text": [
        " 436  stargazers. Num nodes/edges in graph 947 / 1484\n",
        "Rate limit remaining (4473, 5000)\n",
        "Processed"
       ]
      },
      {
       "output_type": "stream",
       "stream": "stdout",
       "text": [
        " 437  stargazers. Num nodes/edges in graph 947 / 1484\n",
        "Rate limit remaining (4472, 5000)\n",
        "Processed"
       ]
      },
      {
       "output_type": "stream",
       "stream": "stdout",
       "text": [
        " 438  stargazers. Num nodes/edges in graph 947 / 1484\n",
        "Rate limit remaining (4471, 5000)\n",
        "Processed"
       ]
      },
      {
       "output_type": "stream",
       "stream": "stdout",
       "text": [
        " 439  stargazers. Num nodes/edges in graph 947 / 1484\n",
        "Rate limit remaining (4470, 5000)\n",
        "Processed"
       ]
      },
      {
       "output_type": "stream",
       "stream": "stdout",
       "text": [
        " 440  stargazers. Num nodes/edges in graph 947 / 1484\n",
        "Rate limit remaining (4469, 5000)\n",
        "Processed"
       ]
      },
      {
       "output_type": "stream",
       "stream": "stdout",
       "text": [
        " 441  stargazers. Num nodes/edges in graph 947 / 1484\n",
        "Rate limit remaining (4468, 5000)\n",
        "Processed"
       ]
      },
      {
       "output_type": "stream",
       "stream": "stdout",
       "text": [
        " 442  stargazers. Num nodes/edges in graph 947 / 1484\n",
        "Rate limit remaining (4467, 5000)\n",
        "Processed"
       ]
      },
      {
       "output_type": "stream",
       "stream": "stdout",
       "text": [
        " 443  stargazers. Num nodes/edges in graph 947 / 1486\n",
        "Rate limit remaining (4466, 5000)\n",
        "Processed"
       ]
      },
      {
       "output_type": "stream",
       "stream": "stdout",
       "text": [
        " 444  stargazers. Num nodes/edges in graph 947 / 1487\n",
        "Rate limit remaining (4465, 5000)\n",
        "Processed"
       ]
      },
      {
       "output_type": "stream",
       "stream": "stdout",
       "text": [
        " 445  stargazers. Num nodes/edges in graph 947 / 1487\n",
        "Rate limit remaining (4464, 5000)\n",
        "Processed"
       ]
      },
      {
       "output_type": "stream",
       "stream": "stdout",
       "text": [
        " 446  stargazers. Num nodes/edges in graph 947 / 1487\n",
        "Rate limit remaining (4463, 5000)\n",
        "Processed"
       ]
      },
      {
       "output_type": "stream",
       "stream": "stdout",
       "text": [
        " 447  stargazers. Num nodes/edges in graph 947 / 1487\n",
        "Rate limit remaining (4462, 5000)\n",
        "Processed"
       ]
      },
      {
       "output_type": "stream",
       "stream": "stdout",
       "text": [
        " 448  stargazers. Num nodes/edges in graph 947 / 1487\n",
        "Rate limit remaining (4461, 5000)\n",
        "Processed"
       ]
      },
      {
       "output_type": "stream",
       "stream": "stdout",
       "text": [
        " 449  stargazers. Num nodes/edges in graph 947 / 1487\n",
        "Rate limit remaining (4460, 5000)\n",
        "Processed"
       ]
      },
      {
       "output_type": "stream",
       "stream": "stdout",
       "text": [
        " 450  stargazers. Num nodes/edges in graph 947 / 1488\n",
        "Rate limit remaining (4459, 5000)\n",
        "Processed"
       ]
      },
      {
       "output_type": "stream",
       "stream": "stdout",
       "text": [
        " 451  stargazers. Num nodes/edges in graph 947 / 1488\n",
        "Rate limit remaining (4458, 5000)\n",
        "Processed"
       ]
      },
      {
       "output_type": "stream",
       "stream": "stdout",
       "text": [
        " 452  stargazers. Num nodes/edges in graph 947 / 1488\n",
        "Rate limit remaining (4457, 5000)\n",
        "Processed"
       ]
      },
      {
       "output_type": "stream",
       "stream": "stdout",
       "text": [
        " 453  stargazers. Num nodes/edges in graph 947 / 1488\n",
        "Rate limit remaining (4456, 5000)\n",
        "Processed"
       ]
      },
      {
       "output_type": "stream",
       "stream": "stdout",
       "text": [
        " 454  stargazers. Num nodes/edges in graph 947 / 1488\n",
        "Rate limit remaining (4455, 5000)\n",
        "Processed"
       ]
      },
      {
       "output_type": "stream",
       "stream": "stdout",
       "text": [
        " 455  stargazers. Num nodes/edges in graph 947 / 1489\n",
        "Rate limit remaining (4454, 5000)\n",
        "Processed"
       ]
      },
      {
       "output_type": "stream",
       "stream": "stdout",
       "text": [
        " 456  stargazers. Num nodes/edges in graph 947 / 1489\n",
        "Rate limit remaining (4453, 5000)\n",
        "Processed"
       ]
      },
      {
       "output_type": "stream",
       "stream": "stdout",
       "text": [
        " 457  stargazers. Num nodes/edges in graph 947 / 1489\n",
        "Rate limit remaining (4452, 5000)\n",
        "Processed"
       ]
      },
      {
       "output_type": "stream",
       "stream": "stdout",
       "text": [
        " 458  stargazers. Num nodes/edges in graph 947 / 1489\n",
        "Rate limit remaining (4451, 5000)\n",
        "Processed"
       ]
      },
      {
       "output_type": "stream",
       "stream": "stdout",
       "text": [
        " 459  stargazers. Num nodes/edges in graph 947 / 1490\n",
        "Rate limit remaining (4450, 5000)\n",
        "Processed"
       ]
      },
      {
       "output_type": "stream",
       "stream": "stdout",
       "text": [
        " 460  stargazers. Num nodes/edges in graph 947 / 1490\n",
        "Rate limit remaining (4449, 5000)\n",
        "Processed"
       ]
      },
      {
       "output_type": "stream",
       "stream": "stdout",
       "text": [
        " 461  stargazers. Num nodes/edges in graph 947 / 1491\n",
        "Rate limit remaining (4448, 5000)\n",
        "Processed"
       ]
      },
      {
       "output_type": "stream",
       "stream": "stdout",
       "text": [
        " 462  stargazers. Num nodes/edges in graph 947 / 1491\n",
        "Rate limit remaining (4447, 5000)\n",
        "Processed"
       ]
      },
      {
       "output_type": "stream",
       "stream": "stdout",
       "text": [
        " 463  stargazers. Num nodes/edges in graph 947 / 1492\n",
        "Rate limit remaining (4446, 5000)\n",
        "Processed"
       ]
      },
      {
       "output_type": "stream",
       "stream": "stdout",
       "text": [
        " 464  stargazers. Num nodes/edges in graph 947 / 1494\n",
        "Rate limit remaining (4445, 5000)\n",
        "Processed"
       ]
      },
      {
       "output_type": "stream",
       "stream": "stdout",
       "text": [
        " 465  stargazers. Num nodes/edges in graph 947 / 1494\n",
        "Rate limit remaining (4444, 5000)\n",
        "Processed"
       ]
      },
      {
       "output_type": "stream",
       "stream": "stdout",
       "text": [
        " 466  stargazers. Num nodes/edges in graph 947 / 1494\n",
        "Rate limit remaining (4443, 5000)\n",
        "Processed"
       ]
      },
      {
       "output_type": "stream",
       "stream": "stdout",
       "text": [
        " 467  stargazers. Num nodes/edges in graph 947 / 1495\n",
        "Rate limit remaining (4442, 5000)\n",
        "Processed"
       ]
      },
      {
       "output_type": "stream",
       "stream": "stdout",
       "text": [
        " 468  stargazers. Num nodes/edges in graph 947 / 1495\n",
        "Rate limit remaining (4441, 5000)\n",
        "Processed"
       ]
      },
      {
       "output_type": "stream",
       "stream": "stdout",
       "text": [
        " 469  stargazers. Num nodes/edges in graph 947 / 1495\n",
        "Rate limit remaining (4440, 5000)\n",
        "Processed"
       ]
      },
      {
       "output_type": "stream",
       "stream": "stdout",
       "text": [
        " 470  stargazers. Num nodes/edges in graph 947 / 1498\n",
        "Rate limit remaining (4439, 5000)\n",
        "Processed"
       ]
      },
      {
       "output_type": "stream",
       "stream": "stdout",
       "text": [
        " 471  stargazers. Num nodes/edges in graph 947 / 1498\n",
        "Rate limit remaining (4438, 5000)\n",
        "Processed"
       ]
      },
      {
       "output_type": "stream",
       "stream": "stdout",
       "text": [
        " 472  stargazers. Num nodes/edges in graph 947 / 1498\n",
        "Rate limit remaining (4437, 5000)\n",
        "Processed"
       ]
      },
      {
       "output_type": "stream",
       "stream": "stdout",
       "text": [
        " 473  stargazers. Num nodes/edges in graph 947 / 1498\n",
        "Rate limit remaining (4436, 5000)\n",
        "Processed"
       ]
      },
      {
       "output_type": "stream",
       "stream": "stdout",
       "text": [
        " 474  stargazers. Num nodes/edges in graph 947 / 1498\n",
        "Rate limit remaining (4435, 5000)\n",
        "Processed"
       ]
      },
      {
       "output_type": "stream",
       "stream": "stdout",
       "text": [
        " 475  stargazers. Num nodes/edges in graph 947 / 1498\n",
        "Rate limit remaining (4434, 5000)\n",
        "Processed"
       ]
      },
      {
       "output_type": "stream",
       "stream": "stdout",
       "text": [
        " 476  stargazers. Num nodes/edges in graph 947 / 1498\n",
        "Rate limit remaining (4433, 5000)\n",
        "Processed"
       ]
      },
      {
       "output_type": "stream",
       "stream": "stdout",
       "text": [
        " 477  stargazers. Num nodes/edges in graph 947 / 1498\n",
        "Rate limit remaining (4432, 5000)\n",
        "Processed"
       ]
      },
      {
       "output_type": "stream",
       "stream": "stdout",
       "text": [
        " 478  stargazers. Num nodes/edges in graph 947 / 1499\n",
        "Rate limit remaining (4431, 5000)\n",
        "Processed"
       ]
      },
      {
       "output_type": "stream",
       "stream": "stdout",
       "text": [
        " 479  stargazers. Num nodes/edges in graph 947 / 1499\n",
        "Rate limit remaining (4430, 5000)\n",
        "Processed"
       ]
      },
      {
       "output_type": "stream",
       "stream": "stdout",
       "text": [
        " 480  stargazers. Num nodes/edges in graph 947 / 1499\n",
        "Rate limit remaining (4429, 5000)\n",
        "Processed"
       ]
      },
      {
       "output_type": "stream",
       "stream": "stdout",
       "text": [
        " 481  stargazers. Num nodes/edges in graph 947 / 1499\n",
        "Rate limit remaining (4428, 5000)\n",
        "Processed"
       ]
      },
      {
       "output_type": "stream",
       "stream": "stdout",
       "text": [
        " 482  stargazers. Num nodes/edges in graph 947 / 1499\n",
        "Rate limit remaining (4427, 5000)\n",
        "Processed"
       ]
      },
      {
       "output_type": "stream",
       "stream": "stdout",
       "text": [
        " 483  stargazers. Num nodes/edges in graph 947 / 1499\n",
        "Rate limit remaining (4426, 5000)\n",
        "Processed"
       ]
      },
      {
       "output_type": "stream",
       "stream": "stdout",
       "text": [
        " 484  stargazers. Num nodes/edges in graph 947 / 1501\n",
        "Rate limit remaining (4425, 5000)\n",
        "Processed"
       ]
      },
      {
       "output_type": "stream",
       "stream": "stdout",
       "text": [
        " 485  stargazers. Num nodes/edges in graph 947 / 1501\n",
        "Rate limit remaining (4424, 5000)\n",
        "Processed"
       ]
      },
      {
       "output_type": "stream",
       "stream": "stdout",
       "text": [
        " 486  stargazers. Num nodes/edges in graph 947 / 1504\n",
        "Rate limit remaining (4423, 5000)\n",
        "Processed"
       ]
      },
      {
       "output_type": "stream",
       "stream": "stdout",
       "text": [
        " 487  stargazers. Num nodes/edges in graph 947 / 1504\n",
        "Rate limit remaining (4422, 5000)\n",
        "Processed"
       ]
      },
      {
       "output_type": "stream",
       "stream": "stdout",
       "text": [
        " 488  stargazers. Num nodes/edges in graph 947 / 1504\n",
        "Rate limit remaining (4421, 5000)\n",
        "Processed"
       ]
      },
      {
       "output_type": "stream",
       "stream": "stdout",
       "text": [
        " 489  stargazers. Num nodes/edges in graph 947 / 1504\n",
        "Rate limit remaining (4420, 5000)\n",
        "Processed"
       ]
      },
      {
       "output_type": "stream",
       "stream": "stdout",
       "text": [
        " 490  stargazers. Num nodes/edges in graph 947 / 1504\n",
        "Rate limit remaining (4419, 5000)\n",
        "Processed"
       ]
      },
      {
       "output_type": "stream",
       "stream": "stdout",
       "text": [
        " 491  stargazers. Num nodes/edges in graph 947 / 1504\n",
        "Rate limit remaining (4418, 5000)\n",
        "Processed"
       ]
      },
      {
       "output_type": "stream",
       "stream": "stdout",
       "text": [
        " 492  stargazers. Num nodes/edges in graph 947 / 1504\n",
        "Rate limit remaining (4417, 5000)\n",
        "Processed"
       ]
      },
      {
       "output_type": "stream",
       "stream": "stdout",
       "text": [
        " 493  stargazers. Num nodes/edges in graph 947 / 1506\n",
        "Rate limit remaining (4416, 5000)\n",
        "Processed"
       ]
      },
      {
       "output_type": "stream",
       "stream": "stdout",
       "text": [
        " 494  stargazers. Num nodes/edges in graph 947 / 1506\n",
        "Rate limit remaining (4415, 5000)\n",
        "Processed"
       ]
      },
      {
       "output_type": "stream",
       "stream": "stdout",
       "text": [
        " 495  stargazers. Num nodes/edges in graph 947 / 1506\n",
        "Rate limit remaining (4414, 5000)\n",
        "Processed"
       ]
      },
      {
       "output_type": "stream",
       "stream": "stdout",
       "text": [
        " 496  stargazers. Num nodes/edges in graph 947 / 1506\n",
        "Rate limit remaining (4413, 5000)\n",
        "Processed"
       ]
      },
      {
       "output_type": "stream",
       "stream": "stdout",
       "text": [
        " 497  stargazers. Num nodes/edges in graph 947 / 1507\n",
        "Rate limit remaining (4412, 5000)\n",
        "Processed"
       ]
      },
      {
       "output_type": "stream",
       "stream": "stdout",
       "text": [
        " 498  stargazers. Num nodes/edges in graph 947 / 1507\n",
        "Rate limit remaining (4411, 5000)\n",
        "Processed"
       ]
      },
      {
       "output_type": "stream",
       "stream": "stdout",
       "text": [
        " 499  stargazers. Num nodes/edges in graph 947 / 1507\n",
        "Rate limit remaining (4410, 5000)\n",
        "Processed"
       ]
      },
      {
       "output_type": "stream",
       "stream": "stdout",
       "text": [
        " 500  stargazers. Num nodes/edges in graph 947 / 1507\n",
        "Rate limit remaining (4409, 5000)\n",
        "Processed"
       ]
      },
      {
       "output_type": "stream",
       "stream": "stdout",
       "text": [
        " 501  stargazers. Num nodes/edges in graph 947 / 1508\n",
        "Rate limit remaining (4408, 5000)\n",
        "Processed"
       ]
      },
      {
       "output_type": "stream",
       "stream": "stdout",
       "text": [
        " 502  stargazers. Num nodes/edges in graph 947 / 1509\n",
        "Rate limit remaining (4407, 5000)\n",
        "Processed"
       ]
      },
      {
       "output_type": "stream",
       "stream": "stdout",
       "text": [
        " 503  stargazers. Num nodes/edges in graph 947 / 1509\n",
        "Rate limit remaining (4406, 5000)\n",
        "Processed"
       ]
      },
      {
       "output_type": "stream",
       "stream": "stdout",
       "text": [
        " 504  stargazers. Num nodes/edges in graph 947 / 1510\n",
        "Rate limit remaining (4405, 5000)\n",
        "Processed"
       ]
      },
      {
       "output_type": "stream",
       "stream": "stdout",
       "text": [
        " 505  stargazers. Num nodes/edges in graph 947 / 1511\n",
        "Rate limit remaining (4404, 5000)\n",
        "Processed"
       ]
      },
      {
       "output_type": "stream",
       "stream": "stdout",
       "text": [
        " 506  stargazers. Num nodes/edges in graph 947 / 1511\n",
        "Rate limit remaining (4403, 5000)\n",
        "Processed"
       ]
      },
      {
       "output_type": "stream",
       "stream": "stdout",
       "text": [
        " 507  stargazers. Num nodes/edges in graph 947 / 1512\n",
        "Rate limit remaining (4402, 5000)\n",
        "Processed"
       ]
      },
      {
       "output_type": "stream",
       "stream": "stdout",
       "text": [
        " 508  stargazers. Num nodes/edges in graph 947 / 1512\n",
        "Rate limit remaining (4401, 5000)\n",
        "Processed"
       ]
      },
      {
       "output_type": "stream",
       "stream": "stdout",
       "text": [
        " 509  stargazers. Num nodes/edges in graph 947 / 1512\n",
        "Rate limit remaining (4400, 5000)\n",
        "Processed"
       ]
      },
      {
       "output_type": "stream",
       "stream": "stdout",
       "text": [
        " 510  stargazers. Num nodes/edges in graph 947 / 1512\n",
        "Rate limit remaining (4399, 5000)\n",
        "Processed"
       ]
      },
      {
       "output_type": "stream",
       "stream": "stdout",
       "text": [
        " 511  stargazers. Num nodes/edges in graph 947 / 1512\n",
        "Rate limit remaining (4398, 5000)\n",
        "Processed"
       ]
      },
      {
       "output_type": "stream",
       "stream": "stdout",
       "text": [
        " 512  stargazers. Num nodes/edges in graph 947 / 1512\n",
        "Rate limit remaining (4397, 5000)\n",
        "Processed"
       ]
      },
      {
       "output_type": "stream",
       "stream": "stdout",
       "text": [
        " 513  stargazers. Num nodes/edges in graph 947 / 1512\n",
        "Rate limit remaining (4396, 5000)\n",
        "Processed"
       ]
      },
      {
       "output_type": "stream",
       "stream": "stdout",
       "text": [
        " 514  stargazers. Num nodes/edges in graph 947 / 1512\n",
        "Rate limit remaining (4395, 5000)\n",
        "Processed"
       ]
      },
      {
       "output_type": "stream",
       "stream": "stdout",
       "text": [
        " 515  stargazers. Num nodes/edges in graph 947 / 1512\n",
        "Rate limit remaining (4394, 5000)\n",
        "Processed"
       ]
      },
      {
       "output_type": "stream",
       "stream": "stdout",
       "text": [
        " 516  stargazers. Num nodes/edges in graph 947 / 1512\n",
        "Rate limit remaining (4393, 5000)\n",
        "Processed"
       ]
      },
      {
       "output_type": "stream",
       "stream": "stdout",
       "text": [
        " 517  stargazers. Num nodes/edges in graph 947 / 1512\n",
        "Rate limit remaining (4392, 5000)\n",
        "Processed"
       ]
      },
      {
       "output_type": "stream",
       "stream": "stdout",
       "text": [
        " 518  stargazers. Num nodes/edges in graph 947 / 1512\n",
        "Rate limit remaining (4391, 5000)\n",
        "Processed"
       ]
      },
      {
       "output_type": "stream",
       "stream": "stdout",
       "text": [
        " 519  stargazers. Num nodes/edges in graph 947 / 1512\n",
        "Rate limit remaining (4390, 5000)\n",
        "Processed"
       ]
      },
      {
       "output_type": "stream",
       "stream": "stdout",
       "text": [
        " 520  stargazers. Num nodes/edges in graph 947 / 1512\n",
        "Rate limit remaining (4389, 5000)\n",
        "Processed"
       ]
      },
      {
       "output_type": "stream",
       "stream": "stdout",
       "text": [
        " 521  stargazers. Num nodes/edges in graph 947 / 1512\n",
        "Rate limit remaining (4388, 5000)\n",
        "Processed"
       ]
      },
      {
       "output_type": "stream",
       "stream": "stdout",
       "text": [
        " 522  stargazers. Num nodes/edges in graph 947 / 1512\n",
        "Rate limit remaining (4387, 5000)\n",
        "Processed"
       ]
      },
      {
       "output_type": "stream",
       "stream": "stdout",
       "text": [
        " 523  stargazers. Num nodes/edges in graph 947 / 1512\n",
        "Rate limit remaining (4386, 5000)\n",
        "Processed"
       ]
      },
      {
       "output_type": "stream",
       "stream": "stdout",
       "text": [
        " 524  stargazers. Num nodes/edges in graph 947 / 1512\n",
        "Rate limit remaining (4385, 5000)\n",
        "Processed"
       ]
      },
      {
       "output_type": "stream",
       "stream": "stdout",
       "text": [
        " 525  stargazers. Num nodes/edges in graph 947 / 1513\n",
        "Rate limit remaining (4384, 5000)\n",
        "Processed"
       ]
      },
      {
       "output_type": "stream",
       "stream": "stdout",
       "text": [
        " 526  stargazers. Num nodes/edges in graph 947 / 1513\n",
        "Rate limit remaining (4383, 5000)\n",
        "Processed"
       ]
      },
      {
       "output_type": "stream",
       "stream": "stdout",
       "text": [
        " 527  stargazers. Num nodes/edges in graph 947 / 1513\n",
        "Rate limit remaining (4382, 5000)\n",
        "Processed"
       ]
      },
      {
       "output_type": "stream",
       "stream": "stdout",
       "text": [
        " 528  stargazers. Num nodes/edges in graph 947 / 1513\n",
        "Rate limit remaining (4381, 5000)\n",
        "Processed"
       ]
      },
      {
       "output_type": "stream",
       "stream": "stdout",
       "text": [
        " 529  stargazers. Num nodes/edges in graph 947 / 1513\n",
        "Rate limit remaining (4380, 5000)\n",
        "Processed"
       ]
      },
      {
       "output_type": "stream",
       "stream": "stdout",
       "text": [
        " 530  stargazers. Num nodes/edges in graph 947 / 1513\n",
        "Rate limit remaining (4379, 5000)\n",
        "Processed"
       ]
      },
      {
       "output_type": "stream",
       "stream": "stdout",
       "text": [
        " 531  stargazers. Num nodes/edges in graph 947 / 1513\n",
        "Rate limit remaining (4378, 5000)\n",
        "Processed"
       ]
      },
      {
       "output_type": "stream",
       "stream": "stdout",
       "text": [
        " 532  stargazers. Num nodes/edges in graph 947 / 1518\n",
        "Rate limit remaining (4376, 5000)\n",
        "Processed"
       ]
      },
      {
       "output_type": "stream",
       "stream": "stdout",
       "text": [
        " 533  stargazers. Num nodes/edges in graph 947 / 1518\n",
        "Rate limit remaining (4375, 5000)\n",
        "Processed"
       ]
      },
      {
       "output_type": "stream",
       "stream": "stdout",
       "text": [
        " 534  stargazers. Num nodes/edges in graph 947 / 1519\n",
        "Rate limit remaining (4374, 5000)\n",
        "Processed"
       ]
      },
      {
       "output_type": "stream",
       "stream": "stdout",
       "text": [
        " 535  stargazers. Num nodes/edges in graph 947 / 1519\n",
        "Rate limit remaining (4373, 5000)\n",
        "Processed"
       ]
      },
      {
       "output_type": "stream",
       "stream": "stdout",
       "text": [
        " 536  stargazers. Num nodes/edges in graph 947 / 1519\n",
        "Rate limit remaining (4372, 5000)\n",
        "Processed"
       ]
      },
      {
       "output_type": "stream",
       "stream": "stdout",
       "text": [
        " 537  stargazers. Num nodes/edges in graph 947 / 1519\n",
        "Rate limit remaining (4371, 5000)\n",
        "Processed"
       ]
      },
      {
       "output_type": "stream",
       "stream": "stdout",
       "text": [
        " 538  stargazers. Num nodes/edges in graph 947 / 1519\n",
        "Rate limit remaining (4370, 5000)\n",
        "Processed"
       ]
      },
      {
       "output_type": "stream",
       "stream": "stdout",
       "text": [
        " 539  stargazers. Num nodes/edges in graph 947 / 1519\n",
        "Rate limit remaining (4369, 5000)\n",
        "Processed"
       ]
      },
      {
       "output_type": "stream",
       "stream": "stdout",
       "text": [
        " 540  stargazers. Num nodes/edges in graph 947 / 1519\n",
        "Rate limit remaining (4368, 5000)\n",
        "Processed"
       ]
      },
      {
       "output_type": "stream",
       "stream": "stdout",
       "text": [
        " 541  stargazers. Num nodes/edges in graph 947 / 1519\n",
        "Rate limit remaining (4367, 5000)\n",
        "Processed"
       ]
      },
      {
       "output_type": "stream",
       "stream": "stdout",
       "text": [
        " 542  stargazers. Num nodes/edges in graph 947 / 1519\n",
        "Rate limit remaining (4366, 5000)\n",
        "Processed"
       ]
      },
      {
       "output_type": "stream",
       "stream": "stdout",
       "text": [
        " 543  stargazers. Num nodes/edges in graph 947 / 1520\n",
        "Rate limit remaining (4365, 5000)\n",
        "Processed"
       ]
      },
      {
       "output_type": "stream",
       "stream": "stdout",
       "text": [
        " 544  stargazers. Num nodes/edges in graph 947 / 1520\n",
        "Rate limit remaining (4364, 5000)\n",
        "Processed"
       ]
      },
      {
       "output_type": "stream",
       "stream": "stdout",
       "text": [
        " 545  stargazers. Num nodes/edges in graph 947 / 1520\n",
        "Rate limit remaining (4363, 5000)\n",
        "Processed"
       ]
      },
      {
       "output_type": "stream",
       "stream": "stdout",
       "text": [
        " 546  stargazers. Num nodes/edges in graph 947 / 1520\n",
        "Rate limit remaining (4362, 5000)\n",
        "Processed"
       ]
      },
      {
       "output_type": "stream",
       "stream": "stdout",
       "text": [
        " 547  stargazers. Num nodes/edges in graph 947 / 1521\n",
        "Rate limit remaining (4361, 5000)\n",
        "Processed"
       ]
      },
      {
       "output_type": "stream",
       "stream": "stdout",
       "text": [
        " 548  stargazers. Num nodes/edges in graph 947 / 1521\n",
        "Rate limit remaining (4360, 5000)\n",
        "Processed"
       ]
      },
      {
       "output_type": "stream",
       "stream": "stdout",
       "text": [
        " 549  stargazers. Num nodes/edges in graph 947 / 1523\n",
        "Rate limit remaining (4359, 5000)\n",
        "Processed"
       ]
      },
      {
       "output_type": "stream",
       "stream": "stdout",
       "text": [
        " 550  stargazers. Num nodes/edges in graph 947 / 1523\n",
        "Rate limit remaining (4358, 5000)\n",
        "Processed"
       ]
      },
      {
       "output_type": "stream",
       "stream": "stdout",
       "text": [
        " 551  stargazers. Num nodes/edges in graph 947 / 1524\n",
        "Rate limit remaining (4357, 5000)\n",
        "Processed"
       ]
      },
      {
       "output_type": "stream",
       "stream": "stdout",
       "text": [
        " 552  stargazers. Num nodes/edges in graph 947 / 1526\n",
        "Rate limit remaining (4356, 5000)\n",
        "Processed"
       ]
      },
      {
       "output_type": "stream",
       "stream": "stdout",
       "text": [
        " 553  stargazers. Num nodes/edges in graph 947 / 1526\n",
        "Rate limit remaining (4355, 5000)\n",
        "Processed"
       ]
      },
      {
       "output_type": "stream",
       "stream": "stdout",
       "text": [
        " 554  stargazers. Num nodes/edges in graph 947 / 1526\n",
        "Rate limit remaining (4354, 5000)\n",
        "Processed"
       ]
      },
      {
       "output_type": "stream",
       "stream": "stdout",
       "text": [
        " 555  stargazers. Num nodes/edges in graph 947 / 1526\n",
        "Rate limit remaining (4353, 5000)\n",
        "Processed"
       ]
      },
      {
       "output_type": "stream",
       "stream": "stdout",
       "text": [
        " 556  stargazers. Num nodes/edges in graph 947 / 1526\n",
        "Rate limit remaining (4352, 5000)\n",
        "Processed"
       ]
      },
      {
       "output_type": "stream",
       "stream": "stdout",
       "text": [
        " 557  stargazers. Num nodes/edges in graph 947 / 1527\n",
        "Rate limit remaining (4351, 5000)\n",
        "Processed"
       ]
      },
      {
       "output_type": "stream",
       "stream": "stdout",
       "text": [
        " 558  stargazers. Num nodes/edges in graph 947 / 1527\n",
        "Rate limit remaining (4350, 5000)\n",
        "Processed"
       ]
      },
      {
       "output_type": "stream",
       "stream": "stdout",
       "text": [
        " 559  stargazers. Num nodes/edges in graph 947 / 1527\n",
        "Rate limit remaining (4349, 5000)\n",
        "Processed"
       ]
      },
      {
       "output_type": "stream",
       "stream": "stdout",
       "text": [
        " 560  stargazers. Num nodes/edges in graph 947 / 1527\n",
        "Rate limit remaining (4348, 5000)\n",
        "Processed"
       ]
      },
      {
       "output_type": "stream",
       "stream": "stdout",
       "text": [
        " 561  stargazers. Num nodes/edges in graph 947 / 1527\n",
        "Rate limit remaining (4347, 5000)\n",
        "Processed"
       ]
      },
      {
       "output_type": "stream",
       "stream": "stdout",
       "text": [
        " 562  stargazers. Num nodes/edges in graph 947 / 1527\n",
        "Rate limit remaining (4346, 5000)\n",
        "Processed"
       ]
      },
      {
       "output_type": "stream",
       "stream": "stdout",
       "text": [
        " 563  stargazers. Num nodes/edges in graph 947 / 1527\n",
        "Rate limit remaining (4345, 5000)\n",
        "Processed"
       ]
      },
      {
       "output_type": "stream",
       "stream": "stdout",
       "text": [
        " 564  stargazers. Num nodes/edges in graph 947 / 1527\n",
        "Rate limit remaining (4344, 5000)\n",
        "Processed"
       ]
      },
      {
       "output_type": "stream",
       "stream": "stdout",
       "text": [
        " 565  stargazers. Num nodes/edges in graph 947 / 1527\n",
        "Rate limit remaining (4343, 5000)\n",
        "Processed"
       ]
      },
      {
       "output_type": "stream",
       "stream": "stdout",
       "text": [
        " 566  stargazers. Num nodes/edges in graph 947 / 1527\n",
        "Rate limit remaining (4342, 5000)\n",
        "Processed"
       ]
      },
      {
       "output_type": "stream",
       "stream": "stdout",
       "text": [
        " 567  stargazers. Num nodes/edges in graph 947 / 1528\n",
        "Rate limit remaining (4341, 5000)\n",
        "Processed"
       ]
      },
      {
       "output_type": "stream",
       "stream": "stdout",
       "text": [
        " 568  stargazers. Num nodes/edges in graph 947 / 1528\n",
        "Rate limit remaining (4340, 5000)\n",
        "Processed"
       ]
      },
      {
       "output_type": "stream",
       "stream": "stdout",
       "text": [
        " 569  stargazers. Num nodes/edges in graph 947 / 1528\n",
        "Rate limit remaining (4339, 5000)\n",
        "Processed"
       ]
      },
      {
       "output_type": "stream",
       "stream": "stdout",
       "text": [
        " 570  stargazers. Num nodes/edges in graph 947 / 1528\n",
        "Rate limit remaining (4338, 5000)\n",
        "Processed"
       ]
      },
      {
       "output_type": "stream",
       "stream": "stdout",
       "text": [
        " 571  stargazers. Num nodes/edges in graph 947 / 1528\n",
        "Rate limit remaining (4337, 5000)\n",
        "Processed"
       ]
      },
      {
       "output_type": "stream",
       "stream": "stdout",
       "text": [
        " 572  stargazers. Num nodes/edges in graph 947 / 1528\n",
        "Rate limit remaining (4336, 5000)\n",
        "Processed"
       ]
      },
      {
       "output_type": "stream",
       "stream": "stdout",
       "text": [
        " 573  stargazers. Num nodes/edges in graph 947 / 1528\n",
        "Rate limit remaining (4335, 5000)\n",
        "Processed"
       ]
      },
      {
       "output_type": "stream",
       "stream": "stdout",
       "text": [
        " 574  stargazers. Num nodes/edges in graph 947 / 1528\n",
        "Rate limit remaining (4334, 5000)\n",
        "Processed"
       ]
      },
      {
       "output_type": "stream",
       "stream": "stdout",
       "text": [
        " 575  stargazers. Num nodes/edges in graph 947 / 1528\n",
        "Rate limit remaining (4333, 5000)\n",
        "Processed"
       ]
      },
      {
       "output_type": "stream",
       "stream": "stdout",
       "text": [
        " 576  stargazers. Num nodes/edges in graph 947 / 1528\n",
        "Rate limit remaining (4332, 5000)\n",
        "Processed"
       ]
      },
      {
       "output_type": "stream",
       "stream": "stdout",
       "text": [
        " 577  stargazers. Num nodes/edges in graph 947 / 1528\n",
        "Rate limit remaining (4331, 5000)\n",
        "Processed"
       ]
      },
      {
       "output_type": "stream",
       "stream": "stdout",
       "text": [
        " 578  stargazers. Num nodes/edges in graph 947 / 1530\n",
        "Rate limit remaining (4330, 5000)\n",
        "Processed"
       ]
      },
      {
       "output_type": "stream",
       "stream": "stdout",
       "text": [
        " 579  stargazers. Num nodes/edges in graph 947 / 1530\n",
        "Rate limit remaining (4329, 5000)\n",
        "Processed"
       ]
      },
      {
       "output_type": "stream",
       "stream": "stdout",
       "text": [
        " 580  stargazers. Num nodes/edges in graph 947 / 1530\n",
        "Rate limit remaining (4328, 5000)\n",
        "Processed"
       ]
      },
      {
       "output_type": "stream",
       "stream": "stdout",
       "text": [
        " 581  stargazers. Num nodes/edges in graph 947 / 1530\n",
        "Rate limit remaining (4327, 5000)\n",
        "Processed"
       ]
      },
      {
       "output_type": "stream",
       "stream": "stdout",
       "text": [
        " 582  stargazers. Num nodes/edges in graph 947 / 1530\n",
        "Rate limit remaining (4326, 5000)\n",
        "Processed"
       ]
      },
      {
       "output_type": "stream",
       "stream": "stdout",
       "text": [
        " 583  stargazers. Num nodes/edges in graph 947 / 1530\n",
        "Rate limit remaining (4325, 5000)\n",
        "Processed"
       ]
      },
      {
       "output_type": "stream",
       "stream": "stdout",
       "text": [
        " 584  stargazers. Num nodes/edges in graph 947 / 1530\n",
        "Rate limit remaining (4324, 5000)\n",
        "Processed"
       ]
      },
      {
       "output_type": "stream",
       "stream": "stdout",
       "text": [
        " 585  stargazers. Num nodes/edges in graph 947 / 1530\n",
        "Rate limit remaining (4323, 5000)\n",
        "Processed"
       ]
      },
      {
       "output_type": "stream",
       "stream": "stdout",
       "text": [
        " 586  stargazers. Num nodes/edges in graph 947 / 1534\n",
        "Rate limit remaining (4322, 5000)\n",
        "Processed"
       ]
      },
      {
       "output_type": "stream",
       "stream": "stdout",
       "text": [
        " 587  stargazers. Num nodes/edges in graph 947 / 1534\n",
        "Rate limit remaining (4321, 5000)\n",
        "Processed"
       ]
      },
      {
       "output_type": "stream",
       "stream": "stdout",
       "text": [
        " 588  stargazers. Num nodes/edges in graph 947 / 1534\n",
        "Rate limit remaining (4320, 5000)\n",
        "Processed"
       ]
      },
      {
       "output_type": "stream",
       "stream": "stdout",
       "text": [
        " 589  stargazers. Num nodes/edges in graph 947 / 1534\n",
        "Rate limit remaining (4319, 5000)\n",
        "Processed"
       ]
      },
      {
       "output_type": "stream",
       "stream": "stdout",
       "text": [
        " 590  stargazers. Num nodes/edges in graph 947 / 1535\n",
        "Rate limit remaining (4318, 5000)\n",
        "Processed"
       ]
      },
      {
       "output_type": "stream",
       "stream": "stdout",
       "text": [
        " 591  stargazers. Num nodes/edges in graph 947 / 1535\n",
        "Rate limit remaining (4317, 5000)\n",
        "Processed"
       ]
      },
      {
       "output_type": "stream",
       "stream": "stdout",
       "text": [
        " 592  stargazers. Num nodes/edges in graph 947 / 1535\n",
        "Rate limit remaining (4316, 5000)\n",
        "Processed"
       ]
      },
      {
       "output_type": "stream",
       "stream": "stdout",
       "text": [
        " 593  stargazers. Num nodes/edges in graph 947 / 1535\n",
        "Rate limit remaining (4315, 5000)\n",
        "Processed"
       ]
      },
      {
       "output_type": "stream",
       "stream": "stdout",
       "text": [
        " 594  stargazers. Num nodes/edges in graph 947 / 1535\n",
        "Rate limit remaining (4314, 5000)\n",
        "Processed"
       ]
      },
      {
       "output_type": "stream",
       "stream": "stdout",
       "text": [
        " 595  stargazers. Num nodes/edges in graph 947 / 1535\n",
        "Rate limit remaining (4313, 5000)\n",
        "Processed"
       ]
      },
      {
       "output_type": "stream",
       "stream": "stdout",
       "text": [
        " 596  stargazers. Num nodes/edges in graph 947 / 1535\n",
        "Rate limit remaining (4312, 5000)\n",
        "Processed"
       ]
      },
      {
       "output_type": "stream",
       "stream": "stdout",
       "text": [
        " 597  stargazers. Num nodes/edges in graph 947 / 1535\n",
        "Rate limit remaining (4311, 5000)\n",
        "Processed"
       ]
      },
      {
       "output_type": "stream",
       "stream": "stdout",
       "text": [
        " 598  stargazers. Num nodes/edges in graph 947 / 1536\n",
        "Rate limit remaining (4310, 5000)\n",
        "Processed"
       ]
      },
      {
       "output_type": "stream",
       "stream": "stdout",
       "text": [
        " 599  stargazers. Num nodes/edges in graph 947 / 1538\n",
        "Rate limit remaining (4309, 5000)\n",
        "Processed"
       ]
      },
      {
       "output_type": "stream",
       "stream": "stdout",
       "text": [
        " 600  stargazers. Num nodes/edges in graph 947 / 1538\n",
        "Rate limit remaining (4308, 5000)\n",
        "Processed"
       ]
      },
      {
       "output_type": "stream",
       "stream": "stdout",
       "text": [
        " 601  stargazers. Num nodes/edges in graph 947 / 1538\n",
        "Rate limit remaining (4307, 5000)\n",
        "Processed"
       ]
      },
      {
       "output_type": "stream",
       "stream": "stdout",
       "text": [
        " 602  stargazers. Num nodes/edges in graph 947 / 1538\n",
        "Rate limit remaining (4306, 5000)\n",
        "Processed"
       ]
      },
      {
       "output_type": "stream",
       "stream": "stdout",
       "text": [
        " 603  stargazers. Num nodes/edges in graph 947 / 1538\n",
        "Rate limit remaining (4305, 5000)\n",
        "Processed"
       ]
      },
      {
       "output_type": "stream",
       "stream": "stdout",
       "text": [
        " 604  stargazers. Num nodes/edges in graph 947 / 1538\n",
        "Rate limit remaining (4304, 5000)\n",
        "Processed"
       ]
      },
      {
       "output_type": "stream",
       "stream": "stdout",
       "text": [
        " 605  stargazers. Num nodes/edges in graph 947 / 1538\n",
        "Rate limit remaining (4303, 5000)\n",
        "Processed"
       ]
      },
      {
       "output_type": "stream",
       "stream": "stdout",
       "text": [
        " 606  stargazers. Num nodes/edges in graph 947 / 1538\n",
        "Rate limit remaining (4302, 5000)\n",
        "Processed"
       ]
      },
      {
       "output_type": "stream",
       "stream": "stdout",
       "text": [
        " 607  stargazers. Num nodes/edges in graph 947 / 1538\n",
        "Rate limit remaining (4301, 5000)\n",
        "Processed"
       ]
      },
      {
       "output_type": "stream",
       "stream": "stdout",
       "text": [
        " 608  stargazers. Num nodes/edges in graph 947 / 1538\n",
        "Rate limit remaining (4300, 5000)\n",
        "Processed"
       ]
      },
      {
       "output_type": "stream",
       "stream": "stdout",
       "text": [
        " 609  stargazers. Num nodes/edges in graph 947 / 1538\n",
        "Rate limit remaining (4299, 5000)\n",
        "Processed"
       ]
      },
      {
       "output_type": "stream",
       "stream": "stdout",
       "text": [
        " 610  stargazers. Num nodes/edges in graph 947 / 1538\n",
        "Rate limit remaining (4298, 5000)\n",
        "Processed"
       ]
      },
      {
       "output_type": "stream",
       "stream": "stdout",
       "text": [
        " 611  stargazers. Num nodes/edges in graph 947 / 1539\n",
        "Rate limit remaining (4297, 5000)\n",
        "Processed"
       ]
      },
      {
       "output_type": "stream",
       "stream": "stdout",
       "text": [
        " 612  stargazers. Num nodes/edges in graph 947 / 1540\n",
        "Rate limit remaining (4296, 5000)\n",
        "Processed"
       ]
      },
      {
       "output_type": "stream",
       "stream": "stdout",
       "text": [
        " 613  stargazers. Num nodes/edges in graph 947 / 1540\n",
        "Rate limit remaining (4295, 5000)\n",
        "Processed"
       ]
      },
      {
       "output_type": "stream",
       "stream": "stdout",
       "text": [
        " 614  stargazers. Num nodes/edges in graph 947 / 1540\n",
        "Rate limit remaining (4294, 5000)\n",
        "Processed"
       ]
      },
      {
       "output_type": "stream",
       "stream": "stdout",
       "text": [
        " 615  stargazers. Num nodes/edges in graph 947 / 1540\n",
        "Rate limit remaining (4293, 5000)\n",
        "Processed"
       ]
      },
      {
       "output_type": "stream",
       "stream": "stdout",
       "text": [
        " 616  stargazers. Num nodes/edges in graph 947 / 1540\n",
        "Rate limit remaining (4292, 5000)\n",
        "Processed"
       ]
      },
      {
       "output_type": "stream",
       "stream": "stdout",
       "text": [
        " 617  stargazers. Num nodes/edges in graph 947 / 1540\n",
        "Rate limit remaining (4291, 5000)\n",
        "Processed"
       ]
      },
      {
       "output_type": "stream",
       "stream": "stdout",
       "text": [
        " 618  stargazers. Num nodes/edges in graph 947 / 1540\n",
        "Rate limit remaining (4290, 5000)\n",
        "Processed"
       ]
      },
      {
       "output_type": "stream",
       "stream": "stdout",
       "text": [
        " 619  stargazers. Num nodes/edges in graph 947 / 1540\n",
        "Rate limit remaining (4289, 5000)\n",
        "Processed"
       ]
      },
      {
       "output_type": "stream",
       "stream": "stdout",
       "text": [
        " 620  stargazers. Num nodes/edges in graph 947 / 1540\n",
        "Rate limit remaining (4288, 5000)\n",
        "Processed"
       ]
      },
      {
       "output_type": "stream",
       "stream": "stdout",
       "text": [
        " 621  stargazers. Num nodes/edges in graph 947 / 1540\n",
        "Rate limit remaining (4287, 5000)\n",
        "Processed"
       ]
      },
      {
       "output_type": "stream",
       "stream": "stdout",
       "text": [
        " 622  stargazers. Num nodes/edges in graph 947 / 1540\n",
        "Rate limit remaining (4286, 5000)\n",
        "Processed"
       ]
      },
      {
       "output_type": "stream",
       "stream": "stdout",
       "text": [
        " 623  stargazers. Num nodes/edges in graph 947 / 1540\n",
        "Rate limit remaining (4285, 5000)\n",
        "Processed"
       ]
      },
      {
       "output_type": "stream",
       "stream": "stdout",
       "text": [
        " 624  stargazers. Num nodes/edges in graph 947 / 1540\n",
        "Rate limit remaining (4284, 5000)\n",
        "Processed"
       ]
      },
      {
       "output_type": "stream",
       "stream": "stdout",
       "text": [
        " 625  stargazers. Num nodes/edges in graph 947 / 1540\n",
        "Rate limit remaining (4283, 5000)\n",
        "Processed"
       ]
      },
      {
       "output_type": "stream",
       "stream": "stdout",
       "text": [
        " 626  stargazers. Num nodes/edges in graph 947 / 1540\n",
        "Rate limit remaining (4282, 5000)\n",
        "Processed"
       ]
      },
      {
       "output_type": "stream",
       "stream": "stdout",
       "text": [
        " 627  stargazers. Num nodes/edges in graph 947 / 1540\n",
        "Rate limit remaining (4281, 5000)\n",
        "Processed"
       ]
      },
      {
       "output_type": "stream",
       "stream": "stdout",
       "text": [
        " 628  stargazers. Num nodes/edges in graph 947 / 1540\n",
        "Rate limit remaining (4280, 5000)\n",
        "Processed"
       ]
      },
      {
       "output_type": "stream",
       "stream": "stdout",
       "text": [
        " 629  stargazers. Num nodes/edges in graph 947 / 1540\n",
        "Rate limit remaining (4279, 5000)\n",
        "Processed"
       ]
      },
      {
       "output_type": "stream",
       "stream": "stdout",
       "text": [
        " 630  stargazers. Num nodes/edges in graph 947 / 1543\n",
        "Rate limit remaining (4278, 5000)\n",
        "Processed"
       ]
      },
      {
       "output_type": "stream",
       "stream": "stdout",
       "text": [
        " 631  stargazers. Num nodes/edges in graph 947 / 1547\n",
        "Rate limit remaining (4277, 5000)\n",
        "Processed"
       ]
      },
      {
       "output_type": "stream",
       "stream": "stdout",
       "text": [
        " 632  stargazers. Num nodes/edges in graph 947 / 1547\n",
        "Rate limit remaining (4276, 5000)\n",
        "Processed"
       ]
      },
      {
       "output_type": "stream",
       "stream": "stdout",
       "text": [
        " 633  stargazers. Num nodes/edges in graph 947 / 1547\n",
        "Rate limit remaining (4275, 5000)\n",
        "Processed"
       ]
      },
      {
       "output_type": "stream",
       "stream": "stdout",
       "text": [
        " 634  stargazers. Num nodes/edges in graph 947 / 1547\n",
        "Rate limit remaining (4274, 5000)\n",
        "Processed"
       ]
      },
      {
       "output_type": "stream",
       "stream": "stdout",
       "text": [
        " 635  stargazers. Num nodes/edges in graph 947 / 1547\n",
        "Rate limit remaining (4273, 5000)\n",
        "Processed"
       ]
      },
      {
       "output_type": "stream",
       "stream": "stdout",
       "text": [
        " 636  stargazers. Num nodes/edges in graph 947 / 1547\n",
        "Rate limit remaining (4272, 5000)\n",
        "Processed"
       ]
      },
      {
       "output_type": "stream",
       "stream": "stdout",
       "text": [
        " 637  stargazers. Num nodes/edges in graph 947 / 1547\n",
        "Rate limit remaining (4271, 5000)\n",
        "Processed"
       ]
      },
      {
       "output_type": "stream",
       "stream": "stdout",
       "text": [
        " 638  stargazers. Num nodes/edges in graph 947 / 1547\n",
        "Rate limit remaining (4270, 5000)\n",
        "Processed"
       ]
      },
      {
       "output_type": "stream",
       "stream": "stdout",
       "text": [
        " 639  stargazers. Num nodes/edges in graph 947 / 1547\n",
        "Rate limit remaining (4269, 5000)\n",
        "Processed"
       ]
      },
      {
       "output_type": "stream",
       "stream": "stdout",
       "text": [
        " 640  stargazers. Num nodes/edges in graph 947 / 1547\n",
        "Rate limit remaining (4268, 5000)\n",
        "Processed"
       ]
      },
      {
       "output_type": "stream",
       "stream": "stdout",
       "text": [
        " 641  stargazers. Num nodes/edges in graph 947 / 1547\n",
        "Rate limit remaining (4267, 5000)\n",
        "Processed"
       ]
      },
      {
       "output_type": "stream",
       "stream": "stdout",
       "text": [
        " 642  stargazers. Num nodes/edges in graph 947 / 1548\n",
        "Rate limit remaining (4266, 5000)\n",
        "Processed"
       ]
      },
      {
       "output_type": "stream",
       "stream": "stdout",
       "text": [
        " 643  stargazers. Num nodes/edges in graph 947 / 1548\n",
        "Rate limit remaining (4265, 5000)\n",
        "Processed"
       ]
      },
      {
       "output_type": "stream",
       "stream": "stdout",
       "text": [
        " 644  stargazers. Num nodes/edges in graph 947 / 1548\n",
        "Rate limit remaining (4264, 5000)\n",
        "Processed"
       ]
      },
      {
       "output_type": "stream",
       "stream": "stdout",
       "text": [
        " 645  stargazers. Num nodes/edges in graph 947 / 1548\n",
        "Rate limit remaining (4263, 5000)\n",
        "Processed"
       ]
      },
      {
       "output_type": "stream",
       "stream": "stdout",
       "text": [
        " 646  stargazers. Num nodes/edges in graph 947 / 1548\n",
        "Rate limit remaining (4262, 5000)\n",
        "Processed"
       ]
      },
      {
       "output_type": "stream",
       "stream": "stdout",
       "text": [
        " 647  stargazers. Num nodes/edges in graph 947 / 1548\n",
        "Rate limit remaining (4261, 5000)\n",
        "Processed"
       ]
      },
      {
       "output_type": "stream",
       "stream": "stdout",
       "text": [
        " 648  stargazers. Num nodes/edges in graph 947 / 1548\n",
        "Rate limit remaining (4260, 5000)\n",
        "Processed"
       ]
      },
      {
       "output_type": "stream",
       "stream": "stdout",
       "text": [
        " 649  stargazers. Num nodes/edges in graph 947 / 1548\n",
        "Rate limit remaining (4259, 5000)\n",
        "Processed"
       ]
      },
      {
       "output_type": "stream",
       "stream": "stdout",
       "text": [
        " 650  stargazers. Num nodes/edges in graph 947 / 1550\n",
        "Rate limit remaining (4258, 5000)\n",
        "Processed"
       ]
      },
      {
       "output_type": "stream",
       "stream": "stdout",
       "text": [
        " 651  stargazers. Num nodes/edges in graph 947 / 1551\n",
        "Rate limit remaining (4257, 5000)\n",
        "Processed"
       ]
      },
      {
       "output_type": "stream",
       "stream": "stdout",
       "text": [
        " 652  stargazers. Num nodes/edges in graph 947 / 1551\n",
        "Rate limit remaining (4256, 5000)\n",
        "Processed"
       ]
      },
      {
       "output_type": "stream",
       "stream": "stdout",
       "text": [
        " 653  stargazers. Num nodes/edges in graph 947 / 1551\n",
        "Rate limit remaining (4255, 5000)\n",
        "Processed"
       ]
      },
      {
       "output_type": "stream",
       "stream": "stdout",
       "text": [
        " 654  stargazers. Num nodes/edges in graph 947 / 1552\n",
        "Rate limit remaining (4254, 5000)\n",
        "Processed"
       ]
      },
      {
       "output_type": "stream",
       "stream": "stdout",
       "text": [
        " 655  stargazers. Num nodes/edges in graph 947 / 1552\n",
        "Rate limit remaining (4253, 5000)\n",
        "Processed"
       ]
      },
      {
       "output_type": "stream",
       "stream": "stdout",
       "text": [
        " 656  stargazers. Num nodes/edges in graph 947 / 1552\n",
        "Rate limit remaining (4252, 5000)\n",
        "Processed"
       ]
      },
      {
       "output_type": "stream",
       "stream": "stdout",
       "text": [
        " 657  stargazers. Num nodes/edges in graph 947 / 1552\n",
        "Rate limit remaining (4251, 5000)\n",
        "Processed"
       ]
      },
      {
       "output_type": "stream",
       "stream": "stdout",
       "text": [
        " 658  stargazers. Num nodes/edges in graph 947 / 1552\n",
        "Rate limit remaining (4250, 5000)\n",
        "Processed"
       ]
      },
      {
       "output_type": "stream",
       "stream": "stdout",
       "text": [
        " 659  stargazers. Num nodes/edges in graph 947 / 1552\n",
        "Rate limit remaining (4249, 5000)\n",
        "Processed"
       ]
      },
      {
       "output_type": "stream",
       "stream": "stdout",
       "text": [
        " 660  stargazers. Num nodes/edges in graph 947 / 1552\n",
        "Rate limit remaining (4248, 5000)\n",
        "Processed"
       ]
      },
      {
       "output_type": "stream",
       "stream": "stdout",
       "text": [
        " 661  stargazers. Num nodes/edges in graph 947 / 1557\n",
        "Rate limit remaining (4241, 5000)\n",
        "Processed"
       ]
      },
      {
       "output_type": "stream",
       "stream": "stdout",
       "text": [
        " 662  stargazers. Num nodes/edges in graph 947 / 1560\n",
        "Rate limit remaining (4240, 5000)\n",
        "Processed"
       ]
      },
      {
       "output_type": "stream",
       "stream": "stdout",
       "text": [
        " 663  stargazers. Num nodes/edges in graph 947 / 1560\n",
        "Rate limit remaining (4239, 5000)\n",
        "Processed"
       ]
      },
      {
       "output_type": "stream",
       "stream": "stdout",
       "text": [
        " 664  stargazers. Num nodes/edges in graph 947 / 1565\n",
        "Rate limit remaining (4238, 5000)\n",
        "Processed"
       ]
      },
      {
       "output_type": "stream",
       "stream": "stdout",
       "text": [
        " 665  stargazers. Num nodes/edges in graph 947 / 1565\n",
        "Rate limit remaining (4237, 5000)\n",
        "Processed"
       ]
      },
      {
       "output_type": "stream",
       "stream": "stdout",
       "text": [
        " 666  stargazers. Num nodes/edges in graph 947 / 1565\n",
        "Rate limit remaining (4236, 5000)\n",
        "Processed"
       ]
      },
      {
       "output_type": "stream",
       "stream": "stdout",
       "text": [
        " 667  stargazers. Num nodes/edges in graph 947 / 1565\n",
        "Rate limit remaining (4235, 5000)\n",
        "Processed"
       ]
      },
      {
       "output_type": "stream",
       "stream": "stdout",
       "text": [
        " 668  stargazers. Num nodes/edges in graph 947 / 1565\n",
        "Rate limit remaining (4234, 5000)\n",
        "Processed"
       ]
      },
      {
       "output_type": "stream",
       "stream": "stdout",
       "text": [
        " 669  stargazers. Num nodes/edges in graph 947 / 1565\n",
        "Rate limit remaining (4233, 5000)\n",
        "Processed"
       ]
      },
      {
       "output_type": "stream",
       "stream": "stdout",
       "text": [
        " 670  stargazers. Num nodes/edges in graph 947 / 1568\n",
        "Rate limit remaining (4227, 5000)\n",
        "Processed"
       ]
      },
      {
       "output_type": "stream",
       "stream": "stdout",
       "text": [
        " 671  stargazers. Num nodes/edges in graph 947 / 1570\n",
        "Rate limit remaining (4226, 5000)\n",
        "Processed"
       ]
      },
      {
       "output_type": "stream",
       "stream": "stdout",
       "text": [
        " 672  stargazers. Num nodes/edges in graph 947 / 1570\n",
        "Rate limit remaining (4225, 5000)\n",
        "Processed"
       ]
      },
      {
       "output_type": "stream",
       "stream": "stdout",
       "text": [
        " 673  stargazers. Num nodes/edges in graph 947 / 1570\n",
        "Rate limit remaining (4224, 5000)\n",
        "Processed"
       ]
      },
      {
       "output_type": "stream",
       "stream": "stdout",
       "text": [
        " 674  stargazers. Num nodes/edges in graph 947 / 1570\n",
        "Rate limit remaining (4223, 5000)\n",
        "Processed"
       ]
      },
      {
       "output_type": "stream",
       "stream": "stdout",
       "text": [
        " 675  stargazers. Num nodes/edges in graph 947 / 1570\n",
        "Rate limit remaining (4222, 5000)\n",
        "Processed"
       ]
      },
      {
       "output_type": "stream",
       "stream": "stdout",
       "text": [
        " 676  stargazers. Num nodes/edges in graph 947 / 1570\n",
        "Rate limit remaining (4221, 5000)\n",
        "Processed"
       ]
      },
      {
       "output_type": "stream",
       "stream": "stdout",
       "text": [
        " 677  stargazers. Num nodes/edges in graph 947 / 1570\n",
        "Rate limit remaining (4220, 5000)\n",
        "Processed"
       ]
      },
      {
       "output_type": "stream",
       "stream": "stdout",
       "text": [
        " 678  stargazers. Num nodes/edges in graph 947 / 1570\n",
        "Rate limit remaining (4219, 5000)\n",
        "Processed"
       ]
      },
      {
       "output_type": "stream",
       "stream": "stdout",
       "text": [
        " 679  stargazers. Num nodes/edges in graph 947 / 1571\n",
        "Rate limit remaining (4218, 5000)\n",
        "Processed"
       ]
      },
      {
       "output_type": "stream",
       "stream": "stdout",
       "text": [
        " 680  stargazers. Num nodes/edges in graph 947 / 1571\n",
        "Rate limit remaining (4217, 5000)\n",
        "Processed"
       ]
      },
      {
       "output_type": "stream",
       "stream": "stdout",
       "text": [
        " 681  stargazers. Num nodes/edges in graph 947 / 1572\n",
        "Rate limit remaining (4216, 5000)\n",
        "Processed"
       ]
      },
      {
       "output_type": "stream",
       "stream": "stdout",
       "text": [
        " 682  stargazers. Num nodes/edges in graph 947 / 1572\n",
        "Rate limit remaining (4215, 5000)\n",
        "Processed"
       ]
      },
      {
       "output_type": "stream",
       "stream": "stdout",
       "text": [
        " 683  stargazers. Num nodes/edges in graph 947 / 1572\n",
        "Rate limit remaining (4214, 5000)\n",
        "Processed"
       ]
      },
      {
       "output_type": "stream",
       "stream": "stdout",
       "text": [
        " 684  stargazers. Num nodes/edges in graph 947 / 1572\n",
        "Rate limit remaining (4213, 5000)\n",
        "Processed"
       ]
      },
      {
       "output_type": "stream",
       "stream": "stdout",
       "text": [
        " 685  stargazers. Num nodes/edges in graph 947 / 1572\n",
        "Rate limit remaining (4212, 5000)\n",
        "Processed"
       ]
      },
      {
       "output_type": "stream",
       "stream": "stdout",
       "text": [
        " 686  stargazers. Num nodes/edges in graph 947 / 1572\n",
        "Rate limit remaining (4211, 5000)\n",
        "Processed"
       ]
      },
      {
       "output_type": "stream",
       "stream": "stdout",
       "text": [
        " 687  stargazers. Num nodes/edges in graph 947 / 1572\n",
        "Rate limit remaining (4210, 5000)\n",
        "Processed"
       ]
      },
      {
       "output_type": "stream",
       "stream": "stdout",
       "text": [
        " 688  stargazers. Num nodes/edges in graph 947 / 1572\n",
        "Rate limit remaining (4209, 5000)\n",
        "Processed"
       ]
      },
      {
       "output_type": "stream",
       "stream": "stdout",
       "text": [
        " 689  stargazers. Num nodes/edges in graph 947 / 1573\n",
        "Rate limit remaining (4208, 5000)\n",
        "Processed"
       ]
      },
      {
       "output_type": "stream",
       "stream": "stdout",
       "text": [
        " 690  stargazers. Num nodes/edges in graph 947 / 1573\n",
        "Rate limit remaining (4207, 5000)\n",
        "Processed"
       ]
      },
      {
       "output_type": "stream",
       "stream": "stdout",
       "text": [
        " 691  stargazers. Num nodes/edges in graph 947 / 1574\n",
        "Rate limit remaining (4206, 5000)\n",
        "Processed"
       ]
      },
      {
       "output_type": "stream",
       "stream": "stdout",
       "text": [
        " 692  stargazers. Num nodes/edges in graph 947 / 1574\n",
        "Rate limit remaining (4205, 5000)\n",
        "Processed"
       ]
      },
      {
       "output_type": "stream",
       "stream": "stdout",
       "text": [
        " 693  stargazers. Num nodes/edges in graph 947 / 1574\n",
        "Rate limit remaining (4204, 5000)\n",
        "Processed"
       ]
      },
      {
       "output_type": "stream",
       "stream": "stdout",
       "text": [
        " 694  stargazers. Num nodes/edges in graph 947 / 1574\n",
        "Rate limit remaining (4203, 5000)\n",
        "Processed"
       ]
      },
      {
       "output_type": "stream",
       "stream": "stdout",
       "text": [
        " 695  stargazers. Num nodes/edges in graph 947 / 1574\n",
        "Rate limit remaining (4202, 5000)\n",
        "Processed"
       ]
      },
      {
       "output_type": "stream",
       "stream": "stdout",
       "text": [
        " 696  stargazers. Num nodes/edges in graph 947 / 1574\n",
        "Rate limit remaining (4201, 5000)\n",
        "Processed"
       ]
      },
      {
       "output_type": "stream",
       "stream": "stdout",
       "text": [
        " 697  stargazers. Num nodes/edges in graph 947 / 1574\n",
        "Rate limit remaining (4200, 5000)\n",
        "Processed"
       ]
      },
      {
       "output_type": "stream",
       "stream": "stdout",
       "text": [
        " 698  stargazers. Num nodes/edges in graph 947 / 1574\n",
        "Rate limit remaining (4199, 5000)\n",
        "Processed"
       ]
      },
      {
       "output_type": "stream",
       "stream": "stdout",
       "text": [
        " 699  stargazers. Num nodes/edges in graph 947 / 1574\n",
        "Rate limit remaining (4198, 5000)\n",
        "Processed"
       ]
      },
      {
       "output_type": "stream",
       "stream": "stdout",
       "text": [
        " 700  stargazers. Num nodes/edges in graph 947 / 1574\n",
        "Rate limit remaining (4197, 5000)\n",
        "Processed"
       ]
      },
      {
       "output_type": "stream",
       "stream": "stdout",
       "text": [
        " 701  stargazers. Num nodes/edges in graph 947 / 1574\n",
        "Rate limit remaining (4196, 5000)\n",
        "Processed"
       ]
      },
      {
       "output_type": "stream",
       "stream": "stdout",
       "text": [
        " 702  stargazers. Num nodes/edges in graph 947 / 1574\n",
        "Rate limit remaining (4195, 5000)\n",
        "Processed"
       ]
      },
      {
       "output_type": "stream",
       "stream": "stdout",
       "text": [
        " 703  stargazers. Num nodes/edges in graph 947 / 1574\n",
        "Rate limit remaining (4194, 5000)\n",
        "Processed"
       ]
      },
      {
       "output_type": "stream",
       "stream": "stdout",
       "text": [
        " 704  stargazers. Num nodes/edges in graph 947 / 1574\n",
        "Rate limit remaining (4193, 5000)\n",
        "Processed"
       ]
      },
      {
       "output_type": "stream",
       "stream": "stdout",
       "text": [
        " 705  stargazers. Num nodes/edges in graph 947 / 1574\n",
        "Rate limit remaining (4192, 5000)\n",
        "Processed"
       ]
      },
      {
       "output_type": "stream",
       "stream": "stdout",
       "text": [
        " 706  stargazers. Num nodes/edges in graph 947 / 1575\n",
        "Rate limit remaining (4191, 5000)\n",
        "Processed"
       ]
      },
      {
       "output_type": "stream",
       "stream": "stdout",
       "text": [
        " 707  stargazers. Num nodes/edges in graph 947 / 1575\n",
        "Rate limit remaining (4190, 5000)\n",
        "Processed"
       ]
      },
      {
       "output_type": "stream",
       "stream": "stdout",
       "text": [
        " 708  stargazers. Num nodes/edges in graph 947 / 1575\n",
        "Rate limit remaining (4189, 5000)\n",
        "Processed"
       ]
      },
      {
       "output_type": "stream",
       "stream": "stdout",
       "text": [
        " 709  stargazers. Num nodes/edges in graph 947 / 1575\n",
        "Rate limit remaining (4188, 5000)\n",
        "Processed"
       ]
      },
      {
       "output_type": "stream",
       "stream": "stdout",
       "text": [
        " 710  stargazers. Num nodes/edges in graph 947 / 1575\n",
        "Rate limit remaining (4187, 5000)\n",
        "Processed"
       ]
      },
      {
       "output_type": "stream",
       "stream": "stdout",
       "text": [
        " 711  stargazers. Num nodes/edges in graph 947 / 1575\n",
        "Rate limit remaining (4186, 5000)\n",
        "Processed"
       ]
      },
      {
       "output_type": "stream",
       "stream": "stdout",
       "text": [
        " 712  stargazers. Num nodes/edges in graph 947 / 1575\n",
        "Rate limit remaining (4185, 5000)\n",
        "Processed"
       ]
      },
      {
       "output_type": "stream",
       "stream": "stdout",
       "text": [
        " 713  stargazers. Num nodes/edges in graph 947 / 1575\n",
        "Rate limit remaining (4184, 5000)\n",
        "Processed"
       ]
      },
      {
       "output_type": "stream",
       "stream": "stdout",
       "text": [
        " 714  stargazers. Num nodes/edges in graph 947 / 1576\n",
        "Rate limit remaining (4183, 5000)\n",
        "Processed"
       ]
      },
      {
       "output_type": "stream",
       "stream": "stdout",
       "text": [
        " 715  stargazers. Num nodes/edges in graph 947 / 1576\n",
        "Rate limit remaining (4182, 5000)\n",
        "Processed"
       ]
      },
      {
       "output_type": "stream",
       "stream": "stdout",
       "text": [
        " 716  stargazers. Num nodes/edges in graph 947 / 1576\n",
        "Rate limit remaining (4181, 5000)\n",
        "Processed"
       ]
      },
      {
       "output_type": "stream",
       "stream": "stdout",
       "text": [
        " 717  stargazers. Num nodes/edges in graph 947 / 1576\n",
        "Rate limit remaining (4180, 5000)\n",
        "Processed"
       ]
      },
      {
       "output_type": "stream",
       "stream": "stdout",
       "text": [
        " 718  stargazers. Num nodes/edges in graph 947 / 1576\n",
        "Rate limit remaining (4179, 5000)\n",
        "Processed"
       ]
      },
      {
       "output_type": "stream",
       "stream": "stdout",
       "text": [
        " 719  stargazers. Num nodes/edges in graph 947 / 1576\n",
        "Rate limit remaining (4178, 5000)\n",
        "Processed"
       ]
      },
      {
       "output_type": "stream",
       "stream": "stdout",
       "text": [
        " 720  stargazers. Num nodes/edges in graph 947 / 1576\n",
        "Rate limit remaining (4177, 5000)\n",
        "Processed"
       ]
      },
      {
       "output_type": "stream",
       "stream": "stdout",
       "text": [
        " 721  stargazers. Num nodes/edges in graph 947 / 1576\n",
        "Rate limit remaining (4176, 5000)\n",
        "Processed"
       ]
      },
      {
       "output_type": "stream",
       "stream": "stdout",
       "text": [
        " 722  stargazers. Num nodes/edges in graph 947 / 1576\n",
        "Rate limit remaining (4175, 5000)\n",
        "Processed"
       ]
      },
      {
       "output_type": "stream",
       "stream": "stdout",
       "text": [
        " 723  stargazers. Num nodes/edges in graph 947 / 1576\n",
        "Rate limit remaining (4174, 5000)\n",
        "Processed"
       ]
      },
      {
       "output_type": "stream",
       "stream": "stdout",
       "text": [
        " 724  stargazers. Num nodes/edges in graph 947 / 1576\n",
        "Rate limit remaining (4173, 5000)\n",
        "Processed"
       ]
      },
      {
       "output_type": "stream",
       "stream": "stdout",
       "text": [
        " 725  stargazers. Num nodes/edges in graph 947 / 1576\n",
        "Rate limit remaining (4172, 5000)\n",
        "Processed"
       ]
      },
      {
       "output_type": "stream",
       "stream": "stdout",
       "text": [
        " 726  stargazers. Num nodes/edges in graph 947 / 1576\n",
        "Rate limit remaining (4171, 5000)\n",
        "Processed"
       ]
      },
      {
       "output_type": "stream",
       "stream": "stdout",
       "text": [
        " 727  stargazers. Num nodes/edges in graph 947 / 1576\n",
        "Rate limit remaining (4170, 5000)\n",
        "Processed"
       ]
      },
      {
       "output_type": "stream",
       "stream": "stdout",
       "text": [
        " 728  stargazers. Num nodes/edges in graph 947 / 1576\n",
        "Rate limit remaining (4169, 5000)\n",
        "Processed"
       ]
      },
      {
       "output_type": "stream",
       "stream": "stdout",
       "text": [
        " 729  stargazers. Num nodes/edges in graph 947 / 1576\n",
        "Rate limit remaining (4168, 5000)\n",
        "Processed"
       ]
      },
      {
       "output_type": "stream",
       "stream": "stdout",
       "text": [
        " 730  stargazers. Num nodes/edges in graph 947 / 1576\n",
        "Rate limit remaining (4167, 5000)\n",
        "Processed"
       ]
      },
      {
       "output_type": "stream",
       "stream": "stdout",
       "text": [
        " 731  stargazers. Num nodes/edges in graph 947 / 1576\n",
        "Rate limit remaining (4166, 5000)\n",
        "Processed"
       ]
      },
      {
       "output_type": "stream",
       "stream": "stdout",
       "text": [
        " 732  stargazers. Num nodes/edges in graph 947 / 1576\n",
        "Rate limit remaining (4165, 5000)\n",
        "Processed"
       ]
      },
      {
       "output_type": "stream",
       "stream": "stdout",
       "text": [
        " 733  stargazers. Num nodes/edges in graph 947 / 1576\n",
        "Rate limit remaining (4164, 5000)\n",
        "Processed"
       ]
      },
      {
       "output_type": "stream",
       "stream": "stdout",
       "text": [
        " 734  stargazers. Num nodes/edges in graph 947 / 1576\n",
        "Rate limit remaining (4163, 5000)\n",
        "Processed"
       ]
      },
      {
       "output_type": "stream",
       "stream": "stdout",
       "text": [
        " 735  stargazers. Num nodes/edges in graph 947 / 1576\n",
        "Rate limit remaining (4162, 5000)\n",
        "Processed"
       ]
      },
      {
       "output_type": "stream",
       "stream": "stdout",
       "text": [
        " 736  stargazers. Num nodes/edges in graph 947 / 1577\n",
        "Rate limit remaining (4161, 5000)\n",
        "Processed"
       ]
      },
      {
       "output_type": "stream",
       "stream": "stdout",
       "text": [
        " 737  stargazers. Num nodes/edges in graph 947 / 1577\n",
        "Rate limit remaining (4160, 5000)\n",
        "Processed"
       ]
      },
      {
       "output_type": "stream",
       "stream": "stdout",
       "text": [
        " 738  stargazers. Num nodes/edges in graph 947 / 1577\n",
        "Rate limit remaining (4159, 5000)\n",
        "Processed"
       ]
      },
      {
       "output_type": "stream",
       "stream": "stdout",
       "text": [
        " 739  stargazers. Num nodes/edges in graph 947 / 1577\n",
        "Rate limit remaining (4158, 5000)\n",
        "Processed"
       ]
      },
      {
       "output_type": "stream",
       "stream": "stdout",
       "text": [
        " 740  stargazers. Num nodes/edges in graph 947 / 1577\n",
        "Rate limit remaining (4157, 5000)\n",
        "Processed"
       ]
      },
      {
       "output_type": "stream",
       "stream": "stdout",
       "text": [
        " 741  stargazers. Num nodes/edges in graph 947 / 1577\n",
        "Rate limit remaining (4156, 5000)\n",
        "Processed"
       ]
      },
      {
       "output_type": "stream",
       "stream": "stdout",
       "text": [
        " 742  stargazers. Num nodes/edges in graph 947 / 1577\n",
        "Rate limit remaining (4155, 5000)\n",
        "Processed"
       ]
      },
      {
       "output_type": "stream",
       "stream": "stdout",
       "text": [
        " 743  stargazers. Num nodes/edges in graph 947 / 1591\n",
        "Rate limit remaining (4153, 5000)\n",
        "Processed"
       ]
      },
      {
       "output_type": "stream",
       "stream": "stdout",
       "text": [
        " 744  stargazers. Num nodes/edges in graph 947 / 1591\n",
        "Rate limit remaining (4152, 5000)\n",
        "Processed"
       ]
      },
      {
       "output_type": "stream",
       "stream": "stdout",
       "text": [
        " 745  stargazers. Num nodes/edges in graph 947 / 1592\n",
        "Rate limit remaining (4151, 5000)\n",
        "Processed"
       ]
      },
      {
       "output_type": "stream",
       "stream": "stdout",
       "text": [
        " 746  stargazers. Num nodes/edges in graph 947 / 1592\n",
        "Rate limit remaining (4150, 5000)\n",
        "Processed"
       ]
      },
      {
       "output_type": "stream",
       "stream": "stdout",
       "text": [
        " 747  stargazers. Num nodes/edges in graph 947 / 1592\n",
        "Rate limit remaining (4149, 5000)\n",
        "Processed"
       ]
      },
      {
       "output_type": "stream",
       "stream": "stdout",
       "text": [
        " 748  stargazers. Num nodes/edges in graph 947 / 1592\n",
        "Rate limit remaining (4148, 5000)\n",
        "Processed"
       ]
      },
      {
       "output_type": "stream",
       "stream": "stdout",
       "text": [
        " 749  stargazers. Num nodes/edges in graph 947 / 1598\n",
        "Rate limit remaining (4145, 5000)\n",
        "Processed"
       ]
      },
      {
       "output_type": "stream",
       "stream": "stdout",
       "text": [
        " 750  stargazers. Num nodes/edges in graph 947 / 1599\n",
        "Rate limit remaining (4144, 5000)\n",
        "Processed"
       ]
      },
      {
       "output_type": "stream",
       "stream": "stdout",
       "text": [
        " 751  stargazers. Num nodes/edges in graph 947 / 1602\n",
        "Rate limit remaining (4143, 5000)\n",
        "Processed"
       ]
      },
      {
       "output_type": "stream",
       "stream": "stdout",
       "text": [
        " 752  stargazers. Num nodes/edges in graph 947 / 1605\n",
        "Rate limit remaining (4142, 5000)\n",
        "Processed"
       ]
      },
      {
       "output_type": "stream",
       "stream": "stdout",
       "text": [
        " 753  stargazers. Num nodes/edges in graph 947 / 1605\n",
        "Rate limit remaining (4141, 5000)\n",
        "Processed"
       ]
      },
      {
       "output_type": "stream",
       "stream": "stdout",
       "text": [
        " 754  stargazers. Num nodes/edges in graph 947 / 1605\n",
        "Rate limit remaining (4140, 5000)\n",
        "Processed"
       ]
      },
      {
       "output_type": "stream",
       "stream": "stdout",
       "text": [
        " 755  stargazers. Num nodes/edges in graph 947 / 1606\n",
        "Rate limit remaining (4139, 5000)\n",
        "Processed"
       ]
      },
      {
       "output_type": "stream",
       "stream": "stdout",
       "text": [
        " 756  stargazers. Num nodes/edges in graph 947 / 1606\n",
        "Rate limit remaining (4138, 5000)\n",
        "Processed"
       ]
      },
      {
       "output_type": "stream",
       "stream": "stdout",
       "text": [
        " 757  stargazers. Num nodes/edges in graph 947 / 1606\n",
        "Rate limit remaining (4137, 5000)\n",
        "Processed"
       ]
      },
      {
       "output_type": "stream",
       "stream": "stdout",
       "text": [
        " 758  stargazers. Num nodes/edges in graph 947 / 1606\n",
        "Rate limit remaining (4136, 5000)\n",
        "Processed"
       ]
      },
      {
       "output_type": "stream",
       "stream": "stdout",
       "text": [
        " 759  stargazers. Num nodes/edges in graph 947 / 1606\n",
        "Rate limit remaining (4135, 5000)\n",
        "Processed"
       ]
      },
      {
       "output_type": "stream",
       "stream": "stdout",
       "text": [
        " 760  stargazers. Num nodes/edges in graph 947 / 1606\n",
        "Rate limit remaining (4134, 5000)\n",
        "Processed"
       ]
      },
      {
       "output_type": "stream",
       "stream": "stdout",
       "text": [
        " 761  stargazers. Num nodes/edges in graph 947 / 1606\n",
        "Rate limit remaining (4133, 5000)\n",
        "Processed"
       ]
      },
      {
       "output_type": "stream",
       "stream": "stdout",
       "text": [
        " 762  stargazers. Num nodes/edges in graph 947 / 1607\n",
        "Rate limit remaining (4132, 5000)\n",
        "Processed"
       ]
      },
      {
       "output_type": "stream",
       "stream": "stdout",
       "text": [
        " 763  stargazers. Num nodes/edges in graph 947 / 1607\n",
        "Rate limit remaining (4131, 5000)\n",
        "Processed"
       ]
      },
      {
       "output_type": "stream",
       "stream": "stdout",
       "text": [
        " 764  stargazers. Num nodes/edges in graph 947 / 1607\n",
        "Rate limit remaining (4130, 5000)\n",
        "Processed"
       ]
      },
      {
       "output_type": "stream",
       "stream": "stdout",
       "text": [
        " 765  stargazers. Num nodes/edges in graph 947 / 1607\n",
        "Rate limit remaining (4129, 5000)\n",
        "Processed"
       ]
      },
      {
       "output_type": "stream",
       "stream": "stdout",
       "text": [
        " 766  stargazers. Num nodes/edges in graph 947 / 1608\n",
        "Rate limit remaining (4128, 5000)\n",
        "Processed"
       ]
      },
      {
       "output_type": "stream",
       "stream": "stdout",
       "text": [
        " 767  stargazers. Num nodes/edges in graph 947 / 1608\n",
        "Rate limit remaining (4127, 5000)\n",
        "Processed"
       ]
      },
      {
       "output_type": "stream",
       "stream": "stdout",
       "text": [
        " 768  stargazers. Num nodes/edges in graph 947 / 1608\n",
        "Rate limit remaining (4126, 5000)\n",
        "Processed"
       ]
      },
      {
       "output_type": "stream",
       "stream": "stdout",
       "text": [
        " 769  stargazers. Num nodes/edges in graph 947 / 1610\n",
        "Rate limit remaining (4125, 5000)\n",
        "Processed"
       ]
      },
      {
       "output_type": "stream",
       "stream": "stdout",
       "text": [
        " 770  stargazers. Num nodes/edges in graph 947 / 1610\n",
        "Rate limit remaining (4124, 5000)\n",
        "Processed"
       ]
      },
      {
       "output_type": "stream",
       "stream": "stdout",
       "text": [
        " 771  stargazers. Num nodes/edges in graph 947 / 1610\n",
        "Rate limit remaining (4123, 5000)\n",
        "Processed"
       ]
      },
      {
       "output_type": "stream",
       "stream": "stdout",
       "text": [
        " 772  stargazers. Num nodes/edges in graph 947 / 1610\n",
        "Rate limit remaining (4122, 5000)\n",
        "Processed"
       ]
      },
      {
       "output_type": "stream",
       "stream": "stdout",
       "text": [
        " 773  stargazers. Num nodes/edges in graph 947 / 1610\n",
        "Rate limit remaining (4121, 5000)\n",
        "Processed"
       ]
      },
      {
       "output_type": "stream",
       "stream": "stdout",
       "text": [
        " 774  stargazers. Num nodes/edges in graph 947 / 1611\n",
        "Rate limit remaining (4120, 5000)\n",
        "Processed"
       ]
      },
      {
       "output_type": "stream",
       "stream": "stdout",
       "text": [
        " 775  stargazers. Num nodes/edges in graph 947 / 1612\n",
        "Rate limit remaining (4119, 5000)\n",
        "Processed"
       ]
      },
      {
       "output_type": "stream",
       "stream": "stdout",
       "text": [
        " 776  stargazers. Num nodes/edges in graph 947 / 1615\n",
        "Rate limit remaining (4118, 5000)\n",
        "Processed"
       ]
      },
      {
       "output_type": "stream",
       "stream": "stdout",
       "text": [
        " 777  stargazers. Num nodes/edges in graph 947 / 1615\n",
        "Rate limit remaining (4117, 5000)\n",
        "Processed"
       ]
      },
      {
       "output_type": "stream",
       "stream": "stdout",
       "text": [
        " 778  stargazers. Num nodes/edges in graph 947 / 1615\n",
        "Rate limit remaining (4116, 5000)\n",
        "Processed"
       ]
      },
      {
       "output_type": "stream",
       "stream": "stdout",
       "text": [
        " 779  stargazers. Num nodes/edges in graph 947 / 1615\n",
        "Rate limit remaining (4115, 5000)\n",
        "Processed"
       ]
      },
      {
       "output_type": "stream",
       "stream": "stdout",
       "text": [
        " 780  stargazers. Num nodes/edges in graph 947 / 1615\n",
        "Rate limit remaining (4114, 5000)\n",
        "Processed"
       ]
      },
      {
       "output_type": "stream",
       "stream": "stdout",
       "text": [
        " 781  stargazers. Num nodes/edges in graph 947 / 1615\n",
        "Rate limit remaining (4113, 5000)\n",
        "Processed"
       ]
      },
      {
       "output_type": "stream",
       "stream": "stdout",
       "text": [
        " 782  stargazers. Num nodes/edges in graph 947 / 1615\n",
        "Rate limit remaining (4112, 5000)\n",
        "Processed"
       ]
      },
      {
       "output_type": "stream",
       "stream": "stdout",
       "text": [
        " 783  stargazers. Num nodes/edges in graph 947 / 1618\n",
        "Rate limit remaining (4110, 5000)\n",
        "Processed"
       ]
      },
      {
       "output_type": "stream",
       "stream": "stdout",
       "text": [
        " 784  stargazers. Num nodes/edges in graph 947 / 1618\n",
        "Rate limit remaining (4109, 5000)\n",
        "Processed"
       ]
      },
      {
       "output_type": "stream",
       "stream": "stdout",
       "text": [
        " 785  stargazers. Num nodes/edges in graph 947 / 1618\n",
        "Rate limit remaining (4108, 5000)\n",
        "Processed"
       ]
      },
      {
       "output_type": "stream",
       "stream": "stdout",
       "text": [
        " 786  stargazers. Num nodes/edges in graph 947 / 1618\n",
        "Rate limit remaining (4107, 5000)\n",
        "Processed"
       ]
      },
      {
       "output_type": "stream",
       "stream": "stdout",
       "text": [
        " 787  stargazers. Num nodes/edges in graph 947 / 1618\n",
        "Rate limit remaining (4106, 5000)\n",
        "Processed"
       ]
      },
      {
       "output_type": "stream",
       "stream": "stdout",
       "text": [
        " 788  stargazers. Num nodes/edges in graph 947 / 1618\n",
        "Rate limit remaining (4105, 5000)\n",
        "Processed"
       ]
      },
      {
       "output_type": "stream",
       "stream": "stdout",
       "text": [
        " 789  stargazers. Num nodes/edges in graph 947 / 1618\n",
        "Rate limit remaining (4104, 5000)\n",
        "Processed"
       ]
      },
      {
       "output_type": "stream",
       "stream": "stdout",
       "text": [
        " 790  stargazers. Num nodes/edges in graph 947 / 1620\n",
        "Rate limit remaining (4103, 5000)\n",
        "Processed"
       ]
      },
      {
       "output_type": "stream",
       "stream": "stdout",
       "text": [
        " 791  stargazers. Num nodes/edges in graph 947 / 1620\n",
        "Rate limit remaining (4102, 5000)\n",
        "Processed"
       ]
      },
      {
       "output_type": "stream",
       "stream": "stdout",
       "text": [
        " 792  stargazers. Num nodes/edges in graph 947 / 1620\n",
        "Rate limit remaining (4101, 5000)\n",
        "Processed"
       ]
      },
      {
       "output_type": "stream",
       "stream": "stdout",
       "text": [
        " 793  stargazers. Num nodes/edges in graph 947 / 1620\n",
        "Rate limit remaining (4100, 5000)\n",
        "Processed"
       ]
      },
      {
       "output_type": "stream",
       "stream": "stdout",
       "text": [
        " 794  stargazers. Num nodes/edges in graph 947 / 1620\n",
        "Rate limit remaining (4099, 5000)\n",
        "Processed"
       ]
      },
      {
       "output_type": "stream",
       "stream": "stdout",
       "text": [
        " 795  stargazers. Num nodes/edges in graph 947 / 1620\n",
        "Rate limit remaining (4098, 5000)\n",
        "Processed"
       ]
      },
      {
       "output_type": "stream",
       "stream": "stdout",
       "text": [
        " 796  stargazers. Num nodes/edges in graph 947 / 1620\n",
        "Rate limit remaining (4097, 5000)\n",
        "Processed"
       ]
      },
      {
       "output_type": "stream",
       "stream": "stdout",
       "text": [
        " 797  stargazers. Num nodes/edges in graph 947 / 1621\n",
        "Rate limit remaining (4096, 5000)\n",
        "Processed"
       ]
      },
      {
       "output_type": "stream",
       "stream": "stdout",
       "text": [
        " 798  stargazers. Num nodes/edges in graph 947 / 1621\n",
        "Rate limit remaining (4095, 5000)\n",
        "Processed"
       ]
      },
      {
       "output_type": "stream",
       "stream": "stdout",
       "text": [
        " 799  stargazers. Num nodes/edges in graph 947 / 1622\n",
        "Rate limit remaining (4094, 5000)\n",
        "Processed"
       ]
      },
      {
       "output_type": "stream",
       "stream": "stdout",
       "text": [
        " 800  stargazers. Num nodes/edges in graph 947 / 1622\n",
        "Rate limit remaining (4093, 5000)\n",
        "Processed"
       ]
      },
      {
       "output_type": "stream",
       "stream": "stdout",
       "text": [
        " 801  stargazers. Num nodes/edges in graph 947 / 1622\n",
        "Rate limit remaining (4092, 5000)\n",
        "Processed"
       ]
      },
      {
       "output_type": "stream",
       "stream": "stdout",
       "text": [
        " 802  stargazers. Num nodes/edges in graph 947 / 1622\n",
        "Rate limit remaining (4091, 5000)\n",
        "Processed"
       ]
      },
      {
       "output_type": "stream",
       "stream": "stdout",
       "text": [
        " 803  stargazers. Num nodes/edges in graph 947 / 1622\n",
        "Rate limit remaining (4090, 5000)\n",
        "Processed"
       ]
      },
      {
       "output_type": "stream",
       "stream": "stdout",
       "text": [
        " 804  stargazers. Num nodes/edges in graph 947 / 1622\n",
        "Rate limit remaining (4089, 5000)\n",
        "Processed"
       ]
      },
      {
       "output_type": "stream",
       "stream": "stdout",
       "text": [
        " 805  stargazers. Num nodes/edges in graph 947 / 1622\n",
        "Rate limit remaining (4088, 5000)\n",
        "Processed"
       ]
      },
      {
       "output_type": "stream",
       "stream": "stdout",
       "text": [
        " 806  stargazers. Num nodes/edges in graph 947 / 1626\n",
        "Rate limit remaining (4084, 5000)\n",
        "Processed"
       ]
      },
      {
       "output_type": "stream",
       "stream": "stdout",
       "text": [
        " 807  stargazers. Num nodes/edges in graph 947 / 1626\n",
        "Rate limit remaining (4083, 5000)\n",
        "Processed"
       ]
      },
      {
       "output_type": "stream",
       "stream": "stdout",
       "text": [
        " 808  stargazers. Num nodes/edges in graph 947 / 1626\n",
        "Rate limit remaining (4082, 5000)\n",
        "Processed"
       ]
      },
      {
       "output_type": "stream",
       "stream": "stdout",
       "text": [
        " 809  stargazers. Num nodes/edges in graph 947 / 1626\n",
        "Rate limit remaining (4081, 5000)\n",
        "Processed"
       ]
      },
      {
       "output_type": "stream",
       "stream": "stdout",
       "text": [
        " 810  stargazers. Num nodes/edges in graph 947 / 1626\n",
        "Rate limit remaining (4080, 5000)\n",
        "Processed"
       ]
      },
      {
       "output_type": "stream",
       "stream": "stdout",
       "text": [
        " 811  stargazers. Num nodes/edges in graph 947 / 1626\n",
        "Rate limit remaining (4079, 5000)\n",
        "Processed"
       ]
      },
      {
       "output_type": "stream",
       "stream": "stdout",
       "text": [
        " 812  stargazers. Num nodes/edges in graph 947 / 1626\n",
        "Rate limit remaining (4078, 5000)\n",
        "Processed"
       ]
      },
      {
       "output_type": "stream",
       "stream": "stdout",
       "text": [
        " 813  stargazers. Num nodes/edges in graph 947 / 1626\n",
        "Rate limit remaining (4077, 5000)\n",
        "Processed"
       ]
      },
      {
       "output_type": "stream",
       "stream": "stdout",
       "text": [
        " 814  stargazers. Num nodes/edges in graph 947 / 1626\n",
        "Rate limit remaining (4076, 5000)\n",
        "Processed"
       ]
      },
      {
       "output_type": "stream",
       "stream": "stdout",
       "text": [
        " 815  stargazers. Num nodes/edges in graph 947 / 1626\n",
        "Rate limit remaining (4075, 5000)\n",
        "Processed"
       ]
      },
      {
       "output_type": "stream",
       "stream": "stdout",
       "text": [
        " 816  stargazers. Num nodes/edges in graph 947 / 1626\n",
        "Rate limit remaining (4074, 5000)\n",
        "Processed"
       ]
      },
      {
       "output_type": "stream",
       "stream": "stdout",
       "text": [
        " 817  stargazers. Num nodes/edges in graph 947 / 1626\n",
        "Rate limit remaining (4073, 5000)\n",
        "Processed"
       ]
      },
      {
       "output_type": "stream",
       "stream": "stdout",
       "text": [
        " 818  stargazers. Num nodes/edges in graph 947 / 1626\n",
        "Rate limit remaining (4072, 5000)\n",
        "Processed"
       ]
      },
      {
       "output_type": "stream",
       "stream": "stdout",
       "text": [
        " 819  stargazers. Num nodes/edges in graph 947 / 1626\n",
        "Rate limit remaining (4071, 5000)\n",
        "Processed"
       ]
      },
      {
       "output_type": "stream",
       "stream": "stdout",
       "text": [
        " 820  stargazers. Num nodes/edges in graph 947 / 1626\n",
        "Rate limit remaining (4070, 5000)\n",
        "Processed"
       ]
      },
      {
       "output_type": "stream",
       "stream": "stdout",
       "text": [
        " 821  stargazers. Num nodes/edges in graph 947 / 1626\n",
        "Rate limit remaining (4069, 5000)\n",
        "Processed"
       ]
      },
      {
       "output_type": "stream",
       "stream": "stdout",
       "text": [
        " 822  stargazers. Num nodes/edges in graph 947 / 1626\n",
        "Rate limit remaining (4068, 5000)\n",
        "Processed"
       ]
      },
      {
       "output_type": "stream",
       "stream": "stdout",
       "text": [
        " 823  stargazers. Num nodes/edges in graph 947 / 1626\n",
        "Rate limit remaining (4067, 5000)\n",
        "Processed"
       ]
      },
      {
       "output_type": "stream",
       "stream": "stdout",
       "text": [
        " 824  stargazers. Num nodes/edges in graph 947 / 1626\n",
        "Rate limit remaining (4066, 5000)\n",
        "Processed"
       ]
      },
      {
       "output_type": "stream",
       "stream": "stdout",
       "text": [
        " 825  stargazers. Num nodes/edges in graph 947 / 1626\n",
        "Rate limit remaining (4065, 5000)\n",
        "Processed"
       ]
      },
      {
       "output_type": "stream",
       "stream": "stdout",
       "text": [
        " 826  stargazers. Num nodes/edges in graph 947 / 1626\n",
        "Rate limit remaining (4064, 5000)\n",
        "Processed"
       ]
      },
      {
       "output_type": "stream",
       "stream": "stdout",
       "text": [
        " 827  stargazers. Num nodes/edges in graph 947 / 1628\n",
        "Rate limit remaining (4063, 5000)\n",
        "Processed"
       ]
      },
      {
       "output_type": "stream",
       "stream": "stdout",
       "text": [
        " 828  stargazers. Num nodes/edges in graph 947 / 1628\n",
        "Rate limit remaining (4062, 5000)\n",
        "Processed"
       ]
      },
      {
       "output_type": "stream",
       "stream": "stdout",
       "text": [
        " 829  stargazers. Num nodes/edges in graph 947 / 1628\n",
        "Rate limit remaining (4061, 5000)\n",
        "Processed"
       ]
      },
      {
       "output_type": "stream",
       "stream": "stdout",
       "text": [
        " 830  stargazers. Num nodes/edges in graph 947 / 1628\n",
        "Rate limit remaining (4060, 5000)\n",
        "Processed"
       ]
      },
      {
       "output_type": "stream",
       "stream": "stdout",
       "text": [
        " 831  stargazers. Num nodes/edges in graph 947 / 1628\n",
        "Rate limit remaining (4059, 5000)\n",
        "Processed"
       ]
      },
      {
       "output_type": "stream",
       "stream": "stdout",
       "text": [
        " 832  stargazers. Num nodes/edges in graph 947 / 1628\n",
        "Rate limit remaining (4058, 5000)\n",
        "Processed"
       ]
      },
      {
       "output_type": "stream",
       "stream": "stdout",
       "text": [
        " 833  stargazers. Num nodes/edges in graph 947 / 1629\n",
        "Rate limit remaining (4057, 5000)\n",
        "Processed"
       ]
      },
      {
       "output_type": "stream",
       "stream": "stdout",
       "text": [
        " 834  stargazers. Num nodes/edges in graph 947 / 1629\n",
        "Rate limit remaining (4056, 5000)\n",
        "Processed"
       ]
      },
      {
       "output_type": "stream",
       "stream": "stdout",
       "text": [
        " 835  stargazers. Num nodes/edges in graph 947 / 1629\n",
        "Rate limit remaining (4055, 5000)\n",
        "Processed"
       ]
      },
      {
       "output_type": "stream",
       "stream": "stdout",
       "text": [
        " 836  stargazers. Num nodes/edges in graph 947 / 1629\n",
        "Rate limit remaining (4054, 5000)\n",
        "Processed"
       ]
      },
      {
       "output_type": "stream",
       "stream": "stdout",
       "text": [
        " 837  stargazers. Num nodes/edges in graph 947 / 1629\n",
        "Rate limit remaining (4053, 5000)\n",
        "Processed"
       ]
      },
      {
       "output_type": "stream",
       "stream": "stdout",
       "text": [
        " 838  stargazers. Num nodes/edges in graph 947 / 1629\n",
        "Rate limit remaining (4052, 5000)\n",
        "Processed"
       ]
      },
      {
       "output_type": "stream",
       "stream": "stdout",
       "text": [
        " 839  stargazers. Num nodes/edges in graph 947 / 1629\n",
        "Rate limit remaining (4051, 5000)\n",
        "Processed"
       ]
      },
      {
       "output_type": "stream",
       "stream": "stdout",
       "text": [
        " 840  stargazers. Num nodes/edges in graph 947 / 1629\n",
        "Rate limit remaining (4050, 5000)\n",
        "Processed"
       ]
      },
      {
       "output_type": "stream",
       "stream": "stdout",
       "text": [
        " 841  stargazers. Num nodes/edges in graph 947 / 1629\n",
        "Rate limit remaining (4049, 5000)\n",
        "Processed"
       ]
      },
      {
       "output_type": "stream",
       "stream": "stdout",
       "text": [
        " 842  stargazers. Num nodes/edges in graph 947 / 1629\n",
        "Rate limit remaining (4048, 5000)\n",
        "Processed"
       ]
      },
      {
       "output_type": "stream",
       "stream": "stdout",
       "text": [
        " 843  stargazers. Num nodes/edges in graph 947 / 1629\n",
        "Rate limit remaining (4047, 5000)\n",
        "Processed"
       ]
      },
      {
       "output_type": "stream",
       "stream": "stdout",
       "text": [
        " 844  stargazers. Num nodes/edges in graph 947 / 1629\n",
        "Rate limit remaining (4046, 5000)\n",
        "Processed"
       ]
      },
      {
       "output_type": "stream",
       "stream": "stdout",
       "text": [
        " 845  stargazers. Num nodes/edges in graph 947 / 1630\n",
        "Rate limit remaining (4045, 5000)\n",
        "Processed"
       ]
      },
      {
       "output_type": "stream",
       "stream": "stdout",
       "text": [
        " 846  stargazers. Num nodes/edges in graph 947 / 1630\n",
        "Rate limit remaining (4044, 5000)\n",
        "Processed"
       ]
      },
      {
       "output_type": "stream",
       "stream": "stdout",
       "text": [
        " 847  stargazers. Num nodes/edges in graph 947 / 1631\n",
        "Rate limit remaining (4043, 5000)\n",
        "Processed"
       ]
      },
      {
       "output_type": "stream",
       "stream": "stdout",
       "text": [
        " 848  stargazers. Num nodes/edges in graph 947 / 1631\n",
        "Rate limit remaining (4042, 5000)\n",
        "Processed"
       ]
      },
      {
       "output_type": "stream",
       "stream": "stdout",
       "text": [
        " 849  stargazers. Num nodes/edges in graph 947 / 1635\n",
        "Rate limit remaining (4041, 5000)\n",
        "Processed"
       ]
      },
      {
       "output_type": "stream",
       "stream": "stdout",
       "text": [
        " 850  stargazers. Num nodes/edges in graph 947 / 1635\n",
        "Rate limit remaining (4040, 5000)\n",
        "Processed"
       ]
      },
      {
       "output_type": "stream",
       "stream": "stdout",
       "text": [
        " 851  stargazers. Num nodes/edges in graph 947 / 1635\n",
        "Rate limit remaining (4039, 5000)\n",
        "Processed"
       ]
      },
      {
       "output_type": "stream",
       "stream": "stdout",
       "text": [
        " 852  stargazers. Num nodes/edges in graph 947 / 1635\n",
        "Rate limit remaining (4038, 5000)\n",
        "Processed"
       ]
      },
      {
       "output_type": "stream",
       "stream": "stdout",
       "text": [
        " 853  stargazers. Num nodes/edges in graph 947 / 1635\n",
        "Rate limit remaining (4037, 5000)\n",
        "Processed"
       ]
      },
      {
       "output_type": "stream",
       "stream": "stdout",
       "text": [
        " 854  stargazers. Num nodes/edges in graph 947 / 1635\n",
        "Rate limit remaining (4036, 5000)\n",
        "Processed"
       ]
      },
      {
       "output_type": "stream",
       "stream": "stdout",
       "text": [
        " 855  stargazers. Num nodes/edges in graph 947 / 1635\n",
        "Rate limit remaining (4035, 5000)\n",
        "Processed"
       ]
      },
      {
       "output_type": "stream",
       "stream": "stdout",
       "text": [
        " 856  stargazers. Num nodes/edges in graph 947 / 1635\n",
        "Rate limit remaining (4034, 5000)\n",
        "Processed"
       ]
      },
      {
       "output_type": "stream",
       "stream": "stdout",
       "text": [
        " 857  stargazers. Num nodes/edges in graph 947 / 1635\n",
        "Rate limit remaining (4033, 5000)\n",
        "Processed"
       ]
      },
      {
       "output_type": "stream",
       "stream": "stdout",
       "text": [
        " 858  stargazers. Num nodes/edges in graph 947 / 1636\n",
        "Rate limit remaining (4032, 5000)\n",
        "Processed"
       ]
      },
      {
       "output_type": "stream",
       "stream": "stdout",
       "text": [
        " 859  stargazers. Num nodes/edges in graph 947 / 1636\n",
        "Rate limit remaining (4031, 5000)\n",
        "Processed"
       ]
      },
      {
       "output_type": "stream",
       "stream": "stdout",
       "text": [
        " 860  stargazers. Num nodes/edges in graph 947 / 1636\n",
        "Rate limit remaining (4030, 5000)\n",
        "Processed"
       ]
      },
      {
       "output_type": "stream",
       "stream": "stdout",
       "text": [
        " 861  stargazers. Num nodes/edges in graph 947 / 1636\n",
        "Rate limit remaining (4029, 5000)\n",
        "Processed"
       ]
      },
      {
       "output_type": "stream",
       "stream": "stdout",
       "text": [
        " 862  stargazers. Num nodes/edges in graph 947 / 1636\n",
        "Rate limit remaining (4028, 5000)\n",
        "Processed"
       ]
      },
      {
       "output_type": "stream",
       "stream": "stdout",
       "text": [
        " 863  stargazers. Num nodes/edges in graph 947 / 1636\n",
        "Rate limit remaining (4027, 5000)\n",
        "Processed"
       ]
      },
      {
       "output_type": "stream",
       "stream": "stdout",
       "text": [
        " 864  stargazers. Num nodes/edges in graph 947 / 1636\n",
        "Rate limit remaining (4026, 5000)\n",
        "Processed"
       ]
      },
      {
       "output_type": "stream",
       "stream": "stdout",
       "text": [
        " 865  stargazers. Num nodes/edges in graph 947 / 1636\n",
        "Rate limit remaining (4025, 5000)\n",
        "Processed"
       ]
      },
      {
       "output_type": "stream",
       "stream": "stdout",
       "text": [
        " 866  stargazers. Num nodes/edges in graph 947 / 1636\n",
        "Rate limit remaining (4024, 5000)\n",
        "Processed"
       ]
      },
      {
       "output_type": "stream",
       "stream": "stdout",
       "text": [
        " 867  stargazers. Num nodes/edges in graph 947 / 1636\n",
        "Rate limit remaining (4023, 5000)\n",
        "Processed"
       ]
      },
      {
       "output_type": "stream",
       "stream": "stdout",
       "text": [
        " 868  stargazers. Num nodes/edges in graph 947 / 1636\n",
        "Rate limit remaining (4022, 5000)\n",
        "Processed"
       ]
      },
      {
       "output_type": "stream",
       "stream": "stdout",
       "text": [
        " 869  stargazers. Num nodes/edges in graph 947 / 1636\n",
        "Rate limit remaining (4021, 5000)\n",
        "Processed"
       ]
      },
      {
       "output_type": "stream",
       "stream": "stdout",
       "text": [
        " 870  stargazers. Num nodes/edges in graph 947 / 1636\n",
        "Rate limit remaining (4020, 5000)\n",
        "Processed"
       ]
      },
      {
       "output_type": "stream",
       "stream": "stdout",
       "text": [
        " 871  stargazers. Num nodes/edges in graph 947 / 1636\n",
        "Rate limit remaining (4019, 5000)\n",
        "Processed"
       ]
      },
      {
       "output_type": "stream",
       "stream": "stdout",
       "text": [
        " 872  stargazers. Num nodes/edges in graph 947 / 1636\n",
        "Rate limit remaining (4018, 5000)\n",
        "Processed"
       ]
      },
      {
       "output_type": "stream",
       "stream": "stdout",
       "text": [
        " 873  stargazers. Num nodes/edges in graph 947 / 1636\n",
        "Rate limit remaining (4017, 5000)\n",
        "Processed"
       ]
      },
      {
       "output_type": "stream",
       "stream": "stdout",
       "text": [
        " 874  stargazers. Num nodes/edges in graph 947 / 1636\n",
        "Rate limit remaining (4016, 5000)\n",
        "Processed"
       ]
      },
      {
       "output_type": "stream",
       "stream": "stdout",
       "text": [
        " 875  stargazers. Num nodes/edges in graph 947 / 1636\n",
        "Rate limit remaining (4015, 5000)\n",
        "Processed"
       ]
      },
      {
       "output_type": "stream",
       "stream": "stdout",
       "text": [
        " 876  stargazers. Num nodes/edges in graph 947 / 1636\n",
        "Rate limit remaining (4014, 5000)\n",
        "Processed"
       ]
      },
      {
       "output_type": "stream",
       "stream": "stdout",
       "text": [
        " 877  stargazers. Num nodes/edges in graph 947 / 1636\n",
        "Rate limit remaining (4013, 5000)\n",
        "Processed"
       ]
      },
      {
       "output_type": "stream",
       "stream": "stdout",
       "text": [
        " 878  stargazers. Num nodes/edges in graph 947 / 1641\n",
        "Rate limit remaining (4012, 5000)\n",
        "Processed"
       ]
      },
      {
       "output_type": "stream",
       "stream": "stdout",
       "text": [
        " 879  stargazers. Num nodes/edges in graph 947 / 1642\n",
        "Rate limit remaining (4011, 5000)\n",
        "Processed"
       ]
      },
      {
       "output_type": "stream",
       "stream": "stdout",
       "text": [
        " 880  stargazers. Num nodes/edges in graph 947 / 1642\n",
        "Rate limit remaining (4010, 5000)\n",
        "Processed"
       ]
      },
      {
       "output_type": "stream",
       "stream": "stdout",
       "text": [
        " 881  stargazers. Num nodes/edges in graph 947 / 1642\n",
        "Rate limit remaining (4009, 5000)\n",
        "Processed"
       ]
      },
      {
       "output_type": "stream",
       "stream": "stdout",
       "text": [
        " 882  stargazers. Num nodes/edges in graph 947 / 1647\n",
        "Rate limit remaining (4008, 5000)\n",
        "Processed"
       ]
      },
      {
       "output_type": "stream",
       "stream": "stdout",
       "text": [
        " 883  stargazers. Num nodes/edges in graph 947 / 1647\n",
        "Rate limit remaining (4007, 5000)\n",
        "Processed"
       ]
      },
      {
       "output_type": "stream",
       "stream": "stdout",
       "text": [
        " 884  stargazers. Num nodes/edges in graph 947 / 1647\n",
        "Rate limit remaining (4006, 5000)\n",
        "Processed"
       ]
      },
      {
       "output_type": "stream",
       "stream": "stdout",
       "text": [
        " 885  stargazers. Num nodes/edges in graph 947 / 1650\n",
        "Rate limit remaining (4005, 5000)\n",
        "Processed"
       ]
      },
      {
       "output_type": "stream",
       "stream": "stdout",
       "text": [
        " 886  stargazers. Num nodes/edges in graph 947 / 1650\n",
        "Rate limit remaining (4004, 5000)\n",
        "Processed"
       ]
      },
      {
       "output_type": "stream",
       "stream": "stdout",
       "text": [
        " 887  stargazers. Num nodes/edges in graph 947 / 1650\n",
        "Rate limit remaining (4003, 5000)\n",
        "Processed"
       ]
      },
      {
       "output_type": "stream",
       "stream": "stdout",
       "text": [
        " 888  stargazers. Num nodes/edges in graph 947 / 1650\n",
        "Rate limit remaining (4002, 5000)\n",
        "Processed"
       ]
      },
      {
       "output_type": "stream",
       "stream": "stdout",
       "text": [
        " 889  stargazers. Num nodes/edges in graph 947 / 1650\n",
        "Rate limit remaining (4001, 5000)\n",
        "Processed"
       ]
      },
      {
       "output_type": "stream",
       "stream": "stdout",
       "text": [
        " 890  stargazers. Num nodes/edges in graph 947 / 1650\n",
        "Rate limit remaining (4000, 5000)\n",
        "Processed"
       ]
      },
      {
       "output_type": "stream",
       "stream": "stdout",
       "text": [
        " 891  stargazers. Num nodes/edges in graph 947 / 1650\n",
        "Rate limit remaining (3999, 5000)\n",
        "Processed"
       ]
      },
      {
       "output_type": "stream",
       "stream": "stdout",
       "text": [
        " 892  stargazers. Num nodes/edges in graph 947 / 1650\n",
        "Rate limit remaining (3998, 5000)\n",
        "Processed"
       ]
      },
      {
       "output_type": "stream",
       "stream": "stdout",
       "text": [
        " 893  stargazers. Num nodes/edges in graph 947 / 1655\n",
        "Rate limit remaining (3996, 5000)\n",
        "Processed"
       ]
      },
      {
       "output_type": "stream",
       "stream": "stdout",
       "text": [
        " 894  stargazers. Num nodes/edges in graph 947 / 1655\n",
        "Rate limit remaining (3995, 5000)\n",
        "Processed"
       ]
      },
      {
       "output_type": "stream",
       "stream": "stdout",
       "text": [
        " 895  stargazers. Num nodes/edges in graph 947 / 1655\n",
        "Rate limit remaining (3994, 5000)\n",
        "Processed"
       ]
      },
      {
       "output_type": "stream",
       "stream": "stdout",
       "text": [
        " 896  stargazers. Num nodes/edges in graph 947 / 1655\n",
        "Rate limit remaining (3993, 5000)\n",
        "Processed"
       ]
      },
      {
       "output_type": "stream",
       "stream": "stdout",
       "text": [
        " 897  stargazers. Num nodes/edges in graph 947 / 1655\n",
        "Rate limit remaining (3992, 5000)\n",
        "Processed"
       ]
      },
      {
       "output_type": "stream",
       "stream": "stdout",
       "text": [
        " 898  stargazers. Num nodes/edges in graph 947 / 1656\n",
        "Rate limit remaining (3991, 5000)\n",
        "Processed"
       ]
      },
      {
       "output_type": "stream",
       "stream": "stdout",
       "text": [
        " 899  stargazers. Num nodes/edges in graph 947 / 1656\n",
        "Rate limit remaining (3990, 5000)\n",
        "Processed"
       ]
      },
      {
       "output_type": "stream",
       "stream": "stdout",
       "text": [
        " 900  stargazers. Num nodes/edges in graph 947 / 1657\n",
        "Rate limit remaining (3988, 5000)\n",
        "Processed"
       ]
      },
      {
       "output_type": "stream",
       "stream": "stdout",
       "text": [
        " 901  stargazers. Num nodes/edges in graph 947 / 1657\n",
        "Rate limit remaining (3987, 5000)\n",
        "Processed"
       ]
      },
      {
       "output_type": "stream",
       "stream": "stdout",
       "text": [
        " 902  stargazers. Num nodes/edges in graph 947 / 1657\n",
        "Rate limit remaining (3986, 5000)\n",
        "Processed"
       ]
      },
      {
       "output_type": "stream",
       "stream": "stdout",
       "text": [
        " 903  stargazers. Num nodes/edges in graph 947 / 1657\n",
        "Rate limit remaining (3985, 5000)\n",
        "Processed"
       ]
      },
      {
       "output_type": "stream",
       "stream": "stdout",
       "text": [
        " 904  stargazers. Num nodes/edges in graph 947 / 1657\n",
        "Rate limit remaining (3984, 5000)\n",
        "Processed"
       ]
      },
      {
       "output_type": "stream",
       "stream": "stdout",
       "text": [
        " 905  stargazers. Num nodes/edges in graph 947 / 1657\n",
        "Rate limit remaining (3983, 5000)\n",
        "Processed"
       ]
      },
      {
       "output_type": "stream",
       "stream": "stdout",
       "text": [
        " 906  stargazers. Num nodes/edges in graph 947 / 1657\n",
        "Rate limit remaining (3982, 5000)\n",
        "Processed"
       ]
      },
      {
       "output_type": "stream",
       "stream": "stdout",
       "text": [
        " 907  stargazers. Num nodes/edges in graph 947 / 1657\n",
        "Rate limit remaining (3981, 5000)\n",
        "Processed"
       ]
      },
      {
       "output_type": "stream",
       "stream": "stdout",
       "text": [
        " 908  stargazers. Num nodes/edges in graph 947 / 1657\n",
        "Rate limit remaining (3980, 5000)\n",
        "Processed"
       ]
      },
      {
       "output_type": "stream",
       "stream": "stdout",
       "text": [
        " 909  stargazers. Num nodes/edges in graph 947 / 1658\n",
        "Rate limit remaining (3979, 5000)\n",
        "Processed"
       ]
      },
      {
       "output_type": "stream",
       "stream": "stdout",
       "text": [
        " 910  stargazers. Num nodes/edges in graph 947 / 1658\n",
        "Rate limit remaining (3978, 5000)\n",
        "Processed"
       ]
      },
      {
       "output_type": "stream",
       "stream": "stdout",
       "text": [
        " 911  stargazers. Num nodes/edges in graph 947 / 1658\n",
        "Rate limit remaining (3977, 5000)\n",
        "Processed"
       ]
      },
      {
       "output_type": "stream",
       "stream": "stdout",
       "text": [
        " 912  stargazers. Num nodes/edges in graph 947 / 1658\n",
        "Rate limit remaining (3976, 5000)\n",
        "Processed"
       ]
      },
      {
       "output_type": "stream",
       "stream": "stdout",
       "text": [
        " 913  stargazers. Num nodes/edges in graph 947 / 1659\n",
        "Rate limit remaining (3975, 5000)\n",
        "Processed"
       ]
      },
      {
       "output_type": "stream",
       "stream": "stdout",
       "text": [
        " 914  stargazers. Num nodes/edges in graph 947 / 1659\n",
        "Rate limit remaining (3974, 5000)\n",
        "Processed"
       ]
      },
      {
       "output_type": "stream",
       "stream": "stdout",
       "text": [
        " 915  stargazers. Num nodes/edges in graph 947 / 1659\n",
        "Rate limit remaining (3973, 5000)\n",
        "Processed"
       ]
      },
      {
       "output_type": "stream",
       "stream": "stdout",
       "text": [
        " 916  stargazers. Num nodes/edges in graph 947 / 1659\n",
        "Rate limit remaining (3972, 5000)\n",
        "Processed"
       ]
      },
      {
       "output_type": "stream",
       "stream": "stdout",
       "text": [
        " 917  stargazers. Num nodes/edges in graph 947 / 1659\n",
        "Rate limit remaining (3971, 5000)\n",
        "Processed"
       ]
      },
      {
       "output_type": "stream",
       "stream": "stdout",
       "text": [
        " 918  stargazers. Num nodes/edges in graph 947 / 1660\n",
        "Rate limit remaining (3970, 5000)\n",
        "Processed"
       ]
      },
      {
       "output_type": "stream",
       "stream": "stdout",
       "text": [
        " 919  stargazers. Num nodes/edges in graph 947 / 1660\n",
        "Rate limit remaining (3969, 5000)\n",
        "Processed"
       ]
      },
      {
       "output_type": "stream",
       "stream": "stdout",
       "text": [
        " 920  stargazers. Num nodes/edges in graph 947 / 1660\n",
        "Rate limit remaining (3968, 5000)\n",
        "Processed"
       ]
      },
      {
       "output_type": "stream",
       "stream": "stdout",
       "text": [
        " 921  stargazers. Num nodes/edges in graph 947 / 1660\n",
        "Rate limit remaining (3967, 5000)\n",
        "Processed"
       ]
      },
      {
       "output_type": "stream",
       "stream": "stdout",
       "text": [
        " 922  stargazers. Num nodes/edges in graph 947 / 1660\n",
        "Rate limit remaining (3966, 5000)\n",
        "Processed"
       ]
      },
      {
       "output_type": "stream",
       "stream": "stdout",
       "text": [
        " 923  stargazers. Num nodes/edges in graph 947 / 1660\n",
        "Rate limit remaining (3965, 5000)\n",
        "Processed"
       ]
      },
      {
       "output_type": "stream",
       "stream": "stdout",
       "text": [
        " 924  stargazers. Num nodes/edges in graph 947 / 1660\n",
        "Rate limit remaining (3964, 5000)\n",
        "Processed"
       ]
      },
      {
       "output_type": "stream",
       "stream": "stdout",
       "text": [
        " 925  stargazers. Num nodes/edges in graph 947 / 1660\n",
        "Rate limit remaining (3963, 5000)\n",
        "Processed"
       ]
      },
      {
       "output_type": "stream",
       "stream": "stdout",
       "text": [
        " 926  stargazers. Num nodes/edges in graph 947 / 1660\n",
        "Rate limit remaining (3962, 5000)\n",
        "Processed"
       ]
      },
      {
       "output_type": "stream",
       "stream": "stdout",
       "text": [
        " 927  stargazers. Num nodes/edges in graph 947 / 1660\n",
        "Rate limit remaining (3961, 5000)\n",
        "Processed"
       ]
      },
      {
       "output_type": "stream",
       "stream": "stdout",
       "text": [
        " 928  stargazers. Num nodes/edges in graph 947 / 1660\n",
        "Rate limit remaining (3960, 5000)\n",
        "Processed"
       ]
      },
      {
       "output_type": "stream",
       "stream": "stdout",
       "text": [
        " 929  stargazers. Num nodes/edges in graph 947 / 1660\n",
        "Rate limit remaining (3959, 5000)\n",
        "Processed"
       ]
      },
      {
       "output_type": "stream",
       "stream": "stdout",
       "text": [
        " 930  stargazers. Num nodes/edges in graph 947 / 1660\n",
        "Rate limit remaining (3958, 5000)\n",
        "Processed"
       ]
      },
      {
       "output_type": "stream",
       "stream": "stdout",
       "text": [
        " 931  stargazers. Num nodes/edges in graph 947 / 1661\n",
        "Rate limit remaining (3957, 5000)\n",
        "Processed"
       ]
      },
      {
       "output_type": "stream",
       "stream": "stdout",
       "text": [
        " 932  stargazers. Num nodes/edges in graph 947 / 1661\n",
        "Rate limit remaining (3956, 5000)\n",
        "Processed"
       ]
      },
      {
       "output_type": "stream",
       "stream": "stdout",
       "text": [
        " 933  stargazers. Num nodes/edges in graph 947 / 1661\n",
        "Rate limit remaining (3955, 5000)\n",
        "Processed"
       ]
      },
      {
       "output_type": "stream",
       "stream": "stdout",
       "text": [
        " 934  stargazers. Num nodes/edges in graph 947 / 1661\n",
        "Rate limit remaining (3954, 5000)\n",
        "Processed"
       ]
      },
      {
       "output_type": "stream",
       "stream": "stdout",
       "text": [
        " 935  stargazers. Num nodes/edges in graph 947 / 1661\n",
        "Rate limit remaining (3953, 5000)\n",
        "Processed"
       ]
      },
      {
       "output_type": "stream",
       "stream": "stdout",
       "text": [
        " 936  stargazers. Num nodes/edges in graph 947 / 1661\n",
        "Rate limit remaining (3952, 5000)\n",
        "Processed"
       ]
      },
      {
       "output_type": "stream",
       "stream": "stdout",
       "text": [
        " 937  stargazers. Num nodes/edges in graph 947 / 1661\n",
        "Rate limit remaining (3951, 5000)\n",
        "Processed"
       ]
      },
      {
       "output_type": "stream",
       "stream": "stdout",
       "text": [
        " 938  stargazers. Num nodes/edges in graph 947 / 1661\n",
        "Rate limit remaining (3950, 5000)\n",
        "Processed"
       ]
      },
      {
       "output_type": "stream",
       "stream": "stdout",
       "text": [
        " 939  stargazers. Num nodes/edges in graph 947 / 1661\n",
        "Rate limit remaining (3949, 5000)\n",
        "Processed"
       ]
      },
      {
       "output_type": "stream",
       "stream": "stdout",
       "text": [
        " 940  stargazers. Num nodes/edges in graph 947 / 1662\n",
        "Rate limit remaining (3948, 5000)\n",
        "Processed"
       ]
      },
      {
       "output_type": "stream",
       "stream": "stdout",
       "text": [
        " 941  stargazers. Num nodes/edges in graph 947 / 1662\n",
        "Rate limit remaining (3947, 5000)\n",
        "Processed"
       ]
      },
      {
       "output_type": "stream",
       "stream": "stdout",
       "text": [
        " 942  stargazers. Num nodes/edges in graph 947 / 1664\n",
        "Rate limit remaining (3946, 5000)\n",
        "Processed"
       ]
      },
      {
       "output_type": "stream",
       "stream": "stdout",
       "text": [
        " 943  stargazers. Num nodes/edges in graph 947 / 1664\n",
        "Rate limit remaining (3945, 5000)\n",
        "Processed"
       ]
      },
      {
       "output_type": "stream",
       "stream": "stdout",
       "text": [
        " 944  stargazers. Num nodes/edges in graph 947 / 1664\n",
        "Rate limit remaining (3944, 5000)\n",
        "Processed"
       ]
      },
      {
       "output_type": "stream",
       "stream": "stdout",
       "text": [
        " 945  stargazers. Num nodes/edges in graph 947 / 1664\n",
        "Rate limit remaining (3943, 5000)\n",
        "Processed"
       ]
      },
      {
       "output_type": "stream",
       "stream": "stdout",
       "text": [
        " 946  stargazers. Num nodes/edges in graph 947 / 1664\n",
        "Rate limit remaining (3942, 5000)\n"
       ]
      }
     ],
     "prompt_number": 15
    },
    {
     "cell_type": "heading",
     "level": 2,
     "metadata": {},
     "source": [
      "Example 9. Exploring the updated graph's \"follows\" edges"
     ]
    },
    {
     "cell_type": "code",
     "collapsed": false,
     "input": [
      "from operator import itemgetter\n",
      "from collections import Counter\n",
      "\n",
      "# Let's see how many social edges we added since last time.\n",
      "print nx.info(g)\n",
      "print\n",
      "\n",
      "# The number of \"follows\" edges is the difference\n",
      "print len([e for e in g.edges_iter(data=True) if e[2]['type'] == 'follows'])\n",
      "print\n",
      "\n",
      "# The repository owner is possibly one of the more popular users in this graph.\n",
      "print len([e \n",
      "           for e in g.edges_iter(data=True) \n",
      "               if e[2]['type'] == 'follows' and e[1] == 'ptwobrussell(user)'])\n",
      "print\n",
      "\n",
      "# Let's examine the number of adjacent edges to each node\n",
      "print sorted([n for n in g.degree_iter()], key=itemgetter(1), reverse=True)[:10]\n",
      "print\n",
      "\n",
      "# Consider the ratio of incoming and outgoing edges for a couple of users with \n",
      "# high node degrees...\n",
      "\n",
      "# A user who follows many but is not followed back by many.\n",
      "\n",
      "print len(g.out_edges('hcilab(user)'))\n",
      "print len(g.in_edges('hcilab(user)'))\n",
      "print\n",
      "\n",
      "# A user who is followed by many but does not follow back.\n",
      "\n",
      "print len(g.out_edges('ptwobrussell(user)'))\n",
      "print len(g.in_edges('ptwobrussell(user)'))\n",
      "print\n",
      "\n",
      "c = Counter([e[1] for e in g.edges_iter(data=True) if e[2]['type'] == 'follows'])\n",
      "popular_users = [ (u, f) for (u, f) in c.most_common() if f > 1 ]\n",
      "print \"Number of popular users\", len(popular_users)\n",
      "print \"Top 10 popular users:\", popular_users[:10]"
     ],
     "language": "python",
     "metadata": {},
     "outputs": [
      {
       "output_type": "stream",
       "stream": "stdout",
       "text": [
        "Name: \n",
        "Type: DiGraph\n",
        "Number of nodes: 947\n",
        "Number of edges: 1664\n",
        "Average in degree:   1.7571\n",
        "Average out degree:   1.7571\n",
        "\n",
        "718\n",
        "\n",
        "104\n",
        "\n",
        "[(u'Mining-the-Social-Web(repo)', 946), (u'hcilab(user)', 126), (u'kennethreitz(user)', 111), (u'ptwobrussell(user)', 105), (u'equus12(user)', 76), (u'rohithadassanayake(user)', 25), (u'JT5D(user)', 22), (u'hammer(user)', 17), (u'isnowfy(user)', 16), (u'japerk(user)', 16)]\n",
        "\n",
        "121\n",
        "5\n",
        "\n",
        "1\n",
        "104\n",
        "\n",
        "Number of popular users 116\n",
        "Top 10 popular users: [(u'kennethreitz(user)', 107), (u'ptwobrussell(user)', 104), (u'japerk(user)', 15), (u'hammer(user)', 14), (u'isnowfy(user)', 14), (u'ZoomQuiet(user)', 6), (u'kamzilla(user)', 6), (u'acdha(user)', 6), (u'tswicegood(user)', 6), (u'hupili(user)', 5)]\n"
       ]
      }
     ],
     "prompt_number": 17
    },
    {
     "cell_type": "heading",
     "level": 2,
     "metadata": {},
     "source": [
      "Example 10. Snapshotting (pickling) the graph's state to disk"
     ]
    },
    {
     "cell_type": "code",
     "collapsed": false,
     "input": [
      "# Save your work by serializing out (pickling) the graph\n",
      "nx.write_gpickle(g, \"./Example10_graph\")\n",
      "\n",
      "# How to restore the graph...\n",
      "# import networkx as nx\n",
      "# g = nx.read_gpickle(\"resources/ch07-github/data/github.gpickle.1\")"
     ],
     "language": "python",
     "metadata": {},
     "outputs": [],
     "prompt_number": 20
    },
    {
     "cell_type": "heading",
     "level": 2,
     "metadata": {},
     "source": [
      "Example 11. Applying centrality measures to the interest graph"
     ]
    },
    {
     "cell_type": "code",
     "collapsed": false,
     "input": [
      "#In graph theory and network analysis, centrality of a vertex measures its relative importance within a graph. \n",
      "#Applications include how influential a person is within a social network, \n",
      "#how important a room is within a building (space syntax), and how well-used a road is within an urban network. \n",
      "#There are four main measures of centrality: degree, betweenness, closeness, and eigenvector. \n",
      "from operator import itemgetter\n",
      "\n",
      "# Create a copy of the graph so that we can iteratively mutate the copy\n",
      "# as needed for experimentation\n",
      "\n",
      "h = g.copy()\n",
      "\n",
      "# Remove the seed of the interest graph, which is a supernode, in order\n",
      "# to get a better idea of the network dynamics\n",
      "\n",
      "h.remove_node('Mining-the-Social-Web(repo)')\n",
      "\n",
      "# XXX: Remove any other nodes that appear to be supernodes.\n",
      "# Filter any other nodes that you can by threshold\n",
      "# criteria or heuristics from inspection.\n",
      "\n",
      "# Display the centrality measures for the top 10 nodes\n",
      "\n",
      "\n",
      "dc = sorted(nx.degree_centrality(h).items(), \n",
      "            key=itemgetter(1), reverse=True)\n",
      "\n",
      "print \"Degree Centrality\"\n",
      "print dc[:10]\n",
      "print\n",
      "\n",
      "bc = sorted(nx.betweenness_centrality(h).items(), \n",
      "            key=itemgetter(1), reverse=True)\n",
      "\n",
      "print \"Betweenness Centrality\"\n",
      "print bc[:10]\n",
      "print\n",
      "\n",
      "print \"Closeness Centrality\"\n",
      "cc = sorted(nx.closeness_centrality(h).items(), \n",
      "            key=itemgetter(1), reverse=True)\n",
      "print cc[:10]\n",
      "\n",
      "nx.write_gpickle(g, \"Example11_graph\")"
     ],
     "language": "python",
     "metadata": {},
     "outputs": [
      {
       "output_type": "stream",
       "stream": "stdout",
       "text": [
        "Degree Centrality\n",
        "[(u'hcilab(user)', 0.1322751322751323), (u'kennethreitz(user)', 0.11640211640211641), (u'ptwobrussell(user)', 0.11005291005291006), (u'equus12(user)', 0.07936507936507937), (u'rohithadassanayake(user)', 0.025396825396825397), (u'JT5D(user)', 0.022222222222222223), (u'hammer(user)', 0.016931216931216932), (u'isnowfy(user)', 0.015873015873015876), (u'japerk(user)', 0.015873015873015876), (u'douglas(user)', 0.012698412698412698)]\n",
        "\n",
        "Betweenness Centrality"
       ]
      },
      {
       "output_type": "stream",
       "stream": "stdout",
       "text": [
        "\n",
        "[(u'hcilab(user)', 0.0020638968602716247), (u'douglas(user)', 0.0007742205482318476), (u'kennethreitz(user)', 0.0006243834633665142), (u'equus12(user)', 0.0005950690592202562), (u'matagus(user)', 0.0004338736436194063), (u'rohithadassanayake(user)', 0.0004334688468398449), (u'frac(user)', 0.00021859026096314227), (u'gawbul(user)', 0.00021634830956864854), (u'abecciu(user)', 0.00020016889367171852), (u'acdha(user)', 0.0001782351358622545)]\n",
        "\n",
        "Closeness Centrality\n",
        "[(u'hcilab(user)', 0.13497983497983498), (u'equus12(user)', 0.11222160698904884), (u'rohithadassanayake(user)', 0.096510582010582), (u'douglas(user)', 0.0871427377070718), (u'gawbul(user)', 0.08491781455534121), (u'matagus(user)', 0.08266431007330365), (u'seijiro(user)', 0.07395296663589347), (u'kuntoaji(user)', 0.0654309030580217), (u'frac(user)', 0.06117944976899018), (u'brunojm(user)', 0.060986149769720076)]\n"
       ]
      }
     ],
     "prompt_number": 23
    },
    {
     "cell_type": "heading",
     "level": 2,
     "metadata": {},
     "source": [
      "Example 12. Adding starred repositories to the graph"
     ]
    },
    {
     "cell_type": "code",
     "collapsed": false,
     "input": [
      "# Let's add each stargazer's additional starred repos and add edges \n",
      "# to find additional interests.\n",
      "\n",
      "\n",
      "\n",
      "MAX_REPOS = 500\n",
      "\n",
      "for i, sg in enumerate(stargazers):\n",
      "    print sg.login\n",
      "    try:\n",
      "        for starred in sg.get_starred()[:MAX_REPOS]: # Slice to avoid supernodes\n",
      "            g.add_node(starred.name + '(repo)', type='repo', lang=starred.language, \\\n",
      "                       owner=starred.owner.login)\n",
      "            g.add_edge(sg.login + '(user)', starred.name + '(repo)', type='gazes')\n",
      "    except Exception, e: #ssl.SSLError:\n",
      "        print \"Encountered an error fetching starred repos for\", sg.login, \"Skipping.\"\n",
      "\n",
      "    print \"Processed\", i+1, \"stargazers' starred repos\"\n",
      "    print \"Num nodes/edges in graph\", g.number_of_nodes(), \"/\", g.number_of_edges()\n",
      "    print \"Rate limit\", client.rate_limiting"
     ],
     "language": "python",
     "metadata": {},
     "outputs": [
      {
       "output_type": "stream",
       "stream": "stdout",
       "text": [
        "rdempsey\n",
        "Processed"
       ]
      },
      {
       "output_type": "stream",
       "stream": "stdout",
       "text": [
        " 1 stargazers' starred repos\n",
        "Num nodes/edges in graph 1147 / 1864\n",
        "Rate limit (3939, 5000)\n",
        "frac\n",
        "Processed"
       ]
      },
      {
       "output_type": "stream",
       "stream": "stdout",
       "text": [
        " 2 stargazers' starred repos\n",
        "Num nodes/edges in graph 1250 / 1971\n",
        "Rate limit (3937, 5000)\n",
        "prb\n",
        "Processed"
       ]
      },
      {
       "output_type": "stream",
       "stream": "stdout",
       "text": [
        " 3 stargazers' starred repos\n",
        "Num nodes/edges in graph 1405 / 2128\n",
        "Rate limit (3935, 5000)\n",
        "mcroydon\n",
        "Processed"
       ]
      },
      {
       "output_type": "stream",
       "stream": "stdout",
       "text": [
        " 4 stargazers' starred repos\n",
        "Num nodes/edges in graph 1896 / 2624\n",
        "Rate limit (3930, 5000)\n",
        "batasrki\n",
        "Processed"
       ]
      },
      {
       "output_type": "stream",
       "stream": "stdout",
       "text": [
        " 5 stargazers' starred repos\n",
        "Num nodes/edges in graph 1984 / 2729\n",
        "Rate limit (3928, 5000)\n",
        "twleung\n",
        "Processed"
       ]
      },
      {
       "output_type": "stream",
       "stream": "stdout",
       "text": [
        " 6 stargazers' starred repos\n",
        "Num nodes/edges in graph 2455 / 3226\n",
        "Rate limit (3923, 5000)\n",
        "kevinchiu\n",
        "Processed"
       ]
      },
      {
       "output_type": "stream",
       "stream": "stdout",
       "text": [
        " 7 stargazers' starred repos\n",
        "Num nodes/edges in graph 2685 / 3490\n",
        "Rate limit (3920, 5000)\n",
        "nikolay\n",
        "Processed"
       ]
      },
      {
       "output_type": "stream",
       "stream": "stdout",
       "text": [
        " 8 stargazers' starred repos\n",
        "Num nodes/edges in graph 3146 / 3986\n",
        "Rate limit (3915, 5000)\n",
        "tswicegood\n",
        "Processed"
       ]
      },
      {
       "output_type": "stream",
       "stream": "stdout",
       "text": [
        " 9 stargazers' starred repos\n",
        "Num nodes/edges in graph 3564 / 4445\n",
        "Rate limit (3910, 5000)\n",
        "ngpestelos\n",
        "Processed"
       ]
      },
      {
       "output_type": "stream",
       "stream": "stdout",
       "text": [
        " 10 stargazers' starred repos\n",
        "Num nodes/edges in graph 3989 / 4935\n",
        "Rate limit (3905, 5000)\n",
        "darron\n",
        "Processed"
       ]
      },
      {
       "output_type": "stream",
       "stream": "stdout",
       "text": [
        " 11 stargazers' starred repos\n",
        "Num nodes/edges in graph 4122 / 5109\n",
        "Rate limit (3903, 5000)\n",
        "brunojm\n",
        "Processed"
       ]
      },
      {
       "output_type": "stream",
       "stream": "stdout",
       "text": [
        " 12 stargazers' starred repos\n",
        "Num nodes/edges in graph 4522 / 5604\n",
        "Rate limit (3898, 5000)\n",
        "rgaidot\n",
        "Processed"
       ]
      },
      {
       "output_type": "stream",
       "stream": "stdout",
       "text": [
        " 13 stargazers' starred repos\n",
        "Num nodes/edges in graph 4933 / 6101\n",
        "Rate limit (3893, 5000)\n",
        "openweb\n",
        "Processed"
       ]
      },
      {
       "output_type": "stream",
       "stream": "stdout",
       "text": [
        " 14 stargazers' starred repos\n",
        "Num nodes/edges in graph 5322 / 6595\n",
        "Rate limit (3888, 5000)\n",
        "shanlalit\n",
        "Processed"
       ]
      },
      {
       "output_type": "stream",
       "stream": "stdout",
       "text": [
        " 15 stargazers' starred repos\n",
        "Num nodes/edges in graph 5706 / 7090\n",
        "Rate limit (3883, 5000)\n",
        "hoffmann\n",
        "Processed"
       ]
      },
      {
       "output_type": "stream",
       "stream": "stdout",
       "text": [
        " 16 stargazers' starred repos\n",
        "Num nodes/edges in graph 5890 / 7343\n",
        "Rate limit (3880, 5000)\n",
        "nacht\n",
        "Processed"
       ]
      },
      {
       "output_type": "stream",
       "stream": "stdout",
       "text": [
        " 17 stargazers' starred repos\n",
        "Num nodes/edges in graph 6017 / 7530\n",
        "Rate limit (3878, 5000)\n",
        "hectoregm\n",
        "Processed"
       ]
      },
      {
       "output_type": "stream",
       "stream": "stdout",
       "text": [
        " 18 stargazers' starred repos\n",
        "Num nodes/edges in graph 6084 / 7641\n",
        "Rate limit (3876, 5000)\n",
        "tzuryby\n",
        "Processed"
       ]
      },
      {
       "output_type": "stream",
       "stream": "stdout",
       "text": [
        " 19 stargazers' starred repos\n",
        "Num nodes/edges in graph 6189 / 7796\n",
        "Rate limit (3873, 5000)\n",
        "marksands\n",
        "Processed"
       ]
      },
      {
       "output_type": "stream",
       "stream": "stdout",
       "text": [
        " 20 stargazers' starred repos\n",
        "Num nodes/edges in graph 6603 / 8285\n",
        "Rate limit (4998, 5000)\n",
        "wbzyl\n",
        "Processed"
       ]
      },
      {
       "output_type": "stream",
       "stream": "stdout",
       "text": [
        " 21 stargazers' starred repos\n",
        "Num nodes/edges in graph 6883 / 8674\n",
        "Rate limit (4994, 5000)\n",
        "sou\n",
        "Processed"
       ]
      },
      {
       "output_type": "stream",
       "stream": "stdout",
       "text": [
        " 22 stargazers' starred repos\n",
        "Num nodes/edges in graph 6944 / 8768\n",
        "Rate limit (4993, 5000)\n",
        "magnum\n",
        "Processed"
       ]
      },
      {
       "output_type": "stream",
       "stream": "stdout",
       "text": [
        " 23 stargazers' starred repos\n",
        "Num nodes/edges in graph 7187 / 9155\n",
        "Rate limit (4989, 5000)\n",
        "suzuki\n",
        "Processed"
       ]
      },
      {
       "output_type": "stream",
       "stream": "stdout",
       "text": [
        " 24 stargazers' starred repos\n",
        "Num nodes/edges in graph 7268 / 9264\n",
        "Rate limit (4987, 5000)\n",
        "tertsch\n",
        "Processed"
       ]
      },
      {
       "output_type": "stream",
       "stream": "stdout",
       "text": [
        " 25 stargazers' starred repos\n",
        "Num nodes/edges in graph 7600 / 9741\n",
        "Rate limit (4982, 5000)\n",
        "ymirpl\n",
        "Processed"
       ]
      },
      {
       "output_type": "stream",
       "stream": "stdout",
       "text": [
        " 26 stargazers' starred repos\n",
        "Num nodes/edges in graph 7671 / 9853\n",
        "Rate limit (4980, 5000)\n",
        "sebasmagri\n",
        "Processed"
       ]
      },
      {
       "output_type": "stream",
       "stream": "stdout",
       "text": [
        " 27 stargazers' starred repos\n",
        "Num nodes/edges in graph 7853 / 10089\n",
        "Rate limit (4977, 5000)\n",
        "galvez\n",
        "Processed"
       ]
      },
      {
       "output_type": "stream",
       "stream": "stdout",
       "text": [
        " 28 stargazers' starred repos\n",
        "Num nodes/edges in graph 7904 / "
       ]
      },
      {
       "output_type": "stream",
       "stream": "stdout",
       "text": [
        "10169\n",
        "Rate limit (4976, 5000)\n",
        "paulbersch\n",
        "Processed"
       ]
      },
      {
       "output_type": "stream",
       "stream": "stdout",
       "text": [
        " 29 stargazers' starred repos\n",
        "Num nodes/edges in graph 7990 / 10337\n",
        "Rate limit (4974, 5000)\n",
        "georgebellos\n",
        "Processed"
       ]
      },
      {
       "output_type": "stream",
       "stream": "stdout",
       "text": [
        " 30 stargazers' starred repos\n",
        "Num nodes/edges in graph 8265 / 10834\n",
        "Rate limit (4969, 5000)\n",
        "acadopia\n",
        "Processed"
       ]
      },
      {
       "output_type": "stream",
       "stream": "stdout",
       "text": [
        " 31 stargazers' starred repos\n",
        "Num nodes/edges in graph 8571 / "
       ]
      },
      {
       "output_type": "stream",
       "stream": "stdout",
       "text": [
        "11332\n",
        "Rate limit (4964, 5000)\n",
        "ggtr1138\n",
        "Processed"
       ]
      },
      {
       "output_type": "stream",
       "stream": "stdout",
       "text": [
        " 32 stargazers' starred repos\n",
        "Num nodes/edges in graph 8704 / 11525\n",
        "Rate limit (4962, 5000)\n",
        "program247365\n",
        "Processed"
       ]
      },
      {
       "output_type": "stream",
       "stream": "stdout",
       "text": [
        " 33 stargazers' starred repos\n",
        "Num nodes/edges in graph 9026 / 12023\n",
        "Rate limit (4957, 5000)\n",
        "edwelker\n",
        "Processed"
       ]
      },
      {
       "output_type": "stream",
       "stream": "stdout",
       "text": [
        " 34 stargazers' starred repos\n",
        "Num nodes/edges in graph 9097 / 12135\n",
        "Rate limit (4955, 5000)\n",
        "hammer\n",
        "Processed"
       ]
      },
      {
       "output_type": "stream",
       "stream": "stdout",
       "text": [
        " 35 stargazers' starred repos\n",
        "Num nodes/edges in graph 9482 / 12628\n",
        "Rate limit (4950, 5000)\n",
        "jengdal\n",
        "Processed"
       ]
      },
      {
       "output_type": "stream",
       "stream": "stdout",
       "text": [
        " 36 stargazers' starred repos\n",
        "Num nodes/edges in graph 9514 / "
       ]
      },
      {
       "output_type": "stream",
       "stream": "stdout",
       "text": [
        "12686\n",
        "Rate limit (4949, 5000)\n",
        "brimbrom\n",
        "Processed"
       ]
      },
      {
       "output_type": "stream",
       "stream": "stdout",
       "text": [
        " 37 stargazers' starred repos\n",
        "Num nodes/edges in graph 9657 / 13012\n",
        "Rate limit (4945, 5000)\n",
        "gar\n",
        "Processed"
       ]
      },
      {
       "output_type": "stream",
       "stream": "stdout",
       "text": [
        " 38 stargazers' starred repos\n",
        "Num nodes/edges in graph 9667 / 13027\n",
        "Rate limit (4944, 5000)\n",
        "willi\n",
        "Processed"
       ]
      },
      {
       "output_type": "stream",
       "stream": "stdout",
       "text": [
        " 39 stargazers' starred repos\n",
        "Num nodes/edges in graph 10043 / 13527\n",
        "Rate limit (4939, 5000)\n",
        "gregmoreno\n",
        "Processed"
       ]
      },
      {
       "output_type": "stream",
       "stream": "stdout",
       "text": [
        " 40 stargazers' starred repos\n",
        "Num nodes/edges in graph 10121 / 13718\n",
        "Rate limit (4937, 5000)\n",
        "rays\n",
        "Processed"
       ]
      },
      {
       "output_type": "stream",
       "stream": "stdout",
       "text": [
        " 41 stargazers' starred repos\n",
        "Num nodes/edges in graph 10175 / 13815\n",
        "Rate limit (4935, 5000)\n",
        "rayleyva\n",
        "Processed"
       ]
      },
      {
       "output_type": "stream",
       "stream": "stdout",
       "text": [
        " 42 stargazers' starred repos\n",
        "Num nodes/edges in graph 10277 / 13977\n",
        "Rate limit (4932, 5000)\n",
        "paxan\n",
        "Processed"
       ]
      },
      {
       "output_type": "stream",
       "stream": "stdout",
       "text": [
        " 43 stargazers' starred repos\n",
        "Num nodes/edges in graph 10404 / 14256\n",
        "Rate limit (4929, 5000)\n",
        "eughenes\n",
        "Processed"
       ]
      },
      {
       "output_type": "stream",
       "stream": "stdout",
       "text": [
        " 44 stargazers' starred repos\n",
        "Num nodes/edges in graph 10440 / 14334\n",
        "Rate limit (4928, 5000)\n",
        "barce\n",
        "Processed"
       ]
      },
      {
       "output_type": "stream",
       "stream": "stdout",
       "text": [
        " 45 stargazers' starred repos\n",
        "Num nodes/edges in graph 10481 / 14387\n",
        "Rate limit (4927, 5000)\n",
        "abuiles\n",
        "Processed"
       ]
      },
      {
       "output_type": "stream",
       "stream": "stdout",
       "text": [
        " 46 stargazers' starred repos\n",
        "Num nodes/edges in graph 10764 / 14871\n",
        "Rate limit (4922, 5000)\n",
        "carhartl\n",
        "Processed"
       ]
      },
      {
       "output_type": "stream",
       "stream": "stdout",
       "text": [
        " 47 stargazers' starred repos\n",
        "Num nodes/edges in graph 10889 / 15109\n",
        "Rate limit (4919, 5000)\n",
        "jexchan\n",
        "Processed"
       ]
      },
      {
       "output_type": "stream",
       "stream": "stdout",
       "text": [
        " 48 stargazers' starred repos\n",
        "Num nodes/edges in graph 11072 / 15367\n",
        "Rate limit (4916, 5000)\n",
        "yasu00000\n",
        "Processed"
       ]
      },
      {
       "output_type": "stream",
       "stream": "stdout",
       "text": [
        " 49 stargazers' starred repos\n",
        "Num nodes/edges in graph 11382 / 15867\n",
        "Rate limit (4911, 5000)\n",
        "lsinger\n",
        "Processed"
       ]
      },
      {
       "output_type": "stream",
       "stream": "stdout",
       "text": [
        " 50 stargazers' starred repos\n",
        "Num nodes/edges in graph 11456 / 15983\n",
        "Rate limit (4909, 5000)\n",
        "yy\n",
        "Processed"
       ]
      },
      {
       "output_type": "stream",
       "stream": "stdout",
       "text": [
        " 51 stargazers' starred repos\n",
        "Num nodes/edges in graph 11488 / 16041\n",
        "Rate limit (4908, 5000)\n",
        "daemianmack\n",
        "Processed"
       ]
      },
      {
       "output_type": "stream",
       "stream": "stdout",
       "text": [
        " 52 stargazers' starred repos\n",
        "Num nodes/edges in graph 11575 / 16168\n",
        "Rate limit (4906, 5000)\n",
        "ricardoalmeida\n",
        "Processed"
       ]
      },
      {
       "output_type": "stream",
       "stream": "stdout",
       "text": [
        " 53 stargazers' starred repos\n",
        "Num nodes/edges in graph 11714 / 16428\n",
        "Rate limit (4903, 5000)\n",
        "gerad\n",
        "Processed"
       ]
      },
      {
       "output_type": "stream",
       "stream": "stdout",
       "text": [
        " 54 stargazers' starred repos\n",
        "Num nodes/edges in graph 11770 / 16538\n",
        "Rate limit (4901, 5000)\n",
        "amitagrawal\n",
        "Processed"
       ]
      },
      {
       "output_type": "stream",
       "stream": "stdout",
       "text": [
        " 55 stargazers' starred repos\n",
        "Num nodes/edges in graph 11916 / 16798\n",
        "Rate limit (4897, 5000)\n",
        "swinton\n",
        "Processed"
       ]
      },
      {
       "output_type": "stream",
       "stream": "stdout",
       "text": [
        " 56 stargazers' starred repos\n",
        "Num nodes/edges in graph 12014 / 16990\n",
        "Rate limit (4894, 5000)\n",
        "polonia\n",
        "Processed"
       ]
      },
      {
       "output_type": "stream",
       "stream": "stdout",
       "text": [
        " 57 stargazers' starred repos\n",
        "Num nodes/edges in graph 12040 / 17033\n",
        "Rate limit (4893, 5000)\n",
        "fozbaca\n",
        "Processed"
       ]
      },
      {
       "output_type": "stream",
       "stream": "stdout",
       "text": [
        " 58 stargazers' starred repos\n",
        "Num nodes/edges in graph 12189 / "
       ]
      },
      {
       "output_type": "stream",
       "stream": "stdout",
       "text": [
        "17263\n",
        "Rate limit (4890, 5000)\n",
        "nborwankar\n",
        "Processed"
       ]
      },
      {
       "output_type": "stream",
       "stream": "stdout",
       "text": [
        " 59 stargazers' starred repos\n",
        "Num nodes/edges in graph 12248 / 17352\n",
        "Rate limit (4888, 5000)\n",
        "aljosa\n",
        "Processed"
       ]
      },
      {
       "output_type": "stream",
       "stream": "stdout",
       "text": [
        " 60 stargazers' starred repos\n",
        "Num nodes/edges in graph 12561 / "
       ]
      },
      {
       "output_type": "stream",
       "stream": "stdout",
       "text": [
        "17849\n",
        "Rate limit (4883, 5000)\n",
        "macdet\n",
        "Processed"
       ]
      },
      {
       "output_type": "stream",
       "stream": "stdout",
       "text": [
        " 61 stargazers' starred repos\n",
        "Num nodes/edges in graph 12629 / 17946\n",
        "Rate limit (4881, 5000)\n",
        "Smerity\n",
        "Processed"
       ]
      },
      {
       "output_type": "stream",
       "stream": "stdout",
       "text": [
        " 62 stargazers' starred repos\n",
        "Num nodes/edges in graph 12827 / 18359\n",
        "Rate limit (4876, 5000)\n",
        "joepestro\n",
        "Processed"
       ]
      },
      {
       "output_type": "stream",
       "stream": "stdout",
       "text": [
        " 63 stargazers' starred repos\n",
        "Num nodes/edges in graph 12987 / "
       ]
      },
      {
       "output_type": "stream",
       "stream": "stdout",
       "text": [
        "18719\n",
        "Rate limit (4872, 5000)\n",
        "phauly\n",
        "Processed"
       ]
      },
      {
       "output_type": "stream",
       "stream": "stdout",
       "text": [
        " 64 stargazers' starred repos\n",
        "Num nodes/edges in graph 13028 / 18772\n",
        "Rate limit (4871, 5000)\n",
        "shamiksharma\n",
        "Processed"
       ]
      },
      {
       "output_type": "stream",
       "stream": "stdout",
       "text": [
        " 65 stargazers' starred repos\n",
        "Num nodes/edges in graph 13068 / "
       ]
      },
      {
       "output_type": "stream",
       "stream": "stdout",
       "text": [
        "18828\n",
        "Rate limit (4870, 5000)\n",
        "lg2046\n",
        "Processed"
       ]
      },
      {
       "output_type": "stream",
       "stream": "stdout",
       "text": [
        " 66 stargazers' starred repos\n",
        "Num nodes/edges in graph 13338 / 19319\n",
        "Rate limit (4865, 5000)\n",
        "omg\n",
        "Processed"
       ]
      },
      {
       "output_type": "stream",
       "stream": "stdout",
       "text": [
        " 67 stargazers' starred repos\n",
        "Num nodes/edges in graph 13351 / 19341\n",
        "Rate limit (4864, 5000)\n",
        "lzell\n",
        "Processed"
       ]
      },
      {
       "output_type": "stream",
       "stream": "stdout",
       "text": [
        " 68 stargazers' starred repos\n",
        "Num nodes/edges in graph 13411 / 19465\n",
        "Rate limit (4862, 5000)\n",
        "eduardocereto\n",
        "Processed"
       ]
      },
      {
       "output_type": "stream",
       "stream": "stdout",
       "text": [
        " 69 stargazers' starred repos\n",
        "Num nodes/edges in graph 13467 / 19604\n",
        "Rate limit (4860, 5000)\n",
        "kshimo69\n",
        "Processed"
       ]
      },
      {
       "output_type": "stream",
       "stream": "stdout",
       "text": [
        " 70 stargazers' starred repos\n",
        "Num nodes/edges in graph 13510 / 19674\n",
        "Rate limit (4859, 5000)\n",
        "natorro\n",
        "Processed"
       ]
      },
      {
       "output_type": "stream",
       "stream": "stdout",
       "text": [
        " 71 stargazers' starred repos\n",
        "Num nodes/edges in graph 13517 / "
       ]
      },
      {
       "output_type": "stream",
       "stream": "stdout",
       "text": [
        "19688\n",
        "Rate limit (4858, 5000)\n",
        "abecciu\n",
        "Processed"
       ]
      },
      {
       "output_type": "stream",
       "stream": "stdout",
       "text": [
        " 72 stargazers' starred repos\n",
        "Num nodes/edges in graph 13800 / 20182\n",
        "Rate limit (4853, 5000)\n",
        "CaptSolo\n",
        "Processed"
       ]
      },
      {
       "output_type": "stream",
       "stream": "stdout",
       "text": [
        " 73 stargazers' starred repos\n",
        "Num nodes/edges in graph 13916 / 20372\n",
        "Rate limit (4851, 5000)\n",
        "clyfe\n",
        "Processed"
       ]
      },
      {
       "output_type": "stream",
       "stream": "stdout",
       "text": [
        " 74 stargazers' starred repos\n",
        "Num nodes/edges in graph 14174 / 20865\n",
        "Rate limit (4846, 5000)\n",
        "mahmoudimus\n",
        "Processed"
       ]
      },
      {
       "output_type": "stream",
       "stream": "stdout",
       "text": [
        " 75 stargazers' starred repos\n",
        "Num nodes/edges in graph 14376 / "
       ]
      },
      {
       "output_type": "stream",
       "stream": "stdout",
       "text": [
        "21266\n",
        "Rate limit (4841, 5000)\n",
        "mkhDev\n",
        "Processed"
       ]
      },
      {
       "output_type": "stream",
       "stream": "stdout",
       "text": [
        " 76 stargazers' starred repos\n",
        "Num nodes/edges in graph 14478 / "
       ]
      },
      {
       "output_type": "stream",
       "stream": "stdout",
       "text": [
        "21482\n",
        "Rate limit (4838, 5000)\n",
        "Kilian\n",
        "Processed"
       ]
      },
      {
       "output_type": "stream",
       "stream": "stdout",
       "text": [
        " 77 stargazers' starred repos\n",
        "Num nodes/edges in graph 14593 / 21699\n",
        "Rate limit (4835, 5000)\n",
        "stonegao\n",
        "Processed"
       ]
      },
      {
       "output_type": "stream",
       "stream": "stdout",
       "text": [
        " 78 stargazers' starred repos\n",
        "Num nodes/edges in graph 14890 / 22193\n",
        "Rate limit (4830, 5000)\n",
        "pcdinh\n",
        "Processed"
       ]
      },
      {
       "output_type": "stream",
       "stream": "stdout",
       "text": [
        " 79 stargazers' starred repos\n",
        "Num nodes/edges in graph 15252 / 22688\n",
        "Rate limit (4825, 5000)\n",
        "jacktang\n",
        "Processed"
       ]
      },
      {
       "output_type": "stream",
       "stream": "stdout",
       "text": [
        " 80 stargazers' starred repos\n",
        "Num nodes/edges in graph 15362 / 22902\n",
        "Rate limit (4822, 5000)\n",
        "Almad\n",
        "Processed"
       ]
      },
      {
       "output_type": "stream",
       "stream": "stdout",
       "text": [
        " 81 stargazers' starred repos\n",
        "Num nodes/edges in graph 15640 / "
       ]
      },
      {
       "output_type": "stream",
       "stream": "stdout",
       "text": [
        "23386\n",
        "Rate limit (4817, 5000)\n",
        "marcbelmont\n",
        "Processed"
       ]
      },
      {
       "output_type": "stream",
       "stream": "stdout",
       "text": [
        " 82 stargazers' starred repos\n",
        "Num nodes/edges in graph 15653 / 23414\n",
        "Rate limit (4816, 5000)\n",
        "sleeptillseven\n",
        "Processed"
       ]
      },
      {
       "output_type": "stream",
       "stream": "stdout",
       "text": [
        " 83 stargazers' starred repos\n",
        "Num nodes/edges in graph 15783 / 23787\n",
        "Rate limit (4812, 5000)\n",
        "Kudo\n",
        "Processed"
       ]
      },
      {
       "output_type": "stream",
       "stream": "stdout",
       "text": [
        " 84 stargazers' starred repos\n",
        "Num nodes/edges in graph 15821 / 23843\n",
        "Rate limit (4811, 5000)\n",
        "acdha\n",
        "Processed"
       ]
      },
      {
       "output_type": "stream",
       "stream": "stdout",
       "text": [
        " 85 stargazers' starred repos\n",
        "Num nodes/edges in graph 16094 / "
       ]
      },
      {
       "output_type": "stream",
       "stream": "stdout",
       "text": [
        "24322\n",
        "Rate limit (4806, 5000)\n",
        "ticean\n",
        "Processed"
       ]
      },
      {
       "output_type": "stream",
       "stream": "stdout",
       "text": [
        " 86 stargazers' starred repos\n",
        "Num nodes/edges in graph 16364 / 24803\n",
        "Rate limit (4801, 5000)\n",
        "buffpojken\n",
        "Processed"
       ]
      },
      {
       "output_type": "stream",
       "stream": "stdout",
       "text": [
        " 87 stargazers' starred repos\n",
        "Num nodes/edges in graph 16498 / 25017\n",
        "Rate limit (4798, 5000)\n",
        "brennannovak\n",
        "Processed"
       ]
      },
      {
       "output_type": "stream",
       "stream": "stdout",
       "text": [
        " 88 stargazers' starred repos\n",
        "Num nodes/edges in graph 16564 / "
       ]
      },
      {
       "output_type": "stream",
       "stream": "stdout",
       "text": [
        "25132\n",
        "Rate limit (4796, 5000)\n",
        "zen4ever\n",
        "Processed"
       ]
      },
      {
       "output_type": "stream",
       "stream": "stdout",
       "text": [
        " 89 stargazers' starred repos\n",
        "Num nodes/edges in graph 16828 / 25631\n",
        "Rate limit (4791, 5000)\n",
        "bpeirce\n",
        "Processed"
       ]
      },
      {
       "output_type": "stream",
       "stream": "stdout",
       "text": [
        " 90 stargazers' starred repos\n",
        "Num nodes/edges in graph 16902 / 25796\n",
        "Rate limit (4789, 5000)\n",
        "metllord\n",
        "Processed"
       ]
      },
      {
       "output_type": "stream",
       "stream": "stdout",
       "text": [
        " 91 stargazers' starred repos\n",
        "Num nodes/edges in graph 16912 / "
       ]
      },
      {
       "output_type": "stream",
       "stream": "stdout",
       "text": [
        "25817\n",
        "Rate limit (4788, 5000)\n",
        "macdiva\n",
        "Processed"
       ]
      },
      {
       "output_type": "stream",
       "stream": "stdout",
       "text": [
        " 92 stargazers' starred repos\n",
        "Num nodes/edges in graph 17096 / "
       ]
      },
      {
       "output_type": "stream",
       "stream": "stdout",
       "text": [
        "26152\n",
        "Rate limit (4784, 5000)\n",
        "miukal\n",
        "Processed"
       ]
      },
      {
       "output_type": "stream",
       "stream": "stdout",
       "text": [
        " 93 stargazers' starred repos\n",
        "Num nodes/edges in graph 17151 / "
       ]
      },
      {
       "output_type": "stream",
       "stream": "stdout",
       "text": [
        "26345\n",
        "Rate limit (4782, 5000)\n",
        "miyucy\n",
        "Processed"
       ]
      },
      {
       "output_type": "stream",
       "stream": "stdout",
       "text": [
        " 94 stargazers' starred repos\n",
        "Num nodes/edges in graph 17432 / 26845\n",
        "Rate limit (4777, 5000)\n",
        "valentinzberea\n",
        "Processed"
       ]
      },
      {
       "output_type": "stream",
       "stream": "stdout",
       "text": [
        " 95 stargazers' starred repos\n",
        "Num nodes/edges in graph 17502 / 27031\n",
        "Rate limit (4775, 5000)\n",
        "Tuxified\n",
        "Processed"
       ]
      },
      {
       "output_type": "stream",
       "stream": "stdout",
       "text": [
        " 96 stargazers' starred repos\n",
        "Num nodes/edges in graph 17552 / 27189\n",
        "Rate limit (4773, 5000)\n",
        "miku\n",
        "Processed"
       ]
      },
      {
       "output_type": "stream",
       "stream": "stdout",
       "text": [
        " 97 stargazers' starred repos\n",
        "Num nodes/edges in graph 17742 / "
       ]
      },
      {
       "output_type": "stream",
       "stream": "stdout",
       "text": [
        "27626\n",
        "Rate limit (4768, 5000)\n",
        "daevid\n",
        "Processed"
       ]
      },
      {
       "output_type": "stream",
       "stream": "stdout",
       "text": [
        " 98 stargazers' starred repos\n",
        "Num nodes/edges in graph 17813 / 27766\n",
        "Rate limit (4766, 5000)\n",
        "lemonad\n",
        "Processed"
       ]
      },
      {
       "output_type": "stream",
       "stream": "stdout",
       "text": [
        " 99 stargazers' starred repos\n",
        "Num nodes/edges in graph 17851 / 27824\n",
        "Rate limit (4765, 5000)\n",
        "Xeoncross\n",
        "Processed"
       ]
      },
      {
       "output_type": "stream",
       "stream": "stdout",
       "text": [
        " 100 stargazers' starred repos\n",
        "Num nodes/edges in graph 18195 / "
       ]
      },
      {
       "output_type": "stream",
       "stream": "stdout",
       "text": [
        "28319\n",
        "Rate limit (4760, 5000)\n",
        "shurik\n",
        "Processed"
       ]
      },
      {
       "output_type": "stream",
       "stream": "stdout",
       "text": [
        " 101 stargazers' starred repos\n",
        "Num nodes/edges in graph 18380 / 28814\n",
        "Rate limit (4755, 5000)\n",
        "zonovo\n",
        "Processed"
       ]
      },
      {
       "output_type": "stream",
       "stream": "stdout",
       "text": [
        " 102 stargazers' starred repos\n",
        "Num nodes/edges in graph 18499 / "
       ]
      },
      {
       "output_type": "stream",
       "stream": "stdout",
       "text": [
        "29126\n",
        "Rate limit (4751, 5000)\n",
        "matagus\n",
        "Processed"
       ]
      },
      {
       "output_type": "stream",
       "stream": "stdout",
       "text": [
        " 103 stargazers' starred repos\n",
        "Num nodes/edges in graph 18798 / "
       ]
      },
      {
       "output_type": "stream",
       "stream": "stdout",
       "text": [
        "29624\n",
        "Rate limit (4746, 5000)\n",
        "tisihara\n",
        "Processed"
       ]
      },
      {
       "output_type": "stream",
       "stream": "stdout",
       "text": [
        " 104 stargazers' starred repos\n",
        "Num nodes/edges in graph 18802 / "
       ]
      },
      {
       "output_type": "stream",
       "stream": "stdout",
       "text": [
        "29638\n",
        "Rate limit (4745, 5000)\n",
        "phernandez\n",
        "Processed"
       ]
      },
      {
       "output_type": "stream",
       "stream": "stdout",
       "text": [
        " 105 stargazers' starred repos\n",
        "Num nodes/edges in graph 18882 / "
       ]
      },
      {
       "output_type": "stream",
       "stream": "stdout",
       "text": [
        "29813\n",
        "Rate limit (4743, 5000)\n",
        "vshulyak\n",
        "Processed"
       ]
      },
      {
       "output_type": "stream",
       "stream": "stdout",
       "text": [
        " 106 stargazers' starred repos\n",
        "Num nodes/edges in graph 18987 / "
       ]
      },
      {
       "output_type": "stream",
       "stream": "stdout",
       "text": [
        "30050\n",
        "Rate limit (4740, 5000)\n",
        "elg0nz\n",
        "Processed"
       ]
      },
      {
       "output_type": "stream",
       "stream": "stdout",
       "text": [
        " 107 stargazers' starred repos\n",
        "Num nodes/edges in graph 19168 / 30541\n",
        "Rate limit (4735, 5000)\n",
        "jonathanjo\n",
        "Processed"
       ]
      },
      {
       "output_type": "stream",
       "stream": "stdout",
       "text": [
        " 108 stargazers' starred repos\n",
        "Num nodes/edges in graph 19175 / "
       ]
      },
      {
       "output_type": "stream",
       "stream": "stdout",
       "text": [
        "30553\n",
        "Rate limit (4734, 5000)\n",
        "rduong\n",
        "Processed"
       ]
      },
      {
       "output_type": "stream",
       "stream": "stdout",
       "text": [
        " 109 stargazers' starred repos\n",
        "Num nodes/edges in graph 19236 / "
       ]
      },
      {
       "output_type": "stream",
       "stream": "stdout",
       "text": [
        "30685\n",
        "Rate limit (4732, 5000)\n",
        "sfrench\n",
        "Processed"
       ]
      },
      {
       "output_type": "stream",
       "stream": "stdout",
       "text": [
        " 110 stargazers' starred repos\n",
        "Num nodes/edges in graph 19250 / 30710\n",
        "Rate limit (4731, 5000)\n",
        "edtechdev\n",
        "Processed"
       ]
      },
      {
       "output_type": "stream",
       "stream": "stdout",
       "text": [
        " 111 stargazers' starred repos\n",
        "Num nodes/edges in graph 19525 / "
       ]
      },
      {
       "output_type": "stream",
       "stream": "stdout",
       "text": [
        "31209\n",
        "Rate limit (4726, 5000)\n",
        "vvoody\n",
        "Processed"
       ]
      },
      {
       "output_type": "stream",
       "stream": "stdout",
       "text": [
        " 112 stargazers' starred repos\n",
        "Num nodes/edges in graph 19663 / "
       ]
      },
      {
       "output_type": "stream",
       "stream": "stdout",
       "text": [
        "31429\n",
        "Rate limit (4723, 5000)\n",
        "riivo\n",
        "Processed"
       ]
      },
      {
       "output_type": "stream",
       "stream": "stdout",
       "text": [
        " 113 stargazers' starred repos\n",
        "Num nodes/edges in graph 19758 / "
       ]
      },
      {
       "output_type": "stream",
       "stream": "stdout",
       "text": [
        "31662\n",
        "Rate limit (4720, 5000)\n",
        "doolin\n",
        "Processed"
       ]
      },
      {
       "output_type": "stream",
       "stream": "stdout",
       "text": [
        " 114 stargazers' starred repos\n",
        "Num nodes/edges in graph 19934 / 31935\n",
        "Rate limit (4717, 5000)\n",
        "chlalanne\n",
        "Processed"
       ]
      },
      {
       "output_type": "stream",
       "stream": "stdout",
       "text": [
        " 115 stargazers' starred repos\n",
        "Num nodes/edges in graph 19968 / "
       ]
      },
      {
       "output_type": "stream",
       "stream": "stdout",
       "text": [
        "31995\n",
        "Rate limit (4716, 5000)\n",
        "lrvick\n",
        "Processed"
       ]
      },
      {
       "output_type": "stream",
       "stream": "stdout",
       "text": [
        " 116 stargazers' starred repos\n",
        "Num nodes/edges in graph 20070 / "
       ]
      },
      {
       "output_type": "stream",
       "stream": "stdout",
       "text": [
        "32161\n",
        "Rate limit (4714, 5000)\n",
        "cameronpriest\n",
        "Processed"
       ]
      },
      {
       "output_type": "stream",
       "stream": "stdout",
       "text": [
        " 117 stargazers' starred repos\n",
        "Num nodes/edges in graph 20297 / "
       ]
      },
      {
       "output_type": "stream",
       "stream": "stdout",
       "text": [
        "32634\n",
        "Rate limit (4709, 5000)\n",
        "napo\n",
        "Processed"
       ]
      },
      {
       "output_type": "stream",
       "stream": "stdout",
       "text": [
        " 118 stargazers' starred repos\n",
        "Num nodes/edges in graph 20323 / 32675\n",
        "Rate limit (4708, 5000)\n",
        "ukituki\n",
        "Processed"
       ]
      },
      {
       "output_type": "stream",
       "stream": "stdout",
       "text": [
        " 119 stargazers' starred repos\n",
        "Num nodes/edges in graph 20350 / "
       ]
      },
      {
       "output_type": "stream",
       "stream": "stdout",
       "text": [
        "32730\n",
        "Rate limit (4707, 5000)\n",
        "blynch\n",
        "Processed"
       ]
      },
      {
       "output_type": "stream",
       "stream": "stdout",
       "text": [
        " 120 stargazers' starred repos\n",
        "Num nodes/edges in graph 20457 / "
       ]
      },
      {
       "output_type": "stream",
       "stream": "stdout",
       "text": [
        "32979\n",
        "Rate limit (4704, 5000)\n",
        "adriaant\n",
        "Processed"
       ]
      },
      {
       "output_type": "stream",
       "stream": "stdout",
       "text": [
        " 121 stargazers' starred repos\n",
        "Num nodes/edges in graph 20503 / "
       ]
      },
      {
       "output_type": "stream",
       "stream": "stdout",
       "text": [
        "33101\n",
        "Rate limit (4702, 5000)\n",
        "mgrouchy\n",
        "Processed"
       ]
      },
      {
       "output_type": "stream",
       "stream": "stdout",
       "text": [
        " 122 stargazers' starred repos\n",
        "Num nodes/edges in graph 20654 / "
       ]
      },
      {
       "output_type": "stream",
       "stream": "stdout",
       "text": [
        "33557\n",
        "Rate limit (4697, 5000)\n",
        "InFog\n",
        "Processed"
       ]
      },
      {
       "output_type": "stream",
       "stream": "stdout",
       "text": [
        " 123 stargazers' starred repos\n",
        "Num nodes/edges in graph 20785 / "
       ]
      },
      {
       "output_type": "stream",
       "stream": "stdout",
       "text": [
        "33750\n",
        "Rate limit (4695, 5000)\n",
        "rnagle\n",
        "Processed"
       ]
      },
      {
       "output_type": "stream",
       "stream": "stdout",
       "text": [
        " 124 stargazers' starred repos\n",
        "Num nodes/edges in graph 20799 / 33804\n",
        "Rate limit (4694, 5000)\n",
        "macorama\n",
        "Processed"
       ]
      },
      {
       "output_type": "stream",
       "stream": "stdout",
       "text": [
        " 125 stargazers' starred repos\n",
        "Num nodes/edges in graph 21062 / "
       ]
      },
      {
       "output_type": "stream",
       "stream": "stdout",
       "text": [
        "34184\n",
        "Rate limit (4690, 5000)\n",
        "mki\n",
        "Processed"
       ]
      },
      {
       "output_type": "stream",
       "stream": "stdout",
       "text": [
        " 126 stargazers' starred repos\n",
        "Num nodes/edges in graph 21125 / "
       ]
      },
      {
       "output_type": "stream",
       "stream": "stdout",
       "text": [
        "34376\n",
        "Rate limit (4688, 5000)\n",
        "dasfaha\n",
        "Processed"
       ]
      },
      {
       "output_type": "stream",
       "stream": "stdout",
       "text": [
        " 127 stargazers' starred repos\n",
        "Num nodes/edges in graph 21130 / 34382\n",
        "Rate limit (4687, 5000)\n",
        "jagguli\n",
        "Processed"
       ]
      },
      {
       "output_type": "stream",
       "stream": "stdout",
       "text": [
        " 128 stargazers' starred repos\n",
        "Num nodes/edges in graph 21177 / 34461\n",
        "Rate limit (4686, 5000)\n",
        "mvid\n",
        "Processed"
       ]
      },
      {
       "output_type": "stream",
       "stream": "stdout",
       "text": [
        " 129 stargazers' starred repos\n",
        "Num nodes/edges in graph 21195 / 34570\n",
        "Rate limit (4684, 5000)\n",
        "davidrd123\n",
        "Processed"
       ]
      },
      {
       "output_type": "stream",
       "stream": "stdout",
       "text": [
        " 130 stargazers' starred repos\n",
        "Num nodes/edges in graph 21310 / 34785\n",
        "Rate limit (4681, 5000)\n",
        "darkseed\n",
        "Processed"
       ]
      },
      {
       "output_type": "stream",
       "stream": "stdout",
       "text": [
        " 131 stargazers' starred repos\n",
        "Num nodes/edges in graph 21595 / "
       ]
      },
      {
       "output_type": "stream",
       "stream": "stdout",
       "text": [
        "35268\n",
        "Rate limit (4676, 5000)\n",
        "bjpcjp\n",
        "Processed"
       ]
      },
      {
       "output_type": "stream",
       "stream": "stdout",
       "text": [
        " 132 stargazers' starred repos\n",
        "Num nodes/edges in graph 21603 / "
       ]
      },
      {
       "output_type": "stream",
       "stream": "stdout",
       "text": [
        "35315\n",
        "Rate limit (4675, 5000)\n",
        "jonathanyee\n",
        "Processed"
       ]
      },
      {
       "output_type": "stream",
       "stream": "stdout",
       "text": [
        " 133 stargazers' starred repos\n",
        "Num nodes/edges in graph 21853 / 35811\n",
        "Rate limit (4670, 5000)\n",
        "jensenrf\n",
        "Processed"
       ]
      },
      {
       "output_type": "stream",
       "stream": "stdout",
       "text": [
        " 134 stargazers' starred repos\n",
        "Num nodes/edges in graph 21868 / "
       ]
      },
      {
       "output_type": "stream",
       "stream": "stdout",
       "text": [
        "35853\n",
        "Rate limit (4669, 5000)\n",
        "levigross\n",
        "Processed"
       ]
      },
      {
       "output_type": "stream",
       "stream": "stdout",
       "text": [
        " 135 stargazers' starred repos\n",
        "Num nodes/edges in graph 21889 / "
       ]
      },
      {
       "output_type": "stream",
       "stream": "stdout",
       "text": [
        "35922\n",
        "Rate limit (4668, 5000)\n",
        "BrianPin\n",
        "Processed"
       ]
      },
      {
       "output_type": "stream",
       "stream": "stdout",
       "text": [
        " 136 stargazers' starred repos\n",
        "Num nodes/edges in graph 21904 / "
       ]
      },
      {
       "output_type": "stream",
       "stream": "stdout",
       "text": [
        "35944\n",
        "Rate limit (4667, 5000)\n",
        "nycterent\n",
        "Processed"
       ]
      },
      {
       "output_type": "stream",
       "stream": "stdout",
       "text": [
        " 137 stargazers' starred repos\n",
        "Num nodes/edges in graph 21929 / 35999\n",
        "Rate limit (4666, 5000)\n",
        "lyddonb\n",
        "Processed"
       ]
      },
      {
       "output_type": "stream",
       "stream": "stdout",
       "text": [
        " 138 stargazers' starred repos\n",
        "Num nodes/edges in graph 21980 / "
       ]
      },
      {
       "output_type": "stream",
       "stream": "stdout",
       "text": [
        "36197\n",
        "Rate limit (4663, 5000)\n",
        "putorti\n",
        "Processed"
       ]
      },
      {
       "output_type": "stream",
       "stream": "stdout",
       "text": [
        " 139 stargazers' starred repos\n",
        "Num nodes/edges in graph 21993 / 36231\n",
        "Rate limit (4662, 5000)\n",
        "vigo\n",
        "Processed"
       ]
      },
      {
       "output_type": "stream",
       "stream": "stdout",
       "text": [
        " 140 stargazers' starred repos\n",
        "Num nodes/edges in graph 22151 / "
       ]
      },
      {
       "output_type": "stream",
       "stream": "stdout",
       "text": [
        "36590\n",
        "Rate limit (4658, 5000)\n",
        "MaggiePlusPlus\n",
        "Processed"
       ]
      },
      {
       "output_type": "stream",
       "stream": "stdout",
       "text": [
        " 141 stargazers' starred repos\n",
        "Num nodes/edges in graph 22244 / "
       ]
      },
      {
       "output_type": "stream",
       "stream": "stdout",
       "text": [
        "36739\n",
        "Rate limit (4656, 5000)\n",
        "Stecki\n",
        "Processed"
       ]
      },
      {
       "output_type": "stream",
       "stream": "stdout",
       "text": [
        " 142 stargazers' starred repos\n",
        "Num nodes/edges in graph 22319 / "
       ]
      },
      {
       "output_type": "stream",
       "stream": "stdout",
       "text": [
        "36956\n",
        "Rate limit (4653, 5000)\n",
        "jean\n",
        "Processed"
       ]
      },
      {
       "output_type": "stream",
       "stream": "stdout",
       "text": [
        " 143 stargazers' starred repos\n",
        "Num nodes/edges in graph 22575 / "
       ]
      },
      {
       "output_type": "stream",
       "stream": "stdout",
       "text": [
        "37374\n",
        "Rate limit (4648, 5000)\n",
        "ido\n",
        "Processed"
       ]
      },
      {
       "output_type": "stream",
       "stream": "stdout",
       "text": [
        " 144 stargazers' starred repos\n",
        "Num nodes/edges in graph 22778 / "
       ]
      },
      {
       "output_type": "stream",
       "stream": "stdout",
       "text": [
        "37865\n",
        "Rate limit (4643, 5000)\n",
        "brianly\n",
        "Processed"
       ]
      },
      {
       "output_type": "stream",
       "stream": "stdout",
       "text": [
        " 145 stargazers' starred repos\n",
        "Num nodes/edges in graph 22831 / "
       ]
      },
      {
       "output_type": "stream",
       "stream": "stdout",
       "text": [
        "37977\n",
        "Rate limit (4641, 5000)\n",
        "kcnickerson\n",
        "Processed"
       ]
      },
      {
       "output_type": "stream",
       "stream": "stdout",
       "text": [
        " 146 stargazers' starred repos\n",
        "Num nodes/edges in graph 23023 / "
       ]
      },
      {
       "output_type": "stream",
       "stream": "stdout",
       "text": [
        "38358\n",
        "Rate limit (4637, 5000)\n",
        "seralf\n",
        "Processed"
       ]
      },
      {
       "output_type": "stream",
       "stream": "stdout",
       "text": [
        " 147 stargazers' starred repos\n",
        "Num nodes/edges in graph 23379 / 38853\n",
        "Rate limit (4632, 5000)\n",
        "kemaltaskin\n",
        "Processed"
       ]
      },
      {
       "output_type": "stream",
       "stream": "stdout",
       "text": [
        " 148 stargazers' starred repos\n",
        "Num nodes/edges in graph 23418 / "
       ]
      },
      {
       "output_type": "stream",
       "stream": "stdout",
       "text": [
        "38961\n",
        "Rate limit (4630, 5000)\n",
        "pedromenezes\n",
        "Processed"
       ]
      },
      {
       "output_type": "stream",
       "stream": "stdout",
       "text": [
        " 149 stargazers' starred repos\n",
        "Num nodes/edges in graph 23477 / "
       ]
      },
      {
       "output_type": "stream",
       "stream": "stdout",
       "text": [
        "39181\n",
        "Rate limit (4627, 5000)\n",
        "trevorhales\n",
        "Processed"
       ]
      },
      {
       "output_type": "stream",
       "stream": "stdout",
       "text": [
        " 150 stargazers' starred repos\n",
        "Num nodes/edges in graph 23477 / "
       ]
      },
      {
       "output_type": "stream",
       "stream": "stdout",
       "text": [
        "39181\n",
        "Rate limit (4626, 5000)\n",
        "jonhurlock\n",
        "Processed"
       ]
      },
      {
       "output_type": "stream",
       "stream": "stdout",
       "text": [
        " 151 stargazers' starred repos\n",
        "Num nodes/edges in graph 23488 / "
       ]
      },
      {
       "output_type": "stream",
       "stream": "stdout",
       "text": [
        "39218\n",
        "Rate limit (4625, 5000)\n",
        "zmughal\n",
        "Processed"
       ]
      },
      {
       "output_type": "stream",
       "stream": "stdout",
       "text": [
        " 152 stargazers' starred repos\n",
        "Num nodes/edges in graph 23832 / "
       ]
      },
      {
       "output_type": "stream",
       "stream": "stdout",
       "text": [
        "39717\n",
        "Rate limit (4620, 5000)\n",
        "ykhroki\n",
        "Processed"
       ]
      },
      {
       "output_type": "stream",
       "stream": "stdout",
       "text": [
        " 153 stargazers' starred repos\n",
        "Num nodes/edges in graph 24115 / 40210\n",
        "Rate limit (4615, 5000)\n",
        "johnthedebs\n",
        "Processed"
       ]
      },
      {
       "output_type": "stream",
       "stream": "stdout",
       "text": [
        " 154 stargazers' starred repos\n",
        "Num nodes/edges in graph 24228 / "
       ]
      },
      {
       "output_type": "stream",
       "stream": "stdout",
       "text": [
        "40706\n",
        "Rate limit (4610, 5000)\n",
        "ptwobrussell\n",
        "Processed"
       ]
      },
      {
       "output_type": "stream",
       "stream": "stdout",
       "text": [
        " 155 stargazers' starred repos\n",
        "Num nodes/edges in graph 24251 / "
       ]
      },
      {
       "output_type": "stream",
       "stream": "stdout",
       "text": [
        "40772\n",
        "Rate limit (4609, 5000)\n",
        "bububa\n",
        "Processed"
       ]
      },
      {
       "output_type": "stream",
       "stream": "stdout",
       "text": [
        " 156 stargazers' starred repos\n",
        "Num nodes/edges in graph 24479 / "
       ]
      },
      {
       "output_type": "stream",
       "stream": "stdout",
       "text": [
        "41264\n",
        "Rate limit (4604, 5000)\n",
        "barbietunnie\n",
        "Processed"
       ]
      },
      {
       "output_type": "stream",
       "stream": "stdout",
       "text": [
        " 157 stargazers' starred repos\n",
        "Num nodes/edges in graph 24681 / "
       ]
      },
      {
       "output_type": "stream",
       "stream": "stdout",
       "text": [
        "41759\n",
        "Rate limit (4599, 5000)\n",
        "numb3r3\n",
        "Processed"
       ]
      },
      {
       "output_type": "stream",
       "stream": "stdout",
       "text": [
        " 158 stargazers' starred repos\n",
        "Num nodes/edges in graph 24767 / "
       ]
      },
      {
       "output_type": "stream",
       "stream": "stdout",
       "text": [
        "41915\n",
        "Rate limit (4597, 5000)\n",
        "sudar\n",
        "Processed"
       ]
      },
      {
       "output_type": "stream",
       "stream": "stdout",
       "text": [
        " 159 stargazers' starred repos\n",
        "Num nodes/edges in graph 24983 / "
       ]
      },
      {
       "output_type": "stream",
       "stream": "stdout",
       "text": [
        "42222\n",
        "Rate limit (4593, 5000)\n",
        "klaut\n",
        "Processed"
       ]
      },
      {
       "output_type": "stream",
       "stream": "stdout",
       "text": [
        " 160 stargazers' starred repos\n",
        "Num nodes/edges in graph 25101 / "
       ]
      },
      {
       "output_type": "stream",
       "stream": "stdout",
       "text": [
        "42715\n",
        "Rate limit (4588, 5000)\n",
        "analyticsPierce\n",
        "Processed"
       ]
      },
      {
       "output_type": "stream",
       "stream": "stdout",
       "text": [
        " 161 stargazers' starred repos\n",
        "Num nodes/edges in graph 25192 / "
       ]
      },
      {
       "output_type": "stream",
       "stream": "stdout",
       "text": [
        "42950\n",
        "Rate limit (4585, 5000)\n",
        "alessandroleite\n",
        "Processed"
       ]
      },
      {
       "output_type": "stream",
       "stream": "stdout",
       "text": [
        " 162 stargazers' starred repos\n",
        "Num nodes/edges in graph 25232 / "
       ]
      },
      {
       "output_type": "stream",
       "stream": "stdout",
       "text": [
        "43020\n",
        "Rate limit (4584, 5000)\n",
        "cb372\n",
        "Processed"
       ]
      },
      {
       "output_type": "stream",
       "stream": "stdout",
       "text": [
        " 163 stargazers' starred repos\n",
        "Num nodes/edges in graph 25431 / "
       ]
      },
      {
       "output_type": "stream",
       "stream": "stdout",
       "text": [
        "43391\n",
        "Rate limit (4580, 5000)\n",
        "opexxx\n",
        "Processed"
       ]
      },
      {
       "output_type": "stream",
       "stream": "stdout",
       "text": [
        " 164 stargazers' starred repos\n",
        "Num nodes/edges in graph 25807 / 43883\n",
        "Rate limit (4575, 5000)\n",
        "EugeneLiang\n",
        "Processed"
       ]
      },
      {
       "output_type": "stream",
       "stream": "stdout",
       "text": [
        " 165 stargazers' starred repos\n",
        "Num nodes/edges in graph 25922 / "
       ]
      },
      {
       "output_type": "stream",
       "stream": "stdout",
       "text": [
        "44173\n",
        "Rate limit (4571, 5000)\n",
        "sammyrulez\n",
        "Processed"
       ]
      },
      {
       "output_type": "stream",
       "stream": "stdout",
       "text": [
        " 166 stargazers' starred repos\n",
        "Num nodes/edges in graph 25969 / "
       ]
      },
      {
       "output_type": "stream",
       "stream": "stdout",
       "text": [
        "44250\n",
        "Rate limit (4570, 5000)\n",
        "miron\n",
        "Processed"
       ]
      },
      {
       "output_type": "stream",
       "stream": "stdout",
       "text": [
        " 167 stargazers' starred repos\n",
        "Num nodes/edges in graph 26026 / "
       ]
      },
      {
       "output_type": "stream",
       "stream": "stdout",
       "text": [
        "44404\n",
        "Rate limit (4568, 5000)\n",
        "girish\n",
        "Processed"
       ]
      },
      {
       "output_type": "stream",
       "stream": "stdout",
       "text": [
        " 168 stargazers' starred repos\n",
        "Num nodes/edges in graph 26112 / "
       ]
      },
      {
       "output_type": "stream",
       "stream": "stdout",
       "text": [
        "44808\n",
        "Rate limit (4563, 5000)\n",
        "mlaprise\n",
        "Processed"
       ]
      },
      {
       "output_type": "stream",
       "stream": "stdout",
       "text": [
        " 169 stargazers' starred repos\n",
        "Num nodes/edges in graph 26144 / "
       ]
      },
      {
       "output_type": "stream",
       "stream": "stdout",
       "text": [
        "44901\n",
        "Rate limit (4561, 5000)\n",
        "cacciaresi\n",
        "Processed"
       ]
      },
      {
       "output_type": "stream",
       "stream": "stdout",
       "text": [
        " 170 stargazers' starred repos\n",
        "Num nodes/edges in graph 26196 / "
       ]
      },
      {
       "output_type": "stream",
       "stream": "stdout",
       "text": [
        "45014\n",
        "Rate limit (4559, 5000)\n",
        "amygdala\n",
        "Processed"
       ]
      },
      {
       "output_type": "stream",
       "stream": "stdout",
       "text": [
        " 171 stargazers' starred repos\n",
        "Num nodes/edges in graph 26205 / "
       ]
      },
      {
       "output_type": "stream",
       "stream": "stdout",
       "text": [
        "45040\n",
        "Rate limit (4558, 5000)\n",
        "jgrosche\n",
        "Processed"
       ]
      },
      {
       "output_type": "stream",
       "stream": "stdout",
       "text": [
        " 172 stargazers' starred repos\n",
        "Num nodes/edges in graph 26380 / "
       ]
      },
      {
       "output_type": "stream",
       "stream": "stdout",
       "text": [
        "45513\n",
        "Rate limit (4553, 5000)\n",
        "kkovacs\n",
        "Processed"
       ]
      },
      {
       "output_type": "stream",
       "stream": "stdout",
       "text": [
        " 173 stargazers' starred repos\n",
        "Num nodes/edges in graph 26389 / "
       ]
      },
      {
       "output_type": "stream",
       "stream": "stdout",
       "text": [
        "45534\n",
        "Rate limit (4552, 5000)\n",
        "kennethreitz\n",
        "Processed"
       ]
      },
      {
       "output_type": "stream",
       "stream": "stdout",
       "text": [
        " 174 stargazers' starred repos\n",
        "Num nodes/edges in graph 26655 / "
       ]
      },
      {
       "output_type": "stream",
       "stream": "stdout",
       "text": [
        "46030\n",
        "Rate limit (4547, 5000)\n",
        "lesbleus2007\n",
        "Processed"
       ]
      },
      {
       "output_type": "stream",
       "stream": "stdout",
       "text": [
        " 175 stargazers' starred repos\n",
        "Num nodes/edges in graph 26662 / "
       ]
      },
      {
       "output_type": "stream",
       "stream": "stdout",
       "text": [
        "46043\n",
        "Rate limit (4546, 5000)\n",
        "manboubird\n",
        "Processed"
       ]
      },
      {
       "output_type": "stream",
       "stream": "stdout",
       "text": [
        " 176 stargazers' starred repos\n",
        "Num nodes/edges in graph 26883 / "
       ]
      },
      {
       "output_type": "stream",
       "stream": "stdout",
       "text": [
        "46531\n",
        "Rate limit (4541, 5000)\n",
        "miclovich\n",
        "Processed"
       ]
      },
      {
       "output_type": "stream",
       "stream": "stdout",
       "text": [
        " 177 stargazers' starred repos\n",
        "Num nodes/edges in graph 27055 / 46949\n",
        "Rate limit (4536, 5000)\n",
        "dudarev\n",
        "Processed"
       ]
      },
      {
       "output_type": "stream",
       "stream": "stdout",
       "text": [
        " 178 stargazers' starred repos\n",
        "Num nodes/edges in graph 27111 / 47039\n",
        "Rate limit (4535, 5000)\n",
        "aaronlifton\n",
        "Processed"
       ]
      },
      {
       "output_type": "stream",
       "stream": "stdout",
       "text": [
        " 179 stargazers' starred repos\n",
        "Num nodes/edges in graph 27337 / "
       ]
      },
      {
       "output_type": "stream",
       "stream": "stdout",
       "text": [
        "47537\n",
        "Rate limit (4530, 5000)\n",
        "dhiemazt\n",
        "Processed"
       ]
      },
      {
       "output_type": "stream",
       "stream": "stdout",
       "text": [
        " 180 stargazers' starred repos\n",
        "Num nodes/edges in graph 27342 / "
       ]
      },
      {
       "output_type": "stream",
       "stream": "stdout",
       "text": [
        "47552\n",
        "Rate limit (4529, 5000)\n",
        "ustramooner\n",
        "Processed"
       ]
      },
      {
       "output_type": "stream",
       "stream": "stdout",
       "text": [
        " 181 stargazers' starred repos\n",
        "Num nodes/edges in graph 27357 / "
       ]
      },
      {
       "output_type": "stream",
       "stream": "stdout",
       "text": [
        "47571\n",
        "Rate limit (4528, 5000)\n",
        "ygbr\n",
        "Processed"
       ]
      },
      {
       "output_type": "stream",
       "stream": "stdout",
       "text": [
        " 182 stargazers' starred repos\n",
        "Num nodes/edges in graph 27488 / "
       ]
      },
      {
       "output_type": "stream",
       "stream": "stdout",
       "text": [
        "47897\n",
        "Rate limit (4524, 5000)\n",
        "FranklinChen\n",
        "Processed"
       ]
      },
      {
       "output_type": "stream",
       "stream": "stdout",
       "text": [
        " 183 stargazers' starred repos\n",
        "Num nodes/edges in graph 27591 / "
       ]
      },
      {
       "output_type": "stream",
       "stream": "stdout",
       "text": [
        "48067\n",
        "Rate limit (4521, 5000)\n",
        "caseysoftware\n",
        "Processed"
       ]
      },
      {
       "output_type": "stream",
       "stream": "stdout",
       "text": [
        " 184 stargazers' starred repos\n",
        "Num nodes/edges in graph 27612 / "
       ]
      },
      {
       "output_type": "stream",
       "stream": "stdout",
       "text": [
        "48093\n",
        "Rate limit (4520, 5000)\n",
        "jakobzhao\n",
        "Processed"
       ]
      },
      {
       "output_type": "stream",
       "stream": "stdout",
       "text": [
        " 185 stargazers' starred repos\n",
        "Num nodes/edges in graph 27613 / "
       ]
      },
      {
       "output_type": "stream",
       "stream": "stdout",
       "text": [
        "48097\n",
        "Rate limit (4519, 5000)\n",
        "gr33ndata\n",
        "Processed"
       ]
      },
      {
       "output_type": "stream",
       "stream": "stdout",
       "text": [
        " 186 stargazers' starred repos\n",
        "Num nodes/edges in graph 27805 / "
       ]
      },
      {
       "output_type": "stream",
       "stream": "stdout",
       "text": [
        "48589\n",
        "Rate limit (4514, 5000)\n",
        "cmlh\n",
        "Processed"
       ]
      },
      {
       "output_type": "stream",
       "stream": "stdout",
       "text": [
        " 187 stargazers' starred repos\n",
        "Num nodes/edges in graph 27856 / "
       ]
      },
      {
       "output_type": "stream",
       "stream": "stdout",
       "text": [
        "48645\n",
        "Rate limit (4513, 5000)\n",
        "emerge\n",
        "Processed"
       ]
      },
      {
       "output_type": "stream",
       "stream": "stdout",
       "text": [
        " 188 stargazers' starred repos\n",
        "Num nodes/edges in graph 28168 / "
       ]
      },
      {
       "output_type": "stream",
       "stream": "stdout",
       "text": [
        "49138\n",
        "Rate limit (4508, 5000)\n",
        "supaket\n",
        "Processed"
       ]
      },
      {
       "output_type": "stream",
       "stream": "stdout",
       "text": [
        " 189 stargazers' starred repos\n",
        "Num nodes/edges in graph 28287 / "
       ]
      },
      {
       "output_type": "stream",
       "stream": "stdout",
       "text": [
        "49337\n",
        "Rate limit (4505, 5000)\n",
        "matsu911\n",
        "Processed"
       ]
      },
      {
       "output_type": "stream",
       "stream": "stdout",
       "text": [
        " 190 stargazers' starred repos\n",
        "Num nodes/edges in graph 28296 / "
       ]
      },
      {
       "output_type": "stream",
       "stream": "stdout",
       "text": [
        "49352\n",
        "Rate limit (4504, 5000)\n",
        "elimisteve\n",
        "Processed"
       ]
      },
      {
       "output_type": "stream",
       "stream": "stdout",
       "text": [
        " 191 stargazers' starred repos\n",
        "Num nodes/edges in graph 28535 / 49848\n",
        "Rate limit (4499, 5000)\n",
        "brianjolly\n",
        "Processed"
       ]
      },
      {
       "output_type": "stream",
       "stream": "stdout",
       "text": [
        " 192 stargazers' starred repos\n",
        "Num nodes/edges in graph 28573 / "
       ]
      },
      {
       "output_type": "stream",
       "stream": "stdout",
       "text": [
        "49944\n",
        "Rate limit (4498, 5000)\n",
        "nisc\n",
        "Processed"
       ]
      },
      {
       "output_type": "stream",
       "stream": "stdout",
       "text": [
        " 193 stargazers' starred repos\n",
        "Num nodes/edges in graph 28590 / "
       ]
      },
      {
       "output_type": "stream",
       "stream": "stdout",
       "text": [
        "49992\n",
        "Rate limit (4497, 5000)\n",
        "joshz\n",
        "Processed"
       ]
      },
      {
       "output_type": "stream",
       "stream": "stdout",
       "text": [
        " 194 stargazers' starred repos\n",
        "Num nodes/edges in graph 28627 / "
       ]
      },
      {
       "output_type": "stream",
       "stream": "stdout",
       "text": [
        "50172\n",
        "Rate limit (4495, 5000)\n",
        "liulinyang\n",
        "Processed"
       ]
      },
      {
       "output_type": "stream",
       "stream": "stdout",
       "text": [
        " 195 stargazers' starred repos\n",
        "Num nodes/edges in graph 28655 / "
       ]
      },
      {
       "output_type": "stream",
       "stream": "stdout",
       "text": [
        "50285\n",
        "Rate limit (4493, 5000)\n",
        "bcambel\n",
        "Processed"
       ]
      },
      {
       "output_type": "stream",
       "stream": "stdout",
       "text": [
        " 196 stargazers' starred repos\n",
        "Num nodes/edges in graph 28789 / "
       ]
      },
      {
       "output_type": "stream",
       "stream": "stdout",
       "text": [
        "50781\n",
        "Rate limit (4488, 5000)\n",
        "negrond\n",
        "Processed"
       ]
      },
      {
       "output_type": "stream",
       "stream": "stdout",
       "text": [
        " 197 stargazers' starred repos\n",
        "Num nodes/edges in graph 28904 / "
       ]
      },
      {
       "output_type": "stream",
       "stream": "stdout",
       "text": [
        "51021\n",
        "Rate limit (4485, 5000)\n",
        "nada\n",
        "Processed"
       ]
      },
      {
       "output_type": "stream",
       "stream": "stdout",
       "text": [
        " 198 stargazers' starred repos\n",
        "Num nodes/edges in graph 28930 / "
       ]
      },
      {
       "output_type": "stream",
       "stream": "stdout",
       "text": [
        "51104\n",
        "Rate limit (4484, 5000)\n",
        "yogeshc\n",
        "Processed"
       ]
      },
      {
       "output_type": "stream",
       "stream": "stdout",
       "text": [
        " 199 stargazers' starred repos\n",
        "Num nodes/edges in graph 28968 / "
       ]
      },
      {
       "output_type": "stream",
       "stream": "stdout",
       "text": [
        "51212\n",
        "Rate limit (4482, 5000)\n",
        "zerd\n",
        "Processed"
       ]
      },
      {
       "output_type": "stream",
       "stream": "stdout",
       "text": [
        " 200 stargazers' starred repos\n",
        "Num nodes/edges in graph 29066 / "
       ]
      },
      {
       "output_type": "stream",
       "stream": "stdout",
       "text": [
        "51361\n",
        "Rate limit (4480, 5000)\n",
        "anentropic\n",
        "Processed"
       ]
      },
      {
       "output_type": "stream",
       "stream": "stdout",
       "text": [
        " 201 stargazers' starred repos\n",
        "Num nodes/edges in graph 29100 / "
       ]
      },
      {
       "output_type": "stream",
       "stream": "stdout",
       "text": [
        "51476\n",
        "Rate limit (4478, 5000)\n",
        "nokuno\n",
        "Processed"
       ]
      },
      {
       "output_type": "stream",
       "stream": "stdout",
       "text": [
        " 202 stargazers' starred repos\n",
        "Num nodes/edges in graph 29120 / "
       ]
      },
      {
       "output_type": "stream",
       "stream": "stdout",
       "text": [
        "51506\n",
        "Rate limit (4477, 5000)\n",
        "denisarnaud\n",
        "Processed"
       ]
      },
      {
       "output_type": "stream",
       "stream": "stdout",
       "text": [
        " 203 stargazers' starred repos\n",
        "Num nodes/edges in graph 29255 / "
       ]
      },
      {
       "output_type": "stream",
       "stream": "stdout",
       "text": [
        "51759\n",
        "Rate limit (4474, 5000)\n",
        "blackerby\n",
        "Processed"
       ]
      },
      {
       "output_type": "stream",
       "stream": "stdout",
       "text": [
        " 204 stargazers' starred repos\n",
        "Num nodes/edges in graph 29356 / "
       ]
      },
      {
       "output_type": "stream",
       "stream": "stdout",
       "text": [
        "52020\n",
        "Rate limit (4471, 5000)\n",
        "magloire\n",
        "Processed"
       ]
      },
      {
       "output_type": "stream",
       "stream": "stdout",
       "text": [
        " 205 stargazers' starred repos\n",
        "Num nodes/edges in graph 29358 / "
       ]
      },
      {
       "output_type": "stream",
       "stream": "stdout",
       "text": [
        "52025\n",
        "Rate limit (4470, 5000)\n",
        "mikedorseyjr\n",
        "Processed"
       ]
      },
      {
       "output_type": "stream",
       "stream": "stdout",
       "text": [
        " 206 stargazers' starred repos\n",
        "Num nodes/edges in graph 29361 / "
       ]
      },
      {
       "output_type": "stream",
       "stream": "stdout",
       "text": [
        "52032\n",
        "Rate limit (4469, 5000)\n",
        "wojtha\n",
        "Processed"
       ]
      },
      {
       "output_type": "stream",
       "stream": "stdout",
       "text": [
        " 207 stargazers' starred repos\n",
        "Num nodes/edges in graph 29593 / "
       ]
      },
      {
       "output_type": "stream",
       "stream": "stdout",
       "text": [
        "52518\n",
        "Rate limit (4464, 5000)\n",
        "ichim-david\n",
        "Processed"
       ]
      },
      {
       "output_type": "stream",
       "stream": "stdout",
       "text": [
        " 208 stargazers' starred repos\n",
        "Num nodes/edges in graph 29845 / "
       ]
      },
      {
       "output_type": "stream",
       "stream": "stdout",
       "text": [
        "53010\n",
        "Rate limit (4459, 5000)\n",
        "anirudhjoshi\n",
        "Processed"
       ]
      },
      {
       "output_type": "stream",
       "stream": "stdout",
       "text": [
        " 209 stargazers' starred repos\n",
        "Num nodes/edges in graph 29951 / "
       ]
      },
      {
       "output_type": "stream",
       "stream": "stdout",
       "text": [
        "53505\n",
        "Rate limit (4454, 5000)\n",
        "masroor\n",
        "Processed"
       ]
      },
      {
       "output_type": "stream",
       "stream": "stdout",
       "text": [
        " 210 stargazers' starred repos\n",
        "Num nodes/edges in graph 30050 / "
       ]
      },
      {
       "output_type": "stream",
       "stream": "stdout",
       "text": [
        "54003\n",
        "Rate limit (4449, 5000)\n",
        "slacy\n",
        "Processed"
       ]
      },
      {
       "output_type": "stream",
       "stream": "stdout",
       "text": [
        " 211 stargazers' starred repos\n",
        "Num nodes/edges in graph 30060 / "
       ]
      },
      {
       "output_type": "stream",
       "stream": "stdout",
       "text": [
        "54036\n",
        "Rate limit (4448, 5000)\n",
        "swix\n",
        "Processed"
       ]
      },
      {
       "output_type": "stream",
       "stream": "stdout",
       "text": [
        " 212 stargazers' starred repos\n",
        "Num nodes/edges in graph 30062 / "
       ]
      },
      {
       "output_type": "stream",
       "stream": "stdout",
       "text": [
        "54038\n",
        "Rate limit (4447, 5000)\n",
        "todrobbins\n",
        "Processed"
       ]
      },
      {
       "output_type": "stream",
       "stream": "stdout",
       "text": [
        " 213 stargazers' starred repos\n",
        "Num nodes/edges in graph 30295 / "
       ]
      },
      {
       "output_type": "stream",
       "stream": "stdout",
       "text": [
        "54480\n",
        "Rate limit (4442, 5000)\n",
        "UniIsland\n",
        "Processed"
       ]
      },
      {
       "output_type": "stream",
       "stream": "stdout",
       "text": [
        " 214 stargazers' starred repos\n",
        "Num nodes/edges in graph 30315 / "
       ]
      },
      {
       "output_type": "stream",
       "stream": "stdout",
       "text": [
        "54562\n",
        "Rate limit (4441, 5000)\n",
        "pinoystartup\n",
        "Processed"
       ]
      },
      {
       "output_type": "stream",
       "stream": "stdout",
       "text": [
        " 215 stargazers' starred repos\n",
        "Num nodes/edges in graph 30472 / "
       ]
      },
      {
       "output_type": "stream",
       "stream": "stdout",
       "text": [
        "55052\n",
        "Rate limit (4436, 5000)\n",
        "soarer\n",
        "Processed"
       ]
      },
      {
       "output_type": "stream",
       "stream": "stdout",
       "text": [
        " 216 stargazers' starred repos\n",
        "Num nodes/edges in graph 30483 / "
       ]
      },
      {
       "output_type": "stream",
       "stream": "stdout",
       "text": [
        "55092\n",
        "Rate limit (4435, 5000)\n",
        "jackylee\n",
        "Processed"
       ]
      },
      {
       "output_type": "stream",
       "stream": "stdout",
       "text": [
        " 217 stargazers' starred repos\n",
        "Num nodes/edges in graph 30486 / "
       ]
      },
      {
       "output_type": "stream",
       "stream": "stdout",
       "text": [
        "55097\n",
        "Rate limit (4434, 5000)\n",
        "manav\n",
        "Processed"
       ]
      },
      {
       "output_type": "stream",
       "stream": "stdout",
       "text": [
        " 218 stargazers' starred repos\n",
        "Num nodes/edges in graph 30502 / "
       ]
      },
      {
       "output_type": "stream",
       "stream": "stdout",
       "text": [
        "55154\n",
        "Rate limit (4433, 5000)\n",
        "cpatni\n",
        "Processed"
       ]
      },
      {
       "output_type": "stream",
       "stream": "stdout",
       "text": [
        " 219 stargazers' starred repos\n",
        "Num nodes/edges in graph 30628 / "
       ]
      },
      {
       "output_type": "stream",
       "stream": "stdout",
       "text": [
        "55643\n",
        "Rate limit (4428, 5000)\n",
        "evandrix\n",
        "Processed"
       ]
      },
      {
       "output_type": "stream",
       "stream": "stdout",
       "text": [
        " 220 stargazers' starred repos\n",
        "Num nodes/edges in graph 30838 / "
       ]
      },
      {
       "output_type": "stream",
       "stream": "stdout",
       "text": [
        "56139\n",
        "Rate limit (4423, 5000)\n",
        "nabeelmukhtar\n",
        "Processed"
       ]
      },
      {
       "output_type": "stream",
       "stream": "stdout",
       "text": [
        " 221 stargazers' starred repos\n",
        "Num nodes/edges in graph 30906 / "
       ]
      },
      {
       "output_type": "stream",
       "stream": "stdout",
       "text": [
        "56361\n",
        "Rate limit (4420, 5000)\n",
        "1rick\n",
        "Processed"
       ]
      },
      {
       "output_type": "stream",
       "stream": "stdout",
       "text": [
        " 222 stargazers' starred repos\n",
        "Num nodes/edges in graph 30956 / "
       ]
      },
      {
       "output_type": "stream",
       "stream": "stdout",
       "text": [
        "56442\n",
        "Rate limit (4419, 5000)\n",
        "digvan\n",
        "Processed"
       ]
      },
      {
       "output_type": "stream",
       "stream": "stdout",
       "text": [
        " 223 stargazers' starred repos\n",
        "Num nodes/edges in graph 31079 / "
       ]
      },
      {
       "output_type": "stream",
       "stream": "stdout",
       "text": [
        "56930\n",
        "Rate limit (4414, 5000)\n",
        "kuntoaji\n",
        "Processed"
       ]
      },
      {
       "output_type": "stream",
       "stream": "stdout",
       "text": [
        " 224 stargazers' starred repos\n",
        "Num nodes/edges in graph 31184 / "
       ]
      },
      {
       "output_type": "stream",
       "stream": "stdout",
       "text": [
        "57341\n",
        "Rate limit (4409, 5000)\n",
        "bjzu\n",
        "Processed"
       ]
      },
      {
       "output_type": "stream",
       "stream": "stdout",
       "text": [
        " 225 stargazers' starred repos\n",
        "Num nodes/edges in graph 31294 / "
       ]
      },
      {
       "output_type": "stream",
       "stream": "stdout",
       "text": [
        "57725\n",
        "Rate limit (4404, 5000)\n",
        "dougapd\n",
        "Processed"
       ]
      },
      {
       "output_type": "stream",
       "stream": "stdout",
       "text": [
        " 226 stargazers' starred repos\n",
        "Num nodes/edges in graph 31305 / "
       ]
      },
      {
       "output_type": "stream",
       "stream": "stdout",
       "text": [
        "57776\n",
        "Rate limit (4403, 5000)\n",
        "Hardisty\n",
        "Processed"
       ]
      },
      {
       "output_type": "stream",
       "stream": "stdout",
       "text": [
        " 227 stargazers' starred repos\n",
        "Num nodes/edges in graph 31321 / "
       ]
      },
      {
       "output_type": "stream",
       "stream": "stdout",
       "text": [
        "57845\n",
        "Rate limit (4402, 5000)\n",
        "harit-sunrun\n",
        "Processed"
       ]
      },
      {
       "output_type": "stream",
       "stream": "stdout",
       "text": [
        " 228 stargazers' starred repos\n",
        "Num nodes/edges in graph 31336 / "
       ]
      },
      {
       "output_type": "stream",
       "stream": "stdout",
       "text": [
        "58006\n",
        "Rate limit (4400, 5000)\n",
        "vanderwal\n",
        "Processed"
       ]
      },
      {
       "output_type": "stream",
       "stream": "stdout",
       "text": [
        " 229 stargazers' starred repos\n",
        "Num nodes/edges in graph 31415 / "
       ]
      },
      {
       "output_type": "stream",
       "stream": "stdout",
       "text": [
        "58205\n",
        "Rate limit (4397, 5000)\n",
        "wernerramaekers\n",
        "Processed"
       ]
      },
      {
       "output_type": "stream",
       "stream": "stdout",
       "text": [
        " 230 stargazers' starred repos\n",
        "Num nodes/edges in graph 31622 / "
       ]
      },
      {
       "output_type": "stream",
       "stream": "stdout",
       "text": [
        "58676\n",
        "Rate limit (4392, 5000)\n",
        "vgoklani\n",
        "Processed"
       ]
      },
      {
       "output_type": "stream",
       "stream": "stdout",
       "text": [
        " 231 stargazers' starred repos\n",
        "Num nodes/edges in graph 31838 / "
       ]
      },
      {
       "output_type": "stream",
       "stream": "stdout",
       "text": [
        "59151\n",
        "Rate limit (4387, 5000)\n",
        "mikedory\n",
        "Processed"
       ]
      },
      {
       "output_type": "stream",
       "stream": "stdout",
       "text": [
        " 232 stargazers' starred repos\n",
        "Num nodes/edges in graph 31924 / "
       ]
      },
      {
       "output_type": "stream",
       "stream": "stdout",
       "text": [
        "59463\n",
        "Rate limit (4383, 5000)\n",
        "bisko\n",
        "Processed"
       ]
      },
      {
       "output_type": "stream",
       "stream": "stdout",
       "text": [
        " 233 stargazers' starred repos\n",
        "Num nodes/edges in graph 31928 / "
       ]
      },
      {
       "output_type": "stream",
       "stream": "stdout",
       "text": [
        "59475\n",
        "Rate limit (4382, 5000)\n",
        "zerojarvis\n",
        "Processed"
       ]
      },
      {
       "output_type": "stream",
       "stream": "stdout",
       "text": [
        " 234 stargazers' starred repos\n",
        "Num nodes/edges in graph 32024 / "
       ]
      },
      {
       "output_type": "stream",
       "stream": "stdout",
       "text": [
        "59650\n",
        "Rate limit (4380, 5000)\n",
        "allengaller\n",
        "Processed"
       ]
      },
      {
       "output_type": "stream",
       "stream": "stdout",
       "text": [
        " 235 stargazers' starred repos\n",
        "Num nodes/edges in graph 32233 / "
       ]
      },
      {
       "output_type": "stream",
       "stream": "stdout",
       "text": [
        "60145\n",
        "Rate limit (4375, 5000)\n",
        "zolizoli\n",
        "Processed"
       ]
      },
      {
       "output_type": "stream",
       "stream": "stdout",
       "text": [
        " 236 stargazers' starred repos\n",
        "Num nodes/edges in graph 32247 / "
       ]
      },
      {
       "output_type": "stream",
       "stream": "stdout",
       "text": [
        "60170\n",
        "Rate limit (4374, 5000)\n",
        "csuper\n",
        "Processed"
       ]
      },
      {
       "output_type": "stream",
       "stream": "stdout",
       "text": [
        " 237 stargazers' starred repos\n",
        "Num nodes/edges in graph 32250 / "
       ]
      },
      {
       "output_type": "stream",
       "stream": "stdout",
       "text": [
        "60184\n",
        "Rate limit (4373, 5000)\n",
        "keokilee\n",
        "Processed"
       ]
      },
      {
       "output_type": "stream",
       "stream": "stdout",
       "text": [
        " 238 stargazers' starred repos\n",
        "Num nodes/edges in graph 32276 / "
       ]
      },
      {
       "output_type": "stream",
       "stream": "stdout",
       "text": [
        "60404\n",
        "Rate limit (4370, 5000)\n",
        "tishon\n",
        "Processed"
       ]
      },
      {
       "output_type": "stream",
       "stream": "stdout",
       "text": [
        " 239 stargazers' starred repos\n",
        "Num nodes/edges in graph 32428 / "
       ]
      },
      {
       "output_type": "stream",
       "stream": "stdout",
       "text": [
        "60882\n",
        "Rate limit (4365, 5000)\n",
        "shaunc\n",
        "Processed"
       ]
      },
      {
       "output_type": "stream",
       "stream": "stdout",
       "text": [
        " 240 stargazers' starred repos\n",
        "Num nodes/edges in graph 32436 / "
       ]
      },
      {
       "output_type": "stream",
       "stream": "stdout",
       "text": [
        "60907\n",
        "Rate limit (4364, 5000)\n",
        "slavik777\n",
        "Processed"
       ]
      },
      {
       "output_type": "stream",
       "stream": "stdout",
       "text": [
        " 241 stargazers' starred repos\n",
        "Num nodes/edges in graph 32471 / "
       ]
      },
      {
       "output_type": "stream",
       "stream": "stdout",
       "text": [
        "60995\n",
        "Rate limit (4363, 5000)\n",
        "twidi\n",
        "Processed"
       ]
      },
      {
       "output_type": "stream",
       "stream": "stdout",
       "text": [
        " 242 stargazers' starred repos\n",
        "Num nodes/edges in graph 32693 / "
       ]
      },
      {
       "output_type": "stream",
       "stream": "stdout",
       "text": [
        "61491\n",
        "Rate limit (4358, 5000)\n",
        "fsouto\n",
        "Processed"
       ]
      },
      {
       "output_type": "stream",
       "stream": "stdout",
       "text": [
        " 243 stargazers' starred repos\n",
        "Num nodes/edges in graph 32761 / "
       ]
      },
      {
       "output_type": "stream",
       "stream": "stdout",
       "text": [
        "61716\n",
        "Rate limit (4355, 5000)\n",
        "michaelwills\n",
        "Processed"
       ]
      },
      {
       "output_type": "stream",
       "stream": "stdout",
       "text": [
        " 244 stargazers' starred repos\n",
        "Num nodes/edges in graph 32987 / "
       ]
      },
      {
       "output_type": "stream",
       "stream": "stdout",
       "text": [
        "62196\n",
        "Rate limit (4350, 5000)\n",
        "ndarville\n",
        "Processed"
       ]
      },
      {
       "output_type": "stream",
       "stream": "stdout",
       "text": [
        " 245 stargazers' starred repos\n",
        "Num nodes/edges in graph 33118 / "
       ]
      },
      {
       "output_type": "stream",
       "stream": "stdout",
       "text": [
        "62671\n",
        "Rate limit (4345, 5000)\n",
        "furukama\n",
        "Processed"
       ]
      },
      {
       "output_type": "stream",
       "stream": "stdout",
       "text": [
        " 246 stargazers' starred repos\n",
        "Num nodes/edges in graph 33124 / "
       ]
      },
      {
       "output_type": "stream",
       "stream": "stdout",
       "text": [
        "62688\n",
        "Rate limit (4344, 5000)\n",
        "Nooby\n",
        "Processed"
       ]
      },
      {
       "output_type": "stream",
       "stream": "stdout",
       "text": [
        " 247 stargazers' starred repos\n",
        "Num nodes/edges in graph 33149 / "
       ]
      },
      {
       "output_type": "stream",
       "stream": "stdout",
       "text": [
        "62754\n",
        "Rate limit (4343, 5000)\n",
        "tomconte\n",
        "Processed"
       ]
      },
      {
       "output_type": "stream",
       "stream": "stdout",
       "text": [
        " 248 stargazers' starred repos\n",
        "Num nodes/edges in graph 33182 / "
       ]
      },
      {
       "output_type": "stream",
       "stream": "stdout",
       "text": [
        "62843\n",
        "Rate limit (4342, 5000)\n",
        "oweidner\n",
        "Processed"
       ]
      },
      {
       "output_type": "stream",
       "stream": "stdout",
       "text": [
        " 249 stargazers' starred repos\n",
        "Num nodes/edges in graph 33187 / "
       ]
      },
      {
       "output_type": "stream",
       "stream": "stdout",
       "text": [
        "62858\n",
        "Rate limit (4341, 5000)\n",
        "eraldcoil\n",
        "Processed"
       ]
      },
      {
       "output_type": "stream",
       "stream": "stdout",
       "text": [
        " 250 stargazers' starred repos\n",
        "Num nodes/edges in graph 33194 / "
       ]
      },
      {
       "output_type": "stream",
       "stream": "stdout",
       "text": [
        "62873\n",
        "Rate limit (4340, 5000)\n",
        "jhaus\n",
        "Processed"
       ]
      },
      {
       "output_type": "stream",
       "stream": "stdout",
       "text": [
        " 251 stargazers' starred repos\n",
        "Num nodes/edges in graph 33394 / "
       ]
      },
      {
       "output_type": "stream",
       "stream": "stdout",
       "text": [
        "63356\n",
        "Rate limit (4335, 5000)\n",
        "bryantology\n",
        "Processed"
       ]
      },
      {
       "output_type": "stream",
       "stream": "stdout",
       "text": [
        " 252 stargazers' starred repos\n",
        "Num nodes/edges in graph 33412 / "
       ]
      },
      {
       "output_type": "stream",
       "stream": "stdout",
       "text": [
        "63515\n",
        "Rate limit (4333, 5000)\n",
        "matiskay\n",
        "Processed"
       ]
      },
      {
       "output_type": "stream",
       "stream": "stdout",
       "text": [
        " 253 stargazers' starred repos\n",
        "Num nodes/edges in graph 33577 / "
       ]
      },
      {
       "output_type": "stream",
       "stream": "stdout",
       "text": [
        "64014\n",
        "Rate limit (4328, 5000)\n",
        "Btibert3\n",
        "Processed"
       ]
      },
      {
       "output_type": "stream",
       "stream": "stdout",
       "text": [
        " 254 stargazers' starred repos\n",
        "Num nodes/edges in graph 33687 / "
       ]
      },
      {
       "output_type": "stream",
       "stream": "stdout",
       "text": [
        "64205\n",
        "Rate limit (4326, 5000)\n",
        "vmharrel\n",
        "Processed"
       ]
      },
      {
       "output_type": "stream",
       "stream": "stdout",
       "text": [
        " 255 stargazers' starred repos\n",
        "Num nodes/edges in graph 33730 / "
       ]
      },
      {
       "output_type": "stream",
       "stream": "stdout",
       "text": [
        "64311\n",
        "Rate limit (4324, 5000)\n",
        "guiambros\n",
        "Processed"
       ]
      },
      {
       "output_type": "stream",
       "stream": "stdout",
       "text": [
        " 256 stargazers' starred repos\n",
        "Num nodes/edges in graph 33786 / "
       ]
      },
      {
       "output_type": "stream",
       "stream": "stdout",
       "text": [
        "64471\n",
        "Rate limit (4322, 5000)\n",
        "benregn\n",
        "Processed"
       ]
      },
      {
       "output_type": "stream",
       "stream": "stdout",
       "text": [
        " 257 stargazers' starred repos\n",
        "Num nodes/edges in graph 33829 / "
       ]
      },
      {
       "output_type": "stream",
       "stream": "stdout",
       "text": [
        "64601\n",
        "Rate limit (4320, 5000)\n",
        "panckreous\n",
        "Processed"
       ]
      },
      {
       "output_type": "stream",
       "stream": "stdout",
       "text": [
        " 258 stargazers' starred repos\n",
        "Num nodes/edges in graph 33996 / "
       ]
      },
      {
       "output_type": "stream",
       "stream": "stdout",
       "text": [
        "65099\n",
        "Rate limit (4315, 5000)\n",
        "kevinbluer\n",
        "Processed"
       ]
      },
      {
       "output_type": "stream",
       "stream": "stdout",
       "text": [
        " 259 stargazers' starred repos\n",
        "Num nodes/edges in graph 34160 / "
       ]
      },
      {
       "output_type": "stream",
       "stream": "stdout",
       "text": [
        "65596\n",
        "Rate limit (4310, 5000)\n",
        "eiriks\n",
        "Processed"
       ]
      },
      {
       "output_type": "stream",
       "stream": "stdout",
       "text": [
        " 260 stargazers' starred repos\n",
        "Num nodes/edges in graph 34214 / "
       ]
      },
      {
       "output_type": "stream",
       "stream": "stdout",
       "text": [
        "65726\n",
        "Rate limit (4308, 5000)\n",
        "japerk\n",
        "Processed"
       ]
      },
      {
       "output_type": "stream",
       "stream": "stdout",
       "text": [
        " 261 stargazers' starred repos\n",
        "Num nodes/edges in graph 34294 / "
       ]
      },
      {
       "output_type": "stream",
       "stream": "stdout",
       "text": [
        "65983\n",
        "Rate limit (4305, 5000)\n",
        "mikhailxu\n",
        "Processed"
       ]
      },
      {
       "output_type": "stream",
       "stream": "stdout",
       "text": [
        " 262 stargazers' starred repos\n",
        "Num nodes/edges in graph 34321 / "
       ]
      },
      {
       "output_type": "stream",
       "stream": "stdout",
       "text": [
        "66057\n",
        "Rate limit (4304, 5000)\n",
        "michaeldhealy\n",
        "Processed"
       ]
      },
      {
       "output_type": "stream",
       "stream": "stdout",
       "text": [
        " 263 stargazers' starred repos\n",
        "Num nodes/edges in graph 34335 / "
       ]
      },
      {
       "output_type": "stream",
       "stream": "stdout",
       "text": [
        "66104\n",
        "Rate limit (4303, 5000)\n",
        "cegme\n",
        "Processed"
       ]
      },
      {
       "output_type": "stream",
       "stream": "stdout",
       "text": [
        " 264 stargazers' starred repos\n",
        "Num nodes/edges in graph 34389 / "
       ]
      },
      {
       "output_type": "stream",
       "stream": "stdout",
       "text": [
        "66329\n",
        "Rate limit (4300, 5000)\n",
        "drelu\n",
        "Processed"
       ]
      },
      {
       "output_type": "stream",
       "stream": "stdout",
       "text": [
        " 265 stargazers' starred repos\n",
        "Num nodes/edges in graph 34436 / "
       ]
      },
      {
       "output_type": "stream",
       "stream": "stdout",
       "text": [
        "66491\n",
        "Rate limit (4298, 5000)\n",
        "samesense\n",
        "Processed"
       ]
      },
      {
       "output_type": "stream",
       "stream": "stdout",
       "text": [
        " 266 stargazers' starred repos\n",
        "Num nodes/edges in graph 34465 / "
       ]
      },
      {
       "output_type": "stream",
       "stream": "stdout",
       "text": [
        "66540\n",
        "Rate limit (4297, 5000)\n",
        "osiloke\n",
        "Processed"
       ]
      },
      {
       "output_type": "stream",
       "stream": "stdout",
       "text": [
        " 267 stargazers' starred repos\n",
        "Num nodes/edges in graph 34553 / "
       ]
      },
      {
       "output_type": "stream",
       "stream": "stdout",
       "text": [
        "66710\n",
        "Rate limit (4295, 5000)\n",
        "mt3\n",
        "Processed"
       ]
      },
      {
       "output_type": "stream",
       "stream": "stdout",
       "text": [
        " 268 stargazers' starred repos\n",
        "Num nodes/edges in graph 34848 / "
       ]
      },
      {
       "output_type": "stream",
       "stream": "stdout",
       "text": [
        "67199\n",
        "Rate limit (4290, 5000)\n",
        "lucianosb\n",
        "Processed"
       ]
      },
      {
       "output_type": "stream",
       "stream": "stdout",
       "text": [
        " 269 stargazers' starred repos\n",
        "Num nodes/edges in graph 34993 / "
       ]
      },
      {
       "output_type": "stream",
       "stream": "stdout",
       "text": [
        "67585\n",
        "Rate limit (4286, 5000)\n",
        "joshbhamilton\n",
        "Processed"
       ]
      },
      {
       "output_type": "stream",
       "stream": "stdout",
       "text": [
        " 270 stargazers' starred repos\n",
        "Num nodes/edges in graph 35018 / "
       ]
      },
      {
       "output_type": "stream",
       "stream": "stdout",
       "text": [
        "67631\n",
        "Rate limit (4285, 5000)\n",
        "seancron\n",
        "Processed"
       ]
      },
      {
       "output_type": "stream",
       "stream": "stdout",
       "text": [
        " 271 stargazers' starred repos\n",
        "Num nodes/edges in graph 35080 / "
       ]
      },
      {
       "output_type": "stream",
       "stream": "stdout",
       "text": [
        "67844\n",
        "Rate limit (4282, 5000)\n",
        "Zolomon\n",
        "Processed"
       ]
      },
      {
       "output_type": "stream",
       "stream": "stdout",
       "text": [
        " 272 stargazers' starred repos\n",
        "Num nodes/edges in graph 35159 / "
       ]
      },
      {
       "output_type": "stream",
       "stream": "stdout",
       "text": [
        "68045\n",
        "Rate limit (4279, 5000)\n",
        "mfalcon\n",
        "Processed"
       ]
      },
      {
       "output_type": "stream",
       "stream": "stdout",
       "text": [
        " 273 stargazers' starred repos\n",
        "Num nodes/edges in graph 35204 / "
       ]
      },
      {
       "output_type": "stream",
       "stream": "stdout",
       "text": [
        "68153\n",
        "Rate limit (4277, 5000)\n",
        "studiomaestro\n",
        "Processed"
       ]
      },
      {
       "output_type": "stream",
       "stream": "stdout",
       "text": [
        " 274 stargazers' starred repos\n",
        "Num nodes/edges in graph 35419 / "
       ]
      },
      {
       "output_type": "stream",
       "stream": "stdout",
       "text": [
        "68645\n",
        "Rate limit (4272, 5000)\n",
        "msonsona\n",
        "Processed"
       ]
      },
      {
       "output_type": "stream",
       "stream": "stdout",
       "text": [
        " 275 stargazers' starred repos\n",
        "Num nodes/edges in graph 35422 / "
       ]
      },
      {
       "output_type": "stream",
       "stream": "stdout",
       "text": [
        "68661\n",
        "Rate limit (4271, 5000)\n",
        "judywawira\n",
        "Processed"
       ]
      },
      {
       "output_type": "stream",
       "stream": "stdout",
       "text": [
        " 276 stargazers' starred repos\n",
        "Num nodes/edges in graph 35598 / "
       ]
      },
      {
       "output_type": "stream",
       "stream": "stdout",
       "text": [
        "68981\n",
        "Rate limit (4267, 5000)\n",
        "nrfm\n",
        "Processed"
       ]
      },
      {
       "output_type": "stream",
       "stream": "stdout",
       "text": [
        " 277 stargazers' starred repos\n",
        "Num nodes/edges in graph 35662 / "
       ]
      },
      {
       "output_type": "stream",
       "stream": "stdout",
       "text": [
        "69164\n",
        "Rate limit (4265, 5000)\n",
        "cmcgovern\n",
        "Processed"
       ]
      },
      {
       "output_type": "stream",
       "stream": "stdout",
       "text": [
        " 278 stargazers' starred repos\n",
        "Num nodes/edges in graph 35664 / "
       ]
      },
      {
       "output_type": "stream",
       "stream": "stdout",
       "text": [
        "69170\n",
        "Rate limit (4264, 5000)\n",
        "jmshoffs0812\n",
        "Processed"
       ]
      },
      {
       "output_type": "stream",
       "stream": "stdout",
       "text": [
        " 279 stargazers' starred repos\n",
        "Num nodes/edges in graph 35726 / "
       ]
      },
      {
       "output_type": "stream",
       "stream": "stdout",
       "text": [
        "69350\n",
        "Rate limit (4262, 5000)\n",
        "mpac\n",
        "Processed"
       ]
      },
      {
       "output_type": "stream",
       "stream": "stdout",
       "text": [
        " 280 stargazers' starred repos\n",
        "Num nodes/edges in graph 35738 / "
       ]
      },
      {
       "output_type": "stream",
       "stream": "stdout",
       "text": [
        "69403\n",
        "Rate limit (4261, 5000)\n",
        "jpendry\n",
        "Processed"
       ]
      },
      {
       "output_type": "stream",
       "stream": "stdout",
       "text": [
        " 281 stargazers' starred repos\n",
        "Num nodes/edges in graph 35752 / "
       ]
      },
      {
       "output_type": "stream",
       "stream": "stdout",
       "text": [
        "69504\n",
        "Rate limit (4259, 5000)\n",
        "burakerdem\n",
        "Processed"
       ]
      },
      {
       "output_type": "stream",
       "stream": "stdout",
       "text": [
        " 282 stargazers' starred repos\n",
        "Num nodes/edges in graph 35848 / "
       ]
      },
      {
       "output_type": "stream",
       "stream": "stdout",
       "text": [
        "69779\n",
        "Rate limit (4256, 5000)\n",
        "jah2488\n",
        "Processed"
       ]
      },
      {
       "output_type": "stream",
       "stream": "stdout",
       "text": [
        " 283 stargazers' starred repos\n",
        "Num nodes/edges in graph 35913 / "
       ]
      },
      {
       "output_type": "stream",
       "stream": "stdout",
       "text": [
        "69943\n",
        "Rate limit (4254, 5000)\n",
        "dworznik\n",
        "Processed"
       ]
      },
      {
       "output_type": "stream",
       "stream": "stdout",
       "text": [
        " 284 stargazers' starred repos\n",
        "Num nodes/edges in graph 35927 / "
       ]
      },
      {
       "output_type": "stream",
       "stream": "stdout",
       "text": [
        "69978\n",
        "Rate limit (4253, 5000)\n",
        "zarzecks\n",
        "Processed"
       ]
      },
      {
       "output_type": "stream",
       "stream": "stdout",
       "text": [
        " 285 stargazers' starred repos\n",
        "Num nodes/edges in graph 35998 / "
       ]
      },
      {
       "output_type": "stream",
       "stream": "stdout",
       "text": [
        "70174\n",
        "Rate limit (4250, 5000)\n",
        "dan0\n",
        "Processed"
       ]
      },
      {
       "output_type": "stream",
       "stream": "stdout",
       "text": [
        " 286 stargazers' starred repos\n",
        "Num nodes/edges in graph 36026 / "
       ]
      },
      {
       "output_type": "stream",
       "stream": "stdout",
       "text": [
        "70277\n",
        "Rate limit (4248, 5000)\n",
        "Gonzillaaa\n",
        "Processed"
       ]
      },
      {
       "output_type": "stream",
       "stream": "stdout",
       "text": [
        " 287 stargazers' starred repos\n",
        "Num nodes/edges in graph 36044 / "
       ]
      },
      {
       "output_type": "stream",
       "stream": "stdout",
       "text": [
        "70336\n",
        "Rate limit (4247, 5000)\n",
        "ssx\n",
        "Processed"
       ]
      },
      {
       "output_type": "stream",
       "stream": "stdout",
       "text": [
        " 288 stargazers' starred repos\n",
        "Num nodes/edges in graph 36277 / "
       ]
      },
      {
       "output_type": "stream",
       "stream": "stdout",
       "text": [
        "70830\n",
        "Rate limit (4242, 5000)\n",
        "jumping\n",
        "Processed"
       ]
      },
      {
       "output_type": "stream",
       "stream": "stdout",
       "text": [
        " 289 stargazers' starred repos\n",
        "Num nodes/edges in graph 36332 / "
       ]
      },
      {
       "output_type": "stream",
       "stream": "stdout",
       "text": [
        "70994\n",
        "Rate limit (4240, 5000)\n",
        "beibeiyang\n",
        "Processed"
       ]
      },
      {
       "output_type": "stream",
       "stream": "stdout",
       "text": [
        " 290 stargazers' starred repos\n",
        "Num nodes/edges in graph 36336 / "
       ]
      },
      {
       "output_type": "stream",
       "stream": "stdout",
       "text": [
        "71002\n",
        "Rate limit (4239, 5000)\n",
        "nfx\n",
        "Processed"
       ]
      },
      {
       "output_type": "stream",
       "stream": "stdout",
       "text": [
        " 291 stargazers' starred repos\n",
        "Num nodes/edges in graph 36383 / "
       ]
      },
      {
       "output_type": "stream",
       "stream": "stdout",
       "text": [
        "71096\n",
        "Rate limit (4238, 5000)\n",
        "erainey\n",
        "Processed"
       ]
      },
      {
       "output_type": "stream",
       "stream": "stdout",
       "text": [
        " 292 stargazers' starred repos\n",
        "Num nodes/edges in graph 36461 / "
       ]
      },
      {
       "output_type": "stream",
       "stream": "stdout",
       "text": [
        "71345\n",
        "Rate limit (4235, 5000)\n",
        "infantiablue\n",
        "Processed"
       ]
      },
      {
       "output_type": "stream",
       "stream": "stdout",
       "text": [
        " 293 stargazers' starred repos\n",
        "Num nodes/edges in graph 36514 / "
       ]
      },
      {
       "output_type": "stream",
       "stream": "stdout",
       "text": [
        "71577\n",
        "Rate limit (4232, 5000)\n",
        "kencochrane\n",
        "Processed"
       ]
      },
      {
       "output_type": "stream",
       "stream": "stdout",
       "text": [
        " 294 stargazers' starred repos\n",
        "Num nodes/edges in graph 36604 / "
       ]
      },
      {
       "output_type": "stream",
       "stream": "stdout",
       "text": [
        "71866\n",
        "Rate limit (4229, 5000)\n",
        "alixaxel\n",
        "Processed"
       ]
      },
      {
       "output_type": "stream",
       "stream": "stdout",
       "text": [
        " 295 stargazers' starred repos\n",
        "Num nodes/edges in graph 36771 / "
       ]
      },
      {
       "output_type": "stream",
       "stream": "stdout",
       "text": [
        "72358\n",
        "Rate limit (4224, 5000)\n",
        "rfinkers\n",
        "Processed"
       ]
      },
      {
       "output_type": "stream",
       "stream": "stdout",
       "text": [
        " 296 stargazers' starred repos\n",
        "Num nodes/edges in graph 36801 / "
       ]
      },
      {
       "output_type": "stream",
       "stream": "stdout",
       "text": [
        "72401\n",
        "Rate limit (4223, 5000)\n",
        "LuRsT\n",
        "Processed"
       ]
      },
      {
       "output_type": "stream",
       "stream": "stdout",
       "text": [
        " 297 stargazers' starred repos\n",
        "Num nodes/edges in graph 36874 / "
       ]
      },
      {
       "output_type": "stream",
       "stream": "stdout",
       "text": [
        "72664\n",
        "Rate limit (4220, 5000)\n",
        "bobdia\n",
        "Processed"
       ]
      },
      {
       "output_type": "stream",
       "stream": "stdout",
       "text": [
        " 298 stargazers' starred repos\n",
        "Num nodes/edges in graph 36892 / "
       ]
      },
      {
       "output_type": "stream",
       "stream": "stdout",
       "text": [
        "72704\n",
        "Rate limit (4219, 5000)\n",
        "arnim\n",
        "Processed"
       ]
      },
      {
       "output_type": "stream",
       "stream": "stdout",
       "text": [
        " 299 stargazers' starred repos\n",
        "Num nodes/edges in graph 36958 / "
       ]
      },
      {
       "output_type": "stream",
       "stream": "stdout",
       "text": [
        "72843\n",
        "Rate limit (4217, 5000)\n",
        "pxue\n",
        "Processed"
       ]
      },
      {
       "output_type": "stream",
       "stream": "stdout",
       "text": [
        " 300 stargazers' starred repos\n",
        "Num nodes/edges in graph 36976 / "
       ]
      },
      {
       "output_type": "stream",
       "stream": "stdout",
       "text": [
        "72987\n",
        "Rate limit (4215, 5000)\n",
        "futurespective\n",
        "Processed"
       ]
      },
      {
       "output_type": "stream",
       "stream": "stdout",
       "text": [
        " 301 stargazers' starred repos\n",
        "Num nodes/edges in graph 37011 / "
       ]
      },
      {
       "output_type": "stream",
       "stream": "stdout",
       "text": [
        "73094\n",
        "Rate limit (4213, 5000)\n",
        "whitefoxx\n",
        "Processed"
       ]
      },
      {
       "output_type": "stream",
       "stream": "stdout",
       "text": [
        " 302 stargazers' starred repos\n",
        "Num nodes/edges in graph 37020 / "
       ]
      },
      {
       "output_type": "stream",
       "stream": "stdout",
       "text": [
        "73110\n",
        "Rate limit (4212, 5000)\n",
        "gcmt\n",
        "Processed"
       ]
      },
      {
       "output_type": "stream",
       "stream": "stdout",
       "text": [
        " 303 stargazers' starred repos\n",
        "Num nodes/edges in graph 37029 / "
       ]
      },
      {
       "output_type": "stream",
       "stream": "stdout",
       "text": [
        "73265\n",
        "Rate limit (4210, 5000)\n",
        "orlandoferrer\n",
        "Processed"
       ]
      },
      {
       "output_type": "stream",
       "stream": "stdout",
       "text": [
        " 304 stargazers' starred repos\n",
        "Num nodes/edges in graph 37032 / "
       ]
      },
      {
       "output_type": "stream",
       "stream": "stdout",
       "text": [
        "73272\n",
        "Rate limit (4209, 5000)\n",
        "dcloud\n",
        "Processed"
       ]
      },
      {
       "output_type": "stream",
       "stream": "stdout",
       "text": [
        " 305 stargazers' starred repos\n",
        "Num nodes/edges in graph 37054 / "
       ]
      },
      {
       "output_type": "stream",
       "stream": "stdout",
       "text": [
        "73411\n",
        "Rate limit (4207, 5000)\n",
        "flyabroad\n",
        "Processed"
       ]
      },
      {
       "output_type": "stream",
       "stream": "stdout",
       "text": [
        " 306 stargazers' starred repos\n",
        "Num nodes/edges in graph 37253 / "
       ]
      },
      {
       "output_type": "stream",
       "stream": "stdout",
       "text": [
        "73896\n",
        "Rate limit (4202, 5000)\n",
        "torsday\n",
        "Processed"
       ]
      },
      {
       "output_type": "stream",
       "stream": "stdout",
       "text": [
        " 307 stargazers' starred repos\n",
        "Num nodes/edges in graph 37298 / "
       ]
      },
      {
       "output_type": "stream",
       "stream": "stdout",
       "text": [
        "74118\n",
        "Rate limit (4199, 5000)\n",
        "bngoogle\n",
        "Processed"
       ]
      },
      {
       "output_type": "stream",
       "stream": "stdout",
       "text": [
        " 308 stargazers' starred repos\n",
        "Num nodes/edges in graph 37298 / "
       ]
      },
      {
       "output_type": "stream",
       "stream": "stdout",
       "text": [
        "74119\n",
        "Rate limit (4198, 5000)\n",
        "rukku\n",
        "Processed"
       ]
      },
      {
       "output_type": "stream",
       "stream": "stdout",
       "text": [
        " 309 stargazers' starred repos\n",
        "Num nodes/edges in graph 37502 / "
       ]
      },
      {
       "output_type": "stream",
       "stream": "stdout",
       "text": [
        "74603\n",
        "Rate limit (4193, 5000)\n",
        "hertzel\n",
        "Processed"
       ]
      },
      {
       "output_type": "stream",
       "stream": "stdout",
       "text": [
        " 310 stargazers' starred repos\n",
        "Num nodes/edges in graph 37580 / "
       ]
      },
      {
       "output_type": "stream",
       "stream": "stdout",
       "text": [
        "74876\n",
        "Rate limit (4190, 5000)\n",
        "patrickclancy\n",
        "Processed"
       ]
      },
      {
       "output_type": "stream",
       "stream": "stdout",
       "text": [
        " 311 stargazers' starred repos\n",
        "Num nodes/edges in graph 37612 / "
       ]
      },
      {
       "output_type": "stream",
       "stream": "stdout",
       "text": [
        "74978\n",
        "Rate limit (4188, 5000)\n",
        "brianlee\n",
        "Processed"
       ]
      },
      {
       "output_type": "stream",
       "stream": "stdout",
       "text": [
        " 312 stargazers' starred repos\n",
        "Num nodes/edges in graph 37618 / "
       ]
      },
      {
       "output_type": "stream",
       "stream": "stdout",
       "text": [
        "75024\n",
        "Rate limit (4187, 5000)\n",
        "akondylis\n",
        "Processed"
       ]
      },
      {
       "output_type": "stream",
       "stream": "stdout",
       "text": [
        " 313 stargazers' starred repos\n",
        "Num nodes/edges in graph 37621 / "
       ]
      },
      {
       "output_type": "stream",
       "stream": "stdout",
       "text": [
        "75035\n",
        "Rate limit (4186, 5000)\n",
        "jrstanley\n",
        "Processed"
       ]
      },
      {
       "output_type": "stream",
       "stream": "stdout",
       "text": [
        " 314 stargazers' starred repos\n",
        "Num nodes/edges in graph 37637 / "
       ]
      },
      {
       "output_type": "stream",
       "stream": "stdout",
       "text": [
        "75097\n",
        "Rate limit (4185, 5000)\n",
        "sjwilliams\n",
        "Processed"
       ]
      },
      {
       "output_type": "stream",
       "stream": "stdout",
       "text": [
        " 315 stargazers' starred repos\n",
        "Num nodes/edges in graph 37741 / "
       ]
      },
      {
       "output_type": "stream",
       "stream": "stdout",
       "text": [
        "75416\n",
        "Rate limit (4181, 5000)\n",
        "frfeni\n",
        "Processed"
       ]
      },
      {
       "output_type": "stream",
       "stream": "stdout",
       "text": [
        " 316 stargazers' starred repos\n",
        "Num nodes/edges in graph 37745 / "
       ]
      },
      {
       "output_type": "stream",
       "stream": "stdout",
       "text": [
        "75427\n",
        "Rate limit (4180, 5000)\n",
        "ayaniimi213\n",
        "Processed"
       ]
      },
      {
       "output_type": "stream",
       "stream": "stdout",
       "text": [
        " 317 stargazers' starred repos\n",
        "Num nodes/edges in graph 37785 / "
       ]
      },
      {
       "output_type": "stream",
       "stream": "stdout",
       "text": [
        "75501\n",
        "Rate limit (4179, 5000)\n",
        "tschloss\n",
        "Processed"
       ]
      },
      {
       "output_type": "stream",
       "stream": "stdout",
       "text": [
        " 318 stargazers' starred repos\n",
        "Num nodes/edges in graph 37860 / "
       ]
      },
      {
       "output_type": "stream",
       "stream": "stdout",
       "text": [
        "75686\n",
        "Rate limit (4177, 5000)\n",
        "javouhey\n",
        "Processed"
       ]
      },
      {
       "output_type": "stream",
       "stream": "stdout",
       "text": [
        " 319 stargazers' starred repos\n",
        "Num nodes/edges in graph 37973 / "
       ]
      },
      {
       "output_type": "stream",
       "stream": "stdout",
       "text": [
        "76056\n",
        "Rate limit (4173, 5000)\n",
        "conditionalogic\n",
        "Processed"
       ]
      },
      {
       "output_type": "stream",
       "stream": "stdout",
       "text": [
        " 320 stargazers' starred repos\n",
        "Num nodes/edges in graph 38013 / "
       ]
      },
      {
       "output_type": "stream",
       "stream": "stdout",
       "text": [
        "76167\n",
        "Rate limit (4171, 5000)\n",
        "mengD\n",
        "Processed"
       ]
      },
      {
       "output_type": "stream",
       "stream": "stdout",
       "text": [
        " 321 stargazers' starred repos\n",
        "Num nodes/edges in graph 38013 / "
       ]
      },
      {
       "output_type": "stream",
       "stream": "stdout",
       "text": [
        "76167\n",
        "Rate limit (4170, 5000)\n",
        "theresia\n",
        "Processed"
       ]
      },
      {
       "output_type": "stream",
       "stream": "stdout",
       "text": [
        " 322 stargazers' starred repos\n",
        "Num nodes/edges in graph 38106 / "
       ]
      },
      {
       "output_type": "stream",
       "stream": "stdout",
       "text": [
        "76477\n",
        "Rate limit (4166, 5000)\n",
        "lilylabo\n",
        "Processed"
       ]
      },
      {
       "output_type": "stream",
       "stream": "stdout",
       "text": [
        " 323 stargazers' starred repos\n",
        "Num nodes/edges in graph 38113 / "
       ]
      },
      {
       "output_type": "stream",
       "stream": "stdout",
       "text": [
        "76488\n",
        "Rate limit (4165, 5000)\n",
        "rytis\n",
        "Processed"
       ]
      },
      {
       "output_type": "stream",
       "stream": "stdout",
       "text": [
        " 324 stargazers' starred repos\n",
        "Num nodes/edges in graph 38145 / "
       ]
      },
      {
       "output_type": "stream",
       "stream": "stdout",
       "text": [
        "76715\n",
        "Rate limit (4162, 5000)\n",
        "gawry\n",
        "Processed"
       ]
      },
      {
       "output_type": "stream",
       "stream": "stdout",
       "text": [
        " 325 stargazers' starred repos\n",
        "Num nodes/edges in graph 38235 / "
       ]
      },
      {
       "output_type": "stream",
       "stream": "stdout",
       "text": [
        "77124\n",
        "Rate limit (4157, 5000)\n",
        "semantium\n",
        "Processed"
       ]
      },
      {
       "output_type": "stream",
       "stream": "stdout",
       "text": [
        " 326 stargazers' starred repos\n",
        "Num nodes/edges in graph 38252 / "
       ]
      },
      {
       "output_type": "stream",
       "stream": "stdout",
       "text": [
        "77183\n",
        "Rate limit (4156, 5000)\n",
        "gawbul\n",
        "Processed"
       ]
      },
      {
       "output_type": "stream",
       "stream": "stdout",
       "text": [
        " 327 stargazers' starred repos\n",
        "Num nodes/edges in graph 38525 / "
       ]
      },
      {
       "output_type": "stream",
       "stream": "stdout",
       "text": [
        "77675\n",
        "Rate limit (4151, 5000)\n",
        "briatte\n",
        "Processed"
       ]
      },
      {
       "output_type": "stream",
       "stream": "stdout",
       "text": [
        " 328 stargazers' starred repos\n",
        "Num nodes/edges in graph 38643 / "
       ]
      },
      {
       "output_type": "stream",
       "stream": "stdout",
       "text": [
        "77870\n",
        "Rate limit (4149, 5000)\n",
        "amanahuja\n",
        "Processed"
       ]
      },
      {
       "output_type": "stream",
       "stream": "stdout",
       "text": [
        " 329 stargazers' starred repos\n",
        "Num nodes/edges in graph 38666 / "
       ]
      },
      {
       "output_type": "stream",
       "stream": "stdout",
       "text": [
        "77922\n",
        "Rate limit (4148, 5000)\n",
        "jakubroztocil\n",
        "Processed"
       ]
      },
      {
       "output_type": "stream",
       "stream": "stdout",
       "text": [
        " 330 stargazers' starred repos\n",
        "Num nodes/edges in graph 38726 / "
       ]
      },
      {
       "output_type": "stream",
       "stream": "stdout",
       "text": [
        "78306\n",
        "Rate limit (4144, 5000)\n",
        "masdude\n",
        "Processed"
       ]
      },
      {
       "output_type": "stream",
       "stream": "stdout",
       "text": [
        " 331 stargazers' starred repos\n",
        "Num nodes/edges in graph 38948 / "
       ]
      },
      {
       "output_type": "stream",
       "stream": "stdout",
       "text": [
        "78800\n",
        "Rate limit (4139, 5000)\n",
        "jasonbogovich\n",
        "Processed"
       ]
      },
      {
       "output_type": "stream",
       "stream": "stdout",
       "text": [
        " 332 stargazers' starred repos\n",
        "Num nodes/edges in graph 38989 / "
       ]
      },
      {
       "output_type": "stream",
       "stream": "stdout",
       "text": [
        "78917\n",
        "Rate limit (4137, 5000)\n",
        "amitkumar01\n",
        "Processed"
       ]
      },
      {
       "output_type": "stream",
       "stream": "stdout",
       "text": [
        " 333 stargazers' starred repos\n",
        "Num nodes/edges in graph 39013 / "
       ]
      },
      {
       "output_type": "stream",
       "stream": "stdout",
       "text": [
        "78977\n",
        "Rate limit (4136, 5000)\n",
        "gdberrio\n",
        "Processed"
       ]
      },
      {
       "output_type": "stream",
       "stream": "stdout",
       "text": [
        " 334 stargazers' starred repos\n",
        "Num nodes/edges in graph 39040 / "
       ]
      },
      {
       "output_type": "stream",
       "stream": "stdout",
       "text": [
        "79044\n",
        "Rate limit (4134, 5000)\n",
        "alessioalex\n",
        "Processed"
       ]
      },
      {
       "output_type": "stream",
       "stream": "stdout",
       "text": [
        " 335 stargazers' starred repos\n",
        "Num nodes/edges in graph 39353 / "
       ]
      },
      {
       "output_type": "stream",
       "stream": "stdout",
       "text": [
        "79538\n",
        "Rate limit (4129, 5000)\n",
        "shotaatago\n",
        "Processed"
       ]
      },
      {
       "output_type": "stream",
       "stream": "stdout",
       "text": [
        " 336 stargazers' starred repos\n",
        "Num nodes/edges in graph 39365 / "
       ]
      },
      {
       "output_type": "stream",
       "stream": "stdout",
       "text": [
        "79564\n",
        "Rate limit (4128, 5000)\n",
        "c0der007\n",
        "Processed"
       ]
      },
      {
       "output_type": "stream",
       "stream": "stdout",
       "text": [
        " 337 stargazers' starred repos\n",
        "Num nodes/edges in graph 39367 / "
       ]
      },
      {
       "output_type": "stream",
       "stream": "stdout",
       "text": [
        "79570\n",
        "Rate limit (4127, 5000)\n",
        "gravitymonkey\n",
        "Processed"
       ]
      },
      {
       "output_type": "stream",
       "stream": "stdout",
       "text": [
        " 338 stargazers' starred repos\n",
        "Num nodes/edges in graph 39376 / "
       ]
      },
      {
       "output_type": "stream",
       "stream": "stdout",
       "text": [
        "79586\n",
        "Rate limit (4126, 5000)\n",
        "pqnga\n",
        "Processed"
       ]
      },
      {
       "output_type": "stream",
       "stream": "stdout",
       "text": [
        " 339 stargazers' starred repos\n",
        "Num nodes/edges in graph 39376 / "
       ]
      },
      {
       "output_type": "stream",
       "stream": "stdout",
       "text": [
        "79619\n",
        "Rate limit (4125, 5000)\n",
        "rabit\n",
        "Processed"
       ]
      },
      {
       "output_type": "stream",
       "stream": "stdout",
       "text": [
        " 340 stargazers' starred repos\n",
        "Num nodes/edges in graph 39484 / "
       ]
      },
      {
       "output_type": "stream",
       "stream": "stdout",
       "text": [
        "79887\n",
        "Rate limit (4122, 5000)\n",
        "laironald\n",
        "Processed"
       ]
      },
      {
       "output_type": "stream",
       "stream": "stdout",
       "text": [
        " 341 stargazers' starred repos\n",
        "Num nodes/edges in graph 39492 / "
       ]
      },
      {
       "output_type": "stream",
       "stream": "stdout",
       "text": [
        "79933\n",
        "Rate limit (4121, 5000)\n",
        "sraghav\n",
        "Processed"
       ]
      },
      {
       "output_type": "stream",
       "stream": "stdout",
       "text": [
        " 342 stargazers' starred repos\n",
        "Num nodes/edges in graph 39493 / "
       ]
      },
      {
       "output_type": "stream",
       "stream": "stdout",
       "text": [
        "79935\n",
        "Rate limit (4120, 5000)\n",
        "w1mvy\n",
        "Processed"
       ]
      },
      {
       "output_type": "stream",
       "stream": "stdout",
       "text": [
        " 343 stargazers' starred repos\n",
        "Num nodes/edges in graph 39504 / "
       ]
      },
      {
       "output_type": "stream",
       "stream": "stdout",
       "text": [
        "79962\n",
        "Rate limit (4119, 5000)\n",
        "Prufrock1\n",
        "Processed"
       ]
      },
      {
       "output_type": "stream",
       "stream": "stdout",
       "text": [
        " 344 stargazers' starred repos\n",
        "Num nodes/edges in graph 39527 / "
       ]
      },
      {
       "output_type": "stream",
       "stream": "stdout",
       "text": [
        "80056\n",
        "Rate limit (4118, 5000)\n",
        "adivik2000\n",
        "Processed"
       ]
      },
      {
       "output_type": "stream",
       "stream": "stdout",
       "text": [
        " 345 stargazers' starred repos\n",
        "Num nodes/edges in graph 39666 / "
       ]
      },
      {
       "output_type": "stream",
       "stream": "stdout",
       "text": [
        "80384\n",
        "Rate limit (4113, 5000)\n",
        "folkengine\n",
        "Processed"
       ]
      },
      {
       "output_type": "stream",
       "stream": "stdout",
       "text": [
        " 346 stargazers' starred repos\n",
        "Num nodes/edges in graph 39766 / "
       ]
      },
      {
       "output_type": "stream",
       "stream": "stdout",
       "text": [
        "80641\n",
        "Rate limit (4110, 5000)\n",
        "Vheissu\n",
        "Processed"
       ]
      },
      {
       "output_type": "stream",
       "stream": "stdout",
       "text": [
        " 347 stargazers' starred repos\n",
        "Num nodes/edges in graph 40004 / "
       ]
      },
      {
       "output_type": "stream",
       "stream": "stdout",
       "text": [
        "81136\n",
        "Rate limit (4105, 5000)\n",
        "collardb\n",
        "Processed"
       ]
      },
      {
       "output_type": "stream",
       "stream": "stdout",
       "text": [
        " 348 stargazers' starred repos\n",
        "Num nodes/edges in graph 40006 / "
       ]
      },
      {
       "output_type": "stream",
       "stream": "stdout",
       "text": [
        "81140\n",
        "Rate limit (4104, 5000)\n",
        "rickschmoo\n",
        "Processed"
       ]
      },
      {
       "output_type": "stream",
       "stream": "stdout",
       "text": [
        " 349 stargazers' starred repos\n",
        "Num nodes/edges in graph 40006 / "
       ]
      },
      {
       "output_type": "stream",
       "stream": "stdout",
       "text": [
        "81154\n",
        "Rate limit (4103, 5000)\n",
        "BENGMN\n",
        "Processed"
       ]
      },
      {
       "output_type": "stream",
       "stream": "stdout",
       "text": [
        " 350 stargazers' starred repos\n",
        "Num nodes/edges in graph 40034 / "
       ]
      },
      {
       "output_type": "stream",
       "stream": "stdout",
       "text": [
        "81219\n",
        "Rate limit (4102, 5000)\n",
        "ypxu\n",
        "Processed"
       ]
      },
      {
       "output_type": "stream",
       "stream": "stdout",
       "text": [
        " 351 stargazers' starred repos\n",
        "Num nodes/edges in graph 40068 / "
       ]
      },
      {
       "output_type": "stream",
       "stream": "stdout",
       "text": [
        "81356\n",
        "Rate limit (4100, 5000)\n",
        "hite\n",
        "Processed"
       ]
      },
      {
       "output_type": "stream",
       "stream": "stdout",
       "text": [
        " 352 stargazers' starred repos\n",
        "Num nodes/edges in graph 40081 / "
       ]
      },
      {
       "output_type": "stream",
       "stream": "stdout",
       "text": [
        "81379\n",
        "Rate limit (4099, 5000)\n",
        "albertsun\n",
        "Processed"
       ]
      },
      {
       "output_type": "stream",
       "stream": "stdout",
       "text": [
        " 353 stargazers' starred repos\n",
        "Num nodes/edges in graph 40124 / "
       ]
      },
      {
       "output_type": "stream",
       "stream": "stdout",
       "text": [
        "81511\n",
        "Rate limit (4097, 5000)\n",
        "makeliferock\n",
        "Processed"
       ]
      },
      {
       "output_type": "stream",
       "stream": "stdout",
       "text": [
        " 354 stargazers' starred repos\n",
        "Num nodes/edges in graph 40231 / "
       ]
      },
      {
       "output_type": "stream",
       "stream": "stdout",
       "text": [
        "81772\n",
        "Rate limit (4094, 5000)\n",
        "JT5D\n",
        "Processed"
       ]
      },
      {
       "output_type": "stream",
       "stream": "stdout",
       "text": [
        " 355 stargazers' starred repos\n",
        "Num nodes/edges in graph 40619 / "
       ]
      },
      {
       "output_type": "stream",
       "stream": "stdout",
       "text": [
        "82260\n",
        "Rate limit (4089, 5000)\n",
        "Jarlskov\n",
        "Processed"
       ]
      },
      {
       "output_type": "stream",
       "stream": "stdout",
       "text": [
        " 356 stargazers' starred repos\n",
        "Num nodes/edges in graph 40621 / "
       ]
      },
      {
       "output_type": "stream",
       "stream": "stdout",
       "text": [
        "82265\n",
        "Rate limit (4088, 5000)\n",
        "pygloo\n",
        "Processed"
       ]
      },
      {
       "output_type": "stream",
       "stream": "stdout",
       "text": [
        " 357 stargazers' starred repos\n",
        "Num nodes/edges in graph 40631 / "
       ]
      },
      {
       "output_type": "stream",
       "stream": "stdout",
       "text": [
        "82275\n",
        "Rate limit (4087, 5000)\n",
        "gvillalta99\n",
        "Processed"
       ]
      },
      {
       "output_type": "stream",
       "stream": "stdout",
       "text": [
        " 358 stargazers' starred repos\n",
        "Num nodes/edges in graph 40635 / "
       ]
      },
      {
       "output_type": "stream",
       "stream": "stdout",
       "text": [
        "82298\n",
        "Rate limit (4086, 5000)\n",
        "rbarraud\n",
        "Processed"
       ]
      },
      {
       "output_type": "stream",
       "stream": "stdout",
       "text": [
        " 359 stargazers' starred repos\n",
        "Num nodes/edges in graph 40637 / "
       ]
      },
      {
       "output_type": "stream",
       "stream": "stdout",
       "text": [
        "82302\n",
        "Rate limit (4085, 5000)\n",
        "kyrcha\n",
        "Processed"
       ]
      },
      {
       "output_type": "stream",
       "stream": "stdout",
       "text": [
        " 360 stargazers' starred repos\n",
        "Num nodes/edges in graph 40691 / "
       ]
      },
      {
       "output_type": "stream",
       "stream": "stdout",
       "text": [
        "82450\n",
        "Rate limit (4083, 5000)\n",
        "taoyu\n",
        "Processed"
       ]
      },
      {
       "output_type": "stream",
       "stream": "stdout",
       "text": [
        " 361 stargazers' starred repos\n",
        "Num nodes/edges in graph 40697 / "
       ]
      },
      {
       "output_type": "stream",
       "stream": "stdout",
       "text": [
        "82480\n",
        "Rate limit (4082, 5000)\n",
        "memsql-mark\n",
        "Processed"
       ]
      },
      {
       "output_type": "stream",
       "stream": "stdout",
       "text": [
        " 362 stargazers' starred repos\n",
        "Num nodes/edges in graph 40699 / "
       ]
      },
      {
       "output_type": "stream",
       "stream": "stdout",
       "text": [
        "82486\n",
        "Rate limit (4081, 5000)\n",
        "fone4u\n",
        "Processed"
       ]
      },
      {
       "output_type": "stream",
       "stream": "stdout",
       "text": [
        " 363 stargazers' starred repos\n",
        "Num nodes/edges in graph 40730 / "
       ]
      },
      {
       "output_type": "stream",
       "stream": "stdout",
       "text": [
        "82569\n",
        "Rate limit (4079, 5000)\n",
        "gaohao\n",
        "Processed"
       ]
      },
      {
       "output_type": "stream",
       "stream": "stdout",
       "text": [
        " 364 stargazers' starred repos\n",
        "Num nodes/edges in graph 40766 / "
       ]
      },
      {
       "output_type": "stream",
       "stream": "stdout",
       "text": [
        "82756\n",
        "Rate limit (4077, 5000)\n",
        "degiere\n",
        "Processed"
       ]
      },
      {
       "output_type": "stream",
       "stream": "stdout",
       "text": [
        " 365 stargazers' starred repos\n",
        "Num nodes/edges in graph 40809 / "
       ]
      },
      {
       "output_type": "stream",
       "stream": "stdout",
       "text": [
        "82884\n",
        "Rate limit (4075, 5000)\n",
        "oliverc\n",
        "Processed"
       ]
      },
      {
       "output_type": "stream",
       "stream": "stdout",
       "text": [
        " 366 stargazers' starred repos\n",
        "Num nodes/edges in graph 40818 / "
       ]
      },
      {
       "output_type": "stream",
       "stream": "stdout",
       "text": [
        "82918\n",
        "Rate limit (4074, 5000)\n",
        "douglas\n",
        "Processed"
       ]
      },
      {
       "output_type": "stream",
       "stream": "stdout",
       "text": [
        " 367 stargazers' starred repos\n",
        "Num nodes/edges in graph 41044 / "
       ]
      },
      {
       "output_type": "stream",
       "stream": "stdout",
       "text": [
        "83402\n",
        "Rate limit (4069, 5000)\n",
        "mikeloukides\n",
        "Processed"
       ]
      },
      {
       "output_type": "stream",
       "stream": "stdout",
       "text": [
        " 368 stargazers' starred repos\n",
        "Num nodes/edges in graph 41045 / "
       ]
      },
      {
       "output_type": "stream",
       "stream": "stdout",
       "text": [
        "83411\n",
        "Rate limit (4068, 5000)\n",
        "butterwick\n",
        "Processed"
       ]
      },
      {
       "output_type": "stream",
       "stream": "stdout",
       "text": [
        " 369 stargazers' starred repos\n",
        "Num nodes/edges in graph 41070 / "
       ]
      },
      {
       "output_type": "stream",
       "stream": "stdout",
       "text": [
        "83507\n",
        "Rate limit (4067, 5000)\n",
        "amejiarosario\n",
        "Processed"
       ]
      },
      {
       "output_type": "stream",
       "stream": "stdout",
       "text": [
        " 370 stargazers' starred repos\n",
        "Num nodes/edges in graph 41159 / "
       ]
      },
      {
       "output_type": "stream",
       "stream": "stdout",
       "text": [
        "83909\n",
        "Rate limit (4062, 5000)\n",
        "iroid\n",
        "Processed"
       ]
      },
      {
       "output_type": "stream",
       "stream": "stdout",
       "text": [
        " 371 stargazers' starred repos\n",
        "Num nodes/edges in graph 41347 / "
       ]
      },
      {
       "output_type": "stream",
       "stream": "stdout",
       "text": [
        "84228\n",
        "Rate limit (4058, 5000)\n",
        "jeffmiller\n",
        "Processed"
       ]
      },
      {
       "output_type": "stream",
       "stream": "stdout",
       "text": [
        " 372 stargazers' starred repos\n",
        "Num nodes/edges in graph 41360 / "
       ]
      },
      {
       "output_type": "stream",
       "stream": "stdout",
       "text": [
        "84294\n",
        "Rate limit (4057, 5000)\n",
        "jquattrocchi\n",
        "Processed"
       ]
      },
      {
       "output_type": "stream",
       "stream": "stdout",
       "text": [
        " 373 stargazers' starred repos\n",
        "Num nodes/edges in graph 41367 / "
       ]
      },
      {
       "output_type": "stream",
       "stream": "stdout",
       "text": [
        "84416\n",
        "Rate limit (4055, 5000)\n",
        "ismaild\n",
        "Processed"
       ]
      },
      {
       "output_type": "stream",
       "stream": "stdout",
       "text": [
        " 374 stargazers' starred repos\n",
        "Num nodes/edges in graph 41485 / "
       ]
      },
      {
       "output_type": "stream",
       "stream": "stdout",
       "text": [
        "84898\n",
        "Rate limit (4050, 5000)\n",
        "ngopal\n",
        "Processed"
       ]
      },
      {
       "output_type": "stream",
       "stream": "stdout",
       "text": [
        " 375 stargazers' starred repos\n",
        "Num nodes/edges in graph 41497 / "
       ]
      },
      {
       "output_type": "stream",
       "stream": "stdout",
       "text": [
        "84916\n",
        "Rate limit (4049, 5000)\n",
        "zgw21cn\n",
        "Processed"
       ]
      },
      {
       "output_type": "stream",
       "stream": "stdout",
       "text": [
        " 376 stargazers' starred repos\n",
        "Num nodes/edges in graph 41558 / "
       ]
      },
      {
       "output_type": "stream",
       "stream": "stdout",
       "text": [
        "85081\n",
        "Rate limit (4047, 5000)\n",
        "ardalahmet\n",
        "Processed"
       ]
      },
      {
       "output_type": "stream",
       "stream": "stdout",
       "text": [
        " 377 stargazers' starred repos\n",
        "Num nodes/edges in graph 41585 / "
       ]
      },
      {
       "output_type": "stream",
       "stream": "stdout",
       "text": [
        "85141\n",
        "Rate limit (4046, 5000)\n",
        "webmaven\n",
        "Processed"
       ]
      },
      {
       "output_type": "stream",
       "stream": "stdout",
       "text": [
        " 378 stargazers' starred repos\n",
        "Num nodes/edges in graph 41711 / "
       ]
      },
      {
       "output_type": "stream",
       "stream": "stdout",
       "text": [
        "85463\n",
        "Rate limit (4042, 5000)\n",
        "kamzilla\n",
        "Processed"
       ]
      },
      {
       "output_type": "stream",
       "stream": "stdout",
       "text": [
        " 379 stargazers' starred repos\n",
        "Num nodes/edges in graph 41713 / "
       ]
      },
      {
       "output_type": "stream",
       "stream": "stdout",
       "text": [
        "85466\n",
        "Rate limit (4041, 5000)\n",
        "realoptimal\n",
        "Processed"
       ]
      },
      {
       "output_type": "stream",
       "stream": "stdout",
       "text": [
        " 380 stargazers' starred repos\n",
        "Num nodes/edges in graph 41748 / "
       ]
      },
      {
       "output_type": "stream",
       "stream": "stdout",
       "text": [
        "85565\n",
        "Rate limit (4039, 5000)\n",
        "jwsy\n",
        "Processed"
       ]
      },
      {
       "output_type": "stream",
       "stream": "stdout",
       "text": [
        " 381 stargazers' starred repos\n",
        "Num nodes/edges in graph 41752 / "
       ]
      },
      {
       "output_type": "stream",
       "stream": "stdout",
       "text": [
        "85588\n",
        "Rate limit (4038, 5000)\n",
        "hanula\n",
        "Processed"
       ]
      },
      {
       "output_type": "stream",
       "stream": "stdout",
       "text": [
        " 382 stargazers' starred repos\n",
        "Num nodes/edges in graph 41788 / "
       ]
      },
      {
       "output_type": "stream",
       "stream": "stdout",
       "text": [
        "85724\n",
        "Rate limit (4036, 5000)\n",
        "peicheng\n",
        "Processed"
       ]
      },
      {
       "output_type": "stream",
       "stream": "stdout",
       "text": [
        " 383 stargazers' starred repos\n",
        "Num nodes/edges in graph 42039 / "
       ]
      },
      {
       "output_type": "stream",
       "stream": "stdout",
       "text": [
        "86211\n",
        "Rate limit (4031, 5000)\n",
        "MichaelMartinez\n",
        "Processed"
       ]
      },
      {
       "output_type": "stream",
       "stream": "stdout",
       "text": [
        " 384 stargazers' starred repos\n",
        "Num nodes/edges in graph 42067 / "
       ]
      },
      {
       "output_type": "stream",
       "stream": "stdout",
       "text": [
        "86332\n",
        "Rate limit (4029, 5000)\n",
        "SamLebarbare\n",
        "Processed"
       ]
      },
      {
       "output_type": "stream",
       "stream": "stdout",
       "text": [
        " 385 stargazers' starred repos\n",
        "Num nodes/edges in graph 42092 / "
       ]
      },
      {
       "output_type": "stream",
       "stream": "stdout",
       "text": [
        "86387\n",
        "Rate limit (4028, 5000)\n",
        "pedrokoblitz\n",
        "Processed"
       ]
      },
      {
       "output_type": "stream",
       "stream": "stdout",
       "text": [
        " 386 stargazers' starred repos\n",
        "Num nodes/edges in graph 42198 / "
       ]
      },
      {
       "output_type": "stream",
       "stream": "stdout",
       "text": [
        "86561\n",
        "Rate limit (4026, 5000)\n",
        "darkfall\n",
        "Processed"
       ]
      },
      {
       "output_type": "stream",
       "stream": "stdout",
       "text": [
        " 387 stargazers' starred repos\n",
        "Num nodes/edges in graph 42273 / "
       ]
      },
      {
       "output_type": "stream",
       "stream": "stdout",
       "text": [
        "86773\n",
        "Rate limit (4023, 5000)\n",
        "chuckchen\n",
        "Processed"
       ]
      },
      {
       "output_type": "stream",
       "stream": "stdout",
       "text": [
        " 388 stargazers' starred repos\n",
        "Num nodes/edges in graph 42291 / "
       ]
      },
      {
       "output_type": "stream",
       "stream": "stdout",
       "text": [
        "86905\n",
        "Rate limit (4021, 5000)\n",
        "th0ma5w\n",
        "Processed"
       ]
      },
      {
       "output_type": "stream",
       "stream": "stdout",
       "text": [
        " 389 stargazers' starred repos\n",
        "Num nodes/edges in graph 42392 / "
       ]
      },
      {
       "output_type": "stream",
       "stream": "stdout",
       "text": [
        "87117\n",
        "Rate limit (4018, 5000)\n",
        "ramkrsna\n",
        "Processed"
       ]
      },
      {
       "output_type": "stream",
       "stream": "stdout",
       "text": [
        " 390 stargazers' starred repos\n",
        "Num nodes/edges in graph 42402 / "
       ]
      },
      {
       "output_type": "stream",
       "stream": "stdout",
       "text": [
        "87141\n",
        "Rate limit (4017, 5000)\n",
        "hankwang\n",
        "Processed"
       ]
      },
      {
       "output_type": "stream",
       "stream": "stdout",
       "text": [
        " 391 stargazers' starred repos\n",
        "Num nodes/edges in graph 42520 / "
       ]
      },
      {
       "output_type": "stream",
       "stream": "stdout",
       "text": [
        "87635\n",
        "Rate limit (4012, 5000)\n",
        "liuzz1983\n",
        "Processed"
       ]
      },
      {
       "output_type": "stream",
       "stream": "stdout",
       "text": [
        " 392 stargazers' starred repos\n",
        "Num nodes/edges in graph 42584 / "
       ]
      },
      {
       "output_type": "stream",
       "stream": "stdout",
       "text": [
        "87867\n",
        "Rate limit (4008, 5000)\n",
        "deathcape\n",
        "Processed"
       ]
      },
      {
       "output_type": "stream",
       "stream": "stdout",
       "text": [
        " 393 stargazers' starred repos\n",
        "Num nodes/edges in graph 42586 / "
       ]
      },
      {
       "output_type": "stream",
       "stream": "stdout",
       "text": [
        "87870\n",
        "Rate limit (4007, 5000)\n",
        "ahmads\n",
        "Processed"
       ]
      },
      {
       "output_type": "stream",
       "stream": "stdout",
       "text": [
        " 394 stargazers' starred repos\n",
        "Num nodes/edges in graph 42705 / "
       ]
      },
      {
       "output_type": "stream",
       "stream": "stdout",
       "text": [
        "88217\n",
        "Rate limit (4003, 5000)\n",
        "deepblue-phoenix\n",
        "Processed"
       ]
      },
      {
       "output_type": "stream",
       "stream": "stdout",
       "text": [
        " 395 stargazers' starred repos\n",
        "Num nodes/edges in graph 42737 / "
       ]
      },
      {
       "output_type": "stream",
       "stream": "stdout",
       "text": [
        "88322\n",
        "Rate limit (4001, 5000)\n",
        "dcj\n",
        "Processed"
       ]
      },
      {
       "output_type": "stream",
       "stream": "stdout",
       "text": [
        " 396 stargazers' starred repos\n",
        "Num nodes/edges in graph 43024 / "
       ]
      },
      {
       "output_type": "stream",
       "stream": "stdout",
       "text": [
        "88815\n",
        "Rate limit (3996, 5000)\n",
        "stumm\n",
        "Processed"
       ]
      },
      {
       "output_type": "stream",
       "stream": "stdout",
       "text": [
        " 397 stargazers' starred repos\n",
        "Num nodes/edges in graph 43029 / "
       ]
      },
      {
       "output_type": "stream",
       "stream": "stdout",
       "text": [
        "88830\n",
        "Rate limit (3995, 5000)\n",
        "redy\n",
        "Processed"
       ]
      },
      {
       "output_type": "stream",
       "stream": "stdout",
       "text": [
        " 398 stargazers' starred repos\n",
        "Num nodes/edges in graph 43031 / "
       ]
      },
      {
       "output_type": "stream",
       "stream": "stdout",
       "text": [
        "88840\n",
        "Rate limit (3994, 5000)\n",
        "tikums\n",
        "Processed"
       ]
      },
      {
       "output_type": "stream",
       "stream": "stdout",
       "text": [
        " 399 stargazers' starred repos\n",
        "Num nodes/edges in graph 43109 / "
       ]
      },
      {
       "output_type": "stream",
       "stream": "stdout",
       "text": [
        "88982\n",
        "Rate limit (3992, 5000)\n",
        "chihuanqi\n",
        "Processed"
       ]
      },
      {
       "output_type": "stream",
       "stream": "stdout",
       "text": [
        " 400 stargazers' starred repos\n",
        "Num nodes/edges in graph 43110 / "
       ]
      },
      {
       "output_type": "stream",
       "stream": "stdout",
       "text": [
        "88987\n",
        "Rate limit (3991, 5000)\n",
        "shuhei\n",
        "Processed"
       ]
      },
      {
       "output_type": "stream",
       "stream": "stdout",
       "text": [
        " 401 stargazers' starred repos\n",
        "Num nodes/edges in graph 43287 / "
       ]
      },
      {
       "output_type": "stream",
       "stream": "stdout",
       "text": [
        "89484\n",
        "Rate limit (3986, 5000)\n",
        "torazuka\n",
        "Processed"
       ]
      },
      {
       "output_type": "stream",
       "stream": "stdout",
       "text": [
        " 402 stargazers' starred repos\n",
        "Num nodes/edges in graph 43296 / "
       ]
      },
      {
       "output_type": "stream",
       "stream": "stdout",
       "text": [
        "89505\n",
        "Rate limit (3985, 5000)\n",
        "moutai\n",
        "Processed"
       ]
      },
      {
       "output_type": "stream",
       "stream": "stdout",
       "text": [
        " 403 stargazers' starred repos\n",
        "Num nodes/edges in graph 43303 / "
       ]
      },
      {
       "output_type": "stream",
       "stream": "stdout",
       "text": [
        "89523\n",
        "Rate limit (3984, 5000)\n",
        "pantelis\n",
        "Processed"
       ]
      },
      {
       "output_type": "stream",
       "stream": "stdout",
       "text": [
        " 404 stargazers' starred repos\n",
        "Num nodes/edges in graph 43322 / "
       ]
      },
      {
       "output_type": "stream",
       "stream": "stdout",
       "text": [
        "89588\n",
        "Rate limit (3983, 5000)\n",
        "mootPoint\n",
        "Processed"
       ]
      },
      {
       "output_type": "stream",
       "stream": "stdout",
       "text": [
        " 405 stargazers' starred repos\n",
        "Num nodes/edges in graph 43374 / "
       ]
      },
      {
       "output_type": "stream",
       "stream": "stdout",
       "text": [
        "89891\n",
        "Rate limit (3979, 5000)\n",
        "cicuz\n",
        "Processed"
       ]
      },
      {
       "output_type": "stream",
       "stream": "stdout",
       "text": [
        " 406 stargazers' starred repos\n",
        "Num nodes/edges in graph 43388 / "
       ]
      },
      {
       "output_type": "stream",
       "stream": "stdout",
       "text": [
        "89943\n",
        "Rate limit (3978, 5000)\n",
        "teenst\n",
        "Processed"
       ]
      },
      {
       "output_type": "stream",
       "stream": "stdout",
       "text": [
        " 407 stargazers' starred repos\n",
        "Num nodes/edges in graph 43446 / "
       ]
      },
      {
       "output_type": "stream",
       "stream": "stdout",
       "text": [
        "90063\n",
        "Rate limit (3976, 5000)\n",
        "nbyloff\n",
        "Processed"
       ]
      },
      {
       "output_type": "stream",
       "stream": "stdout",
       "text": [
        " 408 stargazers' starred repos\n",
        "Num nodes/edges in graph 43466 / "
       ]
      },
      {
       "output_type": "stream",
       "stream": "stdout",
       "text": [
        "90117\n",
        "Rate limit (3975, 5000)\n",
        "dotpot\n",
        "Processed"
       ]
      },
      {
       "output_type": "stream",
       "stream": "stdout",
       "text": [
        " 409 stargazers' starred repos\n",
        "Num nodes/edges in graph 43518 / "
       ]
      },
      {
       "output_type": "stream",
       "stream": "stdout",
       "text": [
        "90616\n",
        "Rate limit (3970, 5000)\n",
        "sleyzerzon\n",
        "Processed"
       ]
      },
      {
       "output_type": "stream",
       "stream": "stdout",
       "text": [
        " 410 stargazers' starred repos\n",
        "Num nodes/edges in graph 43817 / "
       ]
      },
      {
       "output_type": "stream",
       "stream": "stdout",
       "text": [
        "91104\n",
        "Rate limit (3965, 5000)\n",
        "gkhnlts\n",
        "Processed"
       ]
      },
      {
       "output_type": "stream",
       "stream": "stdout",
       "text": [
        " 411 stargazers' starred repos\n",
        "Num nodes/edges in graph 43819 / "
       ]
      },
      {
       "output_type": "stream",
       "stream": "stdout",
       "text": [
        "91106\n",
        "Rate limit (3964, 5000)\n",
        "klous\n",
        "Processed"
       ]
      },
      {
       "output_type": "stream",
       "stream": "stdout",
       "text": [
        " 412 stargazers' starred repos\n",
        "Num nodes/edges in graph 43827 / "
       ]
      },
      {
       "output_type": "stream",
       "stream": "stdout",
       "text": [
        "91135\n",
        "Rate limit (3963, 5000)\n",
        "jasonyaw\n",
        "Processed"
       ]
      },
      {
       "output_type": "stream",
       "stream": "stdout",
       "text": [
        " 413 stargazers' starred repos\n",
        "Num nodes/edges in graph 43852 / "
       ]
      },
      {
       "output_type": "stream",
       "stream": "stdout",
       "text": [
        "91226\n",
        "Rate limit (3962, 5000)\n",
        "Basphil\n",
        "Processed"
       ]
      },
      {
       "output_type": "stream",
       "stream": "stdout",
       "text": [
        " 414 stargazers' starred repos\n",
        "Num nodes/edges in graph 43856 / "
       ]
      },
      {
       "output_type": "stream",
       "stream": "stdout",
       "text": [
        "91234\n",
        "Rate limit (3961, 5000)\n",
        "octoberman\n",
        "Processed"
       ]
      },
      {
       "output_type": "stream",
       "stream": "stdout",
       "text": [
        " 415 stargazers' starred repos\n",
        "Num nodes/edges in graph 43858 / "
       ]
      },
      {
       "output_type": "stream",
       "stream": "stdout",
       "text": [
        "91240\n",
        "Rate limit (3960, 5000)\n",
        "professorsparkles\n",
        "Processed"
       ]
      },
      {
       "output_type": "stream",
       "stream": "stdout",
       "text": [
        " 416 stargazers' starred repos\n",
        "Num nodes/edges in graph 43860 / "
       ]
      },
      {
       "output_type": "stream",
       "stream": "stdout",
       "text": [
        "91250\n",
        "Rate limit (3959, 5000)\n",
        "purplecow\n",
        "Processed"
       ]
      },
      {
       "output_type": "stream",
       "stream": "stdout",
       "text": [
        " 417 stargazers' starred repos\n",
        "Num nodes/edges in graph 43995 / "
       ]
      },
      {
       "output_type": "stream",
       "stream": "stdout",
       "text": [
        "91630\n",
        "Rate limit (3954, 5000)\n",
        "andypiper\n",
        "Processed"
       ]
      },
      {
       "output_type": "stream",
       "stream": "stdout",
       "text": [
        " 418 stargazers' starred repos\n",
        "Num nodes/edges in graph 44330 / "
       ]
      },
      {
       "output_type": "stream",
       "stream": "stdout",
       "text": [
        "92125\n",
        "Rate limit (3949, 5000)\n",
        "skpatidar\n",
        "Processed"
       ]
      },
      {
       "output_type": "stream",
       "stream": "stdout",
       "text": [
        " 419 stargazers' starred repos\n",
        "Num nodes/edges in graph 44330 / "
       ]
      },
      {
       "output_type": "stream",
       "stream": "stdout",
       "text": [
        "92125\n",
        "Rate limit (3948, 5000)\n",
        "billday\n",
        "Processed"
       ]
      },
      {
       "output_type": "stream",
       "stream": "stdout",
       "text": [
        " 420 stargazers' starred repos\n",
        "Num nodes/edges in graph 44359 / "
       ]
      },
      {
       "output_type": "stream",
       "stream": "stdout",
       "text": [
        "92173\n",
        "Rate limit (3947, 5000)\n",
        "semerda\n",
        "Processed"
       ]
      },
      {
       "output_type": "stream",
       "stream": "stdout",
       "text": [
        " 421 stargazers' starred repos\n",
        "Num nodes/edges in graph 44534 / "
       ]
      },
      {
       "output_type": "stream",
       "stream": "stdout",
       "text": [
        "92673\n",
        "Rate limit (3942, 5000)\n",
        "ehmo\n",
        "Processed"
       ]
      },
      {
       "output_type": "stream",
       "stream": "stdout",
       "text": [
        " 422 stargazers' starred repos\n",
        "Num nodes/edges in graph 44538 / "
       ]
      },
      {
       "output_type": "stream",
       "stream": "stdout",
       "text": [
        "92726\n",
        "Rate limit (3941, 5000)\n",
        "paulgoggin\n",
        "Processed"
       ]
      },
      {
       "output_type": "stream",
       "stream": "stdout",
       "text": [
        " 423 stargazers' starred repos\n",
        "Num nodes/edges in graph 44543 / "
       ]
      },
      {
       "output_type": "stream",
       "stream": "stdout",
       "text": [
        "92739\n",
        "Rate limit (3940, 5000)\n",
        "bzak\n",
        "Processed"
       ]
      },
      {
       "output_type": "stream",
       "stream": "stdout",
       "text": [
        " 424 stargazers' starred repos\n",
        "Num nodes/edges in graph 44558 / "
       ]
      },
      {
       "output_type": "stream",
       "stream": "stdout",
       "text": [
        "92823\n",
        "Rate limit (3939, 5000)\n",
        "utitled\n",
        "Processed"
       ]
      },
      {
       "output_type": "stream",
       "stream": "stdout",
       "text": [
        " 425 stargazers' starred repos\n",
        "Num nodes/edges in graph 44561 / "
       ]
      },
      {
       "output_type": "stream",
       "stream": "stdout",
       "text": [
        "92849\n",
        "Rate limit (3938, 5000)\n",
        "maurorodrigues\n",
        "Processed"
       ]
      },
      {
       "output_type": "stream",
       "stream": "stdout",
       "text": [
        " 426 stargazers' starred repos\n",
        "Num nodes/edges in graph 44590 / "
       ]
      },
      {
       "output_type": "stream",
       "stream": "stdout",
       "text": [
        "92902\n",
        "Rate limit (3937, 5000)\n",
        "zambrose\n",
        "Processed"
       ]
      },
      {
       "output_type": "stream",
       "stream": "stdout",
       "text": [
        " 427 stargazers' starred repos\n",
        "Num nodes/edges in graph 44631 / "
       ]
      },
      {
       "output_type": "stream",
       "stream": "stdout",
       "text": [
        "93073\n",
        "Rate limit (3935, 5000)\n",
        "bin3\n",
        "Processed"
       ]
      },
      {
       "output_type": "stream",
       "stream": "stdout",
       "text": [
        " 428 stargazers' starred repos\n",
        "Num nodes/edges in graph 44659 / "
       ]
      },
      {
       "output_type": "stream",
       "stream": "stdout",
       "text": [
        "93233\n",
        "Rate limit (3933, 5000)\n",
        "CodingBob\n",
        "Processed"
       ]
      },
      {
       "output_type": "stream",
       "stream": "stdout",
       "text": [
        " 429 stargazers' starred repos\n",
        "Num nodes/edges in graph 44663 / "
       ]
      },
      {
       "output_type": "stream",
       "stream": "stdout",
       "text": [
        "93250\n",
        "Rate limit (3932, 5000)\n",
        "madsurgeon\n",
        "Processed"
       ]
      },
      {
       "output_type": "stream",
       "stream": "stdout",
       "text": [
        " 430 stargazers' starred repos\n",
        "Num nodes/edges in graph 44774 / "
       ]
      },
      {
       "output_type": "stream",
       "stream": "stdout",
       "text": [
        "93538\n",
        "Rate limit (3929, 5000)\n",
        "JacekAmbroziak\n",
        "Processed"
       ]
      },
      {
       "output_type": "stream",
       "stream": "stdout",
       "text": [
        " 431 stargazers' starred repos\n",
        "Num nodes/edges in graph 44775 / "
       ]
      },
      {
       "output_type": "stream",
       "stream": "stdout",
       "text": [
        "93539\n",
        "Rate limit (3928, 5000)\n",
        "steverife\n",
        "Processed"
       ]
      },
      {
       "output_type": "stream",
       "stream": "stdout",
       "text": [
        " 432 stargazers' starred repos\n",
        "Num nodes/edges in graph 44775 / "
       ]
      },
      {
       "output_type": "stream",
       "stream": "stdout",
       "text": [
        "93540\n",
        "Rate limit (3927, 5000)\n",
        "grahn\n",
        "Processed"
       ]
      },
      {
       "output_type": "stream",
       "stream": "stdout",
       "text": [
        " 433 stargazers' starred repos\n",
        "Num nodes/edges in graph 44787 / "
       ]
      },
      {
       "output_type": "stream",
       "stream": "stdout",
       "text": [
        "93624\n",
        "Rate limit (3926, 5000)\n",
        "lulstrup\n",
        "Processed"
       ]
      },
      {
       "output_type": "stream",
       "stream": "stdout",
       "text": [
        " 434 stargazers' starred repos\n",
        "Num nodes/edges in graph 44787 / "
       ]
      },
      {
       "output_type": "stream",
       "stream": "stdout",
       "text": [
        "93624\n",
        "Rate limit (3925, 5000)\n",
        "sukottokun\n",
        "Processed"
       ]
      },
      {
       "output_type": "stream",
       "stream": "stdout",
       "text": [
        " 435 stargazers' starred repos\n",
        "Num nodes/edges in graph 44787 / "
       ]
      },
      {
       "output_type": "stream",
       "stream": "stdout",
       "text": [
        "93624\n",
        "Rate limit (3924, 5000)\n",
        "aminert\n",
        "Processed"
       ]
      },
      {
       "output_type": "stream",
       "stream": "stdout",
       "text": [
        " 436 stargazers' starred repos\n",
        "Num nodes/edges in graph 44806 / "
       ]
      },
      {
       "output_type": "stream",
       "stream": "stdout",
       "text": [
        "93666\n",
        "Rate limit (3923, 5000)\n",
        "alexdiao\n",
        "Processed"
       ]
      },
      {
       "output_type": "stream",
       "stream": "stdout",
       "text": [
        " 437 stargazers' starred repos\n",
        "Num nodes/edges in graph 44842 / "
       ]
      },
      {
       "output_type": "stream",
       "stream": "stdout",
       "text": [
        "93869\n",
        "Rate limit (3920, 5000)\n",
        "quakerpunk\n",
        "Processed"
       ]
      },
      {
       "output_type": "stream",
       "stream": "stdout",
       "text": [
        " 438 stargazers' starred repos\n",
        "Num nodes/edges in graph 44844 / "
       ]
      },
      {
       "output_type": "stream",
       "stream": "stdout",
       "text": [
        "93877\n",
        "Rate limit (3919, 5000)\n",
        "janetyc\n",
        "Processed"
       ]
      },
      {
       "output_type": "stream",
       "stream": "stdout",
       "text": [
        " 439 stargazers' starred repos\n",
        "Num nodes/edges in graph 44848 / "
       ]
      },
      {
       "output_type": "stream",
       "stream": "stdout",
       "text": [
        "93888\n",
        "Rate limit (3918, 5000)\n",
        "Faddel\n",
        "Processed"
       ]
      },
      {
       "output_type": "stream",
       "stream": "stdout",
       "text": [
        " 440 stargazers' starred repos\n",
        "Num nodes/edges in graph 44850 / "
       ]
      },
      {
       "output_type": "stream",
       "stream": "stdout",
       "text": [
        "93891\n",
        "Rate limit (3917, 5000)\n",
        "raoulwissink\n",
        "Processed"
       ]
      },
      {
       "output_type": "stream",
       "stream": "stdout",
       "text": [
        " 441 stargazers' starred repos\n",
        "Num nodes/edges in graph 44864 / "
       ]
      },
      {
       "output_type": "stream",
       "stream": "stdout",
       "text": [
        "93933\n",
        "Rate limit (3916, 5000)\n",
        "bcattle\n",
        "Processed"
       ]
      },
      {
       "output_type": "stream",
       "stream": "stdout",
       "text": [
        " 442 stargazers' starred repos\n",
        "Num nodes/edges in graph 44914 / "
       ]
      },
      {
       "output_type": "stream",
       "stream": "stdout",
       "text": [
        "94065\n",
        "Rate limit (3914, 5000)\n",
        "Doppp\n",
        "Processed"
       ]
      },
      {
       "output_type": "stream",
       "stream": "stdout",
       "text": [
        " 443 stargazers' starred repos\n",
        "Num nodes/edges in graph 44994 / "
       ]
      },
      {
       "output_type": "stream",
       "stream": "stdout",
       "text": [
        "94560\n",
        "Rate limit (3909, 5000)\n",
        "motord\n",
        "Processed"
       ]
      },
      {
       "output_type": "stream",
       "stream": "stdout",
       "text": [
        " 444 stargazers' starred repos\n",
        "Num nodes/edges in graph 45140 / "
       ]
      },
      {
       "output_type": "stream",
       "stream": "stdout",
       "text": [
        "95057\n",
        "Rate limit (3904, 5000)\n",
        "kimispencer\n",
        "Processed"
       ]
      },
      {
       "output_type": "stream",
       "stream": "stdout",
       "text": [
        " 445 stargazers' starred repos\n",
        "Num nodes/edges in graph 45146 / "
       ]
      },
      {
       "output_type": "stream",
       "stream": "stdout",
       "text": [
        "95072\n",
        "Rate limit (3903, 5000)\n",
        "rasper121\n",
        "Processed"
       ]
      },
      {
       "output_type": "stream",
       "stream": "stdout",
       "text": [
        " 446 stargazers' starred repos\n",
        "Num nodes/edges in graph 45147 / "
       ]
      },
      {
       "output_type": "stream",
       "stream": "stdout",
       "text": [
        "95073\n",
        "Rate limit (3902, 5000)\n",
        "lincolinnyan\n",
        "Processed"
       ]
      },
      {
       "output_type": "stream",
       "stream": "stdout",
       "text": [
        " 447 stargazers' starred repos\n",
        "Num nodes/edges in graph 45149 / "
       ]
      },
      {
       "output_type": "stream",
       "stream": "stdout",
       "text": [
        "95081\n",
        "Rate limit (3901, 5000)\n",
        "manesiotise\n",
        "Processed"
       ]
      },
      {
       "output_type": "stream",
       "stream": "stdout",
       "text": [
        " 448 stargazers' starred repos\n",
        "Num nodes/edges in graph 45356 / "
       ]
      },
      {
       "output_type": "stream",
       "stream": "stdout",
       "text": [
        "95575\n",
        "Rate limit (3896, 5000)\n",
        "csjones\n",
        "Processed"
       ]
      },
      {
       "output_type": "stream",
       "stream": "stdout",
       "text": [
        " 449 stargazers' starred repos\n",
        "Num nodes/edges in graph 45381 / "
       ]
      },
      {
       "output_type": "stream",
       "stream": "stdout",
       "text": [
        "95644\n",
        "Rate limit (3895, 5000)\n",
        "joskid\n",
        "Processed"
       ]
      },
      {
       "output_type": "stream",
       "stream": "stdout",
       "text": [
        " 450 stargazers' starred repos\n",
        "Num nodes/edges in graph 45553 / "
       ]
      },
      {
       "output_type": "stream",
       "stream": "stdout",
       "text": [
        "96015\n",
        "Rate limit (3890, 5000)\n",
        "shijinkui\n",
        "Processed"
       ]
      },
      {
       "output_type": "stream",
       "stream": "stdout",
       "text": [
        " 451 stargazers' starred repos\n",
        "Num nodes/edges in graph 45631 / "
       ]
      },
      {
       "output_type": "stream",
       "stream": "stdout",
       "text": [
        "96366\n",
        "Rate limit (3886, 5000)\n",
        "jcamacaro\n",
        "Processed"
       ]
      },
      {
       "output_type": "stream",
       "stream": "stdout",
       "text": [
        " 452 stargazers' starred repos\n",
        "Num nodes/edges in graph 45633 / "
       ]
      },
      {
       "output_type": "stream",
       "stream": "stdout",
       "text": [
        "96369\n",
        "Rate limit (3885, 5000)\n",
        "phillpafford\n",
        "Processed"
       ]
      },
      {
       "output_type": "stream",
       "stream": "stdout",
       "text": [
        " 453 stargazers' starred repos\n",
        "Num nodes/edges in graph 45826 / "
       ]
      },
      {
       "output_type": "stream",
       "stream": "stdout",
       "text": [
        "96836\n",
        "Rate limit (3880, 5000)\n",
        "kod3r\n",
        "Processed"
       ]
      },
      {
       "output_type": "stream",
       "stream": "stdout",
       "text": [
        " 454 stargazers' starred repos\n",
        "Num nodes/edges in graph 46008 / "
       ]
      },
      {
       "output_type": "stream",
       "stream": "stdout",
       "text": [
        "97267\n",
        "Rate limit (3875, 5000)\n",
        "zhouzhuojie\n",
        "Processed"
       ]
      },
      {
       "output_type": "stream",
       "stream": "stdout",
       "text": [
        " 455 stargazers' starred repos\n",
        "Num nodes/edges in graph 46029 / "
       ]
      },
      {
       "output_type": "stream",
       "stream": "stdout",
       "text": [
        "97304\n",
        "Rate limit (3874, 5000)\n",
        "mdyang\n",
        "Processed"
       ]
      },
      {
       "output_type": "stream",
       "stream": "stdout",
       "text": [
        " 456 stargazers' starred repos\n",
        "Num nodes/edges in graph 46042 / "
       ]
      },
      {
       "output_type": "stream",
       "stream": "stdout",
       "text": [
        "97361\n",
        "Rate limit (3873, 5000)\n",
        "DKMonroe\n",
        "Processed"
       ]
      },
      {
       "output_type": "stream",
       "stream": "stdout",
       "text": [
        " 457 stargazers' starred repos\n",
        "Num nodes/edges in graph 46047 / "
       ]
      },
      {
       "output_type": "stream",
       "stream": "stdout",
       "text": [
        "97370\n",
        "Rate limit (3872, 5000)\n",
        "funkygao\n",
        "Processed"
       ]
      },
      {
       "output_type": "stream",
       "stream": "stdout",
       "text": [
        " 458 stargazers' starred repos\n",
        "Num nodes/edges in graph 46126 / "
       ]
      },
      {
       "output_type": "stream",
       "stream": "stdout",
       "text": [
        "97626\n",
        "Rate limit (3868, 5000)\n",
        "odewahn\n",
        "Processed"
       ]
      },
      {
       "output_type": "stream",
       "stream": "stdout",
       "text": [
        " 459 stargazers' starred repos\n",
        "Num nodes/edges in graph 46149 / "
       ]
      },
      {
       "output_type": "stream",
       "stream": "stdout",
       "text": [
        "97657\n",
        "Rate limit (3867, 5000)\n",
        "jessesingh\n",
        "Processed"
       ]
      },
      {
       "output_type": "stream",
       "stream": "stdout",
       "text": [
        " 460 stargazers' starred repos\n",
        "Num nodes/edges in graph 46153 / "
       ]
      },
      {
       "output_type": "stream",
       "stream": "stdout",
       "text": [
        "97662\n",
        "Rate limit (3866, 5000)\n",
        "frankk00\n",
        "Processed"
       ]
      },
      {
       "output_type": "stream",
       "stream": "stdout",
       "text": [
        " 461 stargazers' starred repos\n",
        "Num nodes/edges in graph 46219 / "
       ]
      },
      {
       "output_type": "stream",
       "stream": "stdout",
       "text": [
        "97856\n",
        "Rate limit (3862, 5000)\n",
        "sp0rus\n",
        "Processed"
       ]
      },
      {
       "output_type": "stream",
       "stream": "stdout",
       "text": [
        " 462 stargazers' starred repos\n",
        "Num nodes/edges in graph 46233 / "
       ]
      },
      {
       "output_type": "stream",
       "stream": "stdout",
       "text": [
        "97890\n",
        "Rate limit (3861, 5000)\n",
        "tejasc\n",
        "Processed"
       ]
      },
      {
       "output_type": "stream",
       "stream": "stdout",
       "text": [
        " 463 stargazers' starred repos\n",
        "Num nodes/edges in graph 46237 / "
       ]
      },
      {
       "output_type": "stream",
       "stream": "stdout",
       "text": [
        "97898\n",
        "Rate limit (3860, 5000)\n",
        "dream4j\n",
        "Processed"
       ]
      },
      {
       "output_type": "stream",
       "stream": "stdout",
       "text": [
        " 464 stargazers' starred repos\n",
        "Num nodes/edges in graph 46294 / "
       ]
      },
      {
       "output_type": "stream",
       "stream": "stdout",
       "text": [
        "98125\n",
        "Rate limit (3857, 5000)\n",
        "robbfitzsimmons\n",
        "Processed"
       ]
      },
      {
       "output_type": "stream",
       "stream": "stdout",
       "text": [
        " 465 stargazers' starred repos\n",
        "Num nodes/edges in graph 46425 / "
       ]
      },
      {
       "output_type": "stream",
       "stream": "stdout",
       "text": [
        "98620\n",
        "Rate limit (3852, 5000)\n",
        "deusnet\n",
        "Processed"
       ]
      },
      {
       "output_type": "stream",
       "stream": "stdout",
       "text": [
        " 466 stargazers' starred repos\n",
        "Num nodes/edges in graph 46425 / "
       ]
      },
      {
       "output_type": "stream",
       "stream": "stdout",
       "text": [
        "98621\n",
        "Rate limit (3851, 5000)\n",
        "gaohailang\n",
        "Processed"
       ]
      },
      {
       "output_type": "stream",
       "stream": "stdout",
       "text": [
        " 467 stargazers' starred repos\n",
        "Num nodes/edges in graph 46540 / "
       ]
      },
      {
       "output_type": "stream",
       "stream": "stdout",
       "text": [
        "99118\n",
        "Rate limit (3846, 5000)\n",
        "treper\n",
        "Processed"
       ]
      },
      {
       "output_type": "stream",
       "stream": "stdout",
       "text": [
        " 468 stargazers' starred repos\n",
        "Num nodes/edges in graph 46602 / "
       ]
      },
      {
       "output_type": "stream",
       "stream": "stdout",
       "text": [
        "99340\n",
        "Rate limit (3843, 5000)\n",
        "robstrange\n",
        "Processed"
       ]
      },
      {
       "output_type": "stream",
       "stream": "stdout",
       "text": [
        " 469 stargazers' starred repos\n",
        "Num nodes/edges in graph 46609 / "
       ]
      },
      {
       "output_type": "stream",
       "stream": "stdout",
       "text": [
        "99356\n",
        "Rate limit (3842, 5000)\n",
        "katychuang\n",
        "Processed"
       ]
      },
      {
       "output_type": "stream",
       "stream": "stdout",
       "text": [
        " 470 stargazers' starred repos\n",
        "Num nodes/edges in graph 46680 / "
       ]
      },
      {
       "output_type": "stream",
       "stream": "stdout",
       "text": [
        "99584\n",
        "Rate limit (3839, 5000)\n",
        "andrewdanks\n",
        "Processed"
       ]
      },
      {
       "output_type": "stream",
       "stream": "stdout",
       "text": [
        " 471 stargazers' starred repos\n",
        "Num nodes/edges in graph 46707 / "
       ]
      },
      {
       "output_type": "stream",
       "stream": "stdout",
       "text": [
        "99713\n",
        "Rate limit (3837, 5000)\n",
        "pparo\n",
        "Processed"
       ]
      },
      {
       "output_type": "stream",
       "stream": "stdout",
       "text": [
        " 472 stargazers' starred repos\n",
        "Num nodes/edges in graph 46709 / "
       ]
      },
      {
       "output_type": "stream",
       "stream": "stdout",
       "text": [
        "99716\n",
        "Rate limit (3836, 5000)\n",
        "joohnnie\n",
        "Processed"
       ]
      },
      {
       "output_type": "stream",
       "stream": "stdout",
       "text": [
        " 473 stargazers' starred repos\n",
        "Num nodes/edges in graph 46712 / "
       ]
      },
      {
       "output_type": "stream",
       "stream": "stdout",
       "text": [
        "99730\n",
        "Rate limit (3835, 5000)\n",
        "tranminhan\n",
        "Processed"
       ]
      },
      {
       "output_type": "stream",
       "stream": "stdout",
       "text": [
        " 474 stargazers' starred repos\n",
        "Num nodes/edges in graph 46720 / "
       ]
      },
      {
       "output_type": "stream",
       "stream": "stdout",
       "text": [
        "99763\n",
        "Rate limit (3834, 5000)\n",
        "edglazer\n",
        "Processed"
       ]
      },
      {
       "output_type": "stream",
       "stream": "stdout",
       "text": [
        " 475 stargazers' starred repos\n",
        "Num nodes/edges in graph 46956 / "
       ]
      },
      {
       "output_type": "stream",
       "stream": "stdout",
       "text": [
        "100252\n",
        "Rate limit (3829, 5000)\n",
        "guillermogrande\n",
        "Processed"
       ]
      },
      {
       "output_type": "stream",
       "stream": "stdout",
       "text": [
        " 476 stargazers' starred repos\n",
        "Num nodes/edges in graph 46996 / "
       ]
      },
      {
       "output_type": "stream",
       "stream": "stdout",
       "text": [
        "100338\n",
        "Rate limit (3828, 5000)\n",
        "tigerjh\n",
        "Processed"
       ]
      },
      {
       "output_type": "stream",
       "stream": "stdout",
       "text": [
        " 477 stargazers' starred repos\n",
        "Num nodes/edges in graph 47007 / "
       ]
      },
      {
       "output_type": "stream",
       "stream": "stdout",
       "text": [
        "100371\n",
        "Rate limit (3827, 5000)\n",
        "edfine\n",
        "Processed"
       ]
      },
      {
       "output_type": "stream",
       "stream": "stdout",
       "text": [
        " 478 stargazers' starred repos\n",
        "Num nodes/edges in graph 47011 / "
       ]
      },
      {
       "output_type": "stream",
       "stream": "stdout",
       "text": [
        "100377\n",
        "Rate limit (3826, 5000)\n",
        "bearzx\n",
        "Processed"
       ]
      },
      {
       "output_type": "stream",
       "stream": "stdout",
       "text": [
        " 479 stargazers' starred repos\n",
        "Num nodes/edges in graph 47020 / "
       ]
      },
      {
       "output_type": "stream",
       "stream": "stdout",
       "text": [
        "100389\n",
        "Rate limit (3825, 5000)\n",
        "superfine\n",
        "Processed"
       ]
      },
      {
       "output_type": "stream",
       "stream": "stdout",
       "text": [
        " 480 stargazers' starred repos\n",
        "Num nodes/edges in graph 47038 / "
       ]
      },
      {
       "output_type": "stream",
       "stream": "stdout",
       "text": [
        "100478\n",
        "Rate limit (3824, 5000)\n",
        "xlogik\n",
        "Processed"
       ]
      },
      {
       "output_type": "stream",
       "stream": "stdout",
       "text": [
        " 481 stargazers' starred repos\n",
        "Num nodes/edges in graph 47090 / "
       ]
      },
      {
       "output_type": "stream",
       "stream": "stdout",
       "text": [
        "100576\n",
        "Rate limit (3823, 5000)\n",
        "srinatar\n",
        "Processed"
       ]
      },
      {
       "output_type": "stream",
       "stream": "stdout",
       "text": [
        " 482 stargazers' starred repos\n",
        "Num nodes/edges in graph 47091 / "
       ]
      },
      {
       "output_type": "stream",
       "stream": "stdout",
       "text": [
        "100584\n",
        "Rate limit (3822, 5000)\n",
        "JosephLaurino\n",
        "Processed"
       ]
      },
      {
       "output_type": "stream",
       "stream": "stdout",
       "text": [
        " 483 stargazers' starred repos\n",
        "Num nodes/edges in graph 47100 / "
       ]
      },
      {
       "output_type": "stream",
       "stream": "stdout",
       "text": [
        "100607\n",
        "Rate limit (3821, 5000)\n",
        "laranea\n",
        "Processed"
       ]
      },
      {
       "output_type": "stream",
       "stream": "stdout",
       "text": [
        " 484 stargazers' starred repos\n",
        "Num nodes/edges in graph 47153 / "
       ]
      },
      {
       "output_type": "stream",
       "stream": "stdout",
       "text": [
        "100806\n",
        "Rate limit (3818, 5000)\n",
        "jdzeil\n",
        "Processed"
       ]
      },
      {
       "output_type": "stream",
       "stream": "stdout",
       "text": [
        " 485 stargazers' starred repos\n",
        "Num nodes/edges in graph 47153 / "
       ]
      },
      {
       "output_type": "stream",
       "stream": "stdout",
       "text": [
        "100811\n",
        "Rate limit (3817, 5000)\n",
        "stefaneyr\n",
        "Processed"
       ]
      },
      {
       "output_type": "stream",
       "stream": "stdout",
       "text": [
        " 486 stargazers' starred repos\n",
        "Num nodes/edges in graph 47262 / "
       ]
      },
      {
       "output_type": "stream",
       "stream": "stdout",
       "text": [
        "101310\n",
        "Rate limit (3812, 5000)\n",
        "sfahad46\n",
        "Processed"
       ]
      },
      {
       "output_type": "stream",
       "stream": "stdout",
       "text": [
        " 487 stargazers' starred repos\n",
        "Num nodes/edges in graph 47262 / "
       ]
      },
      {
       "output_type": "stream",
       "stream": "stdout",
       "text": [
        "101311\n",
        "Rate limit (3811, 5000)\n",
        "ikegami-yukino\n",
        "Processed"
       ]
      },
      {
       "output_type": "stream",
       "stream": "stdout",
       "text": [
        " 488 stargazers' starred repos\n",
        "Num nodes/edges in graph 47276 / "
       ]
      },
      {
       "output_type": "stream",
       "stream": "stdout",
       "text": [
        "101346\n",
        "Rate limit (3810, 5000)\n",
        "surecc\n",
        "Processed"
       ]
      },
      {
       "output_type": "stream",
       "stream": "stdout",
       "text": [
        " 489 stargazers' starred repos\n",
        "Num nodes/edges in graph 47281 / "
       ]
      },
      {
       "output_type": "stream",
       "stream": "stdout",
       "text": [
        "101357\n",
        "Rate limit (3809, 5000)\n",
        "dextercasey\n",
        "Processed"
       ]
      },
      {
       "output_type": "stream",
       "stream": "stdout",
       "text": [
        " 490 stargazers' starred repos\n",
        "Num nodes/edges in graph 47291 / "
       ]
      },
      {
       "output_type": "stream",
       "stream": "stdout",
       "text": [
        "101381\n",
        "Rate limit (3808, 5000)\n",
        "kharakawa\n",
        "Processed"
       ]
      },
      {
       "output_type": "stream",
       "stream": "stdout",
       "text": [
        " 491 stargazers' starred repos\n",
        "Num nodes/edges in graph 47292 / "
       ]
      },
      {
       "output_type": "stream",
       "stream": "stdout",
       "text": [
        "101389\n",
        "Rate limit (3807, 5000)\n",
        "joliva\n",
        "Processed"
       ]
      },
      {
       "output_type": "stream",
       "stream": "stdout",
       "text": [
        " 492 stargazers' starred repos\n",
        "Num nodes/edges in graph 47493 / "
       ]
      },
      {
       "output_type": "stream",
       "stream": "stdout",
       "text": [
        "101797\n",
        "Rate limit (3802, 5000)\n",
        "espeed\n",
        "Processed"
       ]
      },
      {
       "output_type": "stream",
       "stream": "stdout",
       "text": [
        " 493 stargazers' starred repos\n",
        "Num nodes/edges in graph 47634 / "
       ]
      },
      {
       "output_type": "stream",
       "stream": "stdout",
       "text": [
        "102288\n",
        "Rate limit (3797, 5000)\n",
        "nine9s\n",
        "Processed"
       ]
      },
      {
       "output_type": "stream",
       "stream": "stdout",
       "text": [
        " 494 stargazers' starred repos\n",
        "Num nodes/edges in graph 47658 / "
       ]
      },
      {
       "output_type": "stream",
       "stream": "stdout",
       "text": [
        "102568\n",
        "Rate limit (3794, 5000)\n",
        "vinay631\n",
        "Processed"
       ]
      },
      {
       "output_type": "stream",
       "stream": "stdout",
       "text": [
        " 495 stargazers' starred repos\n",
        "Num nodes/edges in graph 47667 / "
       ]
      },
      {
       "output_type": "stream",
       "stream": "stdout",
       "text": [
        "102589\n",
        "Rate limit (3793, 5000)\n",
        "ikari-pl\n",
        "Processed"
       ]
      },
      {
       "output_type": "stream",
       "stream": "stdout",
       "text": [
        " 496 stargazers' starred repos\n",
        "Num nodes/edges in graph 47685 / "
       ]
      },
      {
       "output_type": "stream",
       "stream": "stdout",
       "text": [
        "102638\n",
        "Rate limit (3792, 5000)\n",
        "nelliemckesson\n",
        "Processed"
       ]
      },
      {
       "output_type": "stream",
       "stream": "stdout",
       "text": [
        " 497 stargazers' starred repos\n",
        "Num nodes/edges in graph 47687 / "
       ]
      },
      {
       "output_type": "stream",
       "stream": "stdout",
       "text": [
        "102642\n",
        "Rate limit (3791, 5000)\n",
        "Gal3riel\n",
        "Processed"
       ]
      },
      {
       "output_type": "stream",
       "stream": "stdout",
       "text": [
        " 498 stargazers' starred repos\n",
        "Num nodes/edges in graph 47693 / "
       ]
      },
      {
       "output_type": "stream",
       "stream": "stdout",
       "text": [
        "102678\n",
        "Rate limit (3790, 5000)\n",
        "blooberr\n",
        "Processed"
       ]
      },
      {
       "output_type": "stream",
       "stream": "stdout",
       "text": [
        " 499 stargazers' starred repos\n",
        "Num nodes/edges in graph 47696 / "
       ]
      },
      {
       "output_type": "stream",
       "stream": "stdout",
       "text": [
        "102695\n",
        "Rate limit (3789, 5000)\n",
        "nicib83\n",
        "Processed"
       ]
      },
      {
       "output_type": "stream",
       "stream": "stdout",
       "text": [
        " 500 stargazers' starred repos\n",
        "Num nodes/edges in graph 47767 / "
       ]
      },
      {
       "output_type": "stream",
       "stream": "stdout",
       "text": [
        "103184\n",
        "Rate limit (3784, 5000)\n",
        "donigian\n",
        "Processed"
       ]
      },
      {
       "output_type": "stream",
       "stream": "stdout",
       "text": [
        " 501 stargazers' starred repos\n",
        "Num nodes/edges in graph 47794 / "
       ]
      },
      {
       "output_type": "stream",
       "stream": "stdout",
       "text": [
        "103293\n",
        "Rate limit (3782, 5000)\n",
        "sunchengjie\n",
        "Processed"
       ]
      },
      {
       "output_type": "stream",
       "stream": "stdout",
       "text": [
        " 502 stargazers' starred repos\n",
        "Num nodes/edges in graph 47795 / "
       ]
      },
      {
       "output_type": "stream",
       "stream": "stdout",
       "text": [
        "103301\n",
        "Rate limit (3781, 5000)\n",
        "msbanik\n",
        "Processed"
       ]
      },
      {
       "output_type": "stream",
       "stream": "stdout",
       "text": [
        " 503 stargazers' starred repos\n",
        "Num nodes/edges in graph 47800 / "
       ]
      },
      {
       "output_type": "stream",
       "stream": "stdout",
       "text": [
        "103334\n",
        "Rate limit (3780, 5000)\n",
        "clwen\n",
        "Processed"
       ]
      },
      {
       "output_type": "stream",
       "stream": "stdout",
       "text": [
        " 504 stargazers' starred repos\n",
        "Num nodes/edges in graph 47804 / "
       ]
      },
      {
       "output_type": "stream",
       "stream": "stdout",
       "text": [
        "103360\n",
        "Rate limit (3779, 5000)\n",
        "klgraham\n",
        "Processed"
       ]
      },
      {
       "output_type": "stream",
       "stream": "stdout",
       "text": [
        " 505 stargazers' starred repos\n",
        "Num nodes/edges in graph 47812 / "
       ]
      },
      {
       "output_type": "stream",
       "stream": "stdout",
       "text": [
        "103410\n",
        "Rate limit (3778, 5000)\n",
        "GuosongChen\n",
        "Processed"
       ]
      },
      {
       "output_type": "stream",
       "stream": "stdout",
       "text": [
        " 506 stargazers' starred repos\n",
        "Num nodes/edges in graph 47815 / "
       ]
      },
      {
       "output_type": "stream",
       "stream": "stdout",
       "text": [
        "103416\n",
        "Rate limit (3777, 5000)\n",
        "aboutaaron\n",
        "Processed"
       ]
      },
      {
       "output_type": "stream",
       "stream": "stdout",
       "text": [
        " 507 stargazers' starred repos\n",
        "Num nodes/edges in graph 47959 / "
       ]
      },
      {
       "output_type": "stream",
       "stream": "stdout",
       "text": [
        "103914\n",
        "Rate limit (3772, 5000)\n",
        "jineshpaloor\n",
        "Processed"
       ]
      },
      {
       "output_type": "stream",
       "stream": "stdout",
       "text": [
        " 508 stargazers' starred repos\n",
        "Num nodes/edges in graph 47982 / "
       ]
      },
      {
       "output_type": "stream",
       "stream": "stdout",
       "text": [
        "104000\n",
        "Rate limit (3771, 5000)\n",
        "boskaiolo\n",
        "Processed"
       ]
      },
      {
       "output_type": "stream",
       "stream": "stdout",
       "text": [
        " 509 stargazers' starred repos\n",
        "Num nodes/edges in graph 47982 / "
       ]
      },
      {
       "output_type": "stream",
       "stream": "stdout",
       "text": [
        "104003\n",
        "Rate limit (3770, 5000)\n",
        "neko1990\n",
        "Processed"
       ]
      },
      {
       "output_type": "stream",
       "stream": "stdout",
       "text": [
        " 510 stargazers' starred repos\n",
        "Num nodes/edges in graph 47986 / "
       ]
      },
      {
       "output_type": "stream",
       "stream": "stdout",
       "text": [
        "104013\n",
        "Rate limit (3769, 5000)\n",
        "mrmvergeer\n",
        "Processed"
       ]
      },
      {
       "output_type": "stream",
       "stream": "stdout",
       "text": [
        " 511 stargazers' starred repos\n",
        "Num nodes/edges in graph 47986 / "
       ]
      },
      {
       "output_type": "stream",
       "stream": "stdout",
       "text": [
        "104013\n",
        "Rate limit (3768, 5000)\n",
        "firesofmay\n",
        "Processed"
       ]
      },
      {
       "output_type": "stream",
       "stream": "stdout",
       "text": [
        " 512 stargazers' starred repos\n",
        "Num nodes/edges in graph 48005 / "
       ]
      },
      {
       "output_type": "stream",
       "stream": "stdout",
       "text": [
        "104037\n",
        "Rate limit (3767, 5000)\n",
        "ValerieNC\n",
        "Processed"
       ]
      },
      {
       "output_type": "stream",
       "stream": "stdout",
       "text": [
        " 513 stargazers' starred repos\n",
        "Num nodes/edges in graph 48007 / "
       ]
      },
      {
       "output_type": "stream",
       "stream": "stdout",
       "text": [
        "104045\n",
        "Rate limit (3766, 5000)\n",
        "srbjwe\n",
        "Processed"
       ]
      },
      {
       "output_type": "stream",
       "stream": "stdout",
       "text": [
        " 514 stargazers' starred repos\n",
        "Num nodes/edges in graph 48007 / "
       ]
      },
      {
       "output_type": "stream",
       "stream": "stdout",
       "text": [
        "104047\n",
        "Rate limit (3765, 5000)\n",
        "dr00\n",
        "Processed"
       ]
      },
      {
       "output_type": "stream",
       "stream": "stdout",
       "text": [
        " 515 stargazers' starred repos\n",
        "Num nodes/edges in graph 48011 / "
       ]
      },
      {
       "output_type": "stream",
       "stream": "stdout",
       "text": [
        "104052\n",
        "Rate limit (3764, 5000)\n",
        "mrcrabby\n",
        "Processed"
       ]
      },
      {
       "output_type": "stream",
       "stream": "stdout",
       "text": [
        " 516 stargazers' starred repos\n",
        "Num nodes/edges in graph 48076 / "
       ]
      },
      {
       "output_type": "stream",
       "stream": "stdout",
       "text": [
        "104161\n",
        "Rate limit (3761, 5000)\n",
        "eklypse\n",
        "Processed"
       ]
      },
      {
       "output_type": "stream",
       "stream": "stdout",
       "text": [
        " 517 stargazers' starred repos\n",
        "Num nodes/edges in graph 48081 / "
       ]
      },
      {
       "output_type": "stream",
       "stream": "stdout",
       "text": [
        "104174\n",
        "Rate limit (3760, 5000)\n",
        "danielpreotiuc\n",
        "Processed"
       ]
      },
      {
       "output_type": "stream",
       "stream": "stdout",
       "text": [
        " 518 stargazers' starred repos\n",
        "Num nodes/edges in graph 48085 / "
       ]
      },
      {
       "output_type": "stream",
       "stream": "stdout",
       "text": [
        "104190\n",
        "Rate limit (3759, 5000)\n",
        "adawsonfullsail\n",
        "Processed"
       ]
      },
      {
       "output_type": "stream",
       "stream": "stdout",
       "text": [
        " 519 stargazers' starred repos\n",
        "Num nodes/edges in graph 48088 / "
       ]
      },
      {
       "output_type": "stream",
       "stream": "stdout",
       "text": [
        "104194\n",
        "Rate limit (3758, 5000)\n",
        "olovholm\n",
        "Processed"
       ]
      },
      {
       "output_type": "stream",
       "stream": "stdout",
       "text": [
        " 520 stargazers' starred repos\n",
        "Num nodes/edges in graph 48095 / "
       ]
      },
      {
       "output_type": "stream",
       "stream": "stdout",
       "text": [
        "104211\n",
        "Rate limit (3757, 5000)\n",
        "yangdahui\n",
        "Processed"
       ]
      },
      {
       "output_type": "stream",
       "stream": "stdout",
       "text": [
        " 521 stargazers' starred repos\n",
        "Num nodes/edges in graph 48107 / "
       ]
      },
      {
       "output_type": "stream",
       "stream": "stdout",
       "text": [
        "104261\n",
        "Rate limit (3756, 5000)\n",
        "ayakix\n",
        "Processed"
       ]
      },
      {
       "output_type": "stream",
       "stream": "stdout",
       "text": [
        " 522 stargazers' starred repos\n",
        "Num nodes/edges in graph 48115 / "
       ]
      },
      {
       "output_type": "stream",
       "stream": "stdout",
       "text": [
        "104276\n",
        "Rate limit (3755, 5000)\n",
        "richallensf\n",
        "Processed"
       ]
      },
      {
       "output_type": "stream",
       "stream": "stdout",
       "text": [
        " 523 stargazers' starred repos\n",
        "Num nodes/edges in graph 48116 / "
       ]
      },
      {
       "output_type": "stream",
       "stream": "stdout",
       "text": [
        "104283\n",
        "Rate limit (3754, 5000)\n",
        "themiurgo\n",
        "Processed"
       ]
      },
      {
       "output_type": "stream",
       "stream": "stdout",
       "text": [
        " 524 stargazers' starred repos\n",
        "Num nodes/edges in graph 48159 / "
       ]
      },
      {
       "output_type": "stream",
       "stream": "stdout",
       "text": [
        "104418\n",
        "Rate limit (3752, 5000)\n",
        "slojo404\n",
        "Processed"
       ]
      },
      {
       "output_type": "stream",
       "stream": "stdout",
       "text": [
        " 525 stargazers' starred repos\n",
        "Num nodes/edges in graph 48361 / "
       ]
      },
      {
       "output_type": "stream",
       "stream": "stdout",
       "text": [
        "104912\n",
        "Rate limit (3747, 5000)\n",
        "daseme\n",
        "Processed"
       ]
      },
      {
       "output_type": "stream",
       "stream": "stdout",
       "text": [
        " 526 stargazers' starred repos\n",
        "Num nodes/edges in graph 48369 / "
       ]
      },
      {
       "output_type": "stream",
       "stream": "stdout",
       "text": [
        "104974\n",
        "Rate limit (3746, 5000)\n",
        "abousha\n",
        "Processed"
       ]
      },
      {
       "output_type": "stream",
       "stream": "stdout",
       "text": [
        " 527 stargazers' starred repos\n",
        "Num nodes/edges in graph 48369 / "
       ]
      },
      {
       "output_type": "stream",
       "stream": "stdout",
       "text": [
        "104977\n",
        "Rate limit (3745, 5000)\n",
        "Sdmattpotter\n",
        "Processed"
       ]
      },
      {
       "output_type": "stream",
       "stream": "stdout",
       "text": [
        " 528 stargazers' starred repos\n",
        "Num nodes/edges in graph 48369 / "
       ]
      },
      {
       "output_type": "stream",
       "stream": "stdout",
       "text": [
        "104977\n",
        "Rate limit (3744, 5000)\n",
        "majahn\n",
        "Processed"
       ]
      },
      {
       "output_type": "stream",
       "stream": "stdout",
       "text": [
        " 529 stargazers' starred repos\n",
        "Num nodes/edges in graph 48388 / "
       ]
      },
      {
       "output_type": "stream",
       "stream": "stdout",
       "text": [
        "105080\n",
        "Rate limit (3742, 5000)\n",
        "benjikraft\n",
        "Processed"
       ]
      },
      {
       "output_type": "stream",
       "stream": "stdout",
       "text": [
        " 530 stargazers' starred repos\n",
        "Num nodes/edges in graph 48388 / "
       ]
      },
      {
       "output_type": "stream",
       "stream": "stdout",
       "text": [
        "105080\n",
        "Rate limit (3741, 5000)\n",
        "ardendertat\n",
        "Processed"
       ]
      },
      {
       "output_type": "stream",
       "stream": "stdout",
       "text": [
        " 531 stargazers' starred repos\n",
        "Num nodes/edges in graph 48392 / "
       ]
      },
      {
       "output_type": "stream",
       "stream": "stdout",
       "text": [
        "105096\n",
        "Rate limit (3740, 5000)\n",
        "dgryski\n",
        "Processed"
       ]
      },
      {
       "output_type": "stream",
       "stream": "stdout",
       "text": [
        " 532 stargazers' starred repos\n",
        "Num nodes/edges in graph 48625 / "
       ]
      },
      {
       "output_type": "stream",
       "stream": "stdout",
       "text": [
        "105588\n",
        "Rate limit (3735, 5000)\n",
        "lkrids\n",
        "Processed"
       ]
      },
      {
       "output_type": "stream",
       "stream": "stdout",
       "text": [
        " 533 stargazers' starred repos\n",
        "Num nodes/edges in graph 48669 / "
       ]
      },
      {
       "output_type": "stream",
       "stream": "stdout",
       "text": [
        "105897\n",
        "Rate limit (3731, 5000)\n",
        "iwanbk\n",
        "Processed"
       ]
      },
      {
       "output_type": "stream",
       "stream": "stdout",
       "text": [
        " 534 stargazers' starred repos\n",
        "Num nodes/edges in graph 48740 / "
       ]
      },
      {
       "output_type": "stream",
       "stream": "stdout",
       "text": [
        "106140\n",
        "Rate limit (3728, 5000)\n",
        "jbreger\n",
        "Processed"
       ]
      },
      {
       "output_type": "stream",
       "stream": "stdout",
       "text": [
        " 535 stargazers' starred repos\n",
        "Num nodes/edges in graph 48747 / "
       ]
      },
      {
       "output_type": "stream",
       "stream": "stdout",
       "text": [
        "106151\n",
        "Rate limit (3727, 5000)\n",
        "norri\n",
        "Processed"
       ]
      },
      {
       "output_type": "stream",
       "stream": "stdout",
       "text": [
        " 536 stargazers' starred repos\n",
        "Num nodes/edges in graph 48749 / "
       ]
      },
      {
       "output_type": "stream",
       "stream": "stdout",
       "text": [
        "106171\n",
        "Rate limit (3726, 5000)\n",
        "ConceptKreator\n",
        "Processed"
       ]
      },
      {
       "output_type": "stream",
       "stream": "stdout",
       "text": [
        " 537 stargazers' starred repos\n",
        "Num nodes/edges in graph 48752 / "
       ]
      },
      {
       "output_type": "stream",
       "stream": "stdout",
       "text": [
        "106181\n",
        "Rate limit (3725, 5000)\n",
        "BrentAuble\n",
        "Processed"
       ]
      },
      {
       "output_type": "stream",
       "stream": "stdout",
       "text": [
        " 538 stargazers' starred repos\n",
        "Num nodes/edges in graph 48754 / "
       ]
      },
      {
       "output_type": "stream",
       "stream": "stdout",
       "text": [
        "106191\n",
        "Rate limit (3724, 5000)\n",
        "nick-turner\n",
        "Processed"
       ]
      },
      {
       "output_type": "stream",
       "stream": "stdout",
       "text": [
        " 539 stargazers' starred repos\n",
        "Num nodes/edges in graph 48754 / "
       ]
      },
      {
       "output_type": "stream",
       "stream": "stdout",
       "text": [
        "106192\n",
        "Rate limit (3723, 5000)\n",
        "subrays\n",
        "Processed"
       ]
      },
      {
       "output_type": "stream",
       "stream": "stdout",
       "text": [
        " 540 stargazers' starred repos\n",
        "Num nodes/edges in graph 48758 / "
       ]
      },
      {
       "output_type": "stream",
       "stream": "stdout",
       "text": [
        "106200\n",
        "Rate limit (3722, 5000)\n",
        "gui11aume\n",
        "Processed"
       ]
      },
      {
       "output_type": "stream",
       "stream": "stdout",
       "text": [
        " 541 stargazers' starred repos\n",
        "Num nodes/edges in graph 48784 / "
       ]
      },
      {
       "output_type": "stream",
       "stream": "stdout",
       "text": [
        "106233\n",
        "Rate limit (3721, 5000)\n",
        "tomze\n",
        "Processed"
       ]
      },
      {
       "output_type": "stream",
       "stream": "stdout",
       "text": [
        " 542 stargazers' starred repos\n",
        "Num nodes/edges in graph 48784 / "
       ]
      },
      {
       "output_type": "stream",
       "stream": "stdout",
       "text": [
        "106235\n",
        "Rate limit (3720, 5000)\n",
        "bugrax\n",
        "Processed"
       ]
      },
      {
       "output_type": "stream",
       "stream": "stdout",
       "text": [
        " 543 stargazers' starred repos\n",
        "Num nodes/edges in graph 48792 / "
       ]
      },
      {
       "output_type": "stream",
       "stream": "stdout",
       "text": [
        "106253\n",
        "Rate limit (3719, 5000)\n",
        "echoapp\n",
        "Processed"
       ]
      },
      {
       "output_type": "stream",
       "stream": "stdout",
       "text": [
        " 544 stargazers' starred repos\n",
        "Num nodes/edges in graph 48792 / "
       ]
      },
      {
       "output_type": "stream",
       "stream": "stdout",
       "text": [
        "106253\n",
        "Rate limit (3718, 5000)\n",
        "ndunnage\n",
        "Processed"
       ]
      },
      {
       "output_type": "stream",
       "stream": "stdout",
       "text": [
        " 545 stargazers' starred repos\n",
        "Num nodes/edges in graph 48793 / "
       ]
      },
      {
       "output_type": "stream",
       "stream": "stdout",
       "text": [
        "106255\n",
        "Rate limit (3717, 5000)\n",
        "marco-s\n",
        "Processed"
       ]
      },
      {
       "output_type": "stream",
       "stream": "stdout",
       "text": [
        " 546 stargazers' starred repos\n",
        "Num nodes/edges in graph 48930 / "
       ]
      },
      {
       "output_type": "stream",
       "stream": "stdout",
       "text": [
        "106519\n",
        "Rate limit (3714, 5000)\n",
        "nellaivijay\n",
        "Processed"
       ]
      },
      {
       "output_type": "stream",
       "stream": "stdout",
       "text": [
        " 547 stargazers' starred repos\n",
        "Num nodes/edges in graph 49082 / "
       ]
      },
      {
       "output_type": "stream",
       "stream": "stdout",
       "text": [
        "106966\n",
        "Rate limit (3709, 5000)\n",
        "claudeck\n",
        "Processed"
       ]
      },
      {
       "output_type": "stream",
       "stream": "stdout",
       "text": [
        " 548 stargazers' starred repos\n",
        "Num nodes/edges in graph 49096 / "
       ]
      },
      {
       "output_type": "stream",
       "stream": "stdout",
       "text": [
        "107054\n",
        "Rate limit (3708, 5000)\n",
        "mmccaff\n",
        "Processed"
       ]
      },
      {
       "output_type": "stream",
       "stream": "stdout",
       "text": [
        " 549 stargazers' starred repos\n",
        "Num nodes/edges in graph 49160 / "
       ]
      },
      {
       "output_type": "stream",
       "stream": "stdout",
       "text": [
        "107435\n",
        "Rate limit (3704, 5000)\n",
        "Zirafkend\n",
        "Processed"
       ]
      },
      {
       "output_type": "stream",
       "stream": "stdout",
       "text": [
        " 550 stargazers' starred repos\n",
        "Num nodes/edges in graph 49172 / "
       ]
      },
      {
       "output_type": "stream",
       "stream": "stdout",
       "text": [
        "107466\n",
        "Rate limit (3703, 5000)\n",
        "bossiernesto\n",
        "Processed"
       ]
      },
      {
       "output_type": "stream",
       "stream": "stdout",
       "text": [
        " 551 stargazers' starred repos\n",
        "Num nodes/edges in graph 49189 / "
       ]
      },
      {
       "output_type": "stream",
       "stream": "stdout",
       "text": [
        "107496\n",
        "Rate limit (3702, 5000)\n",
        "phildionne\n",
        "Processed"
       ]
      },
      {
       "output_type": "stream",
       "stream": "stdout",
       "text": [
        " 552 stargazers' starred repos\n",
        "Num nodes/edges in graph 49198 / "
       ]
      },
      {
       "output_type": "stream",
       "stream": "stdout",
       "text": [
        "107601\n",
        "Rate limit (3700, 5000)\n",
        "dylanthomas\n",
        "Processed"
       ]
      },
      {
       "output_type": "stream",
       "stream": "stdout",
       "text": [
        " 553 stargazers' starred repos\n",
        "Num nodes/edges in graph 49199 / "
       ]
      },
      {
       "output_type": "stream",
       "stream": "stdout",
       "text": [
        "107602\n",
        "Rate limit (3699, 5000)\n",
        "jcesarblues\n",
        "Processed"
       ]
      },
      {
       "output_type": "stream",
       "stream": "stdout",
       "text": [
        " 554 stargazers' starred repos\n",
        "Num nodes/edges in graph 49199 / "
       ]
      },
      {
       "output_type": "stream",
       "stream": "stdout",
       "text": [
        "107602\n",
        "Rate limit (3698, 5000)\n",
        "invinciblejha\n",
        "Processed"
       ]
      },
      {
       "output_type": "stream",
       "stream": "stdout",
       "text": [
        " 555 stargazers' starred repos\n",
        "Num nodes/edges in graph 49249 / "
       ]
      },
      {
       "output_type": "stream",
       "stream": "stdout",
       "text": [
        "107749\n",
        "Rate limit (3695, 5000)\n",
        "dazhaoniel\n",
        "Processed"
       ]
      },
      {
       "output_type": "stream",
       "stream": "stdout",
       "text": [
        " 556 stargazers' starred repos\n",
        "Num nodes/edges in graph 49253 / "
       ]
      },
      {
       "output_type": "stream",
       "stream": "stdout",
       "text": [
        "107762\n",
        "Rate limit (3694, 5000)\n",
        "takuan-osho\n",
        "Processed"
       ]
      },
      {
       "output_type": "stream",
       "stream": "stdout",
       "text": [
        " 557 stargazers' starred repos\n",
        "Num nodes/edges in graph 49410 / "
       ]
      },
      {
       "output_type": "stream",
       "stream": "stdout",
       "text": [
        "108260\n",
        "Rate limit (3689, 5000)\n",
        "pors\n",
        "Processed"
       ]
      },
      {
       "output_type": "stream",
       "stream": "stdout",
       "text": [
        " 558 stargazers' starred repos\n",
        "Num nodes/edges in graph 49425 / "
       ]
      },
      {
       "output_type": "stream",
       "stream": "stdout",
       "text": [
        "108327\n",
        "Rate limit (3688, 5000)\n",
        "SathishRaju\n",
        "Processed"
       ]
      },
      {
       "output_type": "stream",
       "stream": "stdout",
       "text": [
        " 559 stargazers' starred repos\n",
        "Num nodes/edges in graph 49458 / "
       ]
      },
      {
       "output_type": "stream",
       "stream": "stdout",
       "text": [
        "108469\n",
        "Rate limit (3686, 5000)\n",
        "IAbuElRuzz\n",
        "Processed"
       ]
      },
      {
       "output_type": "stream",
       "stream": "stdout",
       "text": [
        " 560 stargazers' starred repos\n",
        "Num nodes/edges in graph 49528 / "
       ]
      },
      {
       "output_type": "stream",
       "stream": "stdout",
       "text": [
        "108634\n",
        "Rate limit (3683, 5000)\n",
        "mistahBen\n",
        "Processed"
       ]
      },
      {
       "output_type": "stream",
       "stream": "stdout",
       "text": [
        " 561 stargazers' starred repos\n",
        "Num nodes/edges in graph 49534 / "
       ]
      },
      {
       "output_type": "stream",
       "stream": "stdout",
       "text": [
        "108647\n",
        "Rate limit (3682, 5000)\n",
        "aburan28\n",
        "Processed"
       ]
      },
      {
       "output_type": "stream",
       "stream": "stdout",
       "text": [
        " 562 stargazers' starred repos\n",
        "Num nodes/edges in graph 49715 / "
       ]
      },
      {
       "output_type": "stream",
       "stream": "stdout",
       "text": [
        "109132\n",
        "Rate limit (3677, 5000)\n",
        "morpheme\n",
        "Processed"
       ]
      },
      {
       "output_type": "stream",
       "stream": "stdout",
       "text": [
        " 563 stargazers' starred repos\n",
        "Num nodes/edges in graph 49715 / "
       ]
      },
      {
       "output_type": "stream",
       "stream": "stdout",
       "text": [
        "109148\n",
        "Rate limit (3676, 5000)\n",
        "haruna-nishiwaki"
       ]
      },
      {
       "output_type": "stream",
       "stream": "stdout",
       "text": [
        "\n",
        "Processed"
       ]
      },
      {
       "output_type": "stream",
       "stream": "stdout",
       "text": [
        " 564 stargazers' starred repos\n",
        "Num nodes/edges in graph 49725 / "
       ]
      },
      {
       "output_type": "stream",
       "stream": "stdout",
       "text": [
        "109170\n",
        "Rate limit (3675, 5000)\n",
        "chu052\n",
        "Processed"
       ]
      },
      {
       "output_type": "stream",
       "stream": "stdout",
       "text": [
        " 565 stargazers' starred repos\n",
        "Num nodes/edges in graph 49725 / "
       ]
      },
      {
       "output_type": "stream",
       "stream": "stdout",
       "text": [
        "109170\n",
        "Rate limit (3674, 5000)\n",
        "SocialQ\n",
        "Processed"
       ]
      },
      {
       "output_type": "stream",
       "stream": "stdout",
       "text": [
        " 566 stargazers' starred repos\n",
        "Num nodes/edges in graph 49730 / "
       ]
      },
      {
       "output_type": "stream",
       "stream": "stdout",
       "text": [
        "109203\n",
        "Rate limit (3673, 5000)\n",
        "lmmsoft\n",
        "Processed"
       ]
      },
      {
       "output_type": "stream",
       "stream": "stdout",
       "text": [
        " 567 stargazers' starred repos\n",
        "Num nodes/edges in graph 49758 / "
       ]
      },
      {
       "output_type": "stream",
       "stream": "stdout",
       "text": [
        "109258\n",
        "Rate limit (3672, 5000)\n",
        "nbartels\n",
        "Processed"
       ]
      },
      {
       "output_type": "stream",
       "stream": "stdout",
       "text": [
        " 568 stargazers' starred repos\n",
        "Num nodes/edges in graph 49767 / "
       ]
      },
      {
       "output_type": "stream",
       "stream": "stdout",
       "text": [
        "109280\n",
        "Rate limit (3671, 5000)\n",
        "omarberg\n",
        "Processed"
       ]
      },
      {
       "output_type": "stream",
       "stream": "stdout",
       "text": [
        " 569 stargazers' starred repos\n",
        "Num nodes/edges in graph 49768 / "
       ]
      },
      {
       "output_type": "stream",
       "stream": "stdout",
       "text": [
        "109282\n",
        "Rate limit (3670, 5000)\n",
        "xiaxianzhi\n",
        "Processed"
       ]
      },
      {
       "output_type": "stream",
       "stream": "stdout",
       "text": [
        " 570 stargazers' starred repos\n",
        "Num nodes/edges in graph 49773 / "
       ]
      },
      {
       "output_type": "stream",
       "stream": "stdout",
       "text": [
        "109298\n",
        "Rate limit (3669, 5000)\n",
        "pentesticles\n",
        "Processed"
       ]
      },
      {
       "output_type": "stream",
       "stream": "stdout",
       "text": [
        " 571 stargazers' starred repos\n",
        "Num nodes/edges in graph 49773 / "
       ]
      },
      {
       "output_type": "stream",
       "stream": "stdout",
       "text": [
        "109298\n",
        "Rate limit (3668, 5000)\n",
        "knapsack\n",
        "Processed"
       ]
      },
      {
       "output_type": "stream",
       "stream": "stdout",
       "text": [
        " 572 stargazers' starred repos\n",
        "Num nodes/edges in graph 49773 / "
       ]
      },
      {
       "output_type": "stream",
       "stream": "stdout",
       "text": [
        "109300\n",
        "Rate limit (3667, 5000)\n",
        "jtmhom88\n",
        "Processed"
       ]
      },
      {
       "output_type": "stream",
       "stream": "stdout",
       "text": [
        " 573 stargazers' starred repos\n",
        "Num nodes/edges in graph 49780 / "
       ]
      },
      {
       "output_type": "stream",
       "stream": "stdout",
       "text": [
        "109312\n",
        "Rate limit (3666, 5000)\n",
        "retrobabel\n",
        "Processed"
       ]
      },
      {
       "output_type": "stream",
       "stream": "stdout",
       "text": [
        " 574 stargazers' starred repos\n",
        "Num nodes/edges in graph 49780 / "
       ]
      },
      {
       "output_type": "stream",
       "stream": "stdout",
       "text": [
        "109321\n",
        "Rate limit (3665, 5000)\n",
        "HandyAndyShortStack\n",
        "Processed"
       ]
      },
      {
       "output_type": "stream",
       "stream": "stdout",
       "text": [
        " 575 stargazers' starred repos\n",
        "Num nodes/edges in graph 49792 / "
       ]
      },
      {
       "output_type": "stream",
       "stream": "stdout",
       "text": [
        "109352\n",
        "Rate limit (3664, 5000)\n",
        "lasareva\n",
        "Processed"
       ]
      },
      {
       "output_type": "stream",
       "stream": "stdout",
       "text": [
        " 576 stargazers' starred repos\n",
        "Num nodes/edges in graph 49794 / "
       ]
      },
      {
       "output_type": "stream",
       "stream": "stdout",
       "text": [
        "109389\n",
        "Rate limit (3663, 5000)\n",
        "nvoa2358\n",
        "Processed"
       ]
      },
      {
       "output_type": "stream",
       "stream": "stdout",
       "text": [
        " 577 stargazers' starred repos\n",
        "Num nodes/edges in graph 49795 / "
       ]
      },
      {
       "output_type": "stream",
       "stream": "stdout",
       "text": [
        "109393\n",
        "Rate limit (3662, 5000)\n",
        "huhupao\n",
        "Processed"
       ]
      },
      {
       "output_type": "stream",
       "stream": "stdout",
       "text": [
        " 578 stargazers' starred repos\n",
        "Num nodes/edges in graph 49821 / "
       ]
      },
      {
       "output_type": "stream",
       "stream": "stdout",
       "text": [
        "109448\n",
        "Rate limit (3661, 5000)\n",
        "TomiToivio\n",
        "Processed"
       ]
      },
      {
       "output_type": "stream",
       "stream": "stdout",
       "text": [
        " 579 stargazers' starred repos\n",
        "Num nodes/edges in graph 49921 / "
       ]
      },
      {
       "output_type": "stream",
       "stream": "stdout",
       "text": [
        "109638\n",
        "Rate limit (3659, 5000)\n",
        "sirithink\n",
        "Processed"
       ]
      },
      {
       "output_type": "stream",
       "stream": "stdout",
       "text": [
        " 580 stargazers' starred repos\n",
        "Num nodes/edges in graph 50119 / "
       ]
      },
      {
       "output_type": "stream",
       "stream": "stdout",
       "text": [
        "110123\n",
        "Rate limit (3654, 5000)\n",
        "virajkulkarni14\n",
        "Processed"
       ]
      },
      {
       "output_type": "stream",
       "stream": "stdout",
       "text": [
        " 581 stargazers' starred repos\n",
        "Num nodes/edges in graph 50313 / "
       ]
      },
      {
       "output_type": "stream",
       "stream": "stdout",
       "text": [
        "110604\n",
        "Rate limit (3649, 5000)\n",
        "hejibo\n",
        "Processed"
       ]
      },
      {
       "output_type": "stream",
       "stream": "stdout",
       "text": [
        " 582 stargazers' starred repos\n",
        "Num nodes/edges in graph 50353 / "
       ]
      },
      {
       "output_type": "stream",
       "stream": "stdout",
       "text": [
        "110676\n",
        "Rate limit (3647, 5000)\n",
        "gabrielluong\n",
        "Processed"
       ]
      },
      {
       "output_type": "stream",
       "stream": "stdout",
       "text": [
        " 583 stargazers' starred repos\n",
        "Num nodes/edges in graph 50378 / "
       ]
      },
      {
       "output_type": "stream",
       "stream": "stdout",
       "text": [
        "110892\n",
        "Rate limit (3644, 5000)\n",
        "shenli\n",
        "Processed"
       ]
      },
      {
       "output_type": "stream",
       "stream": "stdout",
       "text": [
        " 584 stargazers' starred repos\n",
        "Num nodes/edges in graph 50380 / "
       ]
      },
      {
       "output_type": "stream",
       "stream": "stdout",
       "text": [
        "110903\n",
        "Rate limit (3643, 5000)\n",
        "annoit\n",
        "Processed"
       ]
      },
      {
       "output_type": "stream",
       "stream": "stdout",
       "text": [
        " 585 stargazers' starred repos\n",
        "Num nodes/edges in graph 50394 / "
       ]
      },
      {
       "output_type": "stream",
       "stream": "stdout",
       "text": [
        "110929\n",
        "Rate limit (3642, 5000)\n",
        "DanielleSucher\n",
        "Processed"
       ]
      },
      {
       "output_type": "stream",
       "stream": "stdout",
       "text": [
        " 586 stargazers' starred repos\n",
        "Num nodes/edges in graph 50434 / "
       ]
      },
      {
       "output_type": "stream",
       "stream": "stdout",
       "text": [
        "111106\n",
        "Rate limit (3640, 5000)\n",
        "JonWeinberg\n",
        "Processed"
       ]
      },
      {
       "output_type": "stream",
       "stream": "stdout",
       "text": [
        " 587 stargazers' starred repos\n",
        "Num nodes/edges in graph 50434 / "
       ]
      },
      {
       "output_type": "stream",
       "stream": "stdout",
       "text": [
        "111106\n",
        "Rate limit (3639, 5000)\n",
        "davyfeng\n",
        "Processed"
       ]
      },
      {
       "output_type": "stream",
       "stream": "stdout",
       "text": [
        " 588 stargazers' starred repos\n",
        "Num nodes/edges in graph 50438 / "
       ]
      },
      {
       "output_type": "stream",
       "stream": "stdout",
       "text": [
        "111114\n",
        "Rate limit (3638, 5000)\n",
        "van5150\n",
        "Processed"
       ]
      },
      {
       "output_type": "stream",
       "stream": "stdout",
       "text": [
        " 589 stargazers' starred repos\n",
        "Num nodes/edges in graph 50534 / "
       ]
      },
      {
       "output_type": "stream",
       "stream": "stdout",
       "text": [
        "111613\n",
        "Rate limit (3633, 5000)\n",
        "mtayseer\n",
        "Processed"
       ]
      },
      {
       "output_type": "stream",
       "stream": "stdout",
       "text": [
        " 590 stargazers' starred repos\n",
        "Num nodes/edges in graph 50588 / "
       ]
      },
      {
       "output_type": "stream",
       "stream": "stdout",
       "text": [
        "112039\n",
        "Rate limit (3628, 5000)\n",
        "roppen\n",
        "Processed"
       ]
      },
      {
       "output_type": "stream",
       "stream": "stdout",
       "text": [
        " 591 stargazers' starred repos\n",
        "Num nodes/edges in graph 50686 / "
       ]
      },
      {
       "output_type": "stream",
       "stream": "stdout",
       "text": [
        "112308\n",
        "Rate limit (3625, 5000)\n",
        "netjack\n",
        "Processed"
       ]
      },
      {
       "output_type": "stream",
       "stream": "stdout",
       "text": [
        " 592 stargazers' starred repos\n",
        "Num nodes/edges in graph 50691 / "
       ]
      },
      {
       "output_type": "stream",
       "stream": "stdout",
       "text": [
        "112316\n",
        "Rate limit (3624, 5000)\n",
        "cdesch\n",
        "Processed"
       ]
      },
      {
       "output_type": "stream",
       "stream": "stdout",
       "text": [
        " 593 stargazers' starred repos\n",
        "Num nodes/edges in graph 50735 / "
       ]
      },
      {
       "output_type": "stream",
       "stream": "stdout",
       "text": [
        "112462\n",
        "Rate limit (3622, 5000)\n",
        "arthur-e\n",
        "Processed"
       ]
      },
      {
       "output_type": "stream",
       "stream": "stdout",
       "text": [
        " 594 stargazers' starred repos\n",
        "Num nodes/edges in graph 50857 / "
       ]
      },
      {
       "output_type": "stream",
       "stream": "stdout",
       "text": [
        "112715\n",
        "Rate limit (3619, 5000)\n",
        "gcornejo\n",
        "Processed"
       ]
      },
      {
       "output_type": "stream",
       "stream": "stdout",
       "text": [
        " 595 stargazers' starred repos\n",
        "Num nodes/edges in graph 50876 / "
       ]
      },
      {
       "output_type": "stream",
       "stream": "stdout",
       "text": [
        "112806\n",
        "Rate limit (3618, 5000)\n",
        "zakobyte\n",
        "Processed"
       ]
      },
      {
       "output_type": "stream",
       "stream": "stdout",
       "text": [
        " 596 stargazers' starred repos\n",
        "Num nodes/edges in graph 50877 / "
       ]
      },
      {
       "output_type": "stream",
       "stream": "stdout",
       "text": [
        "112807\n",
        "Rate limit (3617, 5000)\n",
        "sunan\n",
        "Processed"
       ]
      },
      {
       "output_type": "stream",
       "stream": "stdout",
       "text": [
        " 597 stargazers' starred repos\n",
        "Num nodes/edges in graph 50879 / "
       ]
      },
      {
       "output_type": "stream",
       "stream": "stdout",
       "text": [
        "112815\n",
        "Rate limit (3616, 5000)\n",
        "waterfox0323\n",
        "Processed"
       ]
      },
      {
       "output_type": "stream",
       "stream": "stdout",
       "text": [
        " 598 stargazers' starred repos\n",
        "Num nodes/edges in graph 50897 / "
       ]
      },
      {
       "output_type": "stream",
       "stream": "stdout",
       "text": [
        "112944\n",
        "Rate limit (3614, 5000)\n",
        "empjustine\n",
        "Processed"
       ]
      },
      {
       "output_type": "stream",
       "stream": "stdout",
       "text": [
        " 599 stargazers' starred repos\n",
        "Num nodes/edges in graph 50992 / "
       ]
      },
      {
       "output_type": "stream",
       "stream": "stdout",
       "text": [
        "113270\n",
        "Rate limit (3610, 5000)\n",
        "udooz\n",
        "Processed"
       ]
      },
      {
       "output_type": "stream",
       "stream": "stdout",
       "text": [
        " 600 stargazers' starred repos\n",
        "Num nodes/edges in graph 50994 / "
       ]
      },
      {
       "output_type": "stream",
       "stream": "stdout",
       "text": [
        "113273\n",
        "Rate limit (3609, 5000)\n",
        "Sundae\n",
        "Processed"
       ]
      },
      {
       "output_type": "stream",
       "stream": "stdout",
       "text": [
        " 601 stargazers' starred repos\n",
        "Num nodes/edges in graph 50997 / "
       ]
      },
      {
       "output_type": "stream",
       "stream": "stdout",
       "text": [
        "113304\n",
        "Rate limit (3608, 5000)\n",
        "nava45\n",
        "Processed"
       ]
      },
      {
       "output_type": "stream",
       "stream": "stdout",
       "text": [
        " 602 stargazers' starred repos\n",
        "Num nodes/edges in graph 51009 / "
       ]
      },
      {
       "output_type": "stream",
       "stream": "stdout",
       "text": [
        "113352\n",
        "Rate limit (3607, 5000)\n",
        "colfire\n",
        "Processed"
       ]
      },
      {
       "output_type": "stream",
       "stream": "stdout",
       "text": [
        " 603 stargazers' starred repos\n",
        "Num nodes/edges in graph 51011 / "
       ]
      },
      {
       "output_type": "stream",
       "stream": "stdout",
       "text": [
        "113354\n",
        "Rate limit (3606, 5000)\n",
        "predmach\n",
        "Processed"
       ]
      },
      {
       "output_type": "stream",
       "stream": "stdout",
       "text": [
        " 604 stargazers' starred repos\n",
        "Num nodes/edges in graph 51050 / "
       ]
      },
      {
       "output_type": "stream",
       "stream": "stdout",
       "text": [
        "113472\n",
        "Rate limit (3604, 5000)\n",
        "amckenna\n",
        "Processed"
       ]
      },
      {
       "output_type": "stream",
       "stream": "stdout",
       "text": [
        " 605 stargazers' starred repos\n",
        "Num nodes/edges in graph 51102 / "
       ]
      },
      {
       "output_type": "stream",
       "stream": "stdout",
       "text": [
        "113615\n",
        "Rate limit (3602, 5000)\n",
        "bpcal\n",
        "Processed"
       ]
      },
      {
       "output_type": "stream",
       "stream": "stdout",
       "text": [
        " 606 stargazers' starred repos\n",
        "Num nodes/edges in graph 51102 / "
       ]
      },
      {
       "output_type": "stream",
       "stream": "stdout",
       "text": [
        "113615\n",
        "Rate limit (3601, 5000)\n",
        "liule\n",
        "Processed"
       ]
      },
      {
       "output_type": "stream",
       "stream": "stdout",
       "text": [
        " 607 stargazers' starred repos\n",
        "Num nodes/edges in graph 51104 / "
       ]
      },
      {
       "output_type": "stream",
       "stream": "stdout",
       "text": [
        "113619\n",
        "Rate limit (3600, 5000)\n",
        "pengyutang125\n",
        "Processed"
       ]
      },
      {
       "output_type": "stream",
       "stream": "stdout",
       "text": [
        " 608 stargazers' starred repos\n",
        "Num nodes/edges in graph 51105 / "
       ]
      },
      {
       "output_type": "stream",
       "stream": "stdout",
       "text": [
        "113622\n",
        "Rate limit (3599, 5000)\n",
        "zeutrap\n",
        "Processed"
       ]
      },
      {
       "output_type": "stream",
       "stream": "stdout",
       "text": [
        " 609 stargazers' starred repos\n",
        "Num nodes/edges in graph 51115 / "
       ]
      },
      {
       "output_type": "stream",
       "stream": "stdout",
       "text": [
        "113708\n",
        "Rate limit (3598, 5000)\n",
        "tttxxx\n",
        "Processed"
       ]
      },
      {
       "output_type": "stream",
       "stream": "stdout",
       "text": [
        " 610 stargazers' starred repos\n",
        "Num nodes/edges in graph 51222 / "
       ]
      },
      {
       "output_type": "stream",
       "stream": "stdout",
       "text": [
        "113997\n",
        "Rate limit (3595, 5000)\n",
        "bryantchan\n",
        "Processed"
       ]
      },
      {
       "output_type": "stream",
       "stream": "stdout",
       "text": [
        " 611 stargazers' starred repos\n",
        "Num nodes/edges in graph 51273 / "
       ]
      },
      {
       "output_type": "stream",
       "stream": "stdout",
       "text": [
        "114391\n",
        "Rate limit (3591, 5000)\n",
        "mceiba\n",
        "Processed"
       ]
      },
      {
       "output_type": "stream",
       "stream": "stdout",
       "text": [
        " 612 stargazers' starred repos\n",
        "Num nodes/edges in graph 51277 / "
       ]
      },
      {
       "output_type": "stream",
       "stream": "stdout",
       "text": [
        "114466\n",
        "Rate limit (3590, 5000)\n",
        "onozka\n",
        "Processed"
       ]
      },
      {
       "output_type": "stream",
       "stream": "stdout",
       "text": [
        " 613 stargazers' starred repos\n",
        "Num nodes/edges in graph 51277 / "
       ]
      },
      {
       "output_type": "stream",
       "stream": "stdout",
       "text": [
        "114466\n",
        "Rate limit (3589, 5000)\n",
        "mcgrady164\n",
        "Processed"
       ]
      },
      {
       "output_type": "stream",
       "stream": "stdout",
       "text": [
        " 614 stargazers' starred repos\n",
        "Num nodes/edges in graph 51281 / "
       ]
      },
      {
       "output_type": "stream",
       "stream": "stdout",
       "text": [
        "114471\n",
        "Rate limit (3588, 5000)\n",
        "doeslater\n",
        "Processed"
       ]
      },
      {
       "output_type": "stream",
       "stream": "stdout",
       "text": [
        " 615 stargazers' starred repos\n",
        "Num nodes/edges in graph 51295 / "
       ]
      },
      {
       "output_type": "stream",
       "stream": "stdout",
       "text": [
        "114491\n",
        "Rate limit (3587, 5000)\n",
        "janedallaway\n",
        "Processed"
       ]
      },
      {
       "output_type": "stream",
       "stream": "stdout",
       "text": [
        " 616 stargazers' starred repos\n",
        "Num nodes/edges in graph 51300 / "
       ]
      },
      {
       "output_type": "stream",
       "stream": "stdout",
       "text": [
        "114508\n",
        "Rate limit (3586, 5000)\n",
        "myditto\n",
        "Processed"
       ]
      },
      {
       "output_type": "stream",
       "stream": "stdout",
       "text": [
        " 617 stargazers' starred repos\n",
        "Num nodes/edges in graph 51307 / "
       ]
      },
      {
       "output_type": "stream",
       "stream": "stdout",
       "text": [
        "114527\n",
        "Rate limit (3585, 5000)\n",
        "shyamsingh\n",
        "Processed"
       ]
      },
      {
       "output_type": "stream",
       "stream": "stdout",
       "text": [
        " 618 stargazers' starred repos\n",
        "Num nodes/edges in graph 51309 / "
       ]
      },
      {
       "output_type": "stream",
       "stream": "stdout",
       "text": [
        "114539\n",
        "Rate limit (3584, 5000)\n",
        "liujiantong\n",
        "Processed"
       ]
      },
      {
       "output_type": "stream",
       "stream": "stdout",
       "text": [
        " 619 stargazers' starred repos\n",
        "Num nodes/edges in graph 51320 / "
       ]
      },
      {
       "output_type": "stream",
       "stream": "stdout",
       "text": [
        "114591\n",
        "Rate limit (3583, 5000)\n",
        "jcprandini\n",
        "Processed"
       ]
      },
      {
       "output_type": "stream",
       "stream": "stdout",
       "text": [
        " 620 stargazers' starred repos\n",
        "Num nodes/edges in graph 51320 / "
       ]
      },
      {
       "output_type": "stream",
       "stream": "stdout",
       "text": [
        "114591\n",
        "Rate limit (3582, 5000)\n",
        "ryanoneill\n",
        "Processed"
       ]
      },
      {
       "output_type": "stream",
       "stream": "stdout",
       "text": [
        " 621 stargazers' starred repos\n",
        "Num nodes/edges in graph 51326 / "
       ]
      },
      {
       "output_type": "stream",
       "stream": "stdout",
       "text": [
        "114615\n",
        "Rate limit (3581, 5000)\n",
        "andrzejbe\n",
        "Processed"
       ]
      },
      {
       "output_type": "stream",
       "stream": "stdout",
       "text": [
        " 622 stargazers' starred repos\n",
        "Num nodes/edges in graph 51326 / "
       ]
      },
      {
       "output_type": "stream",
       "stream": "stdout",
       "text": [
        "114616\n",
        "Rate limit (3580, 5000)\n",
        "dozean\n",
        "Processed"
       ]
      },
      {
       "output_type": "stream",
       "stream": "stdout",
       "text": [
        " 623 stargazers' starred repos\n",
        "Num nodes/edges in graph 51326 / "
       ]
      },
      {
       "output_type": "stream",
       "stream": "stdout",
       "text": [
        "114625\n",
        "Rate limit (3579, 5000)\n",
        "immersinn\n",
        "Processed"
       ]
      },
      {
       "output_type": "stream",
       "stream": "stdout",
       "text": [
        " 624 stargazers' starred repos\n",
        "Num nodes/edges in graph 51338 / "
       ]
      },
      {
       "output_type": "stream",
       "stream": "stdout",
       "text": [
        "114649\n",
        "Rate limit (3578, 5000)\n",
        "calvdee\n",
        "Processed"
       ]
      },
      {
       "output_type": "stream",
       "stream": "stdout",
       "text": [
        " 625 stargazers' starred repos\n",
        "Num nodes/edges in graph 51362 / "
       ]
      },
      {
       "output_type": "stream",
       "stream": "stdout",
       "text": [
        "114754\n",
        "Rate limit (3576, 5000)\n",
        "tonez\n",
        "Processed"
       ]
      },
      {
       "output_type": "stream",
       "stream": "stdout",
       "text": [
        " 626 stargazers' starred repos\n",
        "Num nodes/edges in graph 51365 / "
       ]
      },
      {
       "output_type": "stream",
       "stream": "stdout",
       "text": [
        "114760\n",
        "Rate limit (3575, 5000)\n",
        "tayashigenori\n",
        "Processed"
       ]
      },
      {
       "output_type": "stream",
       "stream": "stdout",
       "text": [
        " 627 stargazers' starred repos\n",
        "Num nodes/edges in graph 51365 / "
       ]
      },
      {
       "output_type": "stream",
       "stream": "stdout",
       "text": [
        "114760\n",
        "Rate limit (3574, 5000)\n",
        "ssingh10\n",
        "Processed"
       ]
      },
      {
       "output_type": "stream",
       "stream": "stdout",
       "text": [
        " 628 stargazers' starred repos\n",
        "Num nodes/edges in graph 51366 / "
       ]
      },
      {
       "output_type": "stream",
       "stream": "stdout",
       "text": [
        "114769\n",
        "Rate limit (3573, 5000)\n",
        "zhaocong89\n",
        "Processed"
       ]
      },
      {
       "output_type": "stream",
       "stream": "stdout",
       "text": [
        " 629 stargazers' starred repos\n",
        "Num nodes/edges in graph 51384 / "
       ]
      },
      {
       "output_type": "stream",
       "stream": "stdout",
       "text": [
        "114835\n",
        "Rate limit (3572, 5000)\n",
        "dgleebits\n",
        "Processed"
       ]
      },
      {
       "output_type": "stream",
       "stream": "stdout",
       "text": [
        " 630 stargazers' starred repos\n",
        "Num nodes/edges in graph 51410 / "
       ]
      },
      {
       "output_type": "stream",
       "stream": "stdout",
       "text": [
        "114950\n",
        "Rate limit (4998, 5000)\n",
        "openp2pdesign\n",
        "Processed"
       ]
      },
      {
       "output_type": "stream",
       "stream": "stdout",
       "text": [
        " 631 stargazers' starred repos\n",
        "Num nodes/edges in graph 51569 / "
       ]
      },
      {
       "output_type": "stream",
       "stream": "stdout",
       "text": [
        "115279\n",
        "Rate limit (4994, 5000)\n",
        "pdailey\n",
        "Processed"
       ]
      },
      {
       "output_type": "stream",
       "stream": "stdout",
       "text": [
        " 632 stargazers' starred repos\n",
        "Num nodes/edges in graph 51578 / "
       ]
      },
      {
       "output_type": "stream",
       "stream": "stdout",
       "text": [
        "115294\n",
        "Rate limit (4993, 5000)\n",
        "fanggai\n",
        "Processed"
       ]
      },
      {
       "output_type": "stream",
       "stream": "stdout",
       "text": [
        " 633 stargazers' starred repos\n",
        "Num nodes/edges in graph 51579 / "
       ]
      },
      {
       "output_type": "stream",
       "stream": "stdout",
       "text": [
        "115296\n",
        "Rate limit (4992, 5000)\n",
        "yankay\n",
        "Processed"
       ]
      },
      {
       "output_type": "stream",
       "stream": "stdout",
       "text": [
        " 634 stargazers' starred repos\n",
        "Num nodes/edges in graph 51639 / "
       ]
      },
      {
       "output_type": "stream",
       "stream": "stdout",
       "text": [
        "115612\n",
        "Rate limit (4988, 5000)\n",
        "chrisapril\n",
        "Processed"
       ]
      },
      {
       "output_type": "stream",
       "stream": "stdout",
       "text": [
        " 635 stargazers' starred repos\n",
        "Num nodes/edges in graph 51686 / "
       ]
      },
      {
       "output_type": "stream",
       "stream": "stdout",
       "text": [
        "115709\n",
        "Rate limit (4986, 5000)\n",
        "icyphoenix\n",
        "Processed"
       ]
      },
      {
       "output_type": "stream",
       "stream": "stdout",
       "text": [
        " 636 stargazers' starred repos\n",
        "Num nodes/edges in graph 51686 / "
       ]
      },
      {
       "output_type": "stream",
       "stream": "stdout",
       "text": [
        "115714\n",
        "Rate limit (4985, 5000)\n",
        "masami-git\n",
        "Processed"
       ]
      },
      {
       "output_type": "stream",
       "stream": "stdout",
       "text": [
        " 637 stargazers' starred repos\n",
        "Num nodes/edges in graph 51686 / "
       ]
      },
      {
       "output_type": "stream",
       "stream": "stdout",
       "text": [
        "115714\n",
        "Rate limit (4984, 5000)\n",
        "funwalla\n",
        "Processed"
       ]
      },
      {
       "output_type": "stream",
       "stream": "stdout",
       "text": [
        " 638 stargazers' starred repos\n",
        "Num nodes/edges in graph 51687 / "
       ]
      },
      {
       "output_type": "stream",
       "stream": "stdout",
       "text": [
        "115715\n",
        "Rate limit (4983, 5000)\n",
        "iaind\n",
        "Processed"
       ]
      },
      {
       "output_type": "stream",
       "stream": "stdout",
       "text": [
        " 639 stargazers' starred repos\n",
        "Num nodes/edges in graph 51691 / "
       ]
      },
      {
       "output_type": "stream",
       "stream": "stdout",
       "text": [
        "115729\n",
        "Rate limit (4982, 5000)\n",
        "xinnan\n",
        "Processed"
       ]
      },
      {
       "output_type": "stream",
       "stream": "stdout",
       "text": [
        " 640 stargazers' starred repos\n",
        "Num nodes/edges in graph 51693 / "
       ]
      },
      {
       "output_type": "stream",
       "stream": "stdout",
       "text": [
        "115742\n",
        "Rate limit (4981, 5000)\n",
        "capricasix\n",
        "Processed"
       ]
      },
      {
       "output_type": "stream",
       "stream": "stdout",
       "text": [
        " 641 stargazers' starred repos\n",
        "Num nodes/edges in graph 51694 / "
       ]
      },
      {
       "output_type": "stream",
       "stream": "stdout",
       "text": [
        "115753\n",
        "Rate limit (4980, 5000)\n",
        "aronlindberg\n",
        "Processed"
       ]
      },
      {
       "output_type": "stream",
       "stream": "stdout",
       "text": [
        " 642 stargazers' starred repos\n",
        "Num nodes/edges in graph 51705 / "
       ]
      },
      {
       "output_type": "stream",
       "stream": "stdout",
       "text": [
        "115781\n",
        "Rate limit (4979, 5000)\n",
        "tomasaftalion\n",
        "Processed"
       ]
      },
      {
       "output_type": "stream",
       "stream": "stdout",
       "text": [
        " 643 stargazers' starred repos\n",
        "Num nodes/edges in graph 51705 / "
       ]
      },
      {
       "output_type": "stream",
       "stream": "stdout",
       "text": [
        "115782\n",
        "Rate limit (4978, 5000)\n",
        "jmorenoamor\n",
        "Processed"
       ]
      },
      {
       "output_type": "stream",
       "stream": "stdout",
       "text": [
        " 644 stargazers' starred repos\n",
        "Num nodes/edges in graph 51755 / "
       ]
      },
      {
       "output_type": "stream",
       "stream": "stdout",
       "text": [
        "115908\n",
        "Rate limit (4976, 5000)\n",
        "lslab\n",
        "Processed"
       ]
      },
      {
       "output_type": "stream",
       "stream": "stdout",
       "text": [
        " 645 stargazers' starred repos\n",
        "Num nodes/edges in graph 51806 / "
       ]
      },
      {
       "output_type": "stream",
       "stream": "stdout",
       "text": [
        "116156\n",
        "Rate limit (4973, 5000)\n",
        "sofianhadiwijaya\n",
        "Processed"
       ]
      },
      {
       "output_type": "stream",
       "stream": "stdout",
       "text": [
        " 646 stargazers' starred repos\n",
        "Num nodes/edges in graph 51807 / "
       ]
      },
      {
       "output_type": "stream",
       "stream": "stdout",
       "text": [
        "116159\n",
        "Rate limit (4972, 5000)\n",
        "katajuta\n",
        "Processed"
       ]
      },
      {
       "output_type": "stream",
       "stream": "stdout",
       "text": [
        " 647 stargazers' starred repos\n",
        "Num nodes/edges in graph 51807 / "
       ]
      },
      {
       "output_type": "stream",
       "stream": "stdout",
       "text": [
        "116159\n",
        "Rate limit (4971, 5000)\n",
        "ch0psticks\n",
        "Processed"
       ]
      },
      {
       "output_type": "stream",
       "stream": "stdout",
       "text": [
        " 648 stargazers' starred repos\n",
        "Num nodes/edges in graph 51812 / "
       ]
      },
      {
       "output_type": "stream",
       "stream": "stdout",
       "text": [
        "116167\n",
        "Rate limit (4970, 5000)\n",
        "Doomking\n",
        "Processed"
       ]
      },
      {
       "output_type": "stream",
       "stream": "stdout",
       "text": [
        " 649 stargazers' starred repos\n",
        "Num nodes/edges in graph 51818 / "
       ]
      },
      {
       "output_type": "stream",
       "stream": "stdout",
       "text": [
        "116203\n",
        "Rate limit (4969, 5000)\n",
        "mike-grayhat\n",
        "Processed"
       ]
      },
      {
       "output_type": "stream",
       "stream": "stdout",
       "text": [
        " 650 stargazers' starred repos\n",
        "Num nodes/edges in graph 51875 / "
       ]
      },
      {
       "output_type": "stream",
       "stream": "stdout",
       "text": [
        "116458\n",
        "Rate limit (4966, 5000)\n",
        "rsmoz\n",
        "Processed"
       ]
      },
      {
       "output_type": "stream",
       "stream": "stdout",
       "text": [
        " 651 stargazers' starred repos\n",
        "Num nodes/edges in graph 51936 / "
       ]
      },
      {
       "output_type": "stream",
       "stream": "stdout",
       "text": [
        "116642\n",
        "Rate limit (4964, 5000)\n",
        "omoto\n",
        "Processed"
       ]
      },
      {
       "output_type": "stream",
       "stream": "stdout",
       "text": [
        " 652 stargazers' starred repos\n",
        "Num nodes/edges in graph 51936 / "
       ]
      },
      {
       "output_type": "stream",
       "stream": "stdout",
       "text": [
        "116642\n",
        "Rate limit (4963, 5000)\n",
        "okumin\n",
        "Processed"
       ]
      },
      {
       "output_type": "stream",
       "stream": "stdout",
       "text": [
        " 653 stargazers' starred repos\n",
        "Num nodes/edges in graph 51942 / "
       ]
      },
      {
       "output_type": "stream",
       "stream": "stdout",
       "text": [
        "116667\n",
        "Rate limit (4962, 5000)\n",
        "rosco5\n",
        "Processed"
       ]
      },
      {
       "output_type": "stream",
       "stream": "stdout",
       "text": [
        " 654 stargazers' starred repos\n",
        "Num nodes/edges in graph 52077 / "
       ]
      },
      {
       "output_type": "stream",
       "stream": "stdout",
       "text": [
        "117163\n",
        "Rate limit (4957, 5000)\n",
        "kibernick\n",
        "Processed"
       ]
      },
      {
       "output_type": "stream",
       "stream": "stdout",
       "text": [
        " 655 stargazers' starred repos\n",
        "Num nodes/edges in graph 52084 / "
       ]
      },
      {
       "output_type": "stream",
       "stream": "stdout",
       "text": [
        "117194\n",
        "Rate limit (4956, 5000)\n",
        "qianyanseu"
       ]
      },
      {
       "output_type": "stream",
       "stream": "stdout",
       "text": [
        "\n",
        "Processed"
       ]
      },
      {
       "output_type": "stream",
       "stream": "stdout",
       "text": [
        " 656 stargazers' starred repos\n",
        "Num nodes/edges in graph 52113 / "
       ]
      },
      {
       "output_type": "stream",
       "stream": "stdout",
       "text": [
        "117281\n",
        "Rate limit (4955, 5000)\n",
        "tayf\n",
        "Processed"
       ]
      },
      {
       "output_type": "stream",
       "stream": "stdout",
       "text": [
        " 657 stargazers' starred repos\n",
        "Num nodes/edges in graph 52125 / "
       ]
      },
      {
       "output_type": "stream",
       "stream": "stdout",
       "text": [
        "117371\n",
        "Rate limit (4954, 5000)\n",
        "itsBegun\n",
        "Processed"
       ]
      },
      {
       "output_type": "stream",
       "stream": "stdout",
       "text": [
        " 658 stargazers' starred repos\n",
        "Num nodes/edges in graph 52191 / "
       ]
      },
      {
       "output_type": "stream",
       "stream": "stdout",
       "text": [
        "117552\n",
        "Rate limit (4952, 5000)\n",
        "bpgllc\n",
        "Processed"
       ]
      },
      {
       "output_type": "stream",
       "stream": "stdout",
       "text": [
        " 659 stargazers' starred repos\n",
        "Num nodes/edges in graph 52191 / "
       ]
      },
      {
       "output_type": "stream",
       "stream": "stdout",
       "text": [
        "117554\n",
        "Rate limit (4951, 5000)\n",
        "yhj8341\n",
        "Processed"
       ]
      },
      {
       "output_type": "stream",
       "stream": "stdout",
       "text": [
        " 660 stargazers' starred repos\n",
        "Num nodes/edges in graph 52199 / "
       ]
      },
      {
       "output_type": "stream",
       "stream": "stdout",
       "text": [
        "117604\n",
        "Rate limit (4950, 5000)\n",
        "hcilab\n",
        "Processed"
       ]
      },
      {
       "output_type": "stream",
       "stream": "stdout",
       "text": [
        " 661 stargazers' starred repos\n",
        "Num nodes/edges in graph 52533 / "
       ]
      },
      {
       "output_type": "stream",
       "stream": "stdout",
       "text": [
        "118100\n",
        "Rate limit (4945, 5000)\n",
        "antiface\n",
        "Processed"
       ]
      },
      {
       "output_type": "stream",
       "stream": "stdout",
       "text": [
        " 662 stargazers' starred repos\n",
        "Num nodes/edges in graph 52872 / "
       ]
      },
      {
       "output_type": "stream",
       "stream": "stdout",
       "text": [
        "118586\n",
        "Rate limit (4940, 5000)\n",
        "theantisofa\n",
        "Processed"
       ]
      },
      {
       "output_type": "stream",
       "stream": "stdout",
       "text": [
        " 663 stargazers' starred repos\n",
        "Num nodes/edges in graph 52872 / "
       ]
      },
      {
       "output_type": "stream",
       "stream": "stdout",
       "text": [
        "118588\n",
        "Rate limit (4939, 5000)\n",
        "technoskald\n",
        "Processed"
       ]
      },
      {
       "output_type": "stream",
       "stream": "stdout",
       "text": [
        " 664 stargazers' starred repos\n",
        "Num nodes/edges in graph 53002 / "
       ]
      },
      {
       "output_type": "stream",
       "stream": "stdout",
       "text": [
        "118888\n",
        "Rate limit (4935, 5000)\n",
        "azuranop\n",
        "Processed"
       ]
      },
      {
       "output_type": "stream",
       "stream": "stdout",
       "text": [
        " 665 stargazers' starred repos\n",
        "Num nodes/edges in graph 53002 / "
       ]
      },
      {
       "output_type": "stream",
       "stream": "stdout",
       "text": [
        "118891\n",
        "Rate limit (4934, 5000)\n",
        "mtfelix\n",
        "Processed"
       ]
      },
      {
       "output_type": "stream",
       "stream": "stdout",
       "text": [
        " 666 stargazers' starred repos\n",
        "Num nodes/edges in graph 53009 / "
       ]
      },
      {
       "output_type": "stream",
       "stream": "stdout",
       "text": [
        "118903\n",
        "Rate limit (4933, 5000)\n",
        "Amandianeze\n",
        "Processed"
       ]
      },
      {
       "output_type": "stream",
       "stream": "stdout",
       "text": [
        " 667 stargazers' starred repos\n",
        "Num nodes/edges in graph 53011 / "
       ]
      },
      {
       "output_type": "stream",
       "stream": "stdout",
       "text": [
        "118908\n",
        "Rate limit (4932, 5000)\n",
        "blackte\n",
        "Processed"
       ]
      },
      {
       "output_type": "stream",
       "stream": "stdout",
       "text": [
        " 668 stargazers' starred repos\n",
        "Num nodes/edges in graph 53011 / "
       ]
      },
      {
       "output_type": "stream",
       "stream": "stdout",
       "text": [
        "118908\n",
        "Rate limit (4931, 5000)\n",
        "jackxu\n",
        "Processed"
       ]
      },
      {
       "output_type": "stream",
       "stream": "stdout",
       "text": [
        " 669 stargazers' starred repos\n",
        "Num nodes/edges in graph 53022 / "
       ]
      },
      {
       "output_type": "stream",
       "stream": "stdout",
       "text": [
        "118925\n",
        "Rate limit (4930, 5000)\n",
        "equus12\n",
        "Processed"
       ]
      },
      {
       "output_type": "stream",
       "stream": "stdout",
       "text": [
        " 670 stargazers' starred repos\n",
        "Num nodes/edges in graph 53199 / "
       ]
      },
      {
       "output_type": "stream",
       "stream": "stdout",
       "text": [
        "119424\n",
        "Rate limit (4925, 5000)\n",
        "liang456\n",
        "Processed"
       ]
      },
      {
       "output_type": "stream",
       "stream": "stdout",
       "text": [
        " 671 stargazers' starred repos\n",
        "Num nodes/edges in graph 53232 / "
       ]
      },
      {
       "output_type": "stream",
       "stream": "stdout",
       "text": [
        "119586\n",
        "Rate limit (4923, 5000)\n",
        "eddygreen\n",
        "Processed"
       ]
      },
      {
       "output_type": "stream",
       "stream": "stdout",
       "text": [
        " 672 stargazers' starred repos\n",
        "Num nodes/edges in graph 53232 / "
       ]
      },
      {
       "output_type": "stream",
       "stream": "stdout",
       "text": [
        "119588\n",
        "Rate limit (4922, 5000)\n",
        "kwaibun\n",
        "Processed"
       ]
      },
      {
       "output_type": "stream",
       "stream": "stdout",
       "text": [
        " 673 stargazers' starred repos\n",
        "Num nodes/edges in graph 53258 / "
       ]
      },
      {
       "output_type": "stream",
       "stream": "stdout",
       "text": [
        "119782\n",
        "Rate limit (4920, 5000)\n",
        "albhardy\n",
        "Processed"
       ]
      },
      {
       "output_type": "stream",
       "stream": "stdout",
       "text": [
        " 674 stargazers' starred repos\n",
        "Num nodes/edges in graph 53339 / "
       ]
      },
      {
       "output_type": "stream",
       "stream": "stdout",
       "text": [
        "120051\n",
        "Rate limit (4917, 5000)\n",
        "jdmiranda\n",
        "Processed"
       ]
      },
      {
       "output_type": "stream",
       "stream": "stdout",
       "text": [
        " 675 stargazers' starred repos\n",
        "Num nodes/edges in graph 53355 / "
       ]
      },
      {
       "output_type": "stream",
       "stream": "stdout",
       "text": [
        "120099\n",
        "Rate limit (4916, 5000)\n",
        "m4ngust\n",
        "Processed"
       ]
      },
      {
       "output_type": "stream",
       "stream": "stdout",
       "text": [
        " 676 stargazers' starred repos\n",
        "Num nodes/edges in graph 53358 / "
       ]
      },
      {
       "output_type": "stream",
       "stream": "stdout",
       "text": [
        "120117\n",
        "Rate limit (4915, 5000)\n",
        "jboelio\n",
        "Processed"
       ]
      },
      {
       "output_type": "stream",
       "stream": "stdout",
       "text": [
        " 677 stargazers' starred repos\n",
        "Num nodes/edges in graph 53359 / "
       ]
      },
      {
       "output_type": "stream",
       "stream": "stdout",
       "text": [
        "120118\n",
        "Rate limit (4914, 5000)\n",
        "darwin31\n",
        "Processed"
       ]
      },
      {
       "output_type": "stream",
       "stream": "stdout",
       "text": [
        " 678 stargazers' starred repos\n",
        "Num nodes/edges in graph 53359 / "
       ]
      },
      {
       "output_type": "stream",
       "stream": "stdout",
       "text": [
        "120119\n",
        "Rate limit (4913, 5000)\n",
        "samuelleach\n",
        "Processed"
       ]
      },
      {
       "output_type": "stream",
       "stream": "stdout",
       "text": [
        " 679 stargazers' starred repos\n",
        "Num nodes/edges in graph 53443 / "
       ]
      },
      {
       "output_type": "stream",
       "stream": "stdout",
       "text": [
        "120385\n",
        "Rate limit (4910, 5000)\n",
        "skibblenybbles\n",
        "Processed"
       ]
      },
      {
       "output_type": "stream",
       "stream": "stdout",
       "text": [
        " 680 stargazers' starred repos\n",
        "Num nodes/edges in graph 53452 / "
       ]
      },
      {
       "output_type": "stream",
       "stream": "stdout",
       "text": [
        "120421\n",
        "Rate limit (4909, 5000)\n",
        "gabstehr\n",
        "Processed"
       ]
      },
      {
       "output_type": "stream",
       "stream": "stdout",
       "text": [
        " 681 stargazers' starred repos\n",
        "Num nodes/edges in graph 53670 / "
       ]
      },
      {
       "output_type": "stream",
       "stream": "stdout",
       "text": [
        "120918\n",
        "Rate limit (4904, 5000)\n",
        "spartakan\n",
        "Processed"
       ]
      },
      {
       "output_type": "stream",
       "stream": "stdout",
       "text": [
        " 682 stargazers' starred repos\n",
        "Num nodes/edges in graph 53673 / "
       ]
      },
      {
       "output_type": "stream",
       "stream": "stdout",
       "text": [
        "120922\n",
        "Rate limit (4903, 5000)\n",
        "sp00\n",
        "Processed"
       ]
      },
      {
       "output_type": "stream",
       "stream": "stdout",
       "text": [
        " 683 stargazers' starred repos\n",
        "Num nodes/edges in graph 53699 / "
       ]
      },
      {
       "output_type": "stream",
       "stream": "stdout",
       "text": [
        "120997\n",
        "Rate limit (4901, 5000)\n",
        "cheekybastard\n",
        "Processed"
       ]
      },
      {
       "output_type": "stream",
       "stream": "stdout",
       "text": [
        " 684 stargazers' starred repos\n",
        "Num nodes/edges in graph 53905 / "
       ]
      },
      {
       "output_type": "stream",
       "stream": "stdout",
       "text": [
        "121492\n",
        "Rate limit (4896, 5000)\n",
        "nipengadmaster\n",
        "Processed"
       ]
      },
      {
       "output_type": "stream",
       "stream": "stdout",
       "text": [
        " 685 stargazers' starred repos\n",
        "Num nodes/edges in graph 53905 / "
       ]
      },
      {
       "output_type": "stream",
       "stream": "stdout",
       "text": [
        "121494\n",
        "Rate limit (4895, 5000)\n",
        "j0t4\n",
        "Processed"
       ]
      },
      {
       "output_type": "stream",
       "stream": "stdout",
       "text": [
        " 686 stargazers' starred repos\n",
        "Num nodes/edges in graph 53919 / "
       ]
      },
      {
       "output_type": "stream",
       "stream": "stdout",
       "text": [
        "121532\n",
        "Rate limit (4894, 5000)\n",
        "ahill1\n",
        "Processed"
       ]
      },
      {
       "output_type": "stream",
       "stream": "stdout",
       "text": [
        " 687 stargazers' starred repos\n",
        "Num nodes/edges in graph 53919 / "
       ]
      },
      {
       "output_type": "stream",
       "stream": "stdout",
       "text": [
        "121532\n",
        "Rate limit (4893, 5000)\n",
        "oyomei\n",
        "Processed"
       ]
      },
      {
       "output_type": "stream",
       "stream": "stdout",
       "text": [
        " 688 stargazers' starred repos\n",
        "Num nodes/edges in graph 53920 / "
       ]
      },
      {
       "output_type": "stream",
       "stream": "stdout",
       "text": [
        "121533\n",
        "Rate limit (4892, 5000)\n",
        "ekgren\n",
        "Processed"
       ]
      },
      {
       "output_type": "stream",
       "stream": "stdout",
       "text": [
        " 689 stargazers' starred repos\n",
        "Num nodes/edges in graph 53923 / "
       ]
      },
      {
       "output_type": "stream",
       "stream": "stdout",
       "text": [
        "121536\n",
        "Rate limit (4891, 5000)\n",
        "ewinchell07\n",
        "Processed"
       ]
      },
      {
       "output_type": "stream",
       "stream": "stdout",
       "text": [
        " 690 stargazers' starred repos\n",
        "Num nodes/edges in graph 53923 / "
       ]
      },
      {
       "output_type": "stream",
       "stream": "stdout",
       "text": [
        "121538\n",
        "Rate limit (4890, 5000)\n",
        "davni\n",
        "Processed"
       ]
      },
      {
       "output_type": "stream",
       "stream": "stdout",
       "text": [
        " 691 stargazers' starred repos\n",
        "Num nodes/edges in graph 53924 / "
       ]
      },
      {
       "output_type": "stream",
       "stream": "stdout",
       "text": [
        "121541\n",
        "Rate limit (4889, 5000)\n",
        "ysfseu\n",
        "Processed"
       ]
      },
      {
       "output_type": "stream",
       "stream": "stdout",
       "text": [
        " 692 stargazers' starred repos\n",
        "Num nodes/edges in graph 53924 / "
       ]
      },
      {
       "output_type": "stream",
       "stream": "stdout",
       "text": [
        "121541\n",
        "Rate limit (4888, 5000)\n",
        "sffafa\n",
        "Processed"
       ]
      },
      {
       "output_type": "stream",
       "stream": "stdout",
       "text": [
        " 693 stargazers' starred repos\n",
        "Num nodes/edges in graph 53924 / "
       ]
      },
      {
       "output_type": "stream",
       "stream": "stdout",
       "text": [
        "121541\n",
        "Rate limit (4887, 5000)\n",
        "zdogma\n",
        "Processed"
       ]
      },
      {
       "output_type": "stream",
       "stream": "stdout",
       "text": [
        " 694 stargazers' starred repos\n",
        "Num nodes/edges in graph 53924 / "
       ]
      },
      {
       "output_type": "stream",
       "stream": "stdout",
       "text": [
        "121541\n",
        "Rate limit (4886, 5000)\n",
        "tianhaocto\n",
        "Processed"
       ]
      },
      {
       "output_type": "stream",
       "stream": "stdout",
       "text": [
        " 695 stargazers' starred repos\n",
        "Num nodes/edges in graph 53924 / "
       ]
      },
      {
       "output_type": "stream",
       "stream": "stdout",
       "text": [
        "121541\n",
        "Rate limit (4885, 5000)\n",
        "KWMalik\n",
        "Processed"
       ]
      },
      {
       "output_type": "stream",
       "stream": "stdout",
       "text": [
        " 696 stargazers' starred repos\n",
        "Num nodes/edges in graph 54041 / "
       ]
      },
      {
       "output_type": "stream",
       "stream": "stdout",
       "text": [
        "121764\n",
        "Rate limit (4880, 5000)\n",
        "pkrishnaprasad\n",
        "Processed"
       ]
      },
      {
       "output_type": "stream",
       "stream": "stdout",
       "text": [
        " 697 stargazers' starred repos\n",
        "Num nodes/edges in graph 54041 / "
       ]
      },
      {
       "output_type": "stream",
       "stream": "stdout",
       "text": [
        "121764\n",
        "Rate limit (4879, 5000)\n",
        "iPetrucho\n",
        "Processed"
       ]
      },
      {
       "output_type": "stream",
       "stream": "stdout",
       "text": [
        " 698 stargazers' starred repos\n",
        "Num nodes/edges in graph 54066 / "
       ]
      },
      {
       "output_type": "stream",
       "stream": "stdout",
       "text": [
        "121823\n",
        "Rate limit (4878, 5000)\n",
        "changqing\n",
        "Processed"
       ]
      },
      {
       "output_type": "stream",
       "stream": "stdout",
       "text": [
        " 699 stargazers' starred repos\n",
        "Num nodes/edges in graph 54069 / "
       ]
      },
      {
       "output_type": "stream",
       "stream": "stdout",
       "text": [
        "121847\n",
        "Rate limit (4877, 5000)\n",
        "sumnous\n",
        "Processed"
       ]
      },
      {
       "output_type": "stream",
       "stream": "stdout",
       "text": [
        " 700 stargazers' starred repos\n",
        "Num nodes/edges in graph 54083 / "
       ]
      },
      {
       "output_type": "stream",
       "stream": "stdout",
       "text": [
        "121884\n",
        "Rate limit (4876, 5000)\n",
        "jlmvale\n",
        "Processed"
       ]
      },
      {
       "output_type": "stream",
       "stream": "stdout",
       "text": [
        " 701 stargazers' starred repos\n",
        "Num nodes/edges in graph 54083 / "
       ]
      },
      {
       "output_type": "stream",
       "stream": "stdout",
       "text": [
        "121884\n",
        "Rate limit (4875, 5000)\n",
        "brooklynrob\n",
        "Processed"
       ]
      },
      {
       "output_type": "stream",
       "stream": "stdout",
       "text": [
        " 702 stargazers' starred repos\n",
        "Num nodes/edges in graph 54086 / "
       ]
      },
      {
       "output_type": "stream",
       "stream": "stdout",
       "text": [
        "121888\n",
        "Rate limit (4874, 5000)\n",
        "daveturnbull\n",
        "Processed"
       ]
      },
      {
       "output_type": "stream",
       "stream": "stdout",
       "text": [
        " 703 stargazers' starred repos\n",
        "Num nodes/edges in graph 54110 / "
       ]
      },
      {
       "output_type": "stream",
       "stream": "stdout",
       "text": [
        "122020\n",
        "Rate limit (4872, 5000)\n",
        "Jason-Chan\n",
        "Processed"
       ]
      },
      {
       "output_type": "stream",
       "stream": "stdout",
       "text": [
        " 704 stargazers' starred repos\n",
        "Num nodes/edges in graph 54112 / "
       ]
      },
      {
       "output_type": "stream",
       "stream": "stdout",
       "text": [
        "122047\n",
        "Rate limit (4871, 5000)\n",
        "leonyaa\n",
        "Processed"
       ]
      },
      {
       "output_type": "stream",
       "stream": "stdout",
       "text": [
        " 705 stargazers' starred repos\n",
        "Num nodes/edges in graph 54112 / "
       ]
      },
      {
       "output_type": "stream",
       "stream": "stdout",
       "text": [
        "122056\n",
        "Rate limit (4870, 5000)\n",
        "lingling2012\n",
        "Processed"
       ]
      },
      {
       "output_type": "stream",
       "stream": "stdout",
       "text": [
        " 706 stargazers' starred repos\n",
        "Num nodes/edges in graph 54249 / "
       ]
      },
      {
       "output_type": "stream",
       "stream": "stdout",
       "text": [
        "122554\n",
        "Rate limit (4865, 5000)\n",
        "mohamadhussien\n",
        "Processed"
       ]
      },
      {
       "output_type": "stream",
       "stream": "stdout",
       "text": [
        " 707 stargazers' starred repos\n",
        "Num nodes/edges in graph 54250 / "
       ]
      },
      {
       "output_type": "stream",
       "stream": "stdout",
       "text": [
        "122563\n",
        "Rate limit (4864, 5000)\n",
        "vkurchatkin\n",
        "Processed"
       ]
      },
      {
       "output_type": "stream",
       "stream": "stdout",
       "text": [
        " 708 stargazers' starred repos\n",
        "Num nodes/edges in graph 54319 / "
       ]
      },
      {
       "output_type": "stream",
       "stream": "stdout",
       "text": [
        "122799\n",
        "Rate limit (4861, 5000)\n",
        "lyl7225\n",
        "Processed"
       ]
      },
      {
       "output_type": "stream",
       "stream": "stdout",
       "text": [
        " 709 stargazers' starred repos\n",
        "Num nodes/edges in graph 54319 / "
       ]
      },
      {
       "output_type": "stream",
       "stream": "stdout",
       "text": [
        "122799\n",
        "Rate limit (4860, 5000)\n",
        "yishino22\n",
        "Processed"
       ]
      },
      {
       "output_type": "stream",
       "stream": "stdout",
       "text": [
        " 710 stargazers' starred repos\n",
        "Num nodes/edges in graph 54324 / "
       ]
      },
      {
       "output_type": "stream",
       "stream": "stdout",
       "text": [
        "122814\n",
        "Rate limit (4859, 5000)\n",
        "Eagles2F\n",
        "Processed"
       ]
      },
      {
       "output_type": "stream",
       "stream": "stdout",
       "text": [
        " 711 stargazers' starred repos\n",
        "Num nodes/edges in graph 54327 / "
       ]
      },
      {
       "output_type": "stream",
       "stream": "stdout",
       "text": [
        "122818\n",
        "Rate limit (4858, 5000)\n",
        "yiseul\n",
        "Processed"
       ]
      },
      {
       "output_type": "stream",
       "stream": "stdout",
       "text": [
        " 712 stargazers' starred repos\n",
        "Num nodes/edges in graph 54328 / "
       ]
      },
      {
       "output_type": "stream",
       "stream": "stdout",
       "text": [
        "122820\n",
        "Rate limit (4857, 5000)\n",
        "feedmecookies\n",
        "Processed"
       ]
      },
      {
       "output_type": "stream",
       "stream": "stdout",
       "text": [
        " 713 stargazers' starred repos\n",
        "Num nodes/edges in graph 54328 / "
       ]
      },
      {
       "output_type": "stream",
       "stream": "stdout",
       "text": [
        "122825\n",
        "Rate limit (4856, 5000)\n",
        "hackerway\n",
        "Processed"
       ]
      },
      {
       "output_type": "stream",
       "stream": "stdout",
       "text": [
        " 714 stargazers' starred repos\n",
        "Num nodes/edges in graph 54391 / "
       ]
      },
      {
       "output_type": "stream",
       "stream": "stdout",
       "text": [
        "122952\n",
        "Rate limit (4854, 5000)\n",
        "carlditzler\n",
        "Processed"
       ]
      },
      {
       "output_type": "stream",
       "stream": "stdout",
       "text": [
        " 715 stargazers' starred repos\n",
        "Num nodes/edges in graph 54590 / "
       ]
      },
      {
       "output_type": "stream",
       "stream": "stdout",
       "text": [
        "123447\n",
        "Rate limit (4849, 5000)\n",
        "redswallow\n",
        "Processed"
       ]
      },
      {
       "output_type": "stream",
       "stream": "stdout",
       "text": [
        " 716 stargazers' starred repos\n",
        "Num nodes/edges in graph 54666 / "
       ]
      },
      {
       "output_type": "stream",
       "stream": "stdout",
       "text": [
        "123781\n",
        "Rate limit (4845, 5000)\n",
        "bendaizer\n",
        "Processed"
       ]
      },
      {
       "output_type": "stream",
       "stream": "stdout",
       "text": [
        " 717 stargazers' starred repos\n",
        "Num nodes/edges in graph 54683 / "
       ]
      },
      {
       "output_type": "stream",
       "stream": "stdout",
       "text": [
        "123866\n",
        "Rate limit (4844, 5000)\n",
        "sudheervazrapu\n",
        "Processed"
       ]
      },
      {
       "output_type": "stream",
       "stream": "stdout",
       "text": [
        " 718 stargazers' starred repos\n",
        "Num nodes/edges in graph 54683 / "
       ]
      },
      {
       "output_type": "stream",
       "stream": "stdout",
       "text": [
        "123866\n",
        "Rate limit (4843, 5000)\n",
        "Tommassissimo\n",
        "Processed"
       ]
      },
      {
       "output_type": "stream",
       "stream": "stdout",
       "text": [
        " 719 stargazers' starred repos\n",
        "Num nodes/edges in graph 54692 / "
       ]
      },
      {
       "output_type": "stream",
       "stream": "stdout",
       "text": [
        "123961\n",
        "Rate limit (4842, 5000)\n",
        "ykakihara\n",
        "Processed"
       ]
      },
      {
       "output_type": "stream",
       "stream": "stdout",
       "text": [
        " 720 stargazers' starred repos\n",
        "Num nodes/edges in graph 54696 / "
       ]
      },
      {
       "output_type": "stream",
       "stream": "stdout",
       "text": [
        "124007\n",
        "Rate limit (4841, 5000)\n",
        "seijiro\n",
        "Processed"
       ]
      },
      {
       "output_type": "stream",
       "stream": "stdout",
       "text": [
        " 721 stargazers' starred repos\n",
        "Num nodes/edges in graph 54922 / "
       ]
      },
      {
       "output_type": "stream",
       "stream": "stdout",
       "text": [
        "124498\n",
        "Rate limit (4836, 5000)\n",
        "downrightmike\n",
        "Processed"
       ]
      },
      {
       "output_type": "stream",
       "stream": "stdout",
       "text": [
        " 722 stargazers' starred repos\n",
        "Num nodes/edges in graph 54977 / "
       ]
      },
      {
       "output_type": "stream",
       "stream": "stdout",
       "text": [
        "124711\n",
        "Rate limit (4833, 5000)\n",
        "souri\n",
        "Processed"
       ]
      },
      {
       "output_type": "stream",
       "stream": "stdout",
       "text": [
        " 723 stargazers' starred repos\n",
        "Num nodes/edges in graph 54982 / "
       ]
      },
      {
       "output_type": "stream",
       "stream": "stdout",
       "text": [
        "124743\n",
        "Rate limit (4832, 5000)\n",
        "johnthebrave\n",
        "Processed"
       ]
      },
      {
       "output_type": "stream",
       "stream": "stdout",
       "text": [
        " 724 stargazers' starred repos\n",
        "Num nodes/edges in graph 54985 / "
       ]
      },
      {
       "output_type": "stream",
       "stream": "stdout",
       "text": [
        "124747\n",
        "Rate limit (4831, 5000)\n",
        "docete\n",
        "Processed"
       ]
      },
      {
       "output_type": "stream",
       "stream": "stdout",
       "text": [
        " 725 stargazers' starred repos\n",
        "Num nodes/edges in graph 54995 / "
       ]
      },
      {
       "output_type": "stream",
       "stream": "stdout",
       "text": [
        "124801\n",
        "Rate limit (4830, 5000)\n",
        "NikhilKodilkar\n",
        "Processed"
       ]
      },
      {
       "output_type": "stream",
       "stream": "stdout",
       "text": [
        " 726 stargazers' starred repos\n",
        "Num nodes/edges in graph 54995 / "
       ]
      },
      {
       "output_type": "stream",
       "stream": "stdout",
       "text": [
        "124801\n",
        "Rate limit (4829, 5000)\n",
        "extremecasey\n",
        "Processed"
       ]
      },
      {
       "output_type": "stream",
       "stream": "stdout",
       "text": [
        " 727 stargazers' starred repos\n",
        "Num nodes/edges in graph 55000 / "
       ]
      },
      {
       "output_type": "stream",
       "stream": "stdout",
       "text": [
        "124825\n",
        "Rate limit (4828, 5000)\n",
        "IWhisper\n",
        "Processed"
       ]
      },
      {
       "output_type": "stream",
       "stream": "stdout",
       "text": [
        " 728 stargazers' starred repos\n",
        "Num nodes/edges in graph 55041 / "
       ]
      },
      {
       "output_type": "stream",
       "stream": "stdout",
       "text": [
        "124922\n",
        "Rate limit (4826, 5000)\n",
        "gavinmh\n",
        "Processed"
       ]
      },
      {
       "output_type": "stream",
       "stream": "stdout",
       "text": [
        " 729 stargazers' starred repos\n",
        "Num nodes/edges in graph 55055 / "
       ]
      },
      {
       "output_type": "stream",
       "stream": "stdout",
       "text": [
        "124993\n",
        "Rate limit (4825, 5000)\n",
        "amuise\n",
        "Processed"
       ]
      },
      {
       "output_type": "stream",
       "stream": "stdout",
       "text": [
        " 730 stargazers' starred repos\n",
        "Num nodes/edges in graph 55061 / "
       ]
      },
      {
       "output_type": "stream",
       "stream": "stdout",
       "text": [
        "125023\n",
        "Rate limit (4824, 5000)\n",
        "royburns\n",
        "Processed"
       ]
      },
      {
       "output_type": "stream",
       "stream": "stdout",
       "text": [
        " 731 stargazers' starred repos\n",
        "Num nodes/edges in graph 55107 / "
       ]
      },
      {
       "output_type": "stream",
       "stream": "stdout",
       "text": [
        "125204\n",
        "Rate limit (4822, 5000)\n",
        "lmazzon\n",
        "Processed"
       ]
      },
      {
       "output_type": "stream",
       "stream": "stdout",
       "text": [
        " 732 stargazers' starred repos\n",
        "Num nodes/edges in graph 55119 / "
       ]
      },
      {
       "output_type": "stream",
       "stream": "stdout",
       "text": [
        "125273\n",
        "Rate limit (4821, 5000)\n",
        "michalbcz\n",
        "Processed"
       ]
      },
      {
       "output_type": "stream",
       "stream": "stdout",
       "text": [
        " 733 stargazers' starred repos\n",
        "Num nodes/edges in graph 55241 / "
       ]
      },
      {
       "output_type": "stream",
       "stream": "stdout",
       "text": [
        "125634\n",
        "Rate limit (4817, 5000)\n",
        "eyadsibai\n",
        "Processed"
       ]
      },
      {
       "output_type": "stream",
       "stream": "stdout",
       "text": [
        " 734 stargazers' starred repos\n",
        "Num nodes/edges in graph 55380 / "
       ]
      },
      {
       "output_type": "stream",
       "stream": "stdout",
       "text": [
        "126119\n",
        "Rate limit (4812, 5000)\n",
        "ivanfioravanti\n",
        "Processed"
       ]
      },
      {
       "output_type": "stream",
       "stream": "stdout",
       "text": [
        " 735 stargazers' starred repos\n",
        "Num nodes/edges in graph 55398 / "
       ]
      },
      {
       "output_type": "stream",
       "stream": "stdout",
       "text": [
        "126245\n",
        "Rate limit (4810, 5000)\n",
        "flashus\n",
        "Processed"
       ]
      },
      {
       "output_type": "stream",
       "stream": "stdout",
       "text": [
        " 736 stargazers' starred repos\n",
        "Num nodes/edges in graph 55538 / "
       ]
      },
      {
       "output_type": "stream",
       "stream": "stdout",
       "text": [
        "126721\n",
        "Rate limit (4805, 5000)\n",
        "mapio\n",
        "Processed"
       ]
      },
      {
       "output_type": "stream",
       "stream": "stdout",
       "text": [
        " 737 stargazers' starred repos\n",
        "Num nodes/edges in graph 55601 / "
       ]
      },
      {
       "output_type": "stream",
       "stream": "stdout",
       "text": [
        "127216\n",
        "Rate limit (4800, 5000)\n",
        "solutionsmith\n",
        "Processed"
       ]
      },
      {
       "output_type": "stream",
       "stream": "stdout",
       "text": [
        " 738 stargazers' starred repos\n",
        "Num nodes/edges in graph 55608 / "
       ]
      },
      {
       "output_type": "stream",
       "stream": "stdout",
       "text": [
        "127248\n",
        "Rate limit (4799, 5000)\n",
        "srspear\n",
        "Processed"
       ]
      },
      {
       "output_type": "stream",
       "stream": "stdout",
       "text": [
        " 739 stargazers' starred repos\n",
        "Num nodes/edges in graph 55619 / "
       ]
      },
      {
       "output_type": "stream",
       "stream": "stdout",
       "text": [
        "127309\n",
        "Rate limit (4798, 5000)\n",
        "microamp\n",
        "Processed"
       ]
      },
      {
       "output_type": "stream",
       "stream": "stdout",
       "text": [
        " 740 stargazers' starred repos\n",
        "Num nodes/edges in graph 55634 / "
       ]
      },
      {
       "output_type": "stream",
       "stream": "stdout",
       "text": [
        "127374\n",
        "Rate limit (4797, 5000)\n",
        "coronin\n",
        "Processed"
       ]
      },
      {
       "output_type": "stream",
       "stream": "stdout",
       "text": [
        " 741 stargazers' starred repos\n",
        "Num nodes/edges in graph 55699 / "
       ]
      },
      {
       "output_type": "stream",
       "stream": "stdout",
       "text": [
        "127582\n",
        "Rate limit (4794, 5000)\n",
        "Arthraim\n",
        "Processed"
       ]
      },
      {
       "output_type": "stream",
       "stream": "stdout",
       "text": [
        " 742 stargazers' starred repos\n",
        "Num nodes/edges in graph 55795 / "
       ]
      },
      {
       "output_type": "stream",
       "stream": "stdout",
       "text": [
        "128031\n",
        "Rate limit (4789, 5000)\n",
        "isnowfy\n",
        "Processed"
       ]
      },
      {
       "output_type": "stream",
       "stream": "stdout",
       "text": [
        " 743 stargazers' starred repos\n",
        "Num nodes/edges in graph 55865 / "
       ]
      },
      {
       "output_type": "stream",
       "stream": "stdout",
       "text": [
        "128528\n",
        "Rate limit (4784, 5000)\n",
        "zhuwenger\n",
        "Processed"
       ]
      },
      {
       "output_type": "stream",
       "stream": "stdout",
       "text": [
        " 744 stargazers' starred repos\n",
        "Num nodes/edges in graph 55875 / "
       ]
      },
      {
       "output_type": "stream",
       "stream": "stdout",
       "text": [
        "128616\n",
        "Rate limit (4783, 5000)\n",
        "wenLiangcan\n",
        "Processed"
       ]
      },
      {
       "output_type": "stream",
       "stream": "stdout",
       "text": [
        " 745 stargazers' starred repos\n",
        "Num nodes/edges in graph 56006 / "
       ]
      },
      {
       "output_type": "stream",
       "stream": "stdout",
       "text": [
        "129099\n",
        "Rate limit (4778, 5000)\n",
        "dj1989\n",
        "Processed"
       ]
      },
      {
       "output_type": "stream",
       "stream": "stdout",
       "text": [
        " 746 stargazers' starred repos\n",
        "Num nodes/edges in graph 56009 / "
       ]
      },
      {
       "output_type": "stream",
       "stream": "stdout",
       "text": [
        "129114\n",
        "Rate limit (4777, 5000)\n",
        "aviot\n",
        "Processed"
       ]
      },
      {
       "output_type": "stream",
       "stream": "stdout",
       "text": [
        " 747 stargazers' starred repos\n",
        "Num nodes/edges in graph 56010 / "
       ]
      },
      {
       "output_type": "stream",
       "stream": "stdout",
       "text": [
        "129122\n",
        "Rate limit (4776, 5000)\n",
        "haraball\n",
        "Processed"
       ]
      },
      {
       "output_type": "stream",
       "stream": "stdout",
       "text": [
        " 748 stargazers' starred repos\n",
        "Num nodes/edges in graph 56108 / "
       ]
      },
      {
       "output_type": "stream",
       "stream": "stdout",
       "text": [
        "129615\n",
        "Rate limit (4771, 5000)\n",
        "ZoomQuiet\n",
        "Processed"
       ]
      },
      {
       "output_type": "stream",
       "stream": "stdout",
       "text": [
        " 749 stargazers' starred repos\n",
        "Num nodes/edges in graph 56227 / "
       ]
      },
      {
       "output_type": "stream",
       "stream": "stdout",
       "text": [
        "130048\n",
        "Rate limit (4766, 5000)\n",
        "zebpalmer\n",
        "Processed"
       ]
      },
      {
       "output_type": "stream",
       "stream": "stdout",
       "text": [
        " 750 stargazers' starred repos\n",
        "Num nodes/edges in graph 56254 / "
       ]
      },
      {
       "output_type": "stream",
       "stream": "stdout",
       "text": [
        "130171\n",
        "Rate limit (4764, 5000)\n",
        "twneale\n",
        "Processed"
       ]
      },
      {
       "output_type": "stream",
       "stream": "stdout",
       "text": [
        " 751 stargazers' starred repos\n",
        "Num nodes/edges in graph 56272 / "
       ]
      },
      {
       "output_type": "stream",
       "stream": "stdout",
       "text": [
        "130225\n",
        "Rate limit (4763, 5000)\n",
        "phildow\n",
        "Processed"
       ]
      },
      {
       "output_type": "stream",
       "stream": "stdout",
       "text": [
        " 752 stargazers' starred repos\n",
        "Num nodes/edges in graph 56323 / "
       ]
      },
      {
       "output_type": "stream",
       "stream": "stdout",
       "text": [
        "130557\n",
        "Rate limit (4759, 5000)\n",
        "cpyo\n",
        "Processed"
       ]
      },
      {
       "output_type": "stream",
       "stream": "stdout",
       "text": [
        " 753 stargazers' starred repos\n",
        "Num nodes/edges in graph 56323 / "
       ]
      },
      {
       "output_type": "stream",
       "stream": "stdout",
       "text": [
        "130611\n",
        "Rate limit (4758, 5000)\n",
        "lizheming\n",
        "Processed"
       ]
      },
      {
       "output_type": "stream",
       "stream": "stdout",
       "text": [
        " 754 stargazers' starred repos\n",
        "Num nodes/edges in graph 56332 / "
       ]
      },
      {
       "output_type": "stream",
       "stream": "stdout",
       "text": [
        "130647\n",
        "Rate limit (4757, 5000)\n",
        "bigsnarfdude\n",
        "Processed"
       ]
      },
      {
       "output_type": "stream",
       "stream": "stdout",
       "text": [
        " 755 stargazers' starred repos\n",
        "Num nodes/edges in graph 56395 / "
       ]
      },
      {
       "output_type": "stream",
       "stream": "stdout",
       "text": [
        "130934\n",
        "Rate limit (4754, 5000)\n",
        "cyrusin\n",
        "Processed"
       ]
      },
      {
       "output_type": "stream",
       "stream": "stdout",
       "text": [
        " 756 stargazers' starred repos\n",
        "Num nodes/edges in graph 56397 / "
       ]
      },
      {
       "output_type": "stream",
       "stream": "stdout",
       "text": [
        "130982\n",
        "Rate limit (4753, 5000)\n",
        "TaulantRamabaja\n",
        "Processed"
       ]
      },
      {
       "output_type": "stream",
       "stream": "stdout",
       "text": [
        " 757 stargazers' starred repos\n",
        "Num nodes/edges in graph 56451 / "
       ]
      },
      {
       "output_type": "stream",
       "stream": "stdout",
       "text": [
        "131248\n",
        "Rate limit (4750, 5000)\n",
        "csuzhangxc\n",
        "Processed"
       ]
      },
      {
       "output_type": "stream",
       "stream": "stdout",
       "text": [
        " 758 stargazers' starred repos\n",
        "Num nodes/edges in graph 56471 / "
       ]
      },
      {
       "output_type": "stream",
       "stream": "stdout",
       "text": [
        "131328\n",
        "Rate limit (4749, 5000)\n",
        "getnpk\n",
        "Processed"
       ]
      },
      {
       "output_type": "stream",
       "stream": "stdout",
       "text": [
        " 759 stargazers' starred repos\n",
        "Num nodes/edges in graph 56483 / "
       ]
      },
      {
       "output_type": "stream",
       "stream": "stdout",
       "text": [
        "131352\n",
        "Rate limit (4748, 5000)\n",
        "danielmavi\n",
        "Processed"
       ]
      },
      {
       "output_type": "stream",
       "stream": "stdout",
       "text": [
        " 760 stargazers' starred repos\n",
        "Num nodes/edges in graph 56483 / "
       ]
      },
      {
       "output_type": "stream",
       "stream": "stdout",
       "text": [
        "131352\n",
        "Rate limit (4747, 5000)\n",
        "khaing211\n",
        "Processed"
       ]
      },
      {
       "output_type": "stream",
       "stream": "stdout",
       "text": [
        " 761 stargazers' starred repos\n",
        "Num nodes/edges in graph 56549 / "
       ]
      },
      {
       "output_type": "stream",
       "stream": "stdout",
       "text": [
        "131678\n",
        "Rate limit (4743, 5000)\n",
        "NanoXD\n",
        "Processed"
       ]
      },
      {
       "output_type": "stream",
       "stream": "stdout",
       "text": [
        " 762 stargazers' starred repos\n",
        "Num nodes/edges in graph 56587 / "
       ]
      },
      {
       "output_type": "stream",
       "stream": "stdout",
       "text": [
        "131824\n",
        "Rate limit (4741, 5000)\n",
        "rabbit-run\n",
        "Processed"
       ]
      },
      {
       "output_type": "stream",
       "stream": "stdout",
       "text": [
        " 763 stargazers' starred repos\n",
        "Num nodes/edges in graph 56601 / "
       ]
      },
      {
       "output_type": "stream",
       "stream": "stdout",
       "text": [
        "131903\n",
        "Rate limit (4740, 5000)\n",
        "FrankRouter\n",
        "Processed"
       ]
      },
      {
       "output_type": "stream",
       "stream": "stdout",
       "text": [
        " 764 stargazers' starred repos\n",
        "Num nodes/edges in graph 56605 / "
       ]
      },
      {
       "output_type": "stream",
       "stream": "stdout",
       "text": [
        "131932\n",
        "Rate limit (4739, 5000)\n",
        "mjankiewicz\n",
        "Processed"
       ]
      },
      {
       "output_type": "stream",
       "stream": "stdout",
       "text": [
        " 765 stargazers' starred repos\n",
        "Num nodes/edges in graph 56612 / "
       ]
      },
      {
       "output_type": "stream",
       "stream": "stdout",
       "text": [
        "131957\n",
        "Rate limit (4738, 5000)\n",
        "cnunciato\n",
        "Processed"
       ]
      },
      {
       "output_type": "stream",
       "stream": "stdout",
       "text": [
        " 766 stargazers' starred repos\n",
        "Num nodes/edges in graph 56645 / "
       ]
      },
      {
       "output_type": "stream",
       "stream": "stdout",
       "text": [
        "132152\n",
        "Rate limit (4735, 5000)\n",
        "satybald\n",
        "Processed"
       ]
      },
      {
       "output_type": "stream",
       "stream": "stdout",
       "text": [
        " 767 stargazers' starred repos\n",
        "Num nodes/edges in graph 56650 / "
       ]
      },
      {
       "output_type": "stream",
       "stream": "stdout",
       "text": [
        "132178\n",
        "Rate limit (4734, 5000)\n",
        "prashanthmcr\n",
        "Processed"
       ]
      },
      {
       "output_type": "stream",
       "stream": "stdout",
       "text": [
        " 768 stargazers' starred repos\n",
        "Num nodes/edges in graph 56655 / "
       ]
      },
      {
       "output_type": "stream",
       "stream": "stdout",
       "text": [
        "132227\n",
        "Rate limit (4733, 5000)\n",
        "gradetwo\n",
        "Processed"
       ]
      },
      {
       "output_type": "stream",
       "stream": "stdout",
       "text": [
        " 769 stargazers' starred repos\n",
        "Num nodes/edges in graph 56797 / "
       ]
      },
      {
       "output_type": "stream",
       "stream": "stdout",
       "text": [
        "132599\n",
        "Rate limit (4729, 5000)\n",
        "shaobin0604\n",
        "Processed"
       ]
      },
      {
       "output_type": "stream",
       "stream": "stdout",
       "text": [
        " 770 stargazers' starred repos\n",
        "Num nodes/edges in graph 57076 / "
       ]
      },
      {
       "output_type": "stream",
       "stream": "stdout",
       "text": [
        "133089\n",
        "Rate limit (4724, 5000)\n",
        "inkless\n",
        "Processed"
       ]
      },
      {
       "output_type": "stream",
       "stream": "stdout",
       "text": [
        " 771 stargazers' starred repos\n",
        "Num nodes/edges in graph 57103 / "
       ]
      },
      {
       "output_type": "stream",
       "stream": "stdout",
       "text": [
        "133349\n",
        "Rate limit (4721, 5000)\n",
        "velthuis\n",
        "Processed"
       ]
      },
      {
       "output_type": "stream",
       "stream": "stdout",
       "text": [
        " 772 stargazers' starred repos\n",
        "Num nodes/edges in graph 57103 / "
       ]
      },
      {
       "output_type": "stream",
       "stream": "stdout",
       "text": [
        "133351\n",
        "Rate limit (4720, 5000)\n",
        "megansquire\n",
        "Processed"
       ]
      },
      {
       "output_type": "stream",
       "stream": "stdout",
       "text": [
        " 773 stargazers' starred repos\n",
        "Num nodes/edges in graph 57103 / "
       ]
      },
      {
       "output_type": "stream",
       "stream": "stdout",
       "text": [
        "133352\n",
        "Rate limit (4719, 5000)\n",
        "jonathansick\n",
        "Processed"
       ]
      },
      {
       "output_type": "stream",
       "stream": "stdout",
       "text": [
        " 774 stargazers' starred repos\n",
        "Num nodes/edges in graph 57144 / "
       ]
      },
      {
       "output_type": "stream",
       "stream": "stdout",
       "text": [
        "133506\n",
        "Rate limit (4717, 5000)\n",
        "ozgur\n",
        "Processed"
       ]
      },
      {
       "output_type": "stream",
       "stream": "stdout",
       "text": [
        " 775 stargazers' starred repos\n",
        "Num nodes/edges in graph 57156 / "
       ]
      },
      {
       "output_type": "stream",
       "stream": "stdout",
       "text": [
        "133613\n",
        "Rate limit (4715, 5000)\n",
        "sabman\n",
        "Processed"
       ]
      },
      {
       "output_type": "stream",
       "stream": "stdout",
       "text": [
        " 776 stargazers' starred repos\n",
        "Num nodes/edges in graph 57354 / "
       ]
      },
      {
       "output_type": "stream",
       "stream": "stdout",
       "text": [
        "134060\n",
        "Rate limit (4710, 5000)\n",
        "yoghi\n",
        "Processed"
       ]
      },
      {
       "output_type": "stream",
       "stream": "stdout",
       "text": [
        " 777 stargazers' starred repos\n",
        "Num nodes/edges in graph 57463 / "
       ]
      },
      {
       "output_type": "stream",
       "stream": "stdout",
       "text": [
        "134413\n",
        "Rate limit (4706, 5000)\n",
        "johnymontana\n",
        "Processed"
       ]
      },
      {
       "output_type": "stream",
       "stream": "stdout",
       "text": [
        " 778 stargazers' starred repos\n",
        "Num nodes/edges in graph 57525 / "
       ]
      },
      {
       "output_type": "stream",
       "stream": "stdout",
       "text": [
        "134680\n",
        "Rate limit (4703, 5000)\n",
        "waleking\n",
        "Processed"
       ]
      },
      {
       "output_type": "stream",
       "stream": "stdout",
       "text": [
        " 779 stargazers' starred repos\n",
        "Num nodes/edges in graph 57528 / "
       ]
      },
      {
       "output_type": "stream",
       "stream": "stdout",
       "text": [
        "134701\n",
        "Rate limit (4702, 5000)\n",
        "ocowchun\n",
        "Processed"
       ]
      },
      {
       "output_type": "stream",
       "stream": "stdout",
       "text": [
        " 780 stargazers' starred repos\n",
        "Num nodes/edges in graph 57534 / "
       ]
      },
      {
       "output_type": "stream",
       "stream": "stdout",
       "text": [
        "134772\n",
        "Rate limit (4701, 5000)\n",
        "azarbakht\n",
        "Processed"
       ]
      },
      {
       "output_type": "stream",
       "stream": "stdout",
       "text": [
        " 781 stargazers' starred repos\n",
        "Num nodes/edges in graph 57537 / "
       ]
      },
      {
       "output_type": "stream",
       "stream": "stdout",
       "text": [
        "134781\n",
        "Rate limit (4700, 5000)\n",
        "guoylyy\n",
        "Processed"
       ]
      },
      {
       "output_type": "stream",
       "stream": "stdout",
       "text": [
        " 782 stargazers' starred repos\n",
        "Num nodes/edges in graph 57548 / "
       ]
      },
      {
       "output_type": "stream",
       "stream": "stdout",
       "text": [
        "134850\n",
        "Rate limit (4699, 5000)\n",
        "umaar\n",
        "Processed"
       ]
      },
      {
       "output_type": "stream",
       "stream": "stdout",
       "text": [
        " 783 stargazers' starred repos\n",
        "Num nodes/edges in graph 57768 / "
       ]
      },
      {
       "output_type": "stream",
       "stream": "stdout",
       "text": [
        "135345\n",
        "Rate limit (4694, 5000)\n",
        "shockley\n",
        "Processed"
       ]
      },
      {
       "output_type": "stream",
       "stream": "stdout",
       "text": [
        " 784 stargazers' starred repos\n",
        "Num nodes/edges in graph 57773 / "
       ]
      },
      {
       "output_type": "stream",
       "stream": "stdout",
       "text": [
        "135357\n",
        "Rate limit (4693, 5000)\n",
        "caryhague\n",
        "Processed"
       ]
      },
      {
       "output_type": "stream",
       "stream": "stdout",
       "text": [
        " 785 stargazers' starred repos\n",
        "Num nodes/edges in graph 57773 / "
       ]
      },
      {
       "output_type": "stream",
       "stream": "stdout",
       "text": [
        "135358\n",
        "Rate limit (4692, 5000)\n",
        "dvy"
       ]
      },
      {
       "output_type": "stream",
       "stream": "stdout",
       "text": [
        "\n",
        "Processed"
       ]
      },
      {
       "output_type": "stream",
       "stream": "stdout",
       "text": [
        " 786 stargazers' starred repos\n",
        "Num nodes/edges in graph 57774 / "
       ]
      },
      {
       "output_type": "stream",
       "stream": "stdout",
       "text": [
        "135360\n",
        "Rate limit (4691, 5000)\n",
        "arianpasquali\n",
        "Processed"
       ]
      },
      {
       "output_type": "stream",
       "stream": "stdout",
       "text": [
        " 787 stargazers' starred repos\n",
        "Num nodes/edges in graph 57831 / "
       ]
      },
      {
       "output_type": "stream",
       "stream": "stdout",
       "text": [
        "135621\n",
        "Rate limit (4688, 5000)\n",
        "vfulco\n",
        "Processed"
       ]
      },
      {
       "output_type": "stream",
       "stream": "stdout",
       "text": [
        " 788 stargazers' starred repos\n",
        "Num nodes/edges in graph 57942 / "
       ]
      },
      {
       "output_type": "stream",
       "stream": "stdout",
       "text": [
        "136020\n",
        "Rate limit (4683, 5000)\n",
        "kiogo\n",
        "Processed"
       ]
      },
      {
       "output_type": "stream",
       "stream": "stdout",
       "text": [
        " 789 stargazers' starred repos\n",
        "Num nodes/edges in graph 57979 / "
       ]
      },
      {
       "output_type": "stream",
       "stream": "stdout",
       "text": [
        "136218\n",
        "Rate limit (4681, 5000)\n",
        "thulio\n",
        "Processed"
       ]
      },
      {
       "output_type": "stream",
       "stream": "stdout",
       "text": [
        " 790 stargazers' starred repos\n",
        "Num nodes/edges in graph 58021 / "
       ]
      },
      {
       "output_type": "stream",
       "stream": "stdout",
       "text": [
        "136585\n",
        "Rate limit (4677, 5000)\n",
        "Decave\n",
        "Processed"
       ]
      },
      {
       "output_type": "stream",
       "stream": "stdout",
       "text": [
        " 791 stargazers' starred repos\n",
        "Num nodes/edges in graph 58022 / "
       ]
      },
      {
       "output_type": "stream",
       "stream": "stdout",
       "text": [
        "136590\n",
        "Rate limit (4676, 5000)\n",
        "mtchang\n",
        "Processed"
       ]
      },
      {
       "output_type": "stream",
       "stream": "stdout",
       "text": [
        " 792 stargazers' starred repos\n",
        "Num nodes/edges in graph 58034 / "
       ]
      },
      {
       "output_type": "stream",
       "stream": "stdout",
       "text": [
        "136622\n",
        "Rate limit (4675, 5000)\n",
        "ywdong\n",
        "Processed"
       ]
      },
      {
       "output_type": "stream",
       "stream": "stdout",
       "text": [
        " 793 stargazers' starred repos\n",
        "Num nodes/edges in graph 58037 / "
       ]
      },
      {
       "output_type": "stream",
       "stream": "stdout",
       "text": [
        "136644\n",
        "Rate limit (4674, 5000)\n",
        "wangqi\n",
        "Processed"
       ]
      },
      {
       "output_type": "stream",
       "stream": "stdout",
       "text": [
        " 794 stargazers' starred repos\n",
        "Num nodes/edges in graph 58054 / "
       ]
      },
      {
       "output_type": "stream",
       "stream": "stdout",
       "text": [
        "136730\n",
        "Rate limit (4673, 5000)\n",
        "enriquesanchezb\n",
        "Processed"
       ]
      },
      {
       "output_type": "stream",
       "stream": "stdout",
       "text": [
        " 795 stargazers' starred repos\n",
        "Num nodes/edges in graph 58056 / "
       ]
      },
      {
       "output_type": "stream",
       "stream": "stdout",
       "text": [
        "136739\n",
        "Rate limit (4672, 5000)\n",
        "chishaku\n",
        "Processed"
       ]
      },
      {
       "output_type": "stream",
       "stream": "stdout",
       "text": [
        " 796 stargazers' starred repos\n",
        "Num nodes/edges in graph 58056 / "
       ]
      },
      {
       "output_type": "stream",
       "stream": "stdout",
       "text": [
        "136747\n",
        "Rate limit (4671, 5000)\n",
        "valdergallo\n",
        "Processed"
       ]
      },
      {
       "output_type": "stream",
       "stream": "stdout",
       "text": [
        " 797 stargazers' starred repos\n",
        "Num nodes/edges in graph 58188 / "
       ]
      },
      {
       "output_type": "stream",
       "stream": "stdout",
       "text": [
        "137214\n",
        "Rate limit (4666, 5000)\n",
        "divyakkm\n",
        "Processed"
       ]
      },
      {
       "output_type": "stream",
       "stream": "stdout",
       "text": [
        " 798 stargazers' starred repos\n",
        "Num nodes/edges in graph 58194 / "
       ]
      },
      {
       "output_type": "stream",
       "stream": "stdout",
       "text": [
        "137234\n",
        "Rate limit (4665, 5000)\n",
        "sungis\n",
        "Processed"
       ]
      },
      {
       "output_type": "stream",
       "stream": "stdout",
       "text": [
        " 799 stargazers' starred repos\n",
        "Num nodes/edges in graph 58209 / "
       ]
      },
      {
       "output_type": "stream",
       "stream": "stdout",
       "text": [
        "137281\n",
        "Rate limit (4664, 5000)\n",
        "parama\n",
        "Processed"
       ]
      },
      {
       "output_type": "stream",
       "stream": "stdout",
       "text": [
        " 800 stargazers' starred repos\n",
        "Num nodes/edges in graph 58214 / "
       ]
      },
      {
       "output_type": "stream",
       "stream": "stdout",
       "text": [
        "137315\n",
        "Rate limit (4663, 5000)\n",
        "ya790206\n",
        "Processed"
       ]
      },
      {
       "output_type": "stream",
       "stream": "stdout",
       "text": [
        " 801 stargazers' starred repos\n",
        "Num nodes/edges in graph 58244 / "
       ]
      },
      {
       "output_type": "stream",
       "stream": "stdout",
       "text": [
        "137388\n",
        "Rate limit (4662, 5000)\n",
        "LebronKodan\n",
        "Processed"
       ]
      },
      {
       "output_type": "stream",
       "stream": "stdout",
       "text": [
        " 802 stargazers' starred repos\n",
        "Num nodes/edges in graph 58247 / "
       ]
      },
      {
       "output_type": "stream",
       "stream": "stdout",
       "text": [
        "137415\n",
        "Rate limit (4661, 5000)\n",
        "willddy\n",
        "Processed"
       ]
      },
      {
       "output_type": "stream",
       "stream": "stdout",
       "text": [
        " 803 stargazers' starred repos\n",
        "Num nodes/edges in graph 58264 / "
       ]
      },
      {
       "output_type": "stream",
       "stream": "stdout",
       "text": [
        "137483\n",
        "Rate limit (4660, 5000)\n",
        "menorki\n",
        "Processed"
       ]
      },
      {
       "output_type": "stream",
       "stream": "stdout",
       "text": [
        " 804 stargazers' starred repos\n",
        "Num nodes/edges in graph 58431 / "
       ]
      },
      {
       "output_type": "stream",
       "stream": "stdout",
       "text": [
        "137980\n",
        "Rate limit (4655, 5000)\n",
        "lvwangbeta\n",
        "Processed"
       ]
      },
      {
       "output_type": "stream",
       "stream": "stdout",
       "text": [
        " 805 stargazers' starred repos\n",
        "Num nodes/edges in graph 58440 / "
       ]
      },
      {
       "output_type": "stream",
       "stream": "stdout",
       "text": [
        "138074\n",
        "Rate limit (4654, 5000)\n",
        "daimajia\n",
        "Processed"
       ]
      },
      {
       "output_type": "stream",
       "stream": "stdout",
       "text": [
        " 806 stargazers' starred repos\n",
        "Num nodes/edges in graph 58625 / "
       ]
      },
      {
       "output_type": "stream",
       "stream": "stdout",
       "text": [
        "138569\n",
        "Rate limit (4649, 5000)\n",
        "chengdujin\n",
        "Processed"
       ]
      },
      {
       "output_type": "stream",
       "stream": "stdout",
       "text": [
        " 807 stargazers' starred repos\n",
        "Num nodes/edges in graph 58708 / "
       ]
      },
      {
       "output_type": "stream",
       "stream": "stdout",
       "text": [
        "138930\n",
        "Rate limit (4645, 5000)\n",
        "chharish\n",
        "Processed"
       ]
      },
      {
       "output_type": "stream",
       "stream": "stdout",
       "text": [
        " 808 stargazers' starred repos\n",
        "Num nodes/edges in graph 58717 / "
       ]
      },
      {
       "output_type": "stream",
       "stream": "stdout",
       "text": [
        "138955\n",
        "Rate limit (4644, 5000)\n",
        "jingle\n",
        "Processed"
       ]
      },
      {
       "output_type": "stream",
       "stream": "stdout",
       "text": [
        " 809 stargazers' starred repos\n",
        "Num nodes/edges in graph 58821 / "
       ]
      },
      {
       "output_type": "stream",
       "stream": "stdout",
       "text": [
        "139423\n",
        "Rate limit (4639, 5000)\n",
        "iPAS\n",
        "Processed"
       ]
      },
      {
       "output_type": "stream",
       "stream": "stdout",
       "text": [
        " 810 stargazers' starred repos\n",
        "Num nodes/edges in graph 58824 / "
       ]
      },
      {
       "output_type": "stream",
       "stream": "stdout",
       "text": [
        "139429\n",
        "Rate limit (4638, 5000)\n",
        "disappearedgod\n",
        "Processed"
       ]
      },
      {
       "output_type": "stream",
       "stream": "stdout",
       "text": [
        " 811 stargazers' starred repos\n",
        "Num nodes/edges in graph 58824 / "
       ]
      },
      {
       "output_type": "stream",
       "stream": "stdout",
       "text": [
        "139429\n",
        "Rate limit (4637, 5000)\n",
        "NikGero\n",
        "Processed"
       ]
      },
      {
       "output_type": "stream",
       "stream": "stdout",
       "text": [
        " 812 stargazers' starred repos\n",
        "Num nodes/edges in graph 58824 / "
       ]
      },
      {
       "output_type": "stream",
       "stream": "stdout",
       "text": [
        "139429\n",
        "Rate limit (4636, 5000)\n",
        "mkmackay-git\n",
        "Processed"
       ]
      },
      {
       "output_type": "stream",
       "stream": "stdout",
       "text": [
        " 813 stargazers' starred repos\n",
        "Num nodes/edges in graph 58827 / "
       ]
      },
      {
       "output_type": "stream",
       "stream": "stdout",
       "text": [
        "139445\n",
        "Rate limit (4635, 5000)\n",
        "clarecorthell\n",
        "Processed"
       ]
      },
      {
       "output_type": "stream",
       "stream": "stdout",
       "text": [
        " 814 stargazers' starred repos\n",
        "Num nodes/edges in graph 58842 / "
       ]
      },
      {
       "output_type": "stream",
       "stream": "stdout",
       "text": [
        "139558\n",
        "Rate limit (4633, 5000)\n",
        "subasish\n",
        "Processed"
       ]
      },
      {
       "output_type": "stream",
       "stream": "stdout",
       "text": [
        " 815 stargazers' starred repos\n",
        "Num nodes/edges in graph 58845 / "
       ]
      },
      {
       "output_type": "stream",
       "stream": "stdout",
       "text": [
        "139573\n",
        "Rate limit (4632, 5000)\n",
        "mkdotam\n",
        "Processed"
       ]
      },
      {
       "output_type": "stream",
       "stream": "stdout",
       "text": [
        " 816 stargazers' starred repos\n",
        "Num nodes/edges in graph 58859 / "
       ]
      },
      {
       "output_type": "stream",
       "stream": "stdout",
       "text": [
        "139641\n",
        "Rate limit (4631, 5000)\n",
        "campeterson\n",
        "Processed"
       ]
      },
      {
       "output_type": "stream",
       "stream": "stdout",
       "text": [
        " 817 stargazers' starred repos\n",
        "Num nodes/edges in graph 58997 / "
       ]
      },
      {
       "output_type": "stream",
       "stream": "stdout",
       "text": [
        "140133\n",
        "Rate limit (4626, 5000)\n",
        "kelvincobanaj\n",
        "Processed"
       ]
      },
      {
       "output_type": "stream",
       "stream": "stdout",
       "text": [
        " 818 stargazers' starred repos\n",
        "Num nodes/edges in graph 59041 / "
       ]
      },
      {
       "output_type": "stream",
       "stream": "stdout",
       "text": [
        "140388\n",
        "Rate limit (4623, 5000)\n",
        "toori67\n",
        "Processed"
       ]
      },
      {
       "output_type": "stream",
       "stream": "stdout",
       "text": [
        " 819 stargazers' starred repos\n",
        "Num nodes/edges in graph 59043 / "
       ]
      },
      {
       "output_type": "stream",
       "stream": "stdout",
       "text": [
        "140392\n",
        "Rate limit (4622, 5000)\n",
        "cchamma\n",
        "Processed"
       ]
      },
      {
       "output_type": "stream",
       "stream": "stdout",
       "text": [
        " 820 stargazers' starred repos\n",
        "Num nodes/edges in graph 59043 / "
       ]
      },
      {
       "output_type": "stream",
       "stream": "stdout",
       "text": [
        "140392\n",
        "Rate limit (4621, 5000)\n",
        "Brhett\n",
        "Processed"
       ]
      },
      {
       "output_type": "stream",
       "stream": "stdout",
       "text": [
        " 821 stargazers' starred repos\n",
        "Num nodes/edges in graph 59045 / "
       ]
      },
      {
       "output_type": "stream",
       "stream": "stdout",
       "text": [
        "140400\n",
        "Rate limit (4620, 5000)\n",
        "likaiguo\n",
        "Processed"
       ]
      },
      {
       "output_type": "stream",
       "stream": "stdout",
       "text": [
        " 822 stargazers' starred repos\n",
        "Num nodes/edges in graph 59060 / "
       ]
      },
      {
       "output_type": "stream",
       "stream": "stdout",
       "text": [
        "140472\n",
        "Rate limit (4619, 5000)\n",
        "forrest001\n",
        "Processed"
       ]
      },
      {
       "output_type": "stream",
       "stream": "stdout",
       "text": [
        " 823 stargazers' starred repos\n",
        "Num nodes/edges in graph 59085 / "
       ]
      },
      {
       "output_type": "stream",
       "stream": "stdout",
       "text": [
        "140655\n",
        "Rate limit (4617, 5000)\n",
        "chc170\n",
        "Processed"
       ]
      },
      {
       "output_type": "stream",
       "stream": "stdout",
       "text": [
        " 824 stargazers' starred repos\n",
        "Num nodes/edges in graph 59098 / "
       ]
      },
      {
       "output_type": "stream",
       "stream": "stdout",
       "text": [
        "140720\n",
        "Rate limit (4616, 5000)\n",
        "oskar-j\n",
        "Processed"
       ]
      },
      {
       "output_type": "stream",
       "stream": "stdout",
       "text": [
        " 825 stargazers' starred repos\n",
        "Num nodes/edges in graph 59113 / "
       ]
      },
      {
       "output_type": "stream",
       "stream": "stdout",
       "text": [
        "140760\n",
        "Rate limit (4615, 5000)\n",
        "liuyix\n",
        "Processed"
       ]
      },
      {
       "output_type": "stream",
       "stream": "stdout",
       "text": [
        " 826 stargazers' starred repos\n",
        "Num nodes/edges in graph 59170 / "
       ]
      },
      {
       "output_type": "stream",
       "stream": "stdout",
       "text": [
        "140946\n",
        "Rate limit (4613, 5000)\n",
        "rohithadassanayake\n",
        "Processed"
       ]
      },
      {
       "output_type": "stream",
       "stream": "stdout",
       "text": [
        " 827 stargazers' starred repos\n",
        "Num nodes/edges in graph 59249 / "
       ]
      },
      {
       "output_type": "stream",
       "stream": "stdout",
       "text": [
        "141212\n",
        "Rate limit (4610, 5000)\n",
        "PittyXu\n",
        "Processed"
       ]
      },
      {
       "output_type": "stream",
       "stream": "stdout",
       "text": [
        " 828 stargazers' starred repos\n",
        "Num nodes/edges in graph 59270 / "
       ]
      },
      {
       "output_type": "stream",
       "stream": "stdout",
       "text": [
        "141339\n",
        "Rate limit (4608, 5000)\n",
        "lovej\n",
        "Processed"
       ]
      },
      {
       "output_type": "stream",
       "stream": "stdout",
       "text": [
        " 829 stargazers' starred repos\n",
        "Num nodes/edges in graph 59271 / "
       ]
      },
      {
       "output_type": "stream",
       "stream": "stdout",
       "text": [
        "141340\n",
        "Rate limit (4607, 5000)\n",
        "arnab-chakrabarti\n",
        "Processed"
       ]
      },
      {
       "output_type": "stream",
       "stream": "stdout",
       "text": [
        " 830 stargazers' starred repos\n",
        "Num nodes/edges in graph 59271 / "
       ]
      },
      {
       "output_type": "stream",
       "stream": "stdout",
       "text": [
        "141340\n",
        "Rate limit (4606, 5000)\n",
        "booyildirim\n",
        "Processed"
       ]
      },
      {
       "output_type": "stream",
       "stream": "stdout",
       "text": [
        " 831 stargazers' starred repos\n",
        "Num nodes/edges in graph 59271 / "
       ]
      },
      {
       "output_type": "stream",
       "stream": "stdout",
       "text": [
        "141341\n",
        "Rate limit (4605, 5000)\n",
        "jph98\n",
        "Processed"
       ]
      },
      {
       "output_type": "stream",
       "stream": "stdout",
       "text": [
        " 832 stargazers' starred repos\n",
        "Num nodes/edges in graph 59322 / "
       ]
      },
      {
       "output_type": "stream",
       "stream": "stdout",
       "text": [
        "141481\n",
        "Rate limit (4603, 5000)\n",
        "gracaninja\n",
        "Processed"
       ]
      },
      {
       "output_type": "stream",
       "stream": "stdout",
       "text": [
        " 833 stargazers' starred repos\n",
        "Num nodes/edges in graph 59324 / "
       ]
      },
      {
       "output_type": "stream",
       "stream": "stdout",
       "text": [
        "141489\n",
        "Rate limit (4602, 5000)\n",
        "soumyasd"
       ]
      },
      {
       "output_type": "stream",
       "stream": "stdout",
       "text": [
        "\n",
        "Processed"
       ]
      },
      {
       "output_type": "stream",
       "stream": "stdout",
       "text": [
        " 834 stargazers' starred repos\n",
        "Num nodes/edges in graph 59448 / "
       ]
      },
      {
       "output_type": "stream",
       "stream": "stdout",
       "text": [
        "141986\n",
        "Rate limit (4597, 5000)\n",
        "antiviruser\n",
        "Processed"
       ]
      },
      {
       "output_type": "stream",
       "stream": "stdout",
       "text": [
        " 835 stargazers' starred repos\n",
        "Num nodes/edges in graph 59478 / "
       ]
      },
      {
       "output_type": "stream",
       "stream": "stdout",
       "text": [
        "142090\n",
        "Rate limit (4595, 5000)\n",
        "zeristor\n",
        "Processed"
       ]
      },
      {
       "output_type": "stream",
       "stream": "stdout",
       "text": [
        " 836 stargazers' starred repos\n",
        "Num nodes/edges in graph 59503 / "
       ]
      },
      {
       "output_type": "stream",
       "stream": "stdout",
       "text": [
        "142196\n",
        "Rate limit (4593, 5000)\n",
        "jasonyaowu\n",
        "Processed"
       ]
      },
      {
       "output_type": "stream",
       "stream": "stdout",
       "text": [
        " 837 stargazers' starred repos\n",
        "Num nodes/edges in graph 59503 / "
       ]
      },
      {
       "output_type": "stream",
       "stream": "stdout",
       "text": [
        "142234\n",
        "Rate limit (4592, 5000)\n",
        "wangrn\n",
        "Processed"
       ]
      },
      {
       "output_type": "stream",
       "stream": "stdout",
       "text": [
        " 838 stargazers' starred repos\n",
        "Num nodes/edges in graph 59509 / "
       ]
      },
      {
       "output_type": "stream",
       "stream": "stdout",
       "text": [
        "142282\n",
        "Rate limit (4591, 5000)\n",
        "abhi92\n",
        "Processed"
       ]
      },
      {
       "output_type": "stream",
       "stream": "stdout",
       "text": [
        " 839 stargazers' starred repos\n",
        "Num nodes/edges in graph 59510 / "
       ]
      },
      {
       "output_type": "stream",
       "stream": "stdout",
       "text": [
        "142290\n",
        "Rate limit (4590, 5000)\n",
        "shahkushan1\n",
        "Processed"
       ]
      },
      {
       "output_type": "stream",
       "stream": "stdout",
       "text": [
        " 840 stargazers' starred repos\n",
        "Num nodes/edges in graph 59516 / "
       ]
      },
      {
       "output_type": "stream",
       "stream": "stdout",
       "text": [
        "142346\n",
        "Rate limit (4589, 5000)\n",
        "hisakato\n",
        "Processed"
       ]
      },
      {
       "output_type": "stream",
       "stream": "stdout",
       "text": [
        " 841 stargazers' starred repos\n",
        "Num nodes/edges in graph 59517 / "
       ]
      },
      {
       "output_type": "stream",
       "stream": "stdout",
       "text": [
        "142352\n",
        "Rate limit (4588, 5000)\n",
        "zihaolucky\n",
        "Processed"
       ]
      },
      {
       "output_type": "stream",
       "stream": "stdout",
       "text": [
        " 842 stargazers' starred repos\n",
        "Num nodes/edges in graph 59532 / "
       ]
      },
      {
       "output_type": "stream",
       "stream": "stdout",
       "text": [
        "142397\n",
        "Rate limit (4587, 5000)\n",
        "twistdroach\n",
        "Processed"
       ]
      },
      {
       "output_type": "stream",
       "stream": "stdout",
       "text": [
        " 843 stargazers' starred repos\n",
        "Num nodes/edges in graph 59537 / "
       ]
      },
      {
       "output_type": "stream",
       "stream": "stdout",
       "text": [
        "142425\n",
        "Rate limit (4586, 5000)\n",
        "slimsymphony\n",
        "Processed"
       ]
      },
      {
       "output_type": "stream",
       "stream": "stdout",
       "text": [
        " 844 stargazers' starred repos\n",
        "Num nodes/edges in graph 59582 / "
       ]
      },
      {
       "output_type": "stream",
       "stream": "stdout",
       "text": [
        "142645\n",
        "Rate limit (4583, 5000)\n",
        "jannson\n",
        "Processed"
       ]
      },
      {
       "output_type": "stream",
       "stream": "stdout",
       "text": [
        " 845 stargazers' starred repos\n",
        "Num nodes/edges in graph 59622 / "
       ]
      },
      {
       "output_type": "stream",
       "stream": "stdout",
       "text": [
        "142769\n",
        "Rate limit (4581, 5000)\n",
        "jfca\n",
        "Processed"
       ]
      },
      {
       "output_type": "stream",
       "stream": "stdout",
       "text": [
        " 846 stargazers' starred repos\n",
        "Num nodes/edges in graph 59636 / "
       ]
      },
      {
       "output_type": "stream",
       "stream": "stdout",
       "text": [
        "142805\n",
        "Rate limit (4580, 5000)\n",
        "elidupuis\n",
        "Processed"
       ]
      },
      {
       "output_type": "stream",
       "stream": "stdout",
       "text": [
        " 847 stargazers' starred repos\n",
        "Num nodes/edges in graph 59669 / "
       ]
      },
      {
       "output_type": "stream",
       "stream": "stdout",
       "text": [
        "143015\n",
        "Rate limit (4577, 5000)\n",
        "gcavn\n",
        "Processed"
       ]
      },
      {
       "output_type": "stream",
       "stream": "stdout",
       "text": [
        " 848 stargazers' starred repos\n",
        "Num nodes/edges in graph 59680 / "
       ]
      },
      {
       "output_type": "stream",
       "stream": "stdout",
       "text": [
        "143089\n",
        "Rate limit (4576, 5000)\n",
        "samuel\n",
        "Processed"
       ]
      },
      {
       "output_type": "stream",
       "stream": "stdout",
       "text": [
        " 849 stargazers' starred repos\n",
        "Num nodes/edges in graph 59830 / "
       ]
      },
      {
       "output_type": "stream",
       "stream": "stdout",
       "text": [
        "143571\n",
        "Rate limit (4571, 5000)\n",
        "cobblest\n",
        "Processed"
       ]
      },
      {
       "output_type": "stream",
       "stream": "stdout",
       "text": [
        " 850 stargazers' starred repos\n",
        "Num nodes/edges in graph 59830 / "
       ]
      },
      {
       "output_type": "stream",
       "stream": "stdout",
       "text": [
        "143571\n",
        "Rate limit (4570, 5000)\n",
        "ethanhu\n",
        "Processed"
       ]
      },
      {
       "output_type": "stream",
       "stream": "stdout",
       "text": [
        " 851 stargazers' starred repos\n",
        "Num nodes/edges in graph 59830 / "
       ]
      },
      {
       "output_type": "stream",
       "stream": "stdout",
       "text": [
        "143577\n",
        "Rate limit (4569, 5000)\n",
        "holys\n",
        "Processed"
       ]
      },
      {
       "output_type": "stream",
       "stream": "stdout",
       "text": [
        " 852 stargazers' starred repos\n",
        "Num nodes/edges in graph 59918 / "
       ]
      },
      {
       "output_type": "stream",
       "stream": "stdout",
       "text": [
        "144070\n",
        "Rate limit (4564, 5000)\n",
        "beinvest\n",
        "Processed"
       ]
      },
      {
       "output_type": "stream",
       "stream": "stdout",
       "text": [
        " 853 stargazers' starred repos\n",
        "Num nodes/edges in graph 59935 / "
       ]
      },
      {
       "output_type": "stream",
       "stream": "stdout",
       "text": [
        "144150\n",
        "Rate limit (4563, 5000)\n",
        "tankle\n",
        "Processed"
       ]
      },
      {
       "output_type": "stream",
       "stream": "stdout",
       "text": [
        " 854 stargazers' starred repos\n",
        "Num nodes/edges in graph 59948 / "
       ]
      },
      {
       "output_type": "stream",
       "stream": "stdout",
       "text": [
        "144216\n",
        "Rate limit (4562, 5000)\n",
        "eujinkim\n",
        "Processed"
       ]
      },
      {
       "output_type": "stream",
       "stream": "stdout",
       "text": [
        " 855 stargazers' starred repos\n",
        "Num nodes/edges in graph 59948 / "
       ]
      },
      {
       "output_type": "stream",
       "stream": "stdout",
       "text": [
        "144222\n",
        "Rate limit (4561, 5000)\n",
        "qxde01\n",
        "Processed"
       ]
      },
      {
       "output_type": "stream",
       "stream": "stdout",
       "text": [
        " 856 stargazers' starred repos\n",
        "Num nodes/edges in graph 59952 / "
       ]
      },
      {
       "output_type": "stream",
       "stream": "stdout",
       "text": [
        "144227\n",
        "Rate limit (4560, 5000)\n",
        "lucassbgomes\n",
        "Processed"
       ]
      },
      {
       "output_type": "stream",
       "stream": "stdout",
       "text": [
        " 857 stargazers' starred repos\n",
        "Num nodes/edges in graph 59952 / "
       ]
      },
      {
       "output_type": "stream",
       "stream": "stdout",
       "text": [
        "144227\n",
        "Rate limit (4559, 5000)\n",
        "paulhoule\n",
        "Processed"
       ]
      },
      {
       "output_type": "stream",
       "stream": "stdout",
       "text": [
        " 858 stargazers' starred repos\n",
        "Num nodes/edges in graph 59966 / "
       ]
      },
      {
       "output_type": "stream",
       "stream": "stdout",
       "text": [
        "144255\n",
        "Rate limit (4558, 5000)\n",
        "bowenli37\n",
        "Processed"
       ]
      },
      {
       "output_type": "stream",
       "stream": "stdout",
       "text": [
        " 859 stargazers' starred repos\n",
        "Num nodes/edges in graph 59982 / "
       ]
      },
      {
       "output_type": "stream",
       "stream": "stdout",
       "text": [
        "144299\n",
        "Rate limit (4557, 5000)\n",
        "carlplant\n",
        "Processed"
       ]
      },
      {
       "output_type": "stream",
       "stream": "stdout",
       "text": [
        " 860 stargazers' starred repos\n",
        "Num nodes/edges in graph 59987 / "
       ]
      },
      {
       "output_type": "stream",
       "stream": "stdout",
       "text": [
        "144318\n",
        "Rate limit (4556, 5000)\n",
        "gavelez\n",
        "Processed"
       ]
      },
      {
       "output_type": "stream",
       "stream": "stdout",
       "text": [
        " 861 stargazers' starred repos\n",
        "Num nodes/edges in graph 59997 / "
       ]
      },
      {
       "output_type": "stream",
       "stream": "stdout",
       "text": [
        "144350\n",
        "Rate limit (4555, 5000)\n",
        "enulex\n",
        "Processed"
       ]
      },
      {
       "output_type": "stream",
       "stream": "stdout",
       "text": [
        " 862 stargazers' starred repos\n",
        "Num nodes/edges in graph 60023 / "
       ]
      },
      {
       "output_type": "stream",
       "stream": "stdout",
       "text": [
        "144653\n",
        "Rate limit (4551, 5000)\n",
        "babumathew\n",
        "Processed"
       ]
      },
      {
       "output_type": "stream",
       "stream": "stdout",
       "text": [
        " 863 stargazers' starred repos\n",
        "Num nodes/edges in graph 60023 / "
       ]
      },
      {
       "output_type": "stream",
       "stream": "stdout",
       "text": [
        "144653\n",
        "Rate limit (4550, 5000)\n",
        "JK-SUN\n",
        "Processed"
       ]
      },
      {
       "output_type": "stream",
       "stream": "stdout",
       "text": [
        " 864 stargazers' starred repos\n",
        "Num nodes/edges in graph 60029 / "
       ]
      },
      {
       "output_type": "stream",
       "stream": "stdout",
       "text": [
        "144659\n",
        "Rate limit (4549, 5000)\n",
        "rossant\n",
        "Processed"
       ]
      },
      {
       "output_type": "stream",
       "stream": "stdout",
       "text": [
        " 865 stargazers' starred repos\n",
        "Num nodes/edges in graph 60131 / "
       ]
      },
      {
       "output_type": "stream",
       "stream": "stdout",
       "text": [
        "145020\n",
        "Rate limit (4545, 5000)\n",
        "jasonzzz\n",
        "Processed"
       ]
      },
      {
       "output_type": "stream",
       "stream": "stdout",
       "text": [
        " 866 stargazers' starred repos\n",
        "Num nodes/edges in graph 60178 / "
       ]
      },
      {
       "output_type": "stream",
       "stream": "stdout",
       "text": [
        "145253\n",
        "Rate limit (4542, 5000)\n",
        "yxlwfds\n",
        "Processed"
       ]
      },
      {
       "output_type": "stream",
       "stream": "stdout",
       "text": [
        " 867 stargazers' starred repos\n",
        "Num nodes/edges in graph 60230 / "
       ]
      },
      {
       "output_type": "stream",
       "stream": "stdout",
       "text": [
        "145409\n",
        "Rate limit (4540, 5000)\n",
        "danieljjh\n",
        "Processed"
       ]
      },
      {
       "output_type": "stream",
       "stream": "stdout",
       "text": [
        " 868 stargazers' starred repos\n",
        "Num nodes/edges in graph 60247 / "
       ]
      },
      {
       "output_type": "stream",
       "stream": "stdout",
       "text": [
        "145485\n",
        "Rate limit (4539, 5000)\n",
        "longislandicetea\n",
        "Processed"
       ]
      },
      {
       "output_type": "stream",
       "stream": "stdout",
       "text": [
        " 869 stargazers' starred repos\n",
        "Num nodes/edges in graph 60258 / "
       ]
      },
      {
       "output_type": "stream",
       "stream": "stdout",
       "text": [
        "145510\n",
        "Rate limit (4538, 5000)\n",
        "denkyemx\n",
        "Processed"
       ]
      },
      {
       "output_type": "stream",
       "stream": "stdout",
       "text": [
        " 870 stargazers' starred repos\n",
        "Num nodes/edges in graph 60314 / "
       ]
      },
      {
       "output_type": "stream",
       "stream": "stdout",
       "text": [
        "145829\n",
        "Rate limit (4534, 5000)\n",
        "fcojperez\n",
        "Processed"
       ]
      },
      {
       "output_type": "stream",
       "stream": "stdout",
       "text": [
        " 871 stargazers' starred repos\n",
        "Num nodes/edges in graph 60314 / "
       ]
      },
      {
       "output_type": "stream",
       "stream": "stdout",
       "text": [
        "145832\n",
        "Rate limit (4533, 5000)\n",
        "tokestermw\n",
        "Processed"
       ]
      },
      {
       "output_type": "stream",
       "stream": "stdout",
       "text": [
        " 872 stargazers' starred repos\n",
        "Num nodes/edges in graph 60316 / "
       ]
      },
      {
       "output_type": "stream",
       "stream": "stdout",
       "text": [
        "145853\n",
        "Rate limit (4532, 5000)\n",
        "lvspais\n",
        "Processed"
       ]
      },
      {
       "output_type": "stream",
       "stream": "stdout",
       "text": [
        " 873 stargazers' starred repos\n",
        "Num nodes/edges in graph 60356 / "
       ]
      },
      {
       "output_type": "stream",
       "stream": "stdout",
       "text": [
        "146083\n",
        "Rate limit (4529, 5000)\n",
        "gitmmeanwell\n",
        "Processed"
       ]
      },
      {
       "output_type": "stream",
       "stream": "stdout",
       "text": [
        " 874 stargazers' starred repos\n",
        "Num nodes/edges in graph 60356 / "
       ]
      },
      {
       "output_type": "stream",
       "stream": "stdout",
       "text": [
        "146085\n",
        "Rate limit (4528, 5000)\n",
        "mgalushka\n",
        "Processed"
       ]
      },
      {
       "output_type": "stream",
       "stream": "stdout",
       "text": [
        " 875 stargazers' starred repos\n",
        "Num nodes/edges in graph 60390 / "
       ]
      },
      {
       "output_type": "stream",
       "stream": "stdout",
       "text": [
        "146169\n",
        "Rate limit (4527, 5000)\n",
        "Erict19\n",
        "Processed"
       ]
      },
      {
       "output_type": "stream",
       "stream": "stdout",
       "text": [
        " 876 stargazers' starred repos\n",
        "Num nodes/edges in graph 60392 / "
       ]
      },
      {
       "output_type": "stream",
       "stream": "stdout",
       "text": [
        "146190\n",
        "Rate limit (4526, 5000)\n",
        "fakber\n",
        "Processed"
       ]
      },
      {
       "output_type": "stream",
       "stream": "stdout",
       "text": [
        " 877 stargazers' starred repos\n",
        "Num nodes/edges in graph 60397 / "
       ]
      },
      {
       "output_type": "stream",
       "stream": "stdout",
       "text": [
        "146221\n",
        "Rate limit (4525, 5000)\n",
        "mattharrison\n",
        "Processed"
       ]
      },
      {
       "output_type": "stream",
       "stream": "stdout",
       "text": [
        " 878 stargazers' starred repos\n",
        "Num nodes/edges in graph 60498 / "
       ]
      },
      {
       "output_type": "stream",
       "stream": "stdout",
       "text": [
        "146566\n",
        "Rate limit (4521, 5000)\n",
        "slaporte\n",
        "Processed"
       ]
      },
      {
       "output_type": "stream",
       "stream": "stdout",
       "text": [
        " 879 stargazers' starred repos\n",
        "Num nodes/edges in graph 60569 / "
       ]
      },
      {
       "output_type": "stream",
       "stream": "stdout",
       "text": [
        "146693\n",
        "Rate limit (4519, 5000)\n",
        "alecnascimento\n",
        "Processed"
       ]
      },
      {
       "output_type": "stream",
       "stream": "stdout",
       "text": [
        " 880 stargazers' starred repos\n",
        "Num nodes/edges in graph 60580 / "
       ]
      },
      {
       "output_type": "stream",
       "stream": "stdout",
       "text": [
        "146722\n",
        "Rate limit (4518, 5000)\n",
        "lixiaojun\n",
        "Processed"
       ]
      },
      {
       "output_type": "stream",
       "stream": "stdout",
       "text": [
        " 881 stargazers' starred repos\n",
        "Num nodes/edges in graph 60599 / "
       ]
      },
      {
       "output_type": "stream",
       "stream": "stdout",
       "text": [
        "146842\n",
        "Rate limit (4516, 5000)\n",
        "hupili\n",
        "Processed"
       ]
      },
      {
       "output_type": "stream",
       "stream": "stdout",
       "text": [
        " 882 stargazers' starred repos\n",
        "Num nodes/edges in graph 60709 / "
       ]
      },
      {
       "output_type": "stream",
       "stream": "stdout",
       "text": [
        "147335\n",
        "Rate limit (4511, 5000)\n",
        "allen3921\n",
        "Processed"
       ]
      },
      {
       "output_type": "stream",
       "stream": "stdout",
       "text": [
        " 883 stargazers' starred repos\n",
        "Num nodes/edges in graph 60711 / "
       ]
      },
      {
       "output_type": "stream",
       "stream": "stdout",
       "text": [
        "147340\n",
        "Rate limit (4510, 5000)\n",
        "Thawab\n",
        "Processed"
       ]
      },
      {
       "output_type": "stream",
       "stream": "stdout",
       "text": [
        " 884 stargazers' starred repos\n",
        "Num nodes/edges in graph 60749 / "
       ]
      },
      {
       "output_type": "stream",
       "stream": "stdout",
       "text": [
        "147644\n",
        "Rate limit (4506, 5000)\n",
        "bcho\n",
        "Processed"
       ]
      },
      {
       "output_type": "stream",
       "stream": "stdout",
       "text": [
        " 885 stargazers' starred repos\n",
        "Num nodes/edges in graph 60886 / "
       ]
      },
      {
       "output_type": "stream",
       "stream": "stdout",
       "text": [
        "148140\n",
        "Rate limit (4501, 5000)\n",
        "ironico\n",
        "Processed"
       ]
      },
      {
       "output_type": "stream",
       "stream": "stdout",
       "text": [
        " 886 stargazers' starred repos\n",
        "Num nodes/edges in graph 60900 / "
       ]
      },
      {
       "output_type": "stream",
       "stream": "stdout",
       "text": [
        "148192\n",
        "Rate limit (4500, 5000)\n",
        "rickixie\n",
        "Processed"
       ]
      },
      {
       "output_type": "stream",
       "stream": "stdout",
       "text": [
        " 887 stargazers' starred repos\n",
        "Num nodes/edges in graph 60901 / "
       ]
      },
      {
       "output_type": "stream",
       "stream": "stdout",
       "text": [
        "148202\n",
        "Rate limit (4499, 5000)\n",
        "bryantly\n",
        "Processed"
       ]
      },
      {
       "output_type": "stream",
       "stream": "stdout",
       "text": [
        " 888 stargazers' starred repos\n",
        "Num nodes/edges in graph 60903 / "
       ]
      },
      {
       "output_type": "stream",
       "stream": "stdout",
       "text": [
        "148280\n",
        "Rate limit (4498, 5000)\n",
        "Chunkplus\n",
        "Processed"
       ]
      },
      {
       "output_type": "stream",
       "stream": "stdout",
       "text": [
        " 889 stargazers' starred repos\n",
        "Num nodes/edges in graph 60904 / "
       ]
      },
      {
       "output_type": "stream",
       "stream": "stdout",
       "text": [
        "148282\n",
        "Rate limit (4497, 5000)\n",
        "h2rd\n",
        "Processed"
       ]
      },
      {
       "output_type": "stream",
       "stream": "stdout",
       "text": [
        " 890 stargazers' starred repos\n",
        "Num nodes/edges in graph 61000 / "
       ]
      },
      {
       "output_type": "stream",
       "stream": "stdout",
       "text": [
        "148644\n",
        "Rate limit (4493, 5000)\n",
        "Phate303\n",
        "Processed"
       ]
      },
      {
       "output_type": "stream",
       "stream": "stdout",
       "text": [
        " 891 stargazers' starred repos\n",
        "Num nodes/edges in graph 61001 / "
       ]
      },
      {
       "output_type": "stream",
       "stream": "stdout",
       "text": [
        "148653\n",
        "Rate limit (4492, 5000)\n",
        "mduering\n",
        "Processed"
       ]
      },
      {
       "output_type": "stream",
       "stream": "stdout",
       "text": [
        " 892 stargazers' starred repos\n",
        "Num nodes/edges in graph 61002 / "
       ]
      },
      {
       "output_type": "stream",
       "stream": "stdout",
       "text": [
        "148654\n",
        "Rate limit (4491, 5000)\n",
        "timelyportfolio\n",
        "Processed"
       ]
      },
      {
       "output_type": "stream",
       "stream": "stdout",
       "text": [
        " 893 stargazers' starred repos\n",
        "Num nodes/edges in graph 61226 / "
       ]
      },
      {
       "output_type": "stream",
       "stream": "stdout",
       "text": [
        "149149\n",
        "Rate limit (4486, 5000)\n",
        "hellysmile\n",
        "Processed"
       ]
      },
      {
       "output_type": "stream",
       "stream": "stdout",
       "text": [
        " 894 stargazers' starred repos\n",
        "Num nodes/edges in graph 61341 / "
       ]
      },
      {
       "output_type": "stream",
       "stream": "stdout",
       "text": [
        "149646\n",
        "Rate limit (4481, 5000)\n",
        "Jojas\n",
        "Processed"
       ]
      },
      {
       "output_type": "stream",
       "stream": "stdout",
       "text": [
        " 895 stargazers' starred repos\n",
        "Num nodes/edges in graph 61350 / "
       ]
      },
      {
       "output_type": "stream",
       "stream": "stdout",
       "text": [
        "149674\n",
        "Rate limit (4480, 5000)\n",
        "zhgwen\n",
        "Processed"
       ]
      },
      {
       "output_type": "stream",
       "stream": "stdout",
       "text": [
        " 896 stargazers' starred repos\n",
        "Num nodes/edges in graph 61363 / "
       ]
      },
      {
       "output_type": "stream",
       "stream": "stdout",
       "text": [
        "149751\n",
        "Rate limit (4479, 5000)\n",
        "lhanalytics\n",
        "Processed"
       ]
      },
      {
       "output_type": "stream",
       "stream": "stdout",
       "text": [
        " 897 stargazers' starred repos\n",
        "Num nodes/edges in graph 61364 / "
       ]
      },
      {
       "output_type": "stream",
       "stream": "stdout",
       "text": [
        "149764\n",
        "Rate limit (4478, 5000)\n",
        "eddyzhou\n",
        "Processed"
       ]
      },
      {
       "output_type": "stream",
       "stream": "stdout",
       "text": [
        " 898 stargazers' starred repos\n",
        "Num nodes/edges in graph 61389 / "
       ]
      },
      {
       "output_type": "stream",
       "stream": "stdout",
       "text": [
        "149907\n",
        "Rate limit (4476, 5000)\n",
        "KRostyslav\n",
        "Processed"
       ]
      },
      {
       "output_type": "stream",
       "stream": "stdout",
       "text": [
        " 899 stargazers' starred repos\n",
        "Num nodes/edges in graph 61402 / "
       ]
      },
      {
       "output_type": "stream",
       "stream": "stdout",
       "text": [
        "149938\n",
        "Rate limit (4475, 5000)\n",
        "FGRibreau\n",
        "Processed"
       ]
      },
      {
       "output_type": "stream",
       "stream": "stdout",
       "text": [
        " 900 stargazers' starred repos\n",
        "Num nodes/edges in graph 61647 / "
       ]
      },
      {
       "output_type": "stream",
       "stream": "stdout",
       "text": [
        "150425\n",
        "Rate limit (4470, 5000)\n",
        "temberature\n",
        "Processed"
       ]
      },
      {
       "output_type": "stream",
       "stream": "stdout",
       "text": [
        " 901 stargazers' starred repos\n",
        "Num nodes/edges in graph 61695 / "
       ]
      },
      {
       "output_type": "stream",
       "stream": "stdout",
       "text": [
        "150689\n",
        "Rate limit (4467, 5000)\n",
        "brycepj\n",
        "Processed"
       ]
      },
      {
       "output_type": "stream",
       "stream": "stdout",
       "text": [
        " 902 stargazers' starred repos\n",
        "Num nodes/edges in graph 61709 / "
       ]
      },
      {
       "output_type": "stream",
       "stream": "stdout",
       "text": [
        "150766\n",
        "Rate limit (4466, 5000)\n",
        "callard\n",
        "Processed"
       ]
      },
      {
       "output_type": "stream",
       "stream": "stdout",
       "text": [
        " 903 stargazers' starred repos\n",
        "Num nodes/edges in graph 61730 / "
       ]
      },
      {
       "output_type": "stream",
       "stream": "stdout",
       "text": [
        "150852\n",
        "Rate limit (4465, 5000)\n",
        "seanschang\n",
        "Processed"
       ]
      },
      {
       "output_type": "stream",
       "stream": "stdout",
       "text": [
        " 904 stargazers' starred repos\n",
        "Num nodes/edges in graph 61730 / "
       ]
      },
      {
       "output_type": "stream",
       "stream": "stdout",
       "text": [
        "150872\n",
        "Rate limit (4464, 5000)\n",
        "akton\n",
        "Processed"
       ]
      },
      {
       "output_type": "stream",
       "stream": "stdout",
       "text": [
        " 905 stargazers' starred repos\n",
        "Num nodes/edges in graph 61730 / "
       ]
      },
      {
       "output_type": "stream",
       "stream": "stdout",
       "text": [
        "150873\n",
        "Rate limit (4463, 5000)\n",
        "maxtheman\n",
        "Processed"
       ]
      },
      {
       "output_type": "stream",
       "stream": "stdout",
       "text": [
        " 906 stargazers' starred repos\n",
        "Num nodes/edges in graph 61731 / "
       ]
      },
      {
       "output_type": "stream",
       "stream": "stdout",
       "text": [
        "150881\n",
        "Rate limit (4462, 5000)\n",
        "coodoing\n",
        "Processed"
       ]
      },
      {
       "output_type": "stream",
       "stream": "stdout",
       "text": [
        " 907 stargazers' starred repos\n",
        "Num nodes/edges in graph 61754 / "
       ]
      },
      {
       "output_type": "stream",
       "stream": "stdout",
       "text": [
        "151086\n",
        "Rate limit (4459, 5000)\n",
        "yicaoyimu\n",
        "Processed"
       ]
      },
      {
       "output_type": "stream",
       "stream": "stdout",
       "text": [
        " 908 stargazers' starred repos\n",
        "Num nodes/edges in graph 61754 / "
       ]
      },
      {
       "output_type": "stream",
       "stream": "stdout",
       "text": [
        "151086\n",
        "Rate limit (4458, 5000)\n",
        "chilijung\n",
        "Processed"
       ]
      },
      {
       "output_type": "stream",
       "stream": "stdout",
       "text": [
        " 909 stargazers' starred repos\n",
        "Num nodes/edges in graph 61853 / "
       ]
      },
      {
       "output_type": "stream",
       "stream": "stdout",
       "text": [
        "151578\n",
        "Rate limit (4453, 5000)\n",
        "cmarat\n",
        "Processed"
       ]
      },
      {
       "output_type": "stream",
       "stream": "stdout",
       "text": [
        " 910 stargazers' starred repos\n",
        "Num nodes/edges in graph 61864 / "
       ]
      },
      {
       "output_type": "stream",
       "stream": "stdout",
       "text": [
        "151615\n",
        "Rate limit (4452, 5000)\n",
        "lifeforaiur\n",
        "Processed"
       ]
      },
      {
       "output_type": "stream",
       "stream": "stdout",
       "text": [
        " 911 stargazers' starred repos\n",
        "Num nodes/edges in graph 61878 / "
       ]
      },
      {
       "output_type": "stream",
       "stream": "stdout",
       "text": [
        "151657\n",
        "Rate limit (4451, 5000)\n",
        "cjf4\n",
        "Processed"
       ]
      },
      {
       "output_type": "stream",
       "stream": "stdout",
       "text": [
        " 912 stargazers' starred repos\n",
        "Num nodes/edges in graph 61879 / "
       ]
      },
      {
       "output_type": "stream",
       "stream": "stdout",
       "text": [
        "151659\n",
        "Rate limit (4450, 5000)\n",
        "yeeyou\n",
        "Processed"
       ]
      },
      {
       "output_type": "stream",
       "stream": "stdout",
       "text": [
        " 913 stargazers' starred repos\n",
        "Num nodes/edges in graph 61922 / "
       ]
      },
      {
       "output_type": "stream",
       "stream": "stdout",
       "text": [
        "151809\n",
        "Rate limit (4448, 5000)\n",
        "Geek4IT\n",
        "Processed"
       ]
      },
      {
       "output_type": "stream",
       "stream": "stdout",
       "text": [
        " 914 stargazers' starred repos\n",
        "Num nodes/edges in graph 61951 / "
       ]
      },
      {
       "output_type": "stream",
       "stream": "stdout",
       "text": [
        "151949\n",
        "Rate limit (4446, 5000)\n",
        "softpurkelly\n",
        "Processed"
       ]
      },
      {
       "output_type": "stream",
       "stream": "stdout",
       "text": [
        " 915 stargazers' starred repos\n",
        "Num nodes/edges in graph 61951 / "
       ]
      },
      {
       "output_type": "stream",
       "stream": "stdout",
       "text": [
        "151951\n",
        "Rate limit (4445, 5000)\n",
        "zhaodylan\n",
        "Processed"
       ]
      },
      {
       "output_type": "stream",
       "stream": "stdout",
       "text": [
        " 916 stargazers' starred repos\n",
        "Num nodes/edges in graph 61957 / "
       ]
      },
      {
       "output_type": "stream",
       "stream": "stdout",
       "text": [
        "152008\n",
        "Rate limit (4444, 5000)\n",
        "qsoomro\n",
        "Processed"
       ]
      },
      {
       "output_type": "stream",
       "stream": "stdout",
       "text": [
        " 917 stargazers' starred repos\n",
        "Num nodes/edges in graph 62011 / "
       ]
      },
      {
       "output_type": "stream",
       "stream": "stdout",
       "text": [
        "152192\n",
        "Rate limit (4442, 5000)\n",
        "ChrisMcKee\n",
        "Processed"
       ]
      },
      {
       "output_type": "stream",
       "stream": "stdout",
       "text": [
        " 918 stargazers' starred repos\n",
        "Num nodes/edges in graph 62207 / "
       ]
      },
      {
       "output_type": "stream",
       "stream": "stdout",
       "text": [
        "152657\n",
        "Rate limit (4437, 5000)\n",
        "zavg\n",
        "Processed"
       ]
      },
      {
       "output_type": "stream",
       "stream": "stdout",
       "text": [
        " 919 stargazers' starred repos\n",
        "Num nodes/edges in graph 62242 / "
       ]
      },
      {
       "output_type": "stream",
       "stream": "stdout",
       "text": [
        "152820\n",
        "Rate limit (4435, 5000)\n",
        "WeiYoung\n",
        "Processed"
       ]
      },
      {
       "output_type": "stream",
       "stream": "stdout",
       "text": [
        " 920 stargazers' starred repos\n",
        "Num nodes/edges in graph 62244 / "
       ]
      },
      {
       "output_type": "stream",
       "stream": "stdout",
       "text": [
        "152835\n",
        "Rate limit (4434, 5000)\n",
        "omarayad1\n",
        "Processed"
       ]
      },
      {
       "output_type": "stream",
       "stream": "stdout",
       "text": [
        " 921 stargazers' starred repos\n",
        "Num nodes/edges in graph 62247 / "
       ]
      },
      {
       "output_type": "stream",
       "stream": "stdout",
       "text": [
        "152906\n",
        "Rate limit (4433, 5000)\n",
        "anylzer\n",
        "Processed"
       ]
      },
      {
       "output_type": "stream",
       "stream": "stdout",
       "text": [
        " 922 stargazers' starred repos\n",
        "Num nodes/edges in graph 62342 / "
       ]
      },
      {
       "output_type": "stream",
       "stream": "stdout",
       "text": [
        "153312\n",
        "Rate limit (4428, 5000)\n",
        "charlesgavin\n",
        "Processed"
       ]
      },
      {
       "output_type": "stream",
       "stream": "stdout",
       "text": [
        " 923 stargazers' starred repos\n",
        "Num nodes/edges in graph 62342 / "
       ]
      },
      {
       "output_type": "stream",
       "stream": "stdout",
       "text": [
        "153321\n",
        "Rate limit (4427, 5000)\n",
        "lizbew\n",
        "Processed"
       ]
      },
      {
       "output_type": "stream",
       "stream": "stdout",
       "text": [
        " 924 stargazers' starred repos\n",
        "Num nodes/edges in graph 62345 / "
       ]
      },
      {
       "output_type": "stream",
       "stream": "stdout",
       "text": [
        "153344\n",
        "Rate limit (4426, 5000)\n",
        "dayu321\n",
        "Processed"
       ]
      },
      {
       "output_type": "stream",
       "stream": "stdout",
       "text": [
        " 925 stargazers' starred repos\n",
        "Num nodes/edges in graph 62349 / "
       ]
      },
      {
       "output_type": "stream",
       "stream": "stdout",
       "text": [
        "153358\n",
        "Rate limit (4425, 5000)\n",
        "bertomartin\n",
        "Processed"
       ]
      },
      {
       "output_type": "stream",
       "stream": "stdout",
       "text": [
        " 926 stargazers' starred repos\n",
        "Num nodes/edges in graph 62520 / "
       ]
      },
      {
       "output_type": "stream",
       "stream": "stdout",
       "text": [
        "153851\n",
        "Rate limit (4420, 5000)\n",
        "sabanana\n",
        "Processed"
       ]
      },
      {
       "output_type": "stream",
       "stream": "stdout",
       "text": [
        " 927 stargazers' starred repos\n",
        "Num nodes/edges in graph 62521 / "
       ]
      },
      {
       "output_type": "stream",
       "stream": "stdout",
       "text": [
        "153853\n",
        "Rate limit (4419, 5000)\n",
        "Bllee\n",
        "Processed"
       ]
      },
      {
       "output_type": "stream",
       "stream": "stdout",
       "text": [
        " 928 stargazers' starred repos\n",
        "Num nodes/edges in graph 62527 / "
       ]
      },
      {
       "output_type": "stream",
       "stream": "stdout",
       "text": [
        "153874\n",
        "Rate limit (4418, 5000)\n",
        "hisuley\n",
        "Processed"
       ]
      },
      {
       "output_type": "stream",
       "stream": "stdout",
       "text": [
        " 929 stargazers' starred repos\n",
        "Num nodes/edges in graph 62527 / "
       ]
      },
      {
       "output_type": "stream",
       "stream": "stdout",
       "text": [
        "153882\n",
        "Rate limit (4417, 5000)\n",
        "bgriffen\n",
        "Processed"
       ]
      },
      {
       "output_type": "stream",
       "stream": "stdout",
       "text": [
        " 930 stargazers' starred repos\n",
        "Num nodes/edges in graph 62540 / "
       ]
      },
      {
       "output_type": "stream",
       "stream": "stdout",
       "text": [
        "153911\n",
        "Rate limit (4416, 5000)\n",
        "stepmr\n",
        "Processed"
       ]
      },
      {
       "output_type": "stream",
       "stream": "stdout",
       "text": [
        " 931 stargazers' starred repos\n",
        "Num nodes/edges in graph 62629 / "
       ]
      },
      {
       "output_type": "stream",
       "stream": "stdout",
       "text": [
        "154383\n",
        "Rate limit (4411, 5000)\n",
        "indiejoseph\n",
        "Processed"
       ]
      },
      {
       "output_type": "stream",
       "stream": "stdout",
       "text": [
        " 932 stargazers' starred repos\n",
        "Num nodes/edges in graph 62639 / "
       ]
      },
      {
       "output_type": "stream",
       "stream": "stdout",
       "text": [
        "154416\n",
        "Rate limit (4410, 5000)\n",
        "tracyliang18\n",
        "Processed"
       ]
      },
      {
       "output_type": "stream",
       "stream": "stdout",
       "text": [
        " 933 stargazers' starred repos\n",
        "Num nodes/edges in graph 62641 / "
       ]
      },
      {
       "output_type": "stream",
       "stream": "stdout",
       "text": [
        "154425\n",
        "Rate limit (4409, 5000)\n",
        "Tvli\n",
        "Processed"
       ]
      },
      {
       "output_type": "stream",
       "stream": "stdout",
       "text": [
        " 934 stargazers' starred repos\n",
        "Num nodes/edges in graph 62643 / "
       ]
      },
      {
       "output_type": "stream",
       "stream": "stdout",
       "text": [
        "154447\n",
        "Rate limit (4408, 5000)\n",
        "PowChow\n",
        "Processed"
       ]
      },
      {
       "output_type": "stream",
       "stream": "stdout",
       "text": [
        " 935 stargazers' starred repos\n",
        "Num nodes/edges in graph 62644 / "
       ]
      },
      {
       "output_type": "stream",
       "stream": "stdout",
       "text": [
        "154455\n",
        "Rate limit (4407, 5000)\n",
        "srikanth-npcompete\n",
        "Processed"
       ]
      },
      {
       "output_type": "stream",
       "stream": "stdout",
       "text": [
        " 936 stargazers' starred repos\n",
        "Num nodes/edges in graph 62668 / "
       ]
      },
      {
       "output_type": "stream",
       "stream": "stdout",
       "text": [
        "154551\n",
        "Rate limit (4406, 5000)\n",
        "mountcrow\n",
        "Processed"
       ]
      },
      {
       "output_type": "stream",
       "stream": "stdout",
       "text": [
        " 937 stargazers' starred repos\n",
        "Num nodes/edges in graph 62671 / "
       ]
      },
      {
       "output_type": "stream",
       "stream": "stdout",
       "text": [
        "154559\n",
        "Rate limit (4405, 5000)\n",
        "heptal\n",
        "Processed"
       ]
      },
      {
       "output_type": "stream",
       "stream": "stdout",
       "text": [
        " 938 stargazers' starred repos\n",
        "Num nodes/edges in graph 62686 / "
       ]
      },
      {
       "output_type": "stream",
       "stream": "stdout",
       "text": [
        "154619\n",
        "Rate limit (4404, 5000)\n",
        "apitts\n",
        "Processed"
       ]
      },
      {
       "output_type": "stream",
       "stream": "stdout",
       "text": [
        " 939 stargazers' starred repos\n",
        "Num nodes/edges in graph 62732 / "
       ]
      },
      {
       "output_type": "stream",
       "stream": "stdout",
       "text": [
        "154774\n",
        "Rate limit (4402, 5000)\n",
        "milmazz\n",
        "Processed"
       ]
      },
      {
       "output_type": "stream",
       "stream": "stdout",
       "text": [
        " 940 stargazers' starred repos\n",
        "Num nodes/edges in graph 62747 / "
       ]
      },
      {
       "output_type": "stream",
       "stream": "stdout",
       "text": [
        "154815\n",
        "Rate limit (4401, 5000)\n",
        "visualisierte\n",
        "Processed"
       ]
      },
      {
       "output_type": "stream",
       "stream": "stdout",
       "text": [
        " 941 stargazers' starred repos\n",
        "Num nodes/edges in graph 62823 / "
       ]
      },
      {
       "output_type": "stream",
       "stream": "stdout",
       "text": [
        "155010\n",
        "Rate limit (4398, 5000)\n",
        "ahmdrefat\n",
        "Processed"
       ]
      },
      {
       "output_type": "stream",
       "stream": "stdout",
       "text": [
        " 942 stargazers' starred repos\n",
        "Num nodes/edges in graph 62866 / "
       ]
      },
      {
       "output_type": "stream",
       "stream": "stdout",
       "text": [
        "155508\n",
        "Rate limit (4393, 5000)\n",
        "AshBT\n",
        "Processed"
       ]
      },
      {
       "output_type": "stream",
       "stream": "stdout",
       "text": [
        " 943 stargazers' starred repos\n",
        "Num nodes/edges in graph 62889 / "
       ]
      },
      {
       "output_type": "stream",
       "stream": "stdout",
       "text": [
        "155591\n",
        "Rate limit (4392, 5000)\n",
        "shivinkapur\n",
        "Processed"
       ]
      },
      {
       "output_type": "stream",
       "stream": "stdout",
       "text": [
        " 944 stargazers' starred repos\n",
        "Num nodes/edges in graph 62889 / "
       ]
      },
      {
       "output_type": "stream",
       "stream": "stdout",
       "text": [
        "155592\n",
        "Rate limit (4391, 5000)\n",
        "blu-elephant\n",
        "Processed"
       ]
      },
      {
       "output_type": "stream",
       "stream": "stdout",
       "text": [
        " 945 stargazers' starred repos\n",
        "Num nodes/edges in graph 62893 / "
       ]
      },
      {
       "output_type": "stream",
       "stream": "stdout",
       "text": [
        "155622\n",
        "Rate limit (4390, 5000)\n",
        "skotwani\n",
        "Processed"
       ]
      },
      {
       "output_type": "stream",
       "stream": "stdout",
       "text": [
        " 946 stargazers' starred repos\n",
        "Num nodes/edges in graph 62895 / "
       ]
      },
      {
       "output_type": "stream",
       "stream": "stdout",
       "text": [
        "155666\n",
        "Rate limit (4389, 5000)\n"
       ]
      }
     ],
     "prompt_number": 24
    },
    {
     "cell_type": "markdown",
     "metadata": {},
     "source": [
      "**NOTE: Given that Example 12 is potentially a very time-consuming example to run, be sure to snapshot your work**"
     ]
    },
    {
     "cell_type": "code",
     "collapsed": false,
     "input": [
      "# Save your work by serializing out another snapshot of the graph\n",
      "nx.write_gpickle(g, \"example12_graph\")\n",
      "\n",
      "#import networkx as nx\n",
      "#g = nx.read_gpickle(\"resources/ch07-github/data/github.gpickle.2\")"
     ],
     "language": "python",
     "metadata": {},
     "outputs": [],
     "prompt_number": 25
    },
    {
     "cell_type": "markdown",
     "metadata": {},
     "source": [
      "Consider analysis similar to _Example 12_ here. Create a copy of the graph and be selective in pruning it or extracting subgraphs of interst."
     ]
    },
    {
     "cell_type": "code",
     "collapsed": false,
     "input": [
      "s = g.copy()\n",
      "s.remove_node('Mining-the-Social-Web(repo)')\n",
      "\n"
     ],
     "language": "python",
     "metadata": {},
     "outputs": []
    },
    {
     "cell_type": "heading",
     "level": 2,
     "metadata": {},
     "source": [
      "Example 13. Exploring the graph after updates with additional starred repositories"
     ]
    },
    {
     "cell_type": "code",
     "collapsed": false,
     "input": [
      "# Poke around: how to get users/repos\n",
      "from operator import itemgetter\n",
      "\n",
      "print nx.info(g)\n",
      "print\n",
      "\n",
      "# Get a list of repositories from the graph.\n",
      "\n",
      "repos = [n for n in g.nodes_iter() if g.node[n]['type'] == 'repo']\n",
      "\n",
      "# Most popular repos\n",
      "\n",
      "print \"Popular repositories\"\n",
      "print sorted([(n,d) \n",
      "              for (n,d) in g.in_degree_iter() \n",
      "                  if g.node[n]['type'] == 'repo'], \\\n",
      "             key=itemgetter(1), reverse=True)[:10]\n",
      "print\n",
      "\n",
      "# Projects gazed at by a user\n",
      "\n",
      "print \"Respositories that ptwobrussell has bookmarked\"\n",
      "print [(n,g.node[n]['lang']) \n",
      "       for n in g['ptwobrussell(user)'] \n",
      "           if g['ptwobrussell(user)'][n]['type'] == 'gazes']\n",
      "print\n",
      "\n",
      "# Programming languages for each user\n",
      "\n",
      "print \"Programming languages ptwobrussell is interested in\"\n",
      "print list(set([g.node[n]['lang'] \n",
      "                for n in g['ptwobrussell(user)'] \n",
      "                    if g['ptwobrussell(user)'][n]['type'] == 'gazes']))\n",
      "print\n",
      "\n",
      "# Find supernodes in the graph by approximating with a high number of \n",
      "# outgoing edges\n",
      "\n",
      "print \"Supernode candidates\"\n",
      "print sorted([(n, len(g.out_edges(n))) \n",
      "              for n in g.nodes_iter() \n",
      "                  if g.node[n]['type'] == 'user' and len(g.out_edges(n)) > 500], \\\n",
      "             key=itemgetter(1), reverse=True)"
     ],
     "language": "python",
     "metadata": {},
     "outputs": [
      {
       "output_type": "stream",
       "stream": "stdout",
       "text": [
        "Name: \n",
        "Type: DiGraph\n",
        "Number of nodes: 62895\n",
        "Number of edges: 155666\n",
        "Average in degree:   2.4750\n",
        "Average out degree:   2.4750\n",
        "\n",
        "Popular repositories\n",
        "[(u'Mining-the-Social-Web(repo)', 946), (u'bootstrap(repo)', 287), (u'd3(repo)', 224), (u'dotfiles(repo)', 182), (u'free-programming-books(repo)', 156), (u'storm(repo)', 156), (u'node(repo)', 155), (u'requests(repo)', 134), (u'impress.js(repo)', 133), (u'Probabilistic-Programming-and-Bayesian-Methods-for-Hackers(repo)', 120)]"
       ]
      },
      {
       "output_type": "stream",
       "stream": "stdout",
       "text": [
        "\n",
        "\n",
        "Respositories that ptwobrussell has bookmarked\n",
        "[(u'gsoc-freebase-graph-importer(repo)', u'Java'), (u'schema(repo)', u'Clojure'), (u'Recipes-for-Mining-Twitter(repo)', u'JavaScript'), (u'jusText(repo)', u'Python'), (u'x6502(repo)', u'C'), (u'redshift(repo)', u'Python'), (u'TextBlob(repo)', u'Python'), (u'Mining-the-Social-Web(repo)', u'JavaScript'), (u'ggplot(repo)', u'Shell'), (u'vagrant-aws(repo)', u'Ruby'), (u'tan-clustering(repo)', u'Python'), (u'Tweet-Relevance(repo)', u'Python'), (u'pdfminer(repo)', u'Python'), (u'ipython-notebox(repo)', u'Ruby'), (u'lazysort(repo)', u'C'), (u't(repo)', u'Ruby'), (u'vagrant-omnibus(repo)', u'Ruby'), (u'envoy(repo)', u'Python'), (u'securegraph(repo)', u'Java'), (u'portia(repo)', u'Python'), (u'networkx(repo)', u'Python'), (u'PyGithub(repo)', u'Python'), (u'I8080(repo)', u'C'), (u'applepy(repo)', u'Python'), (u'webscalesql-5.6(repo)', u'C++'), (u'go(repo)', None), (u'cmacro(repo)', u'Common Lisp'), (u'storm(repo)', u'Java'), (u'hebel(repo)', u'Python'), (u'behemoth(repo)', u'Java'), (u'restricted-boltzmann-machines(repo)', u'Python'), (u'parallel-coordinates(repo)', u'JavaScript'), (u'How-to-Make-a-Computer-Operating-System(repo)', u'C'), (u'qu(repo)', u'Ruby'), (u'PayPal-APIs-Up-and-Running(repo)', u'Python'), (u'AirChat(repo)', u'Perl'), (u'PyNES(repo)', u'Python'), (u'Algorithmic-Alley(repo)', u'C#'), (u'quietnet(repo)', u'Python'), (u'python-linkedin(repo)', u'Python'), (u'news_site_frontend_omniauth(repo)', u'Ruby'), (u'ipython(repo)', u'Python'), (u'butterfly(repo)', u'CoffeeScript'), (u'nbdiff(repo)', u'Python'), (u'huginn(repo)', u'Ruby'), (u'ipython-docker(repo)', u'Shell'), (u'pyelly(repo)', u'Python'), (u'vowpal_wabbit(repo)', u'C++'), (u'Legal-Forms(repo)', u'Python'), (u'twitter(repo)', u'Ruby'), (u'PyStratus(repo)', u'Python'), (u'osx-gcc-installer(repo)', None), (u'gensim(repo)', u'Python'), (u'PH7(repo)', u'C'), (u'Mario-Level-1(repo)', u'Python'), (u'google-ngram-downloader(repo)', u'Python'), (u'boot2docker(repo)', u'Shell'), (u'bookstore(repo)', u'Python'), (u'yasp(repo)', u'JavaScript'), (u'plumbing(repo)', u'Clojure'), (u'finitio(repo)', u'JavaScript'), (u'33-questions(repo)', None), (u'wdb(repo)', u'CSS'), (u'REAPER(repo)', u'Clojure'), (u'gitbook(repo)', u'JavaScript'), (u'Inquire(repo)', u'Python'), (u'micropython(repo)', u'C')]\n",
        "\n",
        "Programming languages ptwobrussell is interested in\n",
        "[u'C', u'Shell', u'Java', u'CoffeeScript', u'Python', u'JavaScript', u'C++', u'Perl', None, u'Common Lisp', u'Clojure', u'Ruby', u'CSS', u'C#']\n",
        "\n",
        "Supernode candidates\n",
        "[(u'hcilab(user)', 617), (u'equus12(user)', 572), (u'JT5D(user)', 509), (u'matagus(user)', 505), (u'matiskay(user)', 504), (u'Doppp(user)', 504), (u'miyucy(user)', 502), (u'mcroydon(user)', 502), (u'stonegao(user)', 502), (u'takuan-osho(user)', 502), (u'gawbul(user)', 502), (u'yasu00000(user)', 501), (u'dotpot(user)', 501), (u'semerda(user)', 501), (u'ahmdrefat(user)', 501), (u'motord(user)', 501), (u'aboutaaron(user)', 501), (u'stefaneyr(user)', 501), (u'zmughal(user)', 501), (u'willi(user)', 501), (u'masroor(user)', 501), (u'gabstehr(user)', 501), (u'zen4ever(user)', 501), (u'lingling2012(user)', 501)]"
       ]
      },
      {
       "output_type": "stream",
       "stream": "stdout",
       "text": [
        "\n"
       ]
      }
     ],
     "prompt_number": 26
    },
    {
     "cell_type": "heading",
     "level": 2,
     "metadata": {},
     "source": [
      "Example 14. Updating the graph to include nodes for programming languages"
     ]
    },
    {
     "cell_type": "code",
     "collapsed": false,
     "input": [
      "# Iterate over all of the repos, and add edges for programming languages \n",
      "# for each person in the graph. We'll also add edges back to repos so that \n",
      "# we have a good point to \"pivot\" upon.\n",
      "\n",
      "repos = [n \n",
      "         for n in g.nodes_iter() \n",
      "             if g.node[n]['type'] == 'repo']\n",
      "\n",
      "for repo in repos:\n",
      "    lang = (g.node[repo]['lang'] or \"\") + \"(lang)\"\n",
      "    \n",
      "    stargazers = [u \n",
      "                  for (u, r, d) in g.in_edges_iter(repo, data=True) \n",
      "                     if d['type'] == 'gazes'\n",
      "                 ]\n",
      "    \n",
      "    for sg in stargazers:\n",
      "        g.add_node(lang, type='lang')\n",
      "        g.add_edge(sg, lang, type='programs')\n",
      "        g.add_edge(lang, repo, type='implements')"
     ],
     "language": "python",
     "metadata": {},
     "outputs": [],
     "prompt_number": 27
    },
    {
     "cell_type": "heading",
     "level": 2,
     "metadata": {},
     "source": [
      "Example 15. Sample queries for the final graph"
     ]
    },
    {
     "cell_type": "code",
     "collapsed": false,
     "input": [
      "# Some stats\n",
      "\n",
      "print nx.info(g)\n",
      "print\n",
      "\n",
      "# What languages exist in the graph?\n",
      "\n",
      "print [n \n",
      "       for n in g.nodes_iter() \n",
      "           if g.node[n]['type'] == 'lang']\n",
      "print\n",
      "\n",
      "# What languages do users program with?\n",
      "print [n \n",
      "       for n in g['ptwobrussell(user)'] \n",
      "           if g['ptwobrussell(user)'][n]['type'] == 'programs']\n",
      "\n",
      "# What is the most popular programming language?\n",
      "print \"Most popular languages\"\n",
      "print sorted([(n, g.in_degree(n))\n",
      " for n in g.nodes_iter() \n",
      "     if g.node[n]['type'] == 'lang'], key=itemgetter(1), reverse=True)[:10]\n",
      "print\n",
      "\n",
      "# How many users program in a particular language?\n",
      "python_programmers = [u \n",
      "                      for (u, l) in g.in_edges_iter('Python(lang)') \n",
      "                          if g.node[u]['type'] == 'user']\n",
      "print \"Number of Python programmers:\", len(python_programmers)\n",
      "print\n",
      "\n",
      "javascript_programmers = [u for \n",
      "                          (u, l) in g.in_edges_iter('JavaScript(lang)') \n",
      "                              if g.node[u]['type'] == 'user']\n",
      "print \"Number of JavaScript programmers:\", len(javascript_programmers)\n",
      "print\n",
      "\n",
      "# What users program in both Python and JavaScript?\n",
      "print \"Number of programmers who use JavaScript and Python\"\n",
      "print len(set(python_programmers).intersection(set(javascript_programmers)))\n",
      "\n",
      "# Programmers who use JavaScript but not Python\n",
      "print \"Number of programmers who use JavaScript but not Python\"\n",
      "print len(set(javascript_programmers).difference(set(python_programmers)))\n",
      "\n",
      "# XXX: Can you determine who is the most polyglot programmer?"
     ],
     "language": "python",
     "metadata": {},
     "outputs": [
      {
       "output_type": "stream",
       "stream": "stdout",
       "text": [
        "Name: \n",
        "Type: DiGraph\n",
        "Number of nodes: 63014\n",
        "Number of edges: 230455\n",
        "Average in degree:   3.6572\n",
        "Average out degree:   3.6572\n",
        "\n",
        "[u'Slash(lang)', u'PHP(lang)', u'Clojure(lang)', u'ActionScript(lang)', u'DOT(lang)', u'Processing(lang)', u'D(lang)', u'Racket(lang)', u'Ragel in Ruby Host(lang)', u'SuperCollider(lang)', u'Hy(lang)', u'Shell(lang)', u'Delphi(lang)', u'Haxe(lang)', '(lang)', u'Pascal(lang)', u'Standard ML(lang)', u'XML(lang)', u'Scheme(lang)', u'JavaScript(lang)', u'Common Lisp(lang)', u'Xtend(lang)', u'Visual Basic(lang)', u'Objective-C(lang)', u'Objective-J(lang)', u'F#(lang)', u'Scala(lang)', u'Smalltalk(lang)', u'Ruby(lang)', u'Puppet(lang)', u'Objective-C++(lang)', u'FORTRAN(lang)', u'MoonScript(lang)', u'CSS(lang)', u'Logtalk(lang)', u'Go(lang)', u'VHDL(lang)', u'C++(lang)', u'Python(lang)', u'Matlab(lang)', u'Frege(lang)', u'Perl(lang)', u'CoffeeScript(lang)', u'Groovy(lang)', u'Kotlin(lang)', u'Opa(lang)', u'ASP(lang)', u'Lua(lang)', u'Lasso(lang)', u'Mirah(lang)', u'Bro(lang)', u'Julia(lang)', u'NetLogo(lang)', u'Omgrofl(lang)', u'Fancy(lang)', u'Java(lang)', u'VimL(lang)', u'Arduino(lang)', u'Rust(lang)', u'nesC(lang)', u'XQuery(lang)', u'XSLT(lang)', u'Apex(lang)', u'Coq(lang)', u'Elixir(lang)', u'Awk(lang)', u'OCaml(lang)', u'COBOL(lang)', u'Gosu(lang)', u'Brightscript(lang)', u'Rebol(lang)', u'PureScript(lang)', u'Factor(lang)', u'Arc(lang)', u'LiveScript(lang)', u'AutoHotkey(lang)', u'Haskell(lang)', u'PowerShell(lang)', u'C(lang)', u'HaXe(lang)', u'Squirrel(lang)', u'Nu(lang)', u'Max(lang)', u'GAP(lang)', u'Clean(lang)', u'TypeScript(lang)', u'M(lang)', u'IDL(lang)', u'Turing(lang)', u'Dylan(lang)', u'Verilog(lang)', u'SystemVerilog(lang)', u'Tcl(lang)', u'ColdFusion(lang)', u'Nimrod(lang)', u'Pure Data(lang)', u'Nemerle(lang)', u'OpenEdge ABL(lang)', u'Perl6(lang)', u'AutoIt(lang)', u'Monkey(lang)', u'Glyph(lang)', u'Grammatical Framework(lang)', u'Crystal(lang)', u'Emacs Lisp(lang)', u'BlitzBasic(lang)', u'Dart(lang)', u'C#(lang)', u'Elm(lang)', u'Io(lang)', u'Mathematica(lang)', u'Prolog(lang)', u'R(lang)', u'TeX(lang)', u'Vala(lang)', u'Assembly(lang)', u'AppleScript(lang)', u'Logos(lang)', u'Erlang(lang)']\n",
        "\n",
        "[u'C(lang)', u'Java(lang)', '(lang)', u'C++(lang)', u'C#(lang)', u'Shell(lang)', u'Python(lang)', u'JavaScript(lang)', u'Common Lisp(lang)', u'CSS(lang)', u'CoffeeScript(lang)', u'Ruby(lang)', u'Perl(lang)', u'Clojure(lang)']\n",
        "Most popular languages\n",
        "[(u'JavaScript(lang)', 946), (u'Python(lang)', 832), ('(lang)', 739), (u'Ruby(lang)', 710), (u'Java(lang)', 693), (u'C(lang)', 668), (u'C++(lang)', 638), (u'CSS(lang)', 619), (u'Shell(lang)', 573), (u'PHP(lang)', 557)]"
       ]
      },
      {
       "output_type": "stream",
       "stream": "stdout",
       "text": [
        "\n",
        "\n",
        "Number of Python programmers: 832\n",
        "\n",
        "Number of JavaScript programmers: 946\n",
        "\n",
        "Number of programmers who use JavaScript and Python\n",
        "832\n",
        "Number of programmers who use JavaScript but not Python\n",
        "114\n"
       ]
      }
     ],
     "prompt_number": 28
    },
    {
     "cell_type": "markdown",
     "metadata": {},
     "source": [
      "**NOTE: Optionally, snapshot the final graph**"
     ]
    },
    {
     "cell_type": "code",
     "collapsed": false,
     "input": [
      "# Save your work by serializing out another snapshot of the graph\n",
      "nx.write_gpickle(g, \"example15_graph\")\n",
      "\n",
      "#import networkx as nx\n",
      "#g = nx.read_gpickle(\"resources/ch07-github/data/github.gpickle.3\")"
     ],
     "language": "python",
     "metadata": {},
     "outputs": [],
     "prompt_number": 29
    },
    {
     "cell_type": "heading",
     "level": 2,
     "metadata": {},
     "source": [
      "Example 16. Graph visualization of the social network for the original interest graph"
     ]
    },
    {
     "cell_type": "code",
     "collapsed": false,
     "input": [
      "import os\n",
      "import json\n",
      "from IPython.display import IFrame\n",
      "from IPython.core.display import display\n",
      "from networkx.readwrite import json_graph\n",
      "\n",
      "print \"Stats on the full graph\"\n",
      "print nx.info(g)\n",
      "print\n",
      "\n",
      "# Create a subgraph from a collection of nodes. In this case, the\n",
      "# collection is all of the users in the original interest graph\n",
      "\n",
      "mtsw_users = [n for n in g if g.node[n]['type'] == 'user']\n",
      "h = g.subgraph(mtsw_users)\n",
      "\n",
      "print \"Stats on the extracted subgraph\"\n",
      "print nx.info(h)\n",
      "\n",
      "# Visualize the social network of all people from the original interest graph.\n",
      "\n",
      "d = json_graph.node_link_data(h)\n",
      "json.dump(d, open('./force.json', 'w'))\n",
      "\n",
      "\n",
      "# IPython Notebook can serve files and display them into\n",
      "# inline frames. Prepend the path with the 'files' prefix.\n",
      "\n",
      "# A D3 template for displaying the graph data.\n",
      "viz_file = './force.html'\n",
      "\n",
      "# Display the D3 visualization.\n",
      "\n",
      "display(IFrame(viz_file, '100%', '600px'))"
     ],
     "language": "python",
     "metadata": {},
     "outputs": [
      {
       "output_type": "stream",
       "stream": "stdout",
       "text": [
        "Stats on the full graph\n",
        "Name: \n",
        "Type: DiGraph\n",
        "Number of nodes: 63014\n",
        "Number of edges: 230455\n",
        "Average in degree:   3.6572\n",
        "Average out degree:   3.6572"
       ]
      },
      {
       "output_type": "stream",
       "stream": "stdout",
       "text": [
        "\n",
        "\n",
        "Stats on the extracted subgraph"
       ]
      },
      {
       "output_type": "stream",
       "stream": "stdout",
       "text": [
        "\n",
        "Name: \n",
        "Type: DiGraph\n",
        "Number of nodes: 946\n",
        "Number of edges: 718\n",
        "Average in degree:   0.7590\n",
        "Average out degree:   0.7590"
       ]
      },
      {
       "output_type": "stream",
       "stream": "stdout",
       "text": [
        "\n"
       ]
      },
      {
       "html": [
        "\n",
        "        <iframe\n",
        "            width=\"100%\"\n",
        "            height=600px\"\n",
        "            src=\"./force.html\"\n",
        "            frameborder=\"0\"\n",
        "            allowfullscreen\n",
        "        ></iframe>\n",
        "        "
       ],
       "metadata": {},
       "output_type": "display_data",
       "text": [
        "<IPython.lib.display.IFrame at 0xa69fbac>"
       ]
      }
     ],
     "prompt_number": 34
    },
    {
     "cell_type": "code",
     "collapsed": false,
     "input": [],
     "language": "python",
     "metadata": {},
     "outputs": [],
     "prompt_number": 33
    },
    {
     "cell_type": "code",
     "collapsed": false,
     "input": [],
     "language": "python",
     "metadata": {},
     "outputs": []
    }
   ],
   "metadata": {}
  }
 ]
}